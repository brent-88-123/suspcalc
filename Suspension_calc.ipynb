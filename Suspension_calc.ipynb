{
 "cells": [
  {
   "cell_type": "markdown",
   "metadata": {},
   "source": [
    "-------------------------------------------------------------------------------\n",
    "\n",
    "CHIBO 2024\n",
    "\n",
    "An attempt to static calculate the forces in (x,y,z) at all the suspension pickup points for various roll/jounce effects\n",
    "\n",
    "18.12.2024: Created\n",
    "\n",
    "03.01.2025: Outboard points calc working, moved functions to susprog.py and added loop \n",
    "\n",
    "-------------------------------------------------------------------------------"
   ]
  },
  {
   "cell_type": "code",
   "execution_count": 13,
   "metadata": {},
   "outputs": [],
   "source": [
    "import numpy as np\n",
    "import pandas as pd\n",
    "from scipy.optimize import minimize\n",
    "\n",
    "import plotly.graph_objects as go\n",
    "import matplotlib.pyplot as plt\n",
    "\n",
    "import susprog                      # Python file containing the equations for the loop "
   ]
  },
  {
   "cell_type": "code",
   "execution_count": 14,
   "metadata": {},
   "outputs": [],
   "source": [
    "# Declare motions for evaluation\n",
    "\n",
    "# Define maximum roll and jounce inputs\n",
    "body_roll = -10  # Maximum roll angle in degrees\n",
    "body_jounce = 0.05  # Maximum jounce in meters (5 cm)\n",
    "\n",
    "# Generate roll and jounce motion inputs\n",
    "roll_angles = np.linspace(0, np.radians(body_roll), 100)  # 0 to max roll angle in 100 steps\n",
    "jounce_displacements = np.linspace(0, body_jounce, 100)  # 0 to max jounce in 100 steps"
   ]
  },
  {
   "cell_type": "code",
   "execution_count": 15,
   "metadata": {},
   "outputs": [],
   "source": [
    "# Suspension pickup points\n",
    "#        x      y    z\n",
    "upper_a_arm = np.array([\n",
    "    [0.0015, 0.5065, 0.315],  # Outer point (converted from mm to m)\n",
    "    [-0.135, 0.240, 0.220],   # Inner leading point\n",
    "    [0.180, 0.255, 0.255]     # Inner trailing point\n",
    "])\n",
    "\n",
    "lower_a_arm = np.array([\n",
    "    [-0.0175, 0.519, 0.137],  # Outer point\n",
    "    [-0.180, 0.165, 0.087],   # Inner leading point\n",
    "    [0.180, 0.170, 0.087]     # Inner trailing point\n",
    "])\n",
    "\n",
    "tie_rod = np.array([\n",
    "    [0.060, 0.515, 0.160],  # Outer point\n",
    "    [0.070, 0.195, 0.100]   # Inner point\n",
    "])\n",
    "\n",
    "tire_cop = np.array([-0.005, 0.525, 0])  # Converted from mm to m\n",
    "force_vector = np.array([50, 500, -2000.0])  # Force at the CoP (N)\n"
   ]
  },
  {
   "cell_type": "code",
   "execution_count": 16,
   "metadata": {},
   "outputs": [],
   "source": [
    "# Calculate lengths for upper and lower A-arms and tie rod\n",
    "upper_lengths = [\n",
    "    np.linalg.norm(upper_a_arm[1] - upper_a_arm[0]),  # Upper outer to inner leading\n",
    "    np.linalg.norm(upper_a_arm[2] - upper_a_arm[0]),  # Upper outer to inner trailing\n",
    "    np.linalg.norm(upper_a_arm[0] - lower_a_arm[0])   # Upper outer to lower outer\n",
    "]\n",
    "\n",
    "lower_lengths = [\n",
    "    np.linalg.norm(lower_a_arm[1] - lower_a_arm[0]),  # Lower outer to inner leading\n",
    "    np.linalg.norm(lower_a_arm[2] - lower_a_arm[0]),  # Lower outer to inner trailing\n",
    "    np.linalg.norm(lower_a_arm[0] - tire_cop)         # Lower outer to tire center of pressure\n",
    "]\n",
    "\n",
    "tie_length = [\n",
    "    np.linalg.norm(tie_rod[1] - tie_rod[0]),          # Tie rod outer to inner leading\n",
    "    np.linalg.norm(upper_a_arm[0] - tie_rod[0]),      # Tie rod outer to upper outer\n",
    "    np.linalg.norm(lower_a_arm[0] - tie_rod[0])       # Tie rod outer to lower outer\n",
    "]"
   ]
  },
  {
   "cell_type": "code",
   "execution_count": 17,
   "metadata": {},
   "outputs": [],
   "source": [
    "# Roll centre calc @ static\n",
    "rc, geo_roll_centre = susprog.calculate_roll_center(upper_a_arm, lower_a_arm, tire_cop)\n",
    "\n",
    "# Print outputs\n",
    "# print(\"Roll Center [x, y, z]:\", rc)\n",
    "# print(\"\\nGeometry Data:\")\n",
    "# for key, value in geo_roll_centre.items():\n",
    "#     print(f\"{key}:\", value)"
   ]
  },
  {
   "cell_type": "code",
   "execution_count": 18,
   "metadata": {},
   "outputs": [],
   "source": [
    "# Do movement calculation\n",
    "\n",
    "# Step 1: Calculate roll centre @ Static\n",
    "rc, geo_roll_centre = susprog.calculate_roll_center(upper_a_arm, lower_a_arm, tire_cop)\n",
    "roll_axis = np.array([1, 0, 0])         # Example roll axis (x-axis)\n",
    "\n",
    "# Step 2: Initialize rotated arms as a copy of the original\n",
    "rotated_upper = upper_a_arm.copy()\n",
    "rotated_lower = lower_a_arm.copy()\n",
    "rotated_tie = tie_rod.copy()\n",
    "\n",
    "# Rotate the inner points\n",
    "rotated_upper_inner = susprog.rotate_points(upper_a_arm[1:], rc, roll_axis, roll_angles[-1])\n",
    "rotated_lower_inner = susprog.rotate_points(lower_a_arm[1:], rc, roll_axis, roll_angles[-1])\n",
    "rotated_tie_inner = susprog.rotate_points(tie_rod[1:], rc, roll_axis, roll_angles[-1])\n",
    "\n",
    "rotated_upper[1:] = rotated_upper_inner\n",
    "rotated_lower[1:] = rotated_lower_inner\n",
    "rotated_tie[1:] = rotated_tie_inner\n",
    "\n",
    "del rotated_upper_inner\n",
    "del rotated_lower_inner\n",
    "del rotated_tie_inner\n",
    "\n",
    "# Lower A-arm\n",
    "points_temp = np.vstack((rotated_lower,tire_cop))\n",
    "rotated_lower[0:1] = susprog.solve_outer_position(points_temp, lower_lengths)\n",
    "del points_temp\n",
    "\n",
    "# Upper A-arm\n",
    "points_temp = np.vstack((rotated_upper,rotated_lower[0:]))\n",
    "rotated_upper[0:1] = susprog.solve_outer_position(points_temp, upper_lengths)\n",
    "del points_temp\n",
    "\n",
    "# Tie rod\n",
    "points_temp = np.vstack((rotated_tie, rotated_upper[0:1], rotated_lower[0:1]))\n",
    "rotated_tie[0:1] = susprog.solve_outer_position(points_temp, tie_length)\n",
    "del points_temp\n",
    "\n"
   ]
  },
  {
   "cell_type": "code",
   "execution_count": 19,
   "metadata": {},
   "outputs": [
    {
     "data": {
      "application/vnd.plotly.v1+json": {
       "config": {
        "plotlyServerURL": "https://plot.ly"
       },
       "data": [
        {
         "line": {
          "color": "blue",
          "width": 2
         },
         "marker": {
          "color": "blue",
          "size": 6
         },
         "mode": "lines+markers",
         "name": "Upper A-arm (Outer to Inner Leading)",
         "type": "scatter3d",
         "x": [
          0.0015,
          -0.135
         ],
         "y": [
          0.5065,
          0.24
         ],
         "z": [
          0.315,
          0.22
         ]
        },
        {
         "line": {
          "color": "blue",
          "width": 2
         },
         "mode": "lines+markers",
         "name": "Upper A-arm (Outer to Inner Trailing)",
         "type": "scatter3d",
         "x": [
          0.0015,
          0.18
         ],
         "y": [
          0.5065,
          0.255
         ],
         "z": [
          0.315,
          0.255
         ]
        },
        {
         "line": {
          "color": "blue",
          "dash": "dot",
          "width": 2
         },
         "mode": "lines",
         "name": "Upper A-arm (Inner leading to Inner Trailing)",
         "type": "scatter3d",
         "x": [
          -0.135,
          0.18
         ],
         "y": [
          0.24,
          0.255
         ],
         "z": [
          0.22,
          0.255
         ]
        },
        {
         "line": {
          "color": "purple",
          "width": 2
         },
         "marker": {
          "color": "purple",
          "size": 6
         },
         "mode": "lines+markers",
         "name": "Upper A-arm (Rot Outer to Inner Leading)",
         "type": "scatter3d",
         "x": [
          -0.0019312388200610044,
          -0.135
         ],
         "y": [
          0.550706894901801,
          0.27926742583660896
         ],
         "z": [
          0.3150526360543696,
          0.2286817252917922
         ]
        },
        {
         "line": {
          "color": "purple",
          "width": 2
         },
         "marker": {
          "color": "purple",
          "size": 6
         },
         "mode": "lines+markers",
         "name": "Upper A-arm (Rot Outer to Inner Trailing)",
         "type": "scatter3d",
         "x": [
          -0.0019312388200610044,
          0.18
         ],
         "y": [
          0.550706894901801,
          0.30011722835013466
         ],
         "z": [
          0.3150526360543696,
          0.26054527398221555
         ]
        },
        {
         "line": {
          "color": "purple",
          "dash": "dot",
          "width": 2
         },
         "mode": "lines",
         "name": "Upper A-arm (Rot Inner leading to Inner Trailing)",
         "type": "scatter3d",
         "x": [
          -0.135,
          0.18
         ],
         "y": [
          0.27926742583660896,
          0.30011722835013466
         ],
         "z": [
          0.2286817252917922,
          0.26054527398221555
         ]
        },
        {
         "line": {
          "color": "green",
          "width": 2
         },
         "marker": {
          "color": "green",
          "size": 6
         },
         "mode": "lines+markers",
         "name": "Lower A-arm (Outer to Inner Leading)",
         "type": "scatter3d",
         "x": [
          -0.0175,
          -0.18
         ],
         "y": [
          0.519,
          0.165
         ],
         "z": [
          0.137,
          0.087
         ]
        },
        {
         "line": {
          "color": "green",
          "width": 2
         },
         "mode": "lines+markers",
         "name": "Lower A-arm (Outer to Inner Trailing)",
         "type": "scatter3d",
         "x": [
          -0.0175,
          0.18
         ],
         "y": [
          0.519,
          0.17
         ],
         "z": [
          0.137,
          0.087
         ]
        },
        {
         "line": {
          "color": "green",
          "dash": "dot",
          "width": 2
         },
         "mode": "lines",
         "name": "lower A-arm (Inner leading to Inner Trailing)",
         "type": "scatter3d",
         "x": [
          -0.18,
          0.18
         ],
         "y": [
          0.165,
          0.17
         ],
         "z": [
          0.087,
          0.087
         ]
        },
        {
         "line": {
          "color": "cyan",
          "width": 2
         },
         "marker": {
          "color": "cyan",
          "size": 6
         },
         "mode": "lines+markers",
         "name": "lower rotated A-arm (Outer to Inner Leading)",
         "type": "scatter3d",
         "x": [
          -0.01741487596821442,
          -0.18
         ],
         "y": [
          0.5389032128906803,
          0.18231163673099163
         ],
         "z": [
          0.13645551122648722,
          0.11072590746618831
         ]
        },
        {
         "line": {
          "color": "cyan",
          "width": 2
         },
         "mode": "lines+markers",
         "name": "lower rotated A-arm (Outer to Inner Trailing)",
         "type": "scatter3d",
         "x": [
          -0.01741487596821442,
          0.18
         ],
         "y": [
          0.5389032128906803,
          0.1872356754960527
         ],
         "z": [
          0.13645551122648722,
          0.10985766657785366
         ]
        },
        {
         "line": {
          "color": "cyan",
          "dash": "dot",
          "width": 2
         },
         "mode": "lines",
         "name": "lower rotated A-arm (Inner leading to Inner Trailing)",
         "type": "scatter3d",
         "x": [
          -0.18,
          0.18
         ],
         "y": [
          0.18231163673099163,
          0.1872356754960527
         ],
         "z": [
          0.11072590746618831,
          0.10985766657785366
         ]
        },
        {
         "line": {
          "color": "red",
          "width": 2
         },
         "marker": {
          "color": "red",
          "size": 6
         },
         "mode": "lines+markers",
         "name": "Tie Rod",
         "type": "scatter3d",
         "x": [
          0.06,
          0.07
         ],
         "y": [
          0.515,
          0.195
         ],
         "z": [
          0.16,
          0.1
         ]
        },
        {
         "line": {
          "color": "orange",
          "width": 2
         },
         "marker": {
          "color": "orange",
          "size": 6
         },
         "mode": "lines+markers",
         "name": "Rotated Tie Rod",
         "type": "scatter3d",
         "x": [
          0.059007776174253394,
          0.07
         ],
         "y": [
          0.5366659991983653,
          0.214113295631028
         ],
         "z": [
          0.1613747253980879,
          0.11831896292533912
         ]
        },
        {
         "marker": {
          "color": "orange",
          "size": 8
         },
         "mode": "markers",
         "name": "Tire CoP",
         "type": "scatter3d",
         "x": [
          -0.005
         ],
         "y": [
          0.525
         ],
         "z": [
          0
         ]
        }
       ],
       "layout": {
        "scene": {
         "xaxis": {
          "title": {
           "text": "X (m)"
          }
         },
         "yaxis": {
          "title": {
           "text": "Y (m)"
          }
         },
         "zaxis": {
          "title": {
           "text": "Z (m)"
          }
         }
        },
        "template": {
         "data": {
          "bar": [
           {
            "error_x": {
             "color": "#2a3f5f"
            },
            "error_y": {
             "color": "#2a3f5f"
            },
            "marker": {
             "line": {
              "color": "#E5ECF6",
              "width": 0.5
             },
             "pattern": {
              "fillmode": "overlay",
              "size": 10,
              "solidity": 0.2
             }
            },
            "type": "bar"
           }
          ],
          "barpolar": [
           {
            "marker": {
             "line": {
              "color": "#E5ECF6",
              "width": 0.5
             },
             "pattern": {
              "fillmode": "overlay",
              "size": 10,
              "solidity": 0.2
             }
            },
            "type": "barpolar"
           }
          ],
          "carpet": [
           {
            "aaxis": {
             "endlinecolor": "#2a3f5f",
             "gridcolor": "white",
             "linecolor": "white",
             "minorgridcolor": "white",
             "startlinecolor": "#2a3f5f"
            },
            "baxis": {
             "endlinecolor": "#2a3f5f",
             "gridcolor": "white",
             "linecolor": "white",
             "minorgridcolor": "white",
             "startlinecolor": "#2a3f5f"
            },
            "type": "carpet"
           }
          ],
          "choropleth": [
           {
            "colorbar": {
             "outlinewidth": 0,
             "ticks": ""
            },
            "type": "choropleth"
           }
          ],
          "contour": [
           {
            "colorbar": {
             "outlinewidth": 0,
             "ticks": ""
            },
            "colorscale": [
             [
              0,
              "#0d0887"
             ],
             [
              0.1111111111111111,
              "#46039f"
             ],
             [
              0.2222222222222222,
              "#7201a8"
             ],
             [
              0.3333333333333333,
              "#9c179e"
             ],
             [
              0.4444444444444444,
              "#bd3786"
             ],
             [
              0.5555555555555556,
              "#d8576b"
             ],
             [
              0.6666666666666666,
              "#ed7953"
             ],
             [
              0.7777777777777778,
              "#fb9f3a"
             ],
             [
              0.8888888888888888,
              "#fdca26"
             ],
             [
              1,
              "#f0f921"
             ]
            ],
            "type": "contour"
           }
          ],
          "contourcarpet": [
           {
            "colorbar": {
             "outlinewidth": 0,
             "ticks": ""
            },
            "type": "contourcarpet"
           }
          ],
          "heatmap": [
           {
            "colorbar": {
             "outlinewidth": 0,
             "ticks": ""
            },
            "colorscale": [
             [
              0,
              "#0d0887"
             ],
             [
              0.1111111111111111,
              "#46039f"
             ],
             [
              0.2222222222222222,
              "#7201a8"
             ],
             [
              0.3333333333333333,
              "#9c179e"
             ],
             [
              0.4444444444444444,
              "#bd3786"
             ],
             [
              0.5555555555555556,
              "#d8576b"
             ],
             [
              0.6666666666666666,
              "#ed7953"
             ],
             [
              0.7777777777777778,
              "#fb9f3a"
             ],
             [
              0.8888888888888888,
              "#fdca26"
             ],
             [
              1,
              "#f0f921"
             ]
            ],
            "type": "heatmap"
           }
          ],
          "heatmapgl": [
           {
            "colorbar": {
             "outlinewidth": 0,
             "ticks": ""
            },
            "colorscale": [
             [
              0,
              "#0d0887"
             ],
             [
              0.1111111111111111,
              "#46039f"
             ],
             [
              0.2222222222222222,
              "#7201a8"
             ],
             [
              0.3333333333333333,
              "#9c179e"
             ],
             [
              0.4444444444444444,
              "#bd3786"
             ],
             [
              0.5555555555555556,
              "#d8576b"
             ],
             [
              0.6666666666666666,
              "#ed7953"
             ],
             [
              0.7777777777777778,
              "#fb9f3a"
             ],
             [
              0.8888888888888888,
              "#fdca26"
             ],
             [
              1,
              "#f0f921"
             ]
            ],
            "type": "heatmapgl"
           }
          ],
          "histogram": [
           {
            "marker": {
             "pattern": {
              "fillmode": "overlay",
              "size": 10,
              "solidity": 0.2
             }
            },
            "type": "histogram"
           }
          ],
          "histogram2d": [
           {
            "colorbar": {
             "outlinewidth": 0,
             "ticks": ""
            },
            "colorscale": [
             [
              0,
              "#0d0887"
             ],
             [
              0.1111111111111111,
              "#46039f"
             ],
             [
              0.2222222222222222,
              "#7201a8"
             ],
             [
              0.3333333333333333,
              "#9c179e"
             ],
             [
              0.4444444444444444,
              "#bd3786"
             ],
             [
              0.5555555555555556,
              "#d8576b"
             ],
             [
              0.6666666666666666,
              "#ed7953"
             ],
             [
              0.7777777777777778,
              "#fb9f3a"
             ],
             [
              0.8888888888888888,
              "#fdca26"
             ],
             [
              1,
              "#f0f921"
             ]
            ],
            "type": "histogram2d"
           }
          ],
          "histogram2dcontour": [
           {
            "colorbar": {
             "outlinewidth": 0,
             "ticks": ""
            },
            "colorscale": [
             [
              0,
              "#0d0887"
             ],
             [
              0.1111111111111111,
              "#46039f"
             ],
             [
              0.2222222222222222,
              "#7201a8"
             ],
             [
              0.3333333333333333,
              "#9c179e"
             ],
             [
              0.4444444444444444,
              "#bd3786"
             ],
             [
              0.5555555555555556,
              "#d8576b"
             ],
             [
              0.6666666666666666,
              "#ed7953"
             ],
             [
              0.7777777777777778,
              "#fb9f3a"
             ],
             [
              0.8888888888888888,
              "#fdca26"
             ],
             [
              1,
              "#f0f921"
             ]
            ],
            "type": "histogram2dcontour"
           }
          ],
          "mesh3d": [
           {
            "colorbar": {
             "outlinewidth": 0,
             "ticks": ""
            },
            "type": "mesh3d"
           }
          ],
          "parcoords": [
           {
            "line": {
             "colorbar": {
              "outlinewidth": 0,
              "ticks": ""
             }
            },
            "type": "parcoords"
           }
          ],
          "pie": [
           {
            "automargin": true,
            "type": "pie"
           }
          ],
          "scatter": [
           {
            "fillpattern": {
             "fillmode": "overlay",
             "size": 10,
             "solidity": 0.2
            },
            "type": "scatter"
           }
          ],
          "scatter3d": [
           {
            "line": {
             "colorbar": {
              "outlinewidth": 0,
              "ticks": ""
             }
            },
            "marker": {
             "colorbar": {
              "outlinewidth": 0,
              "ticks": ""
             }
            },
            "type": "scatter3d"
           }
          ],
          "scattercarpet": [
           {
            "marker": {
             "colorbar": {
              "outlinewidth": 0,
              "ticks": ""
             }
            },
            "type": "scattercarpet"
           }
          ],
          "scattergeo": [
           {
            "marker": {
             "colorbar": {
              "outlinewidth": 0,
              "ticks": ""
             }
            },
            "type": "scattergeo"
           }
          ],
          "scattergl": [
           {
            "marker": {
             "colorbar": {
              "outlinewidth": 0,
              "ticks": ""
             }
            },
            "type": "scattergl"
           }
          ],
          "scattermapbox": [
           {
            "marker": {
             "colorbar": {
              "outlinewidth": 0,
              "ticks": ""
             }
            },
            "type": "scattermapbox"
           }
          ],
          "scatterpolar": [
           {
            "marker": {
             "colorbar": {
              "outlinewidth": 0,
              "ticks": ""
             }
            },
            "type": "scatterpolar"
           }
          ],
          "scatterpolargl": [
           {
            "marker": {
             "colorbar": {
              "outlinewidth": 0,
              "ticks": ""
             }
            },
            "type": "scatterpolargl"
           }
          ],
          "scatterternary": [
           {
            "marker": {
             "colorbar": {
              "outlinewidth": 0,
              "ticks": ""
             }
            },
            "type": "scatterternary"
           }
          ],
          "surface": [
           {
            "colorbar": {
             "outlinewidth": 0,
             "ticks": ""
            },
            "colorscale": [
             [
              0,
              "#0d0887"
             ],
             [
              0.1111111111111111,
              "#46039f"
             ],
             [
              0.2222222222222222,
              "#7201a8"
             ],
             [
              0.3333333333333333,
              "#9c179e"
             ],
             [
              0.4444444444444444,
              "#bd3786"
             ],
             [
              0.5555555555555556,
              "#d8576b"
             ],
             [
              0.6666666666666666,
              "#ed7953"
             ],
             [
              0.7777777777777778,
              "#fb9f3a"
             ],
             [
              0.8888888888888888,
              "#fdca26"
             ],
             [
              1,
              "#f0f921"
             ]
            ],
            "type": "surface"
           }
          ],
          "table": [
           {
            "cells": {
             "fill": {
              "color": "#EBF0F8"
             },
             "line": {
              "color": "white"
             }
            },
            "header": {
             "fill": {
              "color": "#C8D4E3"
             },
             "line": {
              "color": "white"
             }
            },
            "type": "table"
           }
          ]
         },
         "layout": {
          "annotationdefaults": {
           "arrowcolor": "#2a3f5f",
           "arrowhead": 0,
           "arrowwidth": 1
          },
          "autotypenumbers": "strict",
          "coloraxis": {
           "colorbar": {
            "outlinewidth": 0,
            "ticks": ""
           }
          },
          "colorscale": {
           "diverging": [
            [
             0,
             "#8e0152"
            ],
            [
             0.1,
             "#c51b7d"
            ],
            [
             0.2,
             "#de77ae"
            ],
            [
             0.3,
             "#f1b6da"
            ],
            [
             0.4,
             "#fde0ef"
            ],
            [
             0.5,
             "#f7f7f7"
            ],
            [
             0.6,
             "#e6f5d0"
            ],
            [
             0.7,
             "#b8e186"
            ],
            [
             0.8,
             "#7fbc41"
            ],
            [
             0.9,
             "#4d9221"
            ],
            [
             1,
             "#276419"
            ]
           ],
           "sequential": [
            [
             0,
             "#0d0887"
            ],
            [
             0.1111111111111111,
             "#46039f"
            ],
            [
             0.2222222222222222,
             "#7201a8"
            ],
            [
             0.3333333333333333,
             "#9c179e"
            ],
            [
             0.4444444444444444,
             "#bd3786"
            ],
            [
             0.5555555555555556,
             "#d8576b"
            ],
            [
             0.6666666666666666,
             "#ed7953"
            ],
            [
             0.7777777777777778,
             "#fb9f3a"
            ],
            [
             0.8888888888888888,
             "#fdca26"
            ],
            [
             1,
             "#f0f921"
            ]
           ],
           "sequentialminus": [
            [
             0,
             "#0d0887"
            ],
            [
             0.1111111111111111,
             "#46039f"
            ],
            [
             0.2222222222222222,
             "#7201a8"
            ],
            [
             0.3333333333333333,
             "#9c179e"
            ],
            [
             0.4444444444444444,
             "#bd3786"
            ],
            [
             0.5555555555555556,
             "#d8576b"
            ],
            [
             0.6666666666666666,
             "#ed7953"
            ],
            [
             0.7777777777777778,
             "#fb9f3a"
            ],
            [
             0.8888888888888888,
             "#fdca26"
            ],
            [
             1,
             "#f0f921"
            ]
           ]
          },
          "colorway": [
           "#636efa",
           "#EF553B",
           "#00cc96",
           "#ab63fa",
           "#FFA15A",
           "#19d3f3",
           "#FF6692",
           "#B6E880",
           "#FF97FF",
           "#FECB52"
          ],
          "font": {
           "color": "#2a3f5f"
          },
          "geo": {
           "bgcolor": "white",
           "lakecolor": "white",
           "landcolor": "#E5ECF6",
           "showlakes": true,
           "showland": true,
           "subunitcolor": "white"
          },
          "hoverlabel": {
           "align": "left"
          },
          "hovermode": "closest",
          "mapbox": {
           "style": "light"
          },
          "paper_bgcolor": "white",
          "plot_bgcolor": "#E5ECF6",
          "polar": {
           "angularaxis": {
            "gridcolor": "white",
            "linecolor": "white",
            "ticks": ""
           },
           "bgcolor": "#E5ECF6",
           "radialaxis": {
            "gridcolor": "white",
            "linecolor": "white",
            "ticks": ""
           }
          },
          "scene": {
           "xaxis": {
            "backgroundcolor": "#E5ECF6",
            "gridcolor": "white",
            "gridwidth": 2,
            "linecolor": "white",
            "showbackground": true,
            "ticks": "",
            "zerolinecolor": "white"
           },
           "yaxis": {
            "backgroundcolor": "#E5ECF6",
            "gridcolor": "white",
            "gridwidth": 2,
            "linecolor": "white",
            "showbackground": true,
            "ticks": "",
            "zerolinecolor": "white"
           },
           "zaxis": {
            "backgroundcolor": "#E5ECF6",
            "gridcolor": "white",
            "gridwidth": 2,
            "linecolor": "white",
            "showbackground": true,
            "ticks": "",
            "zerolinecolor": "white"
           }
          },
          "shapedefaults": {
           "line": {
            "color": "#2a3f5f"
           }
          },
          "ternary": {
           "aaxis": {
            "gridcolor": "white",
            "linecolor": "white",
            "ticks": ""
           },
           "baxis": {
            "gridcolor": "white",
            "linecolor": "white",
            "ticks": ""
           },
           "bgcolor": "#E5ECF6",
           "caxis": {
            "gridcolor": "white",
            "linecolor": "white",
            "ticks": ""
           }
          },
          "title": {
           "x": 0.05
          },
          "xaxis": {
           "automargin": true,
           "gridcolor": "white",
           "linecolor": "white",
           "ticks": "",
           "title": {
            "standoff": 15
           },
           "zerolinecolor": "white",
           "zerolinewidth": 2
          },
          "yaxis": {
           "automargin": true,
           "gridcolor": "white",
           "linecolor": "white",
           "ticks": "",
           "title": {
            "standoff": 15
           },
           "zerolinecolor": "white",
           "zerolinewidth": 2
          }
         }
        },
        "title": {
         "text": "Interactive Suspension Geometry (Corrected Connections)"
        }
       }
      }
     },
     "metadata": {},
     "output_type": "display_data"
    }
   ],
   "source": [
    "def plot_suspension_interactive(upper, lower, upper_rot, low_rot, tie, tie_rot, cop):\n",
    "    fig = go.Figure()\n",
    "\n",
    "    # Upper A-arm\n",
    "    fig.add_trace(go.Scatter3d(\n",
    "        x=[upper[0, 0], upper[1, 0]], y=[upper[0, 1], upper[1, 1]], z=[upper[0, 2], upper[1, 2]],\n",
    "        mode='lines+markers',\n",
    "        name='Upper A-arm (Outer to Inner Leading)',\n",
    "        marker=dict(size=6, color='blue'),\n",
    "        line=dict(color='blue', width=2)\n",
    "    ))\n",
    "    fig.add_trace(go.Scatter3d(\n",
    "        x=[upper[0, 0], upper[2, 0]], y=[upper[0, 1], upper[2, 1]], z=[upper[0, 2], upper[2, 2]],\n",
    "        mode='lines+markers',\n",
    "        name='Upper A-arm (Outer to Inner Trailing)',\n",
    "        line=dict(color='blue', width=2)\n",
    "    ))\n",
    "    fig.add_trace(go.Scatter3d(\n",
    "        x=[upper[1, 0], upper[2, 0]], y=[upper[1, 1], upper[2, 1]], z=[upper[1, 2], upper[2, 2]],\n",
    "        mode='lines',\n",
    "        name='Upper A-arm (Inner leading to Inner Trailing)',\n",
    "        line=dict(color='blue', width=2, dash='dot')\n",
    "    ))\n",
    "    # Rotated Upper A-arm\n",
    "    fig.add_trace(go.Scatter3d(\n",
    "        x=[upper_rot[0, 0], upper_rot[1, 0]], y=[upper_rot[0, 1], upper_rot[1, 1]], z=[upper_rot[0, 2], upper_rot[1, 2]],\n",
    "        mode='lines+markers',\n",
    "        name='Upper A-arm (Rot Outer to Inner Leading)',\n",
    "        marker=dict(size=6, color='purple'),\n",
    "        line=dict(color='purple', width=2)\n",
    "    ))\n",
    "    fig.add_trace(go.Scatter3d(\n",
    "        x=[upper_rot[0, 0], upper_rot[2, 0]], y=[upper_rot[0, 1], upper_rot[2, 1]], z=[upper_rot[0, 2], upper_rot[2, 2]],\n",
    "        mode='lines+markers',\n",
    "        name='Upper A-arm (Rot Outer to Inner Trailing)',\n",
    "        marker=dict(size=6, color='purple'),\n",
    "        line=dict(color='purple', width=2)\n",
    "    ))\n",
    "    \n",
    "    fig.add_trace(go.Scatter3d(\n",
    "        x=[upper_rot[1, 0], upper_rot[2, 0]], y=[upper_rot[1, 1], upper_rot[2, 1]], z=[upper_rot[1, 2], upper_rot[2, 2]],\n",
    "        mode='lines',\n",
    "        name='Upper A-arm (Rot Inner leading to Inner Trailing)',\n",
    "        line=dict(color='purple', width=2, dash='dot')\n",
    "    ))\n",
    "    \n",
    "    # Lower A-arm\n",
    "    fig.add_trace(go.Scatter3d(\n",
    "        x=[lower[0, 0], lower[1, 0]], y=[lower[0, 1], lower[1, 1]], z=[lower[0, 2], lower[1, 2]],\n",
    "        mode='lines+markers',\n",
    "        name='Lower A-arm (Outer to Inner Leading)',\n",
    "        marker=dict(size=6, color='green'),\n",
    "        line=dict(color='green', width=2)\n",
    "    ))\n",
    "    fig.add_trace(go.Scatter3d(\n",
    "        x=[lower[0, 0], lower[2, 0]], y=[lower[0, 1], lower[2, 1]], z=[lower[0, 2], lower[2, 2]],\n",
    "        mode='lines+markers',\n",
    "        name='Lower A-arm (Outer to Inner Trailing)',\n",
    "        line=dict(color='green', width=2)\n",
    "    ))\n",
    "    fig.add_trace(go.Scatter3d(\n",
    "        x=[lower[1, 0], lower[2, 0]], y=[lower[1, 1], lower[2, 1]], z=[lower[1, 2], lower[2, 2]],\n",
    "        mode='lines',\n",
    "        name='lower A-arm (Inner leading to Inner Trailing)',\n",
    "        line=dict(color='green', width=2, dash='dot')\n",
    "    ))\n",
    "    \n",
    "    # Rotated Lower A-arm\n",
    "    fig.add_trace(go.Scatter3d(\n",
    "        x=[low_rot[0, 0], low_rot[1, 0]], y=[low_rot[0, 1], low_rot[1, 1]], z=[low_rot[0, 2], low_rot[1, 2]],\n",
    "        mode='lines+markers',\n",
    "        name='lower rotated A-arm (Outer to Inner Leading)',\n",
    "        marker=dict(size=6, color='cyan'),\n",
    "        line=dict(color='cyan', width=2)\n",
    "    ))\n",
    "    fig.add_trace(go.Scatter3d(\n",
    "        x=[low_rot[0, 0], low_rot[2, 0]], y=[low_rot[0, 1], low_rot[2, 1]], z=[low_rot[0, 2], low_rot[2, 2]],\n",
    "        mode='lines+markers',\n",
    "        name='lower rotated A-arm (Outer to Inner Trailing)',\n",
    "        line=dict(color='cyan', width=2)\n",
    "    ))\n",
    "    fig.add_trace(go.Scatter3d(\n",
    "        x=[low_rot[1, 0], low_rot[2, 0]], y=[low_rot[1, 1], low_rot[2, 1]], z=[low_rot[1, 2], low_rot[2, 2]],\n",
    "        mode='lines',\n",
    "        name='lower rotated A-arm (Inner leading to Inner Trailing)',\n",
    "        line=dict(color='cyan', width=2, dash='dot')\n",
    "    ))\n",
    "\n",
    "    # Tie rod\n",
    "    fig.add_trace(go.Scatter3d(\n",
    "        x=[tie[0, 0], tie[1, 0]], y=[tie[0, 1], tie[1, 1]], z=[tie[0, 2], tie[1, 2]],\n",
    "        mode='lines+markers',\n",
    "        name='Tie Rod',\n",
    "        marker=dict(size=6, color='red'),\n",
    "        line=dict(color='red', width=2)\n",
    "    ))\n",
    "\n",
    "    # Rotated Tie rod\n",
    "    fig.add_trace(go.Scatter3d(\n",
    "        x=[tie_rot[0, 0], tie_rot[1, 0]], y=[tie_rot[0, 1], tie_rot[1, 1]], z=[tie_rot[0, 2], tie_rot[1, 2]],\n",
    "        mode='lines+markers',\n",
    "        name='Rotated Tie Rod',\n",
    "        marker=dict(size=6, color='orange'),\n",
    "        line=dict(color='orange', width=2)\n",
    "    ))\n",
    "    # Tire CoP\n",
    "    fig.add_trace(go.Scatter3d(\n",
    "        x=[cop[0]], y=[cop[1]], z=[cop[2]],\n",
    "        mode='markers',\n",
    "        name='Tire CoP',\n",
    "        marker=dict(size=8, color='orange')\n",
    "    ))\n",
    "\n",
    "    # Set axis labels\n",
    "    fig.update_layout(\n",
    "        title=\"Interactive Suspension Geometry (Corrected Connections)\",\n",
    "        scene=dict(\n",
    "            xaxis_title=\"X (m)\",\n",
    "            yaxis_title=\"Y (m)\",\n",
    "            zaxis_title=\"Z (m)\"\n",
    "        )\n",
    "    )\n",
    "\n",
    "    fig.show()\n",
    "\n",
    "# Example usage\n",
    "plot_suspension_interactive(upper_a_arm, lower_a_arm, rotated_upper, rotated_lower, tie_rod, rotated_tie, tire_cop)\n"
   ]
  },
  {
   "cell_type": "code",
   "execution_count": 23,
   "metadata": {},
   "outputs": [],
   "source": [
    "# Initialize results matrix\n",
    "\n",
    "# Columns: [roll_angle (rad), jounce (m), suspension_positions (1x9), rc_x, rc_y, rc_z]\n",
    "results = np.zeros((len(roll_angles), 23))  # 100 rows, 23 columns\n",
    "rc, geo_roll_centre = susprog.calculate_roll_center(upper_a_arm, lower_a_arm, tire_cop)\n",
    "\n",
    "# Roll axis (example: x-axis)\n",
    "roll_axis = np.array([1, 0, 0])\n",
    "\n",
    "# Initialize rotated arms as a copy of the original\n",
    "rotated_upper = upper_a_arm.copy()\n",
    "rotated_lower = lower_a_arm.copy()\n",
    "rotated_tie = tie_rod.copy()\n",
    "\n",
    "# Loop through each roll and jounce input\n",
    "for i, (roll_angle, jounce_disp) in enumerate(zip(roll_angles, jounce_displacements)):\n",
    "    # Step 1: Rotate the inner points of the arms and tie rod\n",
    "    rotated_upper_inner = susprog.rotate_points(upper_a_arm[1:], rc, roll_axis, roll_angle)\n",
    "    rotated_lower_inner = susprog.rotate_points(lower_a_arm[1:], rc, roll_axis, roll_angle)\n",
    "    rotated_tie_inner = susprog.rotate_points(tie_rod[1:], rc, roll_axis, roll_angle)\n",
    "\n",
    "    # Step 2: Apply the updated inner points to the arms\n",
    "    rotated_upper[1:] = rotated_upper_inner\n",
    "    rotated_lower[1:] = rotated_lower_inner\n",
    "    rotated_tie[1:] = rotated_tie_inner\n",
    "\n",
    "    # Step 3: Update outer points of lower, upper, and tie rod\n",
    "    # Lower A-arm\n",
    "    points_temp = np.vstack((rotated_lower, tire_cop))\n",
    "    rotated_lower[0:1] = susprog.solve_outer_position(points_temp, lower_lengths)\n",
    "    del points_temp\n",
    "\n",
    "    # Upper A-arm\n",
    "    points_temp = np.vstack((rotated_upper, rotated_lower[0:]))\n",
    "    rotated_upper[0:1] = susprog.solve_outer_position(points_temp, upper_lengths)\n",
    "    del points_temp\n",
    "\n",
    "    # Tie rod\n",
    "    points_temp = np.vstack((rotated_tie, rotated_upper[0:1], rotated_lower[0:1]))\n",
    "    rotated_tie[0:1] = susprog.solve_outer_position(points_temp, tie_length)\n",
    "    del points_temp\n",
    "\n",
    "    # Step 4: Calculate the new roll center\n",
    "    rc, geo_roll_centre = susprog.calculate_roll_center(rotated_upper, rotated_lower, tire_cop)\n",
    "\n",
    "    # Step 5: Store the results\n",
    "    results[i, 0] = roll_angle  # Roll angle (in radians)\n",
    "    results[i, 1] = jounce_disp  # Jounce displacement\n",
    "    results[i, 2:11] = rotated_lower.flatten()  # Lower A-arm positions (3x3 -> 1x9)\n",
    "    results[i, 11:20] = rotated_upper.flatten()  # Upper A-arm positions (3x3 -> 1x9)\n",
    "    results[i, 20:23] = rc  # Roll center (1x3)\n",
    "\n",
    "# Convert results to a DataFrame for easier visualization and saving\n",
    "columns = [\n",
    "    \"roll_angle\", \"jounce\", \n",
    "    \"lower_outer_x\", \"lower_outer_y\", \"lower_outer_z\", \n",
    "    \"lower_inner1_x\", \"lower_inner1_y\", \"lower_inner1_z\", \n",
    "    \"lower_inner2_x\", \"lower_inner2_y\", \"lower_inner2_z\",\n",
    "    \"upper_outer_x\", \"upper_outer_y\", \"upper_outer_z\", \n",
    "    \"upper_inner1_x\", \"upper_inner1_y\", \"upper_inner1_z\", \n",
    "    \"upper_inner2_x\", \"upper_inner2_y\", \"upper_inner2_z\",\n",
    "    \"rc_x\", \"rc_y\", \"rc_z\"\n",
    "]\n",
    "results_df = pd.DataFrame(results, columns=columns)\n",
    "\n",
    "# Save the results as a CSV file (optional)\n",
    "results_df.to_csv(\"suspension_simulation_results.csv\", index=False)\n",
    "\n",
    "# Display the first few rows\n",
    "#print(results_df.head())\n"
   ]
  },
  {
   "cell_type": "code",
   "execution_count": 21,
   "metadata": {},
   "outputs": [
    {
     "data": {
      "application/vnd.plotly.v1+json": {
       "config": {
        "plotlyServerURL": "https://plot.ly"
       },
       "data": [
        {
         "marker": {
          "color": "red"
         },
         "mode": "lines",
         "name": "Roll Centre Location, Y",
         "type": "scatter",
         "x": [
          0,
          -0.0017629588403983126,
          -0.003525917680796625,
          -0.0052888765211949375,
          -0.00705183536159325,
          -0.008814794201991563,
          -0.010577753042389875,
          -0.012340711882788189,
          -0.0141036707231865,
          -0.015866629563584814,
          -0.017629588403983126,
          -0.019392547244381438,
          -0.02115550608477975,
          -0.022918464925178062,
          -0.024681423765576378,
          -0.02644438260597469,
          -0.028207341446373,
          -0.029970300286771313,
          -0.03173325912716963,
          -0.03349621796756794,
          -0.03525917680796625,
          -0.03702213564836456,
          -0.038785094488762877,
          -0.04054805332916119,
          -0.0423110121695595,
          -0.044073971009957816,
          -0.045836929850356124,
          -0.04759988869075444,
          -0.049362847531152755,
          -0.051125806371551064,
          -0.05288876521194938,
          -0.05465172405234769,
          -0.056414682892746,
          -0.05817764173314432,
          -0.05994060057354263,
          -0.06170355941394094,
          -0.06346651825433926,
          -0.06522947709473756,
          -0.06699243593513587,
          -0.06875539477553419,
          -0.0705183536159325,
          -0.07228131245633082,
          -0.07404427129672912,
          -0.07580723013712744,
          -0.07757018897752575,
          -0.07933314781792407,
          -0.08109610665832238,
          -0.08285906549872069,
          -0.084622024339119,
          -0.08638498317951732,
          -0.08814794201991563,
          -0.08991090086031395,
          -0.09167385970071225,
          -0.09343681854111056,
          -0.09519977738150888,
          -0.0969627362219072,
          -0.09872569506230551,
          -0.10048865390270381,
          -0.10225161274310213,
          -0.10401457158350044,
          -0.10577753042389876,
          -0.10754048926429707,
          -0.10930344810469537,
          -0.11106640694509369,
          -0.112829365785492,
          -0.11459232462589032,
          -0.11635528346628864,
          -0.11811824230668694,
          -0.11988120114708525,
          -0.12164415998748357,
          -0.12340711882788188,
          -0.1251700776682802,
          -0.12693303650867852,
          -0.12869599534907683,
          -0.13045895418947512,
          -0.13222191302987343,
          -0.13398487187027175,
          -0.13574783071067006,
          -0.13751078955106838,
          -0.1392737483914667,
          -0.141036707231865,
          -0.14279966607226333,
          -0.14456262491266164,
          -0.14632558375305996,
          -0.14808854259345824,
          -0.14985150143385656,
          -0.15161446027425488,
          -0.1533774191146532,
          -0.1551403779550515,
          -0.15690333679544982,
          -0.15866629563584814,
          -0.16042925447624645,
          -0.16219221331664477,
          -0.16395517215704308,
          -0.16571813099744137,
          -0.1674810898378397,
          -0.169244048678238,
          -0.17100700751863632,
          -0.17276996635903463,
          -0.17453292519943295
         ],
         "y": [
          0.30925,
          0.30950747339678536,
          0.3098310351046518,
          0.3100953647712037,
          0.3104228368236105,
          0.3106878523796428,
          0.3110168620899396,
          0.311282532951358,
          0.3116127092796708,
          0.311879061590703,
          0.3122102752743056,
          0.3124773082768315,
          0.31280951844722094,
          0.3130772330355963,
          0.31341042990685875,
          0.313678829312498,
          0.31401301412827676,
          0.3142821031999736,
          0.31461728128793875,
          0.3148870658526448,
          0.31522324405179736,
          0.3154937304817707,
          0.31583091615753833,
          0.3161021111226351,
          0.3164403117921486,
          0.3167122221278088,
          0.31705144532355567,
          0.31732407796448525,
          0.3176643311901969,
          0.31793769313886544,
          0.3182789838611262,
          0.3185530821716725,
          0.31889541782319386,
          0.31917025959314094,
          0.319513647579577,
          0.31978923994657693,
          0.3201336876529062,
          0.320410037792322,
          0.3207555525891742,
          0.3210326677130425,
          0.32137925695971303,
          0.32165714431550113,
          0.32200481536430803,
          0.3222834822350943,
          0.322632242432524,
          0.32291169613597126,
          0.32326155282465885,
          0.32354180071307526,
          0.32389276123216704,
          0.32417381069255213,
          0.32452588237864965,
          0.3248077408312192,
          0.3251609310182912,
          0.3254436059180734,
          0.32579792193616874,
          0.3260814207717285,
          0.32643686994784116,
          0.32672120024146445,
          0.3270777898984373,
          0.32736295920561925,
          0.327720696661443,
          0.32800671257168357,
          0.3283656051383085,
          0.32865247527376895,
          0.329012530256626,
          0.329300262273106,
          0.3296614869696148,
          0.32995008855561014,
          0.3303124902551724,
          0.3306019691320381,
          0.33096555511307363,
          0.3312559190351732,
          0.3316206965658119,
          0.33191195331961054,
          0.3322779296555813,
          0.332570087059846,
          0.3329372694434437,
          0.33323033534951574,
          0.33359873100747967,
          0.33389271329815007,
          0.33426232944177325,
          0.33455723603166343,
          0.33492807985406825,
          0.3352239186895067,
          0.33559599736512863,
          0.33589277642335635,
          0.3362660971061914,
          0.33656382439517163,
          0.3369383942173034,
          0.337237077776006,
          0.3376129038452687,
          0.3379125517428931,
          0.3382896411430486,
          0.33859026147858995,
          0.3389686212659858,
          0.33927022216832703,
          0.3396498593709639,
          0.3399524489985225,
          0.34033337061456265,
          0.3406369571543263
         ],
         "yaxis": "y"
        },
        {
         "marker": {
          "color": "orange"
         },
         "mode": "lines",
         "name": "Roll Centre Location, Z",
         "type": "scatter",
         "x": [
          0,
          -0.0017629588403983126,
          -0.003525917680796625,
          -0.0052888765211949375,
          -0.00705183536159325,
          -0.008814794201991563,
          -0.010577753042389875,
          -0.012340711882788189,
          -0.0141036707231865,
          -0.015866629563584814,
          -0.017629588403983126,
          -0.019392547244381438,
          -0.02115550608477975,
          -0.022918464925178062,
          -0.024681423765576378,
          -0.02644438260597469,
          -0.028207341446373,
          -0.029970300286771313,
          -0.03173325912716963,
          -0.03349621796756794,
          -0.03525917680796625,
          -0.03702213564836456,
          -0.038785094488762877,
          -0.04054805332916119,
          -0.0423110121695595,
          -0.044073971009957816,
          -0.045836929850356124,
          -0.04759988869075444,
          -0.049362847531152755,
          -0.051125806371551064,
          -0.05288876521194938,
          -0.05465172405234769,
          -0.056414682892746,
          -0.05817764173314432,
          -0.05994060057354263,
          -0.06170355941394094,
          -0.06346651825433926,
          -0.06522947709473756,
          -0.06699243593513587,
          -0.06875539477553419,
          -0.0705183536159325,
          -0.07228131245633082,
          -0.07404427129672912,
          -0.07580723013712744,
          -0.07757018897752575,
          -0.07933314781792407,
          -0.08109610665832238,
          -0.08285906549872069,
          -0.084622024339119,
          -0.08638498317951732,
          -0.08814794201991563,
          -0.08991090086031395,
          -0.09167385970071225,
          -0.09343681854111056,
          -0.09519977738150888,
          -0.0969627362219072,
          -0.09872569506230551,
          -0.10048865390270381,
          -0.10225161274310213,
          -0.10401457158350044,
          -0.10577753042389876,
          -0.10754048926429707,
          -0.10930344810469537,
          -0.11106640694509369,
          -0.112829365785492,
          -0.11459232462589032,
          -0.11635528346628864,
          -0.11811824230668694,
          -0.11988120114708525,
          -0.12164415998748357,
          -0.12340711882788188,
          -0.1251700776682802,
          -0.12693303650867852,
          -0.12869599534907683,
          -0.13045895418947512,
          -0.13222191302987343,
          -0.13398487187027175,
          -0.13574783071067006,
          -0.13751078955106838,
          -0.1392737483914667,
          -0.141036707231865,
          -0.14279966607226333,
          -0.14456262491266164,
          -0.14632558375305996,
          -0.14808854259345824,
          -0.14985150143385656,
          -0.15161446027425488,
          -0.1533774191146532,
          -0.1551403779550515,
          -0.15690333679544982,
          -0.15866629563584814,
          -0.16042925447624645,
          -0.16219221331664477,
          -0.16395517215704308,
          -0.16571813099744137,
          -0.1674810898378397,
          -0.169244048678238,
          -0.17100700751863632,
          -0.17276996635903463,
          -0.17453292519943295
         ],
         "y": [
          -0.00007350290772519495,
          -0.00008673146777190503,
          -0.00009752354678465268,
          -0.00010955890776719567,
          -0.0001203119660231431,
          -0.00013199162918155205,
          -0.00014284746523399866,
          -0.00015442275999199943,
          -0.0001653468061685228,
          -0.0001768905628150401,
          -0.0001878682608189193,
          -0.00019941218687775583,
          -0.00021044246205653705,
          -0.00022200104127965276,
          -0.00023308532698265022,
          -0.0002446650382573641,
          -0.0002558044909553199,
          -0.00026740818412213097,
          -0.00027860340480140994,
          -0.0002902323133634893,
          -0.00030148355093438314,
          -0.00031313820077393667,
          -0.0003244455448063871,
          -0.00033612615908663185,
          -0.00034748965174076843,
          -0.0003591963290016306,
          -0.00037061601720837084,
          -0.0003823488081163978,
          -0.0003938247628288219,
          -0.00040558370225143164,
          -0.0004171160221154574,
          -0.0004289011418721067,
          -0.00044048995062926505,
          -0.0004523012841397972,
          -0.00046394672597292047,
          -0.0004757843092432351,
          -0.00048748654443371564,
          -0.000499350416073012,
          -0.0005111096171044119,
          -0.000522999817732489,
          -0.0005348161661238512,
          -0.0005467327379315434,
          -0.0005586064219167131,
          -0.0005705494080838966,
          -0.0005824806207934893,
          -0.0005944500651622747,
          -0.0006064390031446515,
          -0.0006184349499261388,
          -0.0006304818124039727,
          -0.0006425043058492924,
          -0.000654609293603281,
          -0.0006666583780827878,
          -0.000678821693299636,
          -0.0006908974128820577,
          -0.0007031192584649182,
          -0.0007152216571196315,
          -0.0007275022364386721,
          -0.0007396313578097655,
          -0.0007519708746000012,
          -0.000764126762087404,
          -0.0007765254200611388,
          -0.0007887081166977131,
          -0.0008011661195805875,
          -0.0008133756681181631,
          -0.0008258932196936325,
          -0.000838129662524667,
          -0.0008507069661121136,
          -0.0008629703453723048,
          -0.0008756076041806088,
          -0.0008878979616885468,
          -0.0009005953786797444,
          -0.0009129127559708988,
          -0.0009256705336274929,
          -0.0009380149719758202,
          -0.0009508333124601392,
          -0.0009632048529344822,
          -0.0009760839581845204,
          -0.00098848264159844,
          -0.0010014227129324371,
          -0.0010138485799500163,
          -0.0010268498183824415,
          -0.0010393029094625666,
          -0.0010523655155715295,
          -0.0010648458710573877,
          -0.0010779700449694701,
          -0.001090477705073048,
          -0.0011036636463995636,
          -0.0011161986512691485,
          -0.0011294465592369407,
          -0.0011420089489170976,
          -0.0011553190223096838,
          -0.001167908836858772,
          -0.0011812812738460354,
          -0.0011938985532766455,
          -0.0012073335516318978,
          -0.0012199783359879285,
          -0.0012334760930684807,
          -0.0012461484223937613,
          -0.0012597091349183659,
          -0.0012724090493960727
         ],
         "yaxis": "y2"
        }
       ],
       "layout": {
        "legend": {
         "orientation": "h",
         "x": 0.5,
         "y": -0.2
        },
        "template": {
         "data": {
          "bar": [
           {
            "error_x": {
             "color": "#2a3f5f"
            },
            "error_y": {
             "color": "#2a3f5f"
            },
            "marker": {
             "line": {
              "color": "#E5ECF6",
              "width": 0.5
             },
             "pattern": {
              "fillmode": "overlay",
              "size": 10,
              "solidity": 0.2
             }
            },
            "type": "bar"
           }
          ],
          "barpolar": [
           {
            "marker": {
             "line": {
              "color": "#E5ECF6",
              "width": 0.5
             },
             "pattern": {
              "fillmode": "overlay",
              "size": 10,
              "solidity": 0.2
             }
            },
            "type": "barpolar"
           }
          ],
          "carpet": [
           {
            "aaxis": {
             "endlinecolor": "#2a3f5f",
             "gridcolor": "white",
             "linecolor": "white",
             "minorgridcolor": "white",
             "startlinecolor": "#2a3f5f"
            },
            "baxis": {
             "endlinecolor": "#2a3f5f",
             "gridcolor": "white",
             "linecolor": "white",
             "minorgridcolor": "white",
             "startlinecolor": "#2a3f5f"
            },
            "type": "carpet"
           }
          ],
          "choropleth": [
           {
            "colorbar": {
             "outlinewidth": 0,
             "ticks": ""
            },
            "type": "choropleth"
           }
          ],
          "contour": [
           {
            "colorbar": {
             "outlinewidth": 0,
             "ticks": ""
            },
            "colorscale": [
             [
              0,
              "#0d0887"
             ],
             [
              0.1111111111111111,
              "#46039f"
             ],
             [
              0.2222222222222222,
              "#7201a8"
             ],
             [
              0.3333333333333333,
              "#9c179e"
             ],
             [
              0.4444444444444444,
              "#bd3786"
             ],
             [
              0.5555555555555556,
              "#d8576b"
             ],
             [
              0.6666666666666666,
              "#ed7953"
             ],
             [
              0.7777777777777778,
              "#fb9f3a"
             ],
             [
              0.8888888888888888,
              "#fdca26"
             ],
             [
              1,
              "#f0f921"
             ]
            ],
            "type": "contour"
           }
          ],
          "contourcarpet": [
           {
            "colorbar": {
             "outlinewidth": 0,
             "ticks": ""
            },
            "type": "contourcarpet"
           }
          ],
          "heatmap": [
           {
            "colorbar": {
             "outlinewidth": 0,
             "ticks": ""
            },
            "colorscale": [
             [
              0,
              "#0d0887"
             ],
             [
              0.1111111111111111,
              "#46039f"
             ],
             [
              0.2222222222222222,
              "#7201a8"
             ],
             [
              0.3333333333333333,
              "#9c179e"
             ],
             [
              0.4444444444444444,
              "#bd3786"
             ],
             [
              0.5555555555555556,
              "#d8576b"
             ],
             [
              0.6666666666666666,
              "#ed7953"
             ],
             [
              0.7777777777777778,
              "#fb9f3a"
             ],
             [
              0.8888888888888888,
              "#fdca26"
             ],
             [
              1,
              "#f0f921"
             ]
            ],
            "type": "heatmap"
           }
          ],
          "heatmapgl": [
           {
            "colorbar": {
             "outlinewidth": 0,
             "ticks": ""
            },
            "colorscale": [
             [
              0,
              "#0d0887"
             ],
             [
              0.1111111111111111,
              "#46039f"
             ],
             [
              0.2222222222222222,
              "#7201a8"
             ],
             [
              0.3333333333333333,
              "#9c179e"
             ],
             [
              0.4444444444444444,
              "#bd3786"
             ],
             [
              0.5555555555555556,
              "#d8576b"
             ],
             [
              0.6666666666666666,
              "#ed7953"
             ],
             [
              0.7777777777777778,
              "#fb9f3a"
             ],
             [
              0.8888888888888888,
              "#fdca26"
             ],
             [
              1,
              "#f0f921"
             ]
            ],
            "type": "heatmapgl"
           }
          ],
          "histogram": [
           {
            "marker": {
             "pattern": {
              "fillmode": "overlay",
              "size": 10,
              "solidity": 0.2
             }
            },
            "type": "histogram"
           }
          ],
          "histogram2d": [
           {
            "colorbar": {
             "outlinewidth": 0,
             "ticks": ""
            },
            "colorscale": [
             [
              0,
              "#0d0887"
             ],
             [
              0.1111111111111111,
              "#46039f"
             ],
             [
              0.2222222222222222,
              "#7201a8"
             ],
             [
              0.3333333333333333,
              "#9c179e"
             ],
             [
              0.4444444444444444,
              "#bd3786"
             ],
             [
              0.5555555555555556,
              "#d8576b"
             ],
             [
              0.6666666666666666,
              "#ed7953"
             ],
             [
              0.7777777777777778,
              "#fb9f3a"
             ],
             [
              0.8888888888888888,
              "#fdca26"
             ],
             [
              1,
              "#f0f921"
             ]
            ],
            "type": "histogram2d"
           }
          ],
          "histogram2dcontour": [
           {
            "colorbar": {
             "outlinewidth": 0,
             "ticks": ""
            },
            "colorscale": [
             [
              0,
              "#0d0887"
             ],
             [
              0.1111111111111111,
              "#46039f"
             ],
             [
              0.2222222222222222,
              "#7201a8"
             ],
             [
              0.3333333333333333,
              "#9c179e"
             ],
             [
              0.4444444444444444,
              "#bd3786"
             ],
             [
              0.5555555555555556,
              "#d8576b"
             ],
             [
              0.6666666666666666,
              "#ed7953"
             ],
             [
              0.7777777777777778,
              "#fb9f3a"
             ],
             [
              0.8888888888888888,
              "#fdca26"
             ],
             [
              1,
              "#f0f921"
             ]
            ],
            "type": "histogram2dcontour"
           }
          ],
          "mesh3d": [
           {
            "colorbar": {
             "outlinewidth": 0,
             "ticks": ""
            },
            "type": "mesh3d"
           }
          ],
          "parcoords": [
           {
            "line": {
             "colorbar": {
              "outlinewidth": 0,
              "ticks": ""
             }
            },
            "type": "parcoords"
           }
          ],
          "pie": [
           {
            "automargin": true,
            "type": "pie"
           }
          ],
          "scatter": [
           {
            "fillpattern": {
             "fillmode": "overlay",
             "size": 10,
             "solidity": 0.2
            },
            "type": "scatter"
           }
          ],
          "scatter3d": [
           {
            "line": {
             "colorbar": {
              "outlinewidth": 0,
              "ticks": ""
             }
            },
            "marker": {
             "colorbar": {
              "outlinewidth": 0,
              "ticks": ""
             }
            },
            "type": "scatter3d"
           }
          ],
          "scattercarpet": [
           {
            "marker": {
             "colorbar": {
              "outlinewidth": 0,
              "ticks": ""
             }
            },
            "type": "scattercarpet"
           }
          ],
          "scattergeo": [
           {
            "marker": {
             "colorbar": {
              "outlinewidth": 0,
              "ticks": ""
             }
            },
            "type": "scattergeo"
           }
          ],
          "scattergl": [
           {
            "marker": {
             "colorbar": {
              "outlinewidth": 0,
              "ticks": ""
             }
            },
            "type": "scattergl"
           }
          ],
          "scattermapbox": [
           {
            "marker": {
             "colorbar": {
              "outlinewidth": 0,
              "ticks": ""
             }
            },
            "type": "scattermapbox"
           }
          ],
          "scatterpolar": [
           {
            "marker": {
             "colorbar": {
              "outlinewidth": 0,
              "ticks": ""
             }
            },
            "type": "scatterpolar"
           }
          ],
          "scatterpolargl": [
           {
            "marker": {
             "colorbar": {
              "outlinewidth": 0,
              "ticks": ""
             }
            },
            "type": "scatterpolargl"
           }
          ],
          "scatterternary": [
           {
            "marker": {
             "colorbar": {
              "outlinewidth": 0,
              "ticks": ""
             }
            },
            "type": "scatterternary"
           }
          ],
          "surface": [
           {
            "colorbar": {
             "outlinewidth": 0,
             "ticks": ""
            },
            "colorscale": [
             [
              0,
              "#0d0887"
             ],
             [
              0.1111111111111111,
              "#46039f"
             ],
             [
              0.2222222222222222,
              "#7201a8"
             ],
             [
              0.3333333333333333,
              "#9c179e"
             ],
             [
              0.4444444444444444,
              "#bd3786"
             ],
             [
              0.5555555555555556,
              "#d8576b"
             ],
             [
              0.6666666666666666,
              "#ed7953"
             ],
             [
              0.7777777777777778,
              "#fb9f3a"
             ],
             [
              0.8888888888888888,
              "#fdca26"
             ],
             [
              1,
              "#f0f921"
             ]
            ],
            "type": "surface"
           }
          ],
          "table": [
           {
            "cells": {
             "fill": {
              "color": "#EBF0F8"
             },
             "line": {
              "color": "white"
             }
            },
            "header": {
             "fill": {
              "color": "#C8D4E3"
             },
             "line": {
              "color": "white"
             }
            },
            "type": "table"
           }
          ]
         },
         "layout": {
          "annotationdefaults": {
           "arrowcolor": "#2a3f5f",
           "arrowhead": 0,
           "arrowwidth": 1
          },
          "autotypenumbers": "strict",
          "coloraxis": {
           "colorbar": {
            "outlinewidth": 0,
            "ticks": ""
           }
          },
          "colorscale": {
           "diverging": [
            [
             0,
             "#8e0152"
            ],
            [
             0.1,
             "#c51b7d"
            ],
            [
             0.2,
             "#de77ae"
            ],
            [
             0.3,
             "#f1b6da"
            ],
            [
             0.4,
             "#fde0ef"
            ],
            [
             0.5,
             "#f7f7f7"
            ],
            [
             0.6,
             "#e6f5d0"
            ],
            [
             0.7,
             "#b8e186"
            ],
            [
             0.8,
             "#7fbc41"
            ],
            [
             0.9,
             "#4d9221"
            ],
            [
             1,
             "#276419"
            ]
           ],
           "sequential": [
            [
             0,
             "#0d0887"
            ],
            [
             0.1111111111111111,
             "#46039f"
            ],
            [
             0.2222222222222222,
             "#7201a8"
            ],
            [
             0.3333333333333333,
             "#9c179e"
            ],
            [
             0.4444444444444444,
             "#bd3786"
            ],
            [
             0.5555555555555556,
             "#d8576b"
            ],
            [
             0.6666666666666666,
             "#ed7953"
            ],
            [
             0.7777777777777778,
             "#fb9f3a"
            ],
            [
             0.8888888888888888,
             "#fdca26"
            ],
            [
             1,
             "#f0f921"
            ]
           ],
           "sequentialminus": [
            [
             0,
             "#0d0887"
            ],
            [
             0.1111111111111111,
             "#46039f"
            ],
            [
             0.2222222222222222,
             "#7201a8"
            ],
            [
             0.3333333333333333,
             "#9c179e"
            ],
            [
             0.4444444444444444,
             "#bd3786"
            ],
            [
             0.5555555555555556,
             "#d8576b"
            ],
            [
             0.6666666666666666,
             "#ed7953"
            ],
            [
             0.7777777777777778,
             "#fb9f3a"
            ],
            [
             0.8888888888888888,
             "#fdca26"
            ],
            [
             1,
             "#f0f921"
            ]
           ]
          },
          "colorway": [
           "#636efa",
           "#EF553B",
           "#00cc96",
           "#ab63fa",
           "#FFA15A",
           "#19d3f3",
           "#FF6692",
           "#B6E880",
           "#FF97FF",
           "#FECB52"
          ],
          "font": {
           "color": "#2a3f5f"
          },
          "geo": {
           "bgcolor": "white",
           "lakecolor": "white",
           "landcolor": "#E5ECF6",
           "showlakes": true,
           "showland": true,
           "subunitcolor": "white"
          },
          "hoverlabel": {
           "align": "left"
          },
          "hovermode": "closest",
          "mapbox": {
           "style": "light"
          },
          "paper_bgcolor": "white",
          "plot_bgcolor": "#E5ECF6",
          "polar": {
           "angularaxis": {
            "gridcolor": "white",
            "linecolor": "white",
            "ticks": ""
           },
           "bgcolor": "#E5ECF6",
           "radialaxis": {
            "gridcolor": "white",
            "linecolor": "white",
            "ticks": ""
           }
          },
          "scene": {
           "xaxis": {
            "backgroundcolor": "#E5ECF6",
            "gridcolor": "white",
            "gridwidth": 2,
            "linecolor": "white",
            "showbackground": true,
            "ticks": "",
            "zerolinecolor": "white"
           },
           "yaxis": {
            "backgroundcolor": "#E5ECF6",
            "gridcolor": "white",
            "gridwidth": 2,
            "linecolor": "white",
            "showbackground": true,
            "ticks": "",
            "zerolinecolor": "white"
           },
           "zaxis": {
            "backgroundcolor": "#E5ECF6",
            "gridcolor": "white",
            "gridwidth": 2,
            "linecolor": "white",
            "showbackground": true,
            "ticks": "",
            "zerolinecolor": "white"
           }
          },
          "shapedefaults": {
           "line": {
            "color": "#2a3f5f"
           }
          },
          "ternary": {
           "aaxis": {
            "gridcolor": "white",
            "linecolor": "white",
            "ticks": ""
           },
           "baxis": {
            "gridcolor": "white",
            "linecolor": "white",
            "ticks": ""
           },
           "bgcolor": "#E5ECF6",
           "caxis": {
            "gridcolor": "white",
            "linecolor": "white",
            "ticks": ""
           }
          },
          "title": {
           "x": 0.05
          },
          "xaxis": {
           "automargin": true,
           "gridcolor": "white",
           "linecolor": "white",
           "ticks": "",
           "title": {
            "standoff": 15
           },
           "zerolinecolor": "white",
           "zerolinewidth": 2
          },
          "yaxis": {
           "automargin": true,
           "gridcolor": "white",
           "linecolor": "white",
           "ticks": "",
           "title": {
            "standoff": 15
           },
           "zerolinecolor": "white",
           "zerolinewidth": 2
          }
         }
        },
        "title": {
         "text": "Roll Centre Location"
        },
        "xaxis": {
         "title": {
          "text": "Roll Angle (radians)"
         }
        },
        "yaxis": {
         "tickfont": {
          "color": "red"
         },
         "title": {
          "font": {
           "color": "red"
          },
          "text": "RC Location, Y (m)"
         }
        },
        "yaxis2": {
         "anchor": "x",
         "overlaying": "y",
         "side": "right",
         "tickfont": {
          "color": "orange"
         },
         "title": {
          "font": {
           "color": "orange"
          },
          "text": "RC Location, Z (m)"
         }
        }
       }
      }
     },
     "metadata": {},
     "output_type": "display_data"
    }
   ],
   "source": [
    "fig = go.Figure()\n",
    "\n",
    "fig.add_trace(\n",
    "    go.Scatter(\n",
    "        x=results_df[\"roll_angle\"],\n",
    "        y=results_df[\"rc_y\"],\n",
    "        mode='lines',\n",
    "        marker=dict(color='red'),\n",
    "        name='Roll Centre Location, Y',\n",
    "        yaxis='y'  # Explicitly associate this trace with the primary y-axis\n",
    "    )\n",
    ")\n",
    "\n",
    "# Add the second trace for \"rc_z\" on the secondary y-axis\n",
    "fig.add_trace(\n",
    "    go.Scatter(\n",
    "        x=results_df[\"roll_angle\"],\n",
    "        y=results_df[\"rc_z\"],\n",
    "        mode='lines',\n",
    "        marker=dict(color='orange'),\n",
    "        name='Roll Centre Location, Z',\n",
    "        yaxis='y2'  # Explicitly associate this trace with the secondary y-axis\n",
    "    )\n",
    ")\n",
    "\n",
    "# Update layout to add a secondary y-axis\n",
    "fig.update_layout(\n",
    "    title='Roll Centre Location',\n",
    "    xaxis=dict(title='Roll Angle (radians)'),\n",
    "    yaxis=dict(\n",
    "        title='RC Location, Y (m)',\n",
    "        titlefont=dict(color='red'),\n",
    "        tickfont=dict(color='red')\n",
    "    ),\n",
    "    yaxis2=dict(\n",
    "        title='RC Location, Z (m)',\n",
    "        titlefont=dict(color='orange'),\n",
    "        tickfont=dict(color='orange'),\n",
    "        anchor='x',\n",
    "        overlaying='y',\n",
    "        side='right'  # Place the secondary y-axis on the right side\n",
    "    ),\n",
    "    legend=dict(x=0.5, y=-0.2, orientation='h')  # Adjust legend position if needed\n",
    ")\n",
    "\n",
    "# Show the figure\n",
    "fig.show()"
   ]
  },
  {
   "cell_type": "code",
   "execution_count": 22,
   "metadata": {},
   "outputs": [
    {
     "name": "stdout",
     "output_type": "stream",
     "text": [
      "Resolved Forces: {'force_outboard': array([    0,     0, -5000]), 'force_inboard_front': array([    0.        ,     0.        , -2035.77171589]), 'force_inboard_rear': array([    0.        ,     0.        , -1964.22828411])}\n"
     ]
    }
   ],
   "source": [
    "def resolve_forces(tire_cop, lower_a_arm, spring_force, tire_force):\n",
    "    \"\"\"\n",
    "    Resolve forces from the tire center of pressure (tire_cop) through the lower A-arm.\n",
    "    \n",
    "    Parameters:\n",
    "        tire_cop (np.array): Coordinates of the tire center of pressure (1x3).\n",
    "        lower_a_arm (np.array): Coordinates of the lower A-arm points (3x3):\n",
    "                                [outboard, inboard_front, inboard_rear].\n",
    "        spring_force (float): Force exerted by the spring (N).\n",
    "        tire_force (float): Vertical force acting at the tire_cop (N).\n",
    "    \n",
    "    Returns:\n",
    "        dict: Resolved forces at each point on the lower A-arm.\n",
    "    \"\"\"\n",
    "    # Extract points\n",
    "    outboard = lower_a_arm[0]\n",
    "    inboard_front = lower_a_arm[1]\n",
    "    inboard_rear = lower_a_arm[2]\n",
    "\n",
    "    # Geometry vectors\n",
    "    vec_out_to_front = inboard_front - outboard\n",
    "    vec_out_to_rear = inboard_rear - outboard\n",
    "\n",
    "    # Normalize vectors\n",
    "    vec_out_to_front_unit = vec_out_to_front / np.linalg.norm(vec_out_to_front)\n",
    "    vec_out_to_rear_unit = vec_out_to_rear / np.linalg.norm(vec_out_to_rear)\n",
    "\n",
    "    # Assume vertical load (Fz) is fully carried by the outboard point\n",
    "    # Force at the outboard is balanced by inboard forces and the spring\n",
    "    force_outboard = np.array([0, 0, -tire_force])\n",
    "\n",
    "    # Distribute outboard force between the inboard points based on geometry\n",
    "    # Assume a linear distribution proportional to vector lengths\n",
    "    front_contribution = np.dot(vec_out_to_front_unit, force_outboard)\n",
    "    rear_contribution = np.dot(vec_out_to_rear_unit, force_outboard)\n",
    "\n",
    "    # Scale contributions to sum to total tire force\n",
    "    total_contribution = abs(front_contribution) + abs(rear_contribution)\n",
    "    force_inboard_front = force_outboard * (abs(front_contribution) / total_contribution)\n",
    "    force_inboard_rear = force_outboard * (abs(rear_contribution) / total_contribution)\n",
    "\n",
    "    # Include spring force acting at the outboard\n",
    "    force_inboard_front[2] += spring_force / 2\n",
    "    force_inboard_rear[2] += spring_force / 2\n",
    "\n",
    "    return {\n",
    "        \"force_outboard\": force_outboard,\n",
    "        \"force_inboard_front\": force_inboard_front,\n",
    "        \"force_inboard_rear\": force_inboard_rear,\n",
    "    }\n",
    "\n",
    "# Resolve forces\n",
    "forces = resolve_forces(tire_cop, lower_a_arm, spring_force, tire_force)\n",
    "print(\"Resolved Forces:\", forces)\n"
   ]
  }
 ],
 "metadata": {
  "kernelspec": {
   "display_name": "Python 3",
   "language": "python",
   "name": "python3"
  },
  "language_info": {
   "codemirror_mode": {
    "name": "ipython",
    "version": 3
   },
   "file_extension": ".py",
   "mimetype": "text/x-python",
   "name": "python",
   "nbconvert_exporter": "python",
   "pygments_lexer": "ipython3",
   "version": "3.11.4"
  }
 },
 "nbformat": 4,
 "nbformat_minor": 2
}
