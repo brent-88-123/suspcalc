{
 "cells": [
  {
   "cell_type": "markdown",
   "metadata": {},
   "source": [
    "-------------------------------------------------------------------------------\n",
    "\n",
    "CHIBO 2024\n",
    "\n",
    "An attempt to static calculate the forces in (x,y,z) at all the suspension pickup points for various roll/jounce effects\n",
    "\n",
    "18.12.2024: Created\n",
    "\n",
    "03.01.2025: Outboard points calc working, moved functions to susprog.py and added loop \n",
    "\n",
    "05.01.2025: Added jounce updater for the inner points and included in susprog.py\n",
    "\n",
    "08.01.2025: Added trail & scrub radius calc in loop\n",
    "\n",
    "09.01.2025: Rewrote roll centre code to correct errors in original\n",
    "\n",
    "11.01.2025: Added in trail/scrub/KPI/Caster angle evaluation. Bug was present for a while which miscalculated RC via unsmooth rotation of inner points. Went away for unknown reason\n",
    "\n",
    "19.01.2025: Changed units to mm, this fixes small number rounding error which causes output instability\n",
    "\n",
    "-------------------------------------------------------------------------------"
   ]
  },
  {
   "cell_type": "code",
   "execution_count": 2,
   "metadata": {},
   "outputs": [],
   "source": [
    "import numpy as np\n",
    "import pandas as pd\n",
    "from scipy.optimize import minimize\n",
    "\n",
    "import plotly.graph_objects as go\n",
    "import matplotlib.pyplot as plt\n",
    "\n",
    "import susprog                      # Python file containing the equations for the loop "
   ]
  },
  {
   "cell_type": "code",
   "execution_count": 10,
   "metadata": {},
   "outputs": [],
   "source": [
    "# Declare motions for evaluation\n",
    "\n",
    "# Define maximum roll and jounce inputs\n",
    "body_roll = -5.00  # Maximum roll angle in degrees\n",
    "body_jounce = -10  # Maximum jounce in meters (5 cm = 0.05)\n",
    "sim_vales = 100\n",
    "\n",
    "# Generate roll and jounce motion inputs\n",
    "roll_angles = np.linspace(0, np.radians(body_roll), sim_vales)  # 0 to max roll angle in 100 steps\n",
    "jounce_displacements = np.linspace(0, body_jounce, sim_vales)  # 0 to max jounce in 100 steps"
   ]
  },
  {
   "cell_type": "code",
   "execution_count": 11,
   "metadata": {},
   "outputs": [],
   "source": [
    "# Suspension pickup points in millimeters\n",
    "upper_a_arm = np.array([\n",
    "    [1.5, 506.5, 315],      # Outer point (converted from m to mm)\n",
    "    [-135, 240, 220],       # Inner leading point\n",
    "    [180, 255, 255]         # Inner trailing point\n",
    "], dtype=np.float64)\n",
    "\n",
    "lower_a_arm = np.array([\n",
    "    [-17.5, 519, 137],      # Outer point\n",
    "    [-180, 165, 87],        # Inner leading point\n",
    "    [180, 170, 87]          # Inner trailing point\n",
    "], dtype=np.float64)\n",
    "\n",
    "tie_rod = np.array([\n",
    "    [60, 515, 160],         # Outer point\n",
    "    [70, 195, 100]          # Inner point\n",
    "], dtype=np.float64)\n",
    "\n",
    "tire_cop = np.array([-5, 525, 0], dtype=np.float64)      # Converted to mm\n",
    "force_vector = np.array([50 * 1000, 500 * 1000, -2000 * 1000], dtype=np.float64)  # Force in N-mm\n"
   ]
  },
  {
   "cell_type": "code",
   "execution_count": 12,
   "metadata": {},
   "outputs": [],
   "source": [
    "# Calculate lengths for upper and lower A-arms and tie rod\n",
    "upper_lengths = [\n",
    "    np.linalg.norm(upper_a_arm[1] - upper_a_arm[0]),  # Upper outer to inner leading\n",
    "    np.linalg.norm(upper_a_arm[2] - upper_a_arm[0]),  # Upper outer to inner trailing\n",
    "    np.linalg.norm(upper_a_arm[0] - lower_a_arm[0])   # Upper outer to lower outer\n",
    "]\n",
    "\n",
    "lower_lengths = [\n",
    "    np.linalg.norm(lower_a_arm[1] - lower_a_arm[0]),  # Lower outer to inner leading\n",
    "    np.linalg.norm(lower_a_arm[2] - lower_a_arm[0]),  # Lower outer to inner trailing\n",
    "    np.linalg.norm(lower_a_arm[0] - tire_cop)         # Lower outer to tire center of pressure\n",
    "]\n",
    "\n",
    "tie_length = [\n",
    "    np.linalg.norm(tie_rod[1] - tie_rod[0]),          # Tie rod outer to inner leading\n",
    "    np.linalg.norm(upper_a_arm[0] - tie_rod[0]),      # Tie rod outer to upper outer\n",
    "    np.linalg.norm(lower_a_arm[0] - tie_rod[0])       # Tie rod outer to lower outer\n",
    "]"
   ]
  },
  {
   "cell_type": "code",
   "execution_count": 13,
   "metadata": {},
   "outputs": [],
   "source": [
    "# Run simulation\n",
    "\n",
    "# Columns: [roll_angle (rad), jounce (m), suspension_positions (1x9), rc_x, rc_y, rc_z]\n",
    "results = np.zeros((len(roll_angles), 29))  # 100 rows, 36 columns\n",
    "#rc, geo_roll_centre = susprog.calculate_roll_center(upper_a_arm, lower_a_arm, tire_cop)\n",
    "rc_data = susprog.calculate_rc_simple(upper_a_arm, lower_a_arm, tire_cop)\n",
    "rc = rc_data[0:3]\n",
    "\n",
    "# Set rotation point to origin\n",
    "# rc = [0,0,0]\n",
    "\n",
    "# Roll axis (example: x-axis)\n",
    "roll_axis = np.array([1, 0, 0])\n",
    "\n",
    "# Initialize rotated arms as a copy of the original\n",
    "upper_modified = upper_a_arm.copy()\n",
    "lower_modified = lower_a_arm.copy()\n",
    "tierod_modified = tie_rod.copy()\n",
    "\n",
    "# Loop through each roll and jounce input\n",
    "for i, (roll_angle, jounce_disp) in enumerate(zip(roll_angles, jounce_displacements)):\n",
    "    # Step 1: Rotate and jounce the inner points of the arms and tie rod\n",
    "    upper_modified = susprog.rotate_points(upper_a_arm, rc, roll_axis, roll_angle)\n",
    "    upper_modified = susprog.jounce_innerpoints(upper_modified, jounce_disp)\n",
    "\n",
    "    lower_modified = susprog.rotate_points(lower_a_arm, rc, roll_axis, roll_angle)\n",
    "    lower_modified = susprog.jounce_innerpoints(lower_modified, jounce_disp)\n",
    "    \n",
    "    tierod_modified = susprog.rotate_points(tie_rod, rc, roll_axis, roll_angle)\n",
    "    tierod_modified = susprog.jounce_innerpoints(tierod_modified, jounce_disp)\n",
    "\n",
    "    # Step 3: Update outer points of lower, upper, and tie rod\n",
    "    # Lower A-arm\n",
    "    points_temp = np.vstack((lower_modified, tire_cop))\n",
    "    lower_modified[0:1] = susprog.solve_outer_position(points_temp, lower_lengths)\n",
    "    del points_temp\n",
    "\n",
    "    # Upper A-arm\n",
    "    points_temp = np.vstack((upper_modified, lower_modified[0:]))\n",
    "    upper_modified[0:1] = susprog.solve_outer_position(points_temp, upper_lengths)\n",
    "    del points_temp\n",
    "\n",
    "    # Tie rod\n",
    "    points_temp = np.vstack((tierod_modified, upper_modified[0:1], lower_modified[0:1]))\n",
    "    tierod_modified[0:1] = susprog.solve_outer_position(points_temp, tie_length)\n",
    "    del points_temp\n",
    "\n",
    "\n",
    "    # Step 4: Calculate the new roll center\n",
    "    rc_data = susprog.calculate_rc_simple(upper_modified, lower_modified, tire_cop)\n",
    "    rc = rc_data[0:3]\n",
    "    # Flatten geometry data dictionary into a list\n",
    "    \"\"\"geometry_values = [\n",
    "        geo_roll_centre['instant_center_2d'][0],  # Instant center x\n",
    "        geo_roll_centre['instant_center_2d'][1],  # Instant center z\n",
    "        geo_roll_centre['swing_arm_length'],      # Swing arm length\n",
    "        geo_roll_centre['upper_arm_angle'],       # Upper arm angle\n",
    "        geo_roll_centre['lower_arm_angle'],       # Lower arm angle\n",
    "        *geo_roll_centre['upper_normal'],         # Upper plane normal (3 components)\n",
    "        *geo_roll_centre['lower_normal']          # Lower plane normal (3 components)\n",
    "    ]\"\"\"\n",
    "    \n",
    "    steering_data = susprog.suspension_geometry_calc(upper_modified, lower_modified, tire_cop)\n",
    "    steering_data = [\n",
    "        steering_data['trail'],  # trail in x\n",
    "        steering_data['scrub'],  # scrub in y\n",
    "        steering_data['kingpin_inclination_deg'],      # KPI\n",
    "        steering_data['camber_angle_deg'],       # Caster\n",
    "    ]\n",
    "    \n",
    "\n",
    "    # Step 5: Store the results\n",
    "    results[i, 0] = roll_angle  # Roll angle (in radians)\n",
    "    results[i, 1] = jounce_disp  # Jounce displacement\n",
    "    results[i, 2:11] = lower_modified.flatten()  # Lower A-arm positions (3x3 -> 1x9)\n",
    "    results[i, 11:20] = upper_modified.flatten()  # Upper A-arm positions (3x3 -> 1x9)\n",
    "    results[i, 20:25] = rc_data  # Roll center (1x8)\n",
    "    #results[i, 23] = geo_roll_centre['instant_center_2d'][0]  # IC x\n",
    "    #results[i, 24] = geo_roll_centre['instant_center_2d'][1]  # IC z\n",
    "    #results[i, 25] = geo_roll_centre['swing_arm_length']      # Swing arm length\n",
    "    #results[i, 26] = geo_roll_centre['upper_arm_angle']       # Upper arm angle\n",
    "    #results[i, 27] = geo_roll_centre['lower_arm_angle']       # Lower arm angle\n",
    "    #results[i, 28:31] = geo_roll_centre['upper_normal']       # Upper plane normal (x, y, z)\n",
    "    #results[i, 31:34] = geo_roll_centre['lower_normal']       # Lower plane normal (x, y, z)\n",
    "    results[i, 25:30] = steering_data # Steering axis==> tire cop (1x3)\n",
    "\n",
    "del i\n",
    "\n",
    "# Convert results to a DataFrame for easier visualization and saving\n",
    "column_names = [\n",
    "    \"roll_angle\", \"jounce\", \n",
    "    \"lower_outer_x\", \"lower_outer_y\", \"lower_outer_z\", \n",
    "    \"lower_inner1_x\", \"lower_inner1_y\", \"lower_inner1_z\", \n",
    "    \"lower_inner2_x\", \"lower_inner2_y\", \"lower_inner2_z\",\n",
    "    \"upper_outer_x\", \"upper_outer_y\", \"upper_outer_z\", \n",
    "    \"upper_inner1_x\", \"upper_inner1_y\", \"upper_inner1_z\", \n",
    "    \"upper_inner2_x\", \"upper_inner2_y\", \"upper_inner2_z\",\n",
    "    \"rc_x\", \"rc_y\", \"rc_z\",\n",
    "    \"ic_y\", \"ic_z\", # \"sal\", \"upper_angle\", \"lower_angle\",  # Geometry data\n",
    "    # \"upper_normal_x\", \"upper_normal_y\", \"upper_normal_z\",  # Upper plane normal\n",
    "    # \"lower_normal_x\", \"lower_normal_y\", \"lower_normal_z\",   # Lower plane normal\n",
    "    \"Steering_trail_x\", \"Scrub_radius_y\", \"kingpin_inclination_deg\", \"camber_angle_deg\"\n",
    "]\n",
    "results_df = pd.DataFrame(results, columns=column_names)\n",
    "\n",
    "# Save the results as a CSV file (optional)\n",
    "results_df.to_csv(\"suspension_simulation_results.csv\", index=False)\n",
    "\n",
    "# Display the first few rows\n",
    "#print(results_df.head())\n"
   ]
  },
  {
   "cell_type": "code",
   "execution_count": 14,
   "metadata": {},
   "outputs": [
    {
     "data": {
      "application/vnd.plotly.v1+json": {
       "config": {
        "plotlyServerURL": "https://plot.ly"
       },
       "data": [
        {
         "marker": {
          "color": "blue",
          "size": 5
         },
         "mode": "markers+lines",
         "name": "Lower A-arm (Initial)",
         "type": "scatter3d",
         "x": [
          -17.5,
          -180,
          180
         ],
         "y": [
          519,
          165,
          170
         ],
         "z": [
          137,
          87,
          87
         ]
        },
        {
         "marker": {
          "color": "red",
          "size": 5
         },
         "mode": "markers+lines",
         "name": "Lower A-arm (Final)",
         "type": "scatter3d",
         "x": [
          -17.32889541658199,
          -180.00000000000003,
          180.00000000000003
         ],
         "y": [
          521.4442634591962,
          171.92496784059682,
          176.90594133105554
         ],
         "z": [
          137.1008830263941,
          62.289538214659444,
          61.85375950092116
         ]
        },
        {
         "marker": {
          "color": "green",
          "size": 5
         },
         "mode": "markers+lines",
         "name": "Upper A-arm (Initial)",
         "type": "scatter3d",
         "x": [
          1.5,
          -135,
          180
         ],
         "y": [
          506.5,
          240,
          255
         ],
         "z": [
          315,
          220,
          255
         ]
        },
        {
         "marker": {
          "color": "orange",
          "size": 5
         },
         "mode": "markers+lines",
         "name": "Upper A-arm (Final)",
         "type": "scatter3d",
         "x": [
          -3.4191668109285565,
          -135.00000000000003,
          180.00000000000003
         ],
         "y": [
          513.3584397855916,
          258.2312839829163,
          276.2246554504605
         ],
         "z": [
          315.82504380878845,
          188.24675235478728,
          221.8062306467835
         ]
        },
        {
         "marker": {
          "color": "purple",
          "size": 8
         },
         "mode": "markers+lines",
         "name": "Roll Center",
         "type": "scatter3d",
         "x": [
          0,
          0
         ],
         "y": [
          0,
          0
         ],
         "z": [
          10.6169616293786,
          0.26708242825662637
         ]
        }
       ],
       "layout": {
        "legend": {
         "x": 0.1,
         "y": 0.9
        },
        "scene": {
         "xaxis": {
          "title": {
           "text": "X-axis (m)"
          }
         },
         "yaxis": {
          "title": {
           "text": "Y-axis (m)"
          }
         },
         "zaxis": {
          "title": {
           "text": "Z-axis (m)"
          }
         }
        },
        "template": {
         "data": {
          "bar": [
           {
            "error_x": {
             "color": "#2a3f5f"
            },
            "error_y": {
             "color": "#2a3f5f"
            },
            "marker": {
             "line": {
              "color": "#E5ECF6",
              "width": 0.5
             },
             "pattern": {
              "fillmode": "overlay",
              "size": 10,
              "solidity": 0.2
             }
            },
            "type": "bar"
           }
          ],
          "barpolar": [
           {
            "marker": {
             "line": {
              "color": "#E5ECF6",
              "width": 0.5
             },
             "pattern": {
              "fillmode": "overlay",
              "size": 10,
              "solidity": 0.2
             }
            },
            "type": "barpolar"
           }
          ],
          "carpet": [
           {
            "aaxis": {
             "endlinecolor": "#2a3f5f",
             "gridcolor": "white",
             "linecolor": "white",
             "minorgridcolor": "white",
             "startlinecolor": "#2a3f5f"
            },
            "baxis": {
             "endlinecolor": "#2a3f5f",
             "gridcolor": "white",
             "linecolor": "white",
             "minorgridcolor": "white",
             "startlinecolor": "#2a3f5f"
            },
            "type": "carpet"
           }
          ],
          "choropleth": [
           {
            "colorbar": {
             "outlinewidth": 0,
             "ticks": ""
            },
            "type": "choropleth"
           }
          ],
          "contour": [
           {
            "colorbar": {
             "outlinewidth": 0,
             "ticks": ""
            },
            "colorscale": [
             [
              0,
              "#0d0887"
             ],
             [
              0.1111111111111111,
              "#46039f"
             ],
             [
              0.2222222222222222,
              "#7201a8"
             ],
             [
              0.3333333333333333,
              "#9c179e"
             ],
             [
              0.4444444444444444,
              "#bd3786"
             ],
             [
              0.5555555555555556,
              "#d8576b"
             ],
             [
              0.6666666666666666,
              "#ed7953"
             ],
             [
              0.7777777777777778,
              "#fb9f3a"
             ],
             [
              0.8888888888888888,
              "#fdca26"
             ],
             [
              1,
              "#f0f921"
             ]
            ],
            "type": "contour"
           }
          ],
          "contourcarpet": [
           {
            "colorbar": {
             "outlinewidth": 0,
             "ticks": ""
            },
            "type": "contourcarpet"
           }
          ],
          "heatmap": [
           {
            "colorbar": {
             "outlinewidth": 0,
             "ticks": ""
            },
            "colorscale": [
             [
              0,
              "#0d0887"
             ],
             [
              0.1111111111111111,
              "#46039f"
             ],
             [
              0.2222222222222222,
              "#7201a8"
             ],
             [
              0.3333333333333333,
              "#9c179e"
             ],
             [
              0.4444444444444444,
              "#bd3786"
             ],
             [
              0.5555555555555556,
              "#d8576b"
             ],
             [
              0.6666666666666666,
              "#ed7953"
             ],
             [
              0.7777777777777778,
              "#fb9f3a"
             ],
             [
              0.8888888888888888,
              "#fdca26"
             ],
             [
              1,
              "#f0f921"
             ]
            ],
            "type": "heatmap"
           }
          ],
          "heatmapgl": [
           {
            "colorbar": {
             "outlinewidth": 0,
             "ticks": ""
            },
            "colorscale": [
             [
              0,
              "#0d0887"
             ],
             [
              0.1111111111111111,
              "#46039f"
             ],
             [
              0.2222222222222222,
              "#7201a8"
             ],
             [
              0.3333333333333333,
              "#9c179e"
             ],
             [
              0.4444444444444444,
              "#bd3786"
             ],
             [
              0.5555555555555556,
              "#d8576b"
             ],
             [
              0.6666666666666666,
              "#ed7953"
             ],
             [
              0.7777777777777778,
              "#fb9f3a"
             ],
             [
              0.8888888888888888,
              "#fdca26"
             ],
             [
              1,
              "#f0f921"
             ]
            ],
            "type": "heatmapgl"
           }
          ],
          "histogram": [
           {
            "marker": {
             "pattern": {
              "fillmode": "overlay",
              "size": 10,
              "solidity": 0.2
             }
            },
            "type": "histogram"
           }
          ],
          "histogram2d": [
           {
            "colorbar": {
             "outlinewidth": 0,
             "ticks": ""
            },
            "colorscale": [
             [
              0,
              "#0d0887"
             ],
             [
              0.1111111111111111,
              "#46039f"
             ],
             [
              0.2222222222222222,
              "#7201a8"
             ],
             [
              0.3333333333333333,
              "#9c179e"
             ],
             [
              0.4444444444444444,
              "#bd3786"
             ],
             [
              0.5555555555555556,
              "#d8576b"
             ],
             [
              0.6666666666666666,
              "#ed7953"
             ],
             [
              0.7777777777777778,
              "#fb9f3a"
             ],
             [
              0.8888888888888888,
              "#fdca26"
             ],
             [
              1,
              "#f0f921"
             ]
            ],
            "type": "histogram2d"
           }
          ],
          "histogram2dcontour": [
           {
            "colorbar": {
             "outlinewidth": 0,
             "ticks": ""
            },
            "colorscale": [
             [
              0,
              "#0d0887"
             ],
             [
              0.1111111111111111,
              "#46039f"
             ],
             [
              0.2222222222222222,
              "#7201a8"
             ],
             [
              0.3333333333333333,
              "#9c179e"
             ],
             [
              0.4444444444444444,
              "#bd3786"
             ],
             [
              0.5555555555555556,
              "#d8576b"
             ],
             [
              0.6666666666666666,
              "#ed7953"
             ],
             [
              0.7777777777777778,
              "#fb9f3a"
             ],
             [
              0.8888888888888888,
              "#fdca26"
             ],
             [
              1,
              "#f0f921"
             ]
            ],
            "type": "histogram2dcontour"
           }
          ],
          "mesh3d": [
           {
            "colorbar": {
             "outlinewidth": 0,
             "ticks": ""
            },
            "type": "mesh3d"
           }
          ],
          "parcoords": [
           {
            "line": {
             "colorbar": {
              "outlinewidth": 0,
              "ticks": ""
             }
            },
            "type": "parcoords"
           }
          ],
          "pie": [
           {
            "automargin": true,
            "type": "pie"
           }
          ],
          "scatter": [
           {
            "fillpattern": {
             "fillmode": "overlay",
             "size": 10,
             "solidity": 0.2
            },
            "type": "scatter"
           }
          ],
          "scatter3d": [
           {
            "line": {
             "colorbar": {
              "outlinewidth": 0,
              "ticks": ""
             }
            },
            "marker": {
             "colorbar": {
              "outlinewidth": 0,
              "ticks": ""
             }
            },
            "type": "scatter3d"
           }
          ],
          "scattercarpet": [
           {
            "marker": {
             "colorbar": {
              "outlinewidth": 0,
              "ticks": ""
             }
            },
            "type": "scattercarpet"
           }
          ],
          "scattergeo": [
           {
            "marker": {
             "colorbar": {
              "outlinewidth": 0,
              "ticks": ""
             }
            },
            "type": "scattergeo"
           }
          ],
          "scattergl": [
           {
            "marker": {
             "colorbar": {
              "outlinewidth": 0,
              "ticks": ""
             }
            },
            "type": "scattergl"
           }
          ],
          "scattermapbox": [
           {
            "marker": {
             "colorbar": {
              "outlinewidth": 0,
              "ticks": ""
             }
            },
            "type": "scattermapbox"
           }
          ],
          "scatterpolar": [
           {
            "marker": {
             "colorbar": {
              "outlinewidth": 0,
              "ticks": ""
             }
            },
            "type": "scatterpolar"
           }
          ],
          "scatterpolargl": [
           {
            "marker": {
             "colorbar": {
              "outlinewidth": 0,
              "ticks": ""
             }
            },
            "type": "scatterpolargl"
           }
          ],
          "scatterternary": [
           {
            "marker": {
             "colorbar": {
              "outlinewidth": 0,
              "ticks": ""
             }
            },
            "type": "scatterternary"
           }
          ],
          "surface": [
           {
            "colorbar": {
             "outlinewidth": 0,
             "ticks": ""
            },
            "colorscale": [
             [
              0,
              "#0d0887"
             ],
             [
              0.1111111111111111,
              "#46039f"
             ],
             [
              0.2222222222222222,
              "#7201a8"
             ],
             [
              0.3333333333333333,
              "#9c179e"
             ],
             [
              0.4444444444444444,
              "#bd3786"
             ],
             [
              0.5555555555555556,
              "#d8576b"
             ],
             [
              0.6666666666666666,
              "#ed7953"
             ],
             [
              0.7777777777777778,
              "#fb9f3a"
             ],
             [
              0.8888888888888888,
              "#fdca26"
             ],
             [
              1,
              "#f0f921"
             ]
            ],
            "type": "surface"
           }
          ],
          "table": [
           {
            "cells": {
             "fill": {
              "color": "#EBF0F8"
             },
             "line": {
              "color": "white"
             }
            },
            "header": {
             "fill": {
              "color": "#C8D4E3"
             },
             "line": {
              "color": "white"
             }
            },
            "type": "table"
           }
          ]
         },
         "layout": {
          "annotationdefaults": {
           "arrowcolor": "#2a3f5f",
           "arrowhead": 0,
           "arrowwidth": 1
          },
          "autotypenumbers": "strict",
          "coloraxis": {
           "colorbar": {
            "outlinewidth": 0,
            "ticks": ""
           }
          },
          "colorscale": {
           "diverging": [
            [
             0,
             "#8e0152"
            ],
            [
             0.1,
             "#c51b7d"
            ],
            [
             0.2,
             "#de77ae"
            ],
            [
             0.3,
             "#f1b6da"
            ],
            [
             0.4,
             "#fde0ef"
            ],
            [
             0.5,
             "#f7f7f7"
            ],
            [
             0.6,
             "#e6f5d0"
            ],
            [
             0.7,
             "#b8e186"
            ],
            [
             0.8,
             "#7fbc41"
            ],
            [
             0.9,
             "#4d9221"
            ],
            [
             1,
             "#276419"
            ]
           ],
           "sequential": [
            [
             0,
             "#0d0887"
            ],
            [
             0.1111111111111111,
             "#46039f"
            ],
            [
             0.2222222222222222,
             "#7201a8"
            ],
            [
             0.3333333333333333,
             "#9c179e"
            ],
            [
             0.4444444444444444,
             "#bd3786"
            ],
            [
             0.5555555555555556,
             "#d8576b"
            ],
            [
             0.6666666666666666,
             "#ed7953"
            ],
            [
             0.7777777777777778,
             "#fb9f3a"
            ],
            [
             0.8888888888888888,
             "#fdca26"
            ],
            [
             1,
             "#f0f921"
            ]
           ],
           "sequentialminus": [
            [
             0,
             "#0d0887"
            ],
            [
             0.1111111111111111,
             "#46039f"
            ],
            [
             0.2222222222222222,
             "#7201a8"
            ],
            [
             0.3333333333333333,
             "#9c179e"
            ],
            [
             0.4444444444444444,
             "#bd3786"
            ],
            [
             0.5555555555555556,
             "#d8576b"
            ],
            [
             0.6666666666666666,
             "#ed7953"
            ],
            [
             0.7777777777777778,
             "#fb9f3a"
            ],
            [
             0.8888888888888888,
             "#fdca26"
            ],
            [
             1,
             "#f0f921"
            ]
           ]
          },
          "colorway": [
           "#636efa",
           "#EF553B",
           "#00cc96",
           "#ab63fa",
           "#FFA15A",
           "#19d3f3",
           "#FF6692",
           "#B6E880",
           "#FF97FF",
           "#FECB52"
          ],
          "font": {
           "color": "#2a3f5f"
          },
          "geo": {
           "bgcolor": "white",
           "lakecolor": "white",
           "landcolor": "#E5ECF6",
           "showlakes": true,
           "showland": true,
           "subunitcolor": "white"
          },
          "hoverlabel": {
           "align": "left"
          },
          "hovermode": "closest",
          "mapbox": {
           "style": "light"
          },
          "paper_bgcolor": "white",
          "plot_bgcolor": "#E5ECF6",
          "polar": {
           "angularaxis": {
            "gridcolor": "white",
            "linecolor": "white",
            "ticks": ""
           },
           "bgcolor": "#E5ECF6",
           "radialaxis": {
            "gridcolor": "white",
            "linecolor": "white",
            "ticks": ""
           }
          },
          "scene": {
           "xaxis": {
            "backgroundcolor": "#E5ECF6",
            "gridcolor": "white",
            "gridwidth": 2,
            "linecolor": "white",
            "showbackground": true,
            "ticks": "",
            "zerolinecolor": "white"
           },
           "yaxis": {
            "backgroundcolor": "#E5ECF6",
            "gridcolor": "white",
            "gridwidth": 2,
            "linecolor": "white",
            "showbackground": true,
            "ticks": "",
            "zerolinecolor": "white"
           },
           "zaxis": {
            "backgroundcolor": "#E5ECF6",
            "gridcolor": "white",
            "gridwidth": 2,
            "linecolor": "white",
            "showbackground": true,
            "ticks": "",
            "zerolinecolor": "white"
           }
          },
          "shapedefaults": {
           "line": {
            "color": "#2a3f5f"
           }
          },
          "ternary": {
           "aaxis": {
            "gridcolor": "white",
            "linecolor": "white",
            "ticks": ""
           },
           "baxis": {
            "gridcolor": "white",
            "linecolor": "white",
            "ticks": ""
           },
           "bgcolor": "#E5ECF6",
           "caxis": {
            "gridcolor": "white",
            "linecolor": "white",
            "ticks": ""
           }
          },
          "title": {
           "x": 0.05
          },
          "xaxis": {
           "automargin": true,
           "gridcolor": "white",
           "linecolor": "white",
           "ticks": "",
           "title": {
            "standoff": 15
           },
           "zerolinecolor": "white",
           "zerolinewidth": 2
          },
          "yaxis": {
           "automargin": true,
           "gridcolor": "white",
           "linecolor": "white",
           "ticks": "",
           "title": {
            "standoff": 15
           },
           "zerolinecolor": "white",
           "zerolinewidth": 2
          }
         }
        },
        "title": {
         "text": "3D Suspension Geometry (Initial vs. Final)"
        }
       }
      }
     },
     "metadata": {},
     "output_type": "display_data"
    },
    {
     "name": "stdout",
     "output_type": "stream",
     "text": [
      "Initial Lower A-arm Points:\n",
      " [[ -17.5  519.   137. ]\n",
      " [-180.   165.    87. ]\n",
      " [ 180.   170.    87. ]]\n",
      "Final Lower A-arm Points:\n",
      " [[ -17.32889542  521.44426346  137.10088303]\n",
      " [-180.          171.92496784   62.28953821]\n",
      " [ 180.          176.90594133   61.8537595 ]]\n",
      "Initial Upper A-arm Points:\n",
      " [[   1.5  506.5  315. ]\n",
      " [-135.   240.   220. ]\n",
      " [ 180.   255.   255. ]]\n",
      "Final Upper A-arm Points:\n",
      " [[  -3.41916681  513.35843979  315.82504381]\n",
      " [-135.          258.23128398  188.24675235]\n",
      " [ 180.          276.22465545  221.80623065]]\n",
      "Initial Roll Center: [ 0.          0.         10.61696163]\n",
      "Final Roll Center: [0.         0.         0.26708243]\n"
     ]
    }
   ],
   "source": [
    "# Extract the initial and final suspension points from the results\n",
    "lower_initial = results[0, 2:11].reshape(3, 3)  # First row, lower A-arm (3x3)\n",
    "upper_initial = results[0, 11:20].reshape(3, 3)  # First row, upper A-arm (3x3)\n",
    "\n",
    "lower_final = results[-1, 2:11].reshape(3, 3)  # Last row, lower A-arm (3x3)\n",
    "upper_final = results[-1, 11:20].reshape(3, 3)  # Last row, upper A-arm (3x3)\n",
    "\n",
    "# Extract roll centers\n",
    "rc_initial = results[0, 20:23]  # Initial roll center\n",
    "rc_final = results[-1, 20:23]  # Final roll center\n",
    "\n",
    "# Create a 3D scatter plot\n",
    "fig = go.Figure()\n",
    "\n",
    "# Add initial lower A-arm points\n",
    "fig.add_trace(go.Scatter3d(\n",
    "    x=lower_initial[:, 0], y=lower_initial[:, 1], z=lower_initial[:, 2],\n",
    "    mode='markers+lines',\n",
    "    marker=dict(size=5, color='blue'),\n",
    "    name='Lower A-arm (Initial)'\n",
    "))\n",
    "\n",
    "# Add final lower A-arm points\n",
    "fig.add_trace(go.Scatter3d(\n",
    "    x=lower_final[:, 0], y=lower_final[:, 1], z=lower_final[:, 2],\n",
    "    mode='markers+lines',\n",
    "    marker=dict(size=5, color='red'),\n",
    "    name='Lower A-arm (Final)'\n",
    "))\n",
    "\n",
    "# Add initial upper A-arm points\n",
    "fig.add_trace(go.Scatter3d(\n",
    "    x=upper_initial[:, 0], y=upper_initial[:, 1], z=upper_initial[:, 2],\n",
    "    mode='markers+lines',\n",
    "    marker=dict(size=5, color='green'),\n",
    "    name='Upper A-arm (Initial)'\n",
    "))\n",
    "\n",
    "# Add final upper A-arm points\n",
    "fig.add_trace(go.Scatter3d(\n",
    "    x=upper_final[:, 0], y=upper_final[:, 1], z=upper_final[:, 2],\n",
    "    mode='markers+lines',\n",
    "    marker=dict(size=5, color='orange'),\n",
    "    name='Upper A-arm (Final)'\n",
    "))\n",
    "\n",
    "# Add roll center points\n",
    "fig.add_trace(go.Scatter3d(\n",
    "    x=[rc_initial[0], rc_final[0]],\n",
    "    y=[rc_initial[1], rc_final[1]],\n",
    "    z=[rc_initial[2], rc_final[2]],\n",
    "    mode='markers+lines',\n",
    "    marker=dict(size=8, color='purple'),\n",
    "    name='Roll Center'\n",
    "))\n",
    "\n",
    "# Configure the layout\n",
    "fig.update_layout(\n",
    "    scene=dict(\n",
    "        xaxis_title='X-axis (m)',\n",
    "        yaxis_title='Y-axis (m)',\n",
    "        zaxis_title='Z-axis (m)'\n",
    "    ),\n",
    "    title=\"3D Suspension Geometry (Initial vs. Final)\",\n",
    "    legend=dict(x=0.1, y=0.9)\n",
    ")\n",
    "\n",
    "# Show the figure\n",
    "fig.show()\n",
    "\n",
    "# Print the initial and final points\n",
    "print(\"Initial Lower A-arm Points:\\n\", lower_initial)\n",
    "print(\"Final Lower A-arm Points:\\n\", lower_final)\n",
    "\n",
    "print(\"Initial Upper A-arm Points:\\n\", upper_initial)\n",
    "print(\"Final Upper A-arm Points:\\n\", upper_final)\n",
    "\n",
    "print(\"Initial Roll Center:\", rc_initial)\n",
    "print(\"Final Roll Center:\", rc_final)"
   ]
  },
  {
   "cell_type": "code",
   "execution_count": 15,
   "metadata": {},
   "outputs": [
    {
     "data": {
      "application/vnd.plotly.v1+json": {
       "config": {
        "plotlyServerURL": "https://plot.ly"
       },
       "data": [
        {
         "marker": {
          "color": "orange"
         },
         "mode": "lines",
         "name": "Roll Centre Location, Z",
         "type": "scatter",
         "x": [
          0,
          -0.0008814794201991563,
          -0.0017629588403983126,
          -0.0026444382605974688,
          -0.003525917680796625,
          -0.004407397100995782,
          -0.0052888765211949375,
          -0.006170355941394094,
          -0.00705183536159325,
          -0.007933314781792407,
          -0.008814794201991563,
          -0.009696273622190719,
          -0.010577753042389875,
          -0.011459232462589031,
          -0.012340711882788189,
          -0.013222191302987345,
          -0.0141036707231865,
          -0.014985150143385657,
          -0.015866629563584814,
          -0.01674810898378397,
          -0.017629588403983126,
          -0.01851106782418228,
          -0.019392547244381438,
          -0.020274026664580596,
          -0.02115550608477975,
          -0.022036985504978908,
          -0.022918464925178062,
          -0.02379994434537722,
          -0.024681423765576378,
          -0.025562903185775532,
          -0.02644438260597469,
          -0.027325862026173844,
          -0.028207341446373,
          -0.02908882086657216,
          -0.029970300286771313,
          -0.03085177970697047,
          -0.03173325912716963,
          -0.03261473854736878,
          -0.03349621796756794,
          -0.034377697387767095,
          -0.03525917680796625,
          -0.03614065622816541,
          -0.03702213564836456,
          -0.03790361506856372,
          -0.038785094488762877,
          -0.039666573908962034,
          -0.04054805332916119,
          -0.04142953274936034,
          -0.0423110121695595,
          -0.04319249158975866,
          -0.044073971009957816,
          -0.044955450430156974,
          -0.045836929850356124,
          -0.04671840927055528,
          -0.04759988869075444,
          -0.0484813681109536,
          -0.049362847531152755,
          -0.050244326951351906,
          -0.051125806371551064,
          -0.05200728579175022,
          -0.05288876521194938,
          -0.05377024463214854,
          -0.05465172405234769,
          -0.055533203472546845,
          -0.056414682892746,
          -0.05729616231294516,
          -0.05817764173314432,
          -0.05905912115334347,
          -0.05994060057354263,
          -0.060822079993741784,
          -0.06170355941394094,
          -0.0625850388341401,
          -0.06346651825433926,
          -0.06434799767453842,
          -0.06522947709473756,
          -0.06611095651493672,
          -0.06699243593513587,
          -0.06787391535533503,
          -0.06875539477553419,
          -0.06963687419573335,
          -0.0705183536159325,
          -0.07139983303613166,
          -0.07228131245633082,
          -0.07316279187652998,
          -0.07404427129672912,
          -0.07492575071692828,
          -0.07580723013712744,
          -0.0766887095573266,
          -0.07757018897752575,
          -0.07845166839772491,
          -0.07933314781792407,
          -0.08021462723812323,
          -0.08109610665832238,
          -0.08197758607852154,
          -0.08285906549872069,
          -0.08374054491891984,
          -0.084622024339119,
          -0.08550350375931816,
          -0.08638498317951732,
          -0.08726646259971647
         ],
         "y": [
          10.6169616293786,
          10.486857553637716,
          10.3571763344119,
          10.227920670983119,
          10.099093136824642,
          9.970696454054128,
          9.842733277130861,
          9.715206177012345,
          9.588117972268083,
          9.461471171207393,
          9.335268800685144,
          9.209513114245526,
          9.084207023570572,
          8.95935337837938,
          8.834954772633774,
          8.711013486852444,
          8.587532962728401,
          8.464515408732542,
          8.341963782412824,
          8.219880772794783,
          8.09826928055499,
          7.977131720614661,
          7.857207995120551,
          7.73710025849245,
          7.6174787713246115,
          7.4983466332015904,
          7.379706960458391,
          7.261562598641972,
          7.143916453931177,
          7.026771311605011,
          6.910130390073993,
          6.7942059596377815,
          6.678597140001843,
          6.563501949436064,
          6.448923511893641,
          6.3348648943114485,
          6.221329131460902,
          6.1083193316475715,
          5.995838563110884,
          5.883889939917035,
          5.772476565267765,
          5.661601574475221,
          5.551268119085814,
          5.441479364884621,
          5.33223846902099,
          5.223548629359964,
          5.115413043747007,
          5.007834928640029,
          4.900817516926681,
          4.794364045658735,
          4.688477799269572,
          4.583162033839299,
          4.478420071725247,
          4.374255141480859,
          4.270670633263055,
          4.167669894721968,
          4.06525622459853,
          3.9634330239289386,
          3.8622036926007723,
          3.7615716261941006,
          3.661540195962434,
          3.5621129160847387,
          3.463293130646327,
          3.3650844177117762,
          3.2674901730020665,
          3.170513889013495,
          3.0741591367414087,
          2.978429467431212,
          2.883328405947281,
          2.788859432006027,
          2.6950261541429206,
          2.6018323544289275,
          2.5092813915370455,
          2.4173769877117453,
          2.3261228082245395,
          2.2355225543281327,
          2.1455798055627797,
          2.0562982700616272,
          1.9676817930688402,
          1.8797338743704166,
          1.7924583688785418,
          1.70585921410149,
          1.6199399044239176,
          1.5347043018226116,
          1.4501563825761856,
          1.366299653806444,
          1.2831383843243518,
          1.2006760604681739,
          1.1189166270518673,
          1.037864186101896,
          0.9575225773973538,
          0.8778954386155424,
          0.798986751101609,
          0.7208009138417522,
          0.6433415869872267,
          0.5666125281801478,
          0.49061825104519297,
          0.41536228246284274,
          0.3408491816020813,
          0.26708242825662637
         ]
        }
       ],
       "layout": {
        "legend": {
         "orientation": "h",
         "x": 0.5,
         "y": -0.2
        },
        "template": {
         "data": {
          "bar": [
           {
            "error_x": {
             "color": "#2a3f5f"
            },
            "error_y": {
             "color": "#2a3f5f"
            },
            "marker": {
             "line": {
              "color": "#E5ECF6",
              "width": 0.5
             },
             "pattern": {
              "fillmode": "overlay",
              "size": 10,
              "solidity": 0.2
             }
            },
            "type": "bar"
           }
          ],
          "barpolar": [
           {
            "marker": {
             "line": {
              "color": "#E5ECF6",
              "width": 0.5
             },
             "pattern": {
              "fillmode": "overlay",
              "size": 10,
              "solidity": 0.2
             }
            },
            "type": "barpolar"
           }
          ],
          "carpet": [
           {
            "aaxis": {
             "endlinecolor": "#2a3f5f",
             "gridcolor": "white",
             "linecolor": "white",
             "minorgridcolor": "white",
             "startlinecolor": "#2a3f5f"
            },
            "baxis": {
             "endlinecolor": "#2a3f5f",
             "gridcolor": "white",
             "linecolor": "white",
             "minorgridcolor": "white",
             "startlinecolor": "#2a3f5f"
            },
            "type": "carpet"
           }
          ],
          "choropleth": [
           {
            "colorbar": {
             "outlinewidth": 0,
             "ticks": ""
            },
            "type": "choropleth"
           }
          ],
          "contour": [
           {
            "colorbar": {
             "outlinewidth": 0,
             "ticks": ""
            },
            "colorscale": [
             [
              0,
              "#0d0887"
             ],
             [
              0.1111111111111111,
              "#46039f"
             ],
             [
              0.2222222222222222,
              "#7201a8"
             ],
             [
              0.3333333333333333,
              "#9c179e"
             ],
             [
              0.4444444444444444,
              "#bd3786"
             ],
             [
              0.5555555555555556,
              "#d8576b"
             ],
             [
              0.6666666666666666,
              "#ed7953"
             ],
             [
              0.7777777777777778,
              "#fb9f3a"
             ],
             [
              0.8888888888888888,
              "#fdca26"
             ],
             [
              1,
              "#f0f921"
             ]
            ],
            "type": "contour"
           }
          ],
          "contourcarpet": [
           {
            "colorbar": {
             "outlinewidth": 0,
             "ticks": ""
            },
            "type": "contourcarpet"
           }
          ],
          "heatmap": [
           {
            "colorbar": {
             "outlinewidth": 0,
             "ticks": ""
            },
            "colorscale": [
             [
              0,
              "#0d0887"
             ],
             [
              0.1111111111111111,
              "#46039f"
             ],
             [
              0.2222222222222222,
              "#7201a8"
             ],
             [
              0.3333333333333333,
              "#9c179e"
             ],
             [
              0.4444444444444444,
              "#bd3786"
             ],
             [
              0.5555555555555556,
              "#d8576b"
             ],
             [
              0.6666666666666666,
              "#ed7953"
             ],
             [
              0.7777777777777778,
              "#fb9f3a"
             ],
             [
              0.8888888888888888,
              "#fdca26"
             ],
             [
              1,
              "#f0f921"
             ]
            ],
            "type": "heatmap"
           }
          ],
          "heatmapgl": [
           {
            "colorbar": {
             "outlinewidth": 0,
             "ticks": ""
            },
            "colorscale": [
             [
              0,
              "#0d0887"
             ],
             [
              0.1111111111111111,
              "#46039f"
             ],
             [
              0.2222222222222222,
              "#7201a8"
             ],
             [
              0.3333333333333333,
              "#9c179e"
             ],
             [
              0.4444444444444444,
              "#bd3786"
             ],
             [
              0.5555555555555556,
              "#d8576b"
             ],
             [
              0.6666666666666666,
              "#ed7953"
             ],
             [
              0.7777777777777778,
              "#fb9f3a"
             ],
             [
              0.8888888888888888,
              "#fdca26"
             ],
             [
              1,
              "#f0f921"
             ]
            ],
            "type": "heatmapgl"
           }
          ],
          "histogram": [
           {
            "marker": {
             "pattern": {
              "fillmode": "overlay",
              "size": 10,
              "solidity": 0.2
             }
            },
            "type": "histogram"
           }
          ],
          "histogram2d": [
           {
            "colorbar": {
             "outlinewidth": 0,
             "ticks": ""
            },
            "colorscale": [
             [
              0,
              "#0d0887"
             ],
             [
              0.1111111111111111,
              "#46039f"
             ],
             [
              0.2222222222222222,
              "#7201a8"
             ],
             [
              0.3333333333333333,
              "#9c179e"
             ],
             [
              0.4444444444444444,
              "#bd3786"
             ],
             [
              0.5555555555555556,
              "#d8576b"
             ],
             [
              0.6666666666666666,
              "#ed7953"
             ],
             [
              0.7777777777777778,
              "#fb9f3a"
             ],
             [
              0.8888888888888888,
              "#fdca26"
             ],
             [
              1,
              "#f0f921"
             ]
            ],
            "type": "histogram2d"
           }
          ],
          "histogram2dcontour": [
           {
            "colorbar": {
             "outlinewidth": 0,
             "ticks": ""
            },
            "colorscale": [
             [
              0,
              "#0d0887"
             ],
             [
              0.1111111111111111,
              "#46039f"
             ],
             [
              0.2222222222222222,
              "#7201a8"
             ],
             [
              0.3333333333333333,
              "#9c179e"
             ],
             [
              0.4444444444444444,
              "#bd3786"
             ],
             [
              0.5555555555555556,
              "#d8576b"
             ],
             [
              0.6666666666666666,
              "#ed7953"
             ],
             [
              0.7777777777777778,
              "#fb9f3a"
             ],
             [
              0.8888888888888888,
              "#fdca26"
             ],
             [
              1,
              "#f0f921"
             ]
            ],
            "type": "histogram2dcontour"
           }
          ],
          "mesh3d": [
           {
            "colorbar": {
             "outlinewidth": 0,
             "ticks": ""
            },
            "type": "mesh3d"
           }
          ],
          "parcoords": [
           {
            "line": {
             "colorbar": {
              "outlinewidth": 0,
              "ticks": ""
             }
            },
            "type": "parcoords"
           }
          ],
          "pie": [
           {
            "automargin": true,
            "type": "pie"
           }
          ],
          "scatter": [
           {
            "fillpattern": {
             "fillmode": "overlay",
             "size": 10,
             "solidity": 0.2
            },
            "type": "scatter"
           }
          ],
          "scatter3d": [
           {
            "line": {
             "colorbar": {
              "outlinewidth": 0,
              "ticks": ""
             }
            },
            "marker": {
             "colorbar": {
              "outlinewidth": 0,
              "ticks": ""
             }
            },
            "type": "scatter3d"
           }
          ],
          "scattercarpet": [
           {
            "marker": {
             "colorbar": {
              "outlinewidth": 0,
              "ticks": ""
             }
            },
            "type": "scattercarpet"
           }
          ],
          "scattergeo": [
           {
            "marker": {
             "colorbar": {
              "outlinewidth": 0,
              "ticks": ""
             }
            },
            "type": "scattergeo"
           }
          ],
          "scattergl": [
           {
            "marker": {
             "colorbar": {
              "outlinewidth": 0,
              "ticks": ""
             }
            },
            "type": "scattergl"
           }
          ],
          "scattermapbox": [
           {
            "marker": {
             "colorbar": {
              "outlinewidth": 0,
              "ticks": ""
             }
            },
            "type": "scattermapbox"
           }
          ],
          "scatterpolar": [
           {
            "marker": {
             "colorbar": {
              "outlinewidth": 0,
              "ticks": ""
             }
            },
            "type": "scatterpolar"
           }
          ],
          "scatterpolargl": [
           {
            "marker": {
             "colorbar": {
              "outlinewidth": 0,
              "ticks": ""
             }
            },
            "type": "scatterpolargl"
           }
          ],
          "scatterternary": [
           {
            "marker": {
             "colorbar": {
              "outlinewidth": 0,
              "ticks": ""
             }
            },
            "type": "scatterternary"
           }
          ],
          "surface": [
           {
            "colorbar": {
             "outlinewidth": 0,
             "ticks": ""
            },
            "colorscale": [
             [
              0,
              "#0d0887"
             ],
             [
              0.1111111111111111,
              "#46039f"
             ],
             [
              0.2222222222222222,
              "#7201a8"
             ],
             [
              0.3333333333333333,
              "#9c179e"
             ],
             [
              0.4444444444444444,
              "#bd3786"
             ],
             [
              0.5555555555555556,
              "#d8576b"
             ],
             [
              0.6666666666666666,
              "#ed7953"
             ],
             [
              0.7777777777777778,
              "#fb9f3a"
             ],
             [
              0.8888888888888888,
              "#fdca26"
             ],
             [
              1,
              "#f0f921"
             ]
            ],
            "type": "surface"
           }
          ],
          "table": [
           {
            "cells": {
             "fill": {
              "color": "#EBF0F8"
             },
             "line": {
              "color": "white"
             }
            },
            "header": {
             "fill": {
              "color": "#C8D4E3"
             },
             "line": {
              "color": "white"
             }
            },
            "type": "table"
           }
          ]
         },
         "layout": {
          "annotationdefaults": {
           "arrowcolor": "#2a3f5f",
           "arrowhead": 0,
           "arrowwidth": 1
          },
          "autotypenumbers": "strict",
          "coloraxis": {
           "colorbar": {
            "outlinewidth": 0,
            "ticks": ""
           }
          },
          "colorscale": {
           "diverging": [
            [
             0,
             "#8e0152"
            ],
            [
             0.1,
             "#c51b7d"
            ],
            [
             0.2,
             "#de77ae"
            ],
            [
             0.3,
             "#f1b6da"
            ],
            [
             0.4,
             "#fde0ef"
            ],
            [
             0.5,
             "#f7f7f7"
            ],
            [
             0.6,
             "#e6f5d0"
            ],
            [
             0.7,
             "#b8e186"
            ],
            [
             0.8,
             "#7fbc41"
            ],
            [
             0.9,
             "#4d9221"
            ],
            [
             1,
             "#276419"
            ]
           ],
           "sequential": [
            [
             0,
             "#0d0887"
            ],
            [
             0.1111111111111111,
             "#46039f"
            ],
            [
             0.2222222222222222,
             "#7201a8"
            ],
            [
             0.3333333333333333,
             "#9c179e"
            ],
            [
             0.4444444444444444,
             "#bd3786"
            ],
            [
             0.5555555555555556,
             "#d8576b"
            ],
            [
             0.6666666666666666,
             "#ed7953"
            ],
            [
             0.7777777777777778,
             "#fb9f3a"
            ],
            [
             0.8888888888888888,
             "#fdca26"
            ],
            [
             1,
             "#f0f921"
            ]
           ],
           "sequentialminus": [
            [
             0,
             "#0d0887"
            ],
            [
             0.1111111111111111,
             "#46039f"
            ],
            [
             0.2222222222222222,
             "#7201a8"
            ],
            [
             0.3333333333333333,
             "#9c179e"
            ],
            [
             0.4444444444444444,
             "#bd3786"
            ],
            [
             0.5555555555555556,
             "#d8576b"
            ],
            [
             0.6666666666666666,
             "#ed7953"
            ],
            [
             0.7777777777777778,
             "#fb9f3a"
            ],
            [
             0.8888888888888888,
             "#fdca26"
            ],
            [
             1,
             "#f0f921"
            ]
           ]
          },
          "colorway": [
           "#636efa",
           "#EF553B",
           "#00cc96",
           "#ab63fa",
           "#FFA15A",
           "#19d3f3",
           "#FF6692",
           "#B6E880",
           "#FF97FF",
           "#FECB52"
          ],
          "font": {
           "color": "#2a3f5f"
          },
          "geo": {
           "bgcolor": "white",
           "lakecolor": "white",
           "landcolor": "#E5ECF6",
           "showlakes": true,
           "showland": true,
           "subunitcolor": "white"
          },
          "hoverlabel": {
           "align": "left"
          },
          "hovermode": "closest",
          "mapbox": {
           "style": "light"
          },
          "paper_bgcolor": "white",
          "plot_bgcolor": "#E5ECF6",
          "polar": {
           "angularaxis": {
            "gridcolor": "white",
            "linecolor": "white",
            "ticks": ""
           },
           "bgcolor": "#E5ECF6",
           "radialaxis": {
            "gridcolor": "white",
            "linecolor": "white",
            "ticks": ""
           }
          },
          "scene": {
           "xaxis": {
            "backgroundcolor": "#E5ECF6",
            "gridcolor": "white",
            "gridwidth": 2,
            "linecolor": "white",
            "showbackground": true,
            "ticks": "",
            "zerolinecolor": "white"
           },
           "yaxis": {
            "backgroundcolor": "#E5ECF6",
            "gridcolor": "white",
            "gridwidth": 2,
            "linecolor": "white",
            "showbackground": true,
            "ticks": "",
            "zerolinecolor": "white"
           },
           "zaxis": {
            "backgroundcolor": "#E5ECF6",
            "gridcolor": "white",
            "gridwidth": 2,
            "linecolor": "white",
            "showbackground": true,
            "ticks": "",
            "zerolinecolor": "white"
           }
          },
          "shapedefaults": {
           "line": {
            "color": "#2a3f5f"
           }
          },
          "ternary": {
           "aaxis": {
            "gridcolor": "white",
            "linecolor": "white",
            "ticks": ""
           },
           "baxis": {
            "gridcolor": "white",
            "linecolor": "white",
            "ticks": ""
           },
           "bgcolor": "#E5ECF6",
           "caxis": {
            "gridcolor": "white",
            "linecolor": "white",
            "ticks": ""
           }
          },
          "title": {
           "x": 0.05
          },
          "xaxis": {
           "automargin": true,
           "gridcolor": "white",
           "linecolor": "white",
           "ticks": "",
           "title": {
            "standoff": 15
           },
           "zerolinecolor": "white",
           "zerolinewidth": 2
          },
          "yaxis": {
           "automargin": true,
           "gridcolor": "white",
           "linecolor": "white",
           "ticks": "",
           "title": {
            "standoff": 15
           },
           "zerolinecolor": "white",
           "zerolinewidth": 2
          }
         }
        },
        "title": {
         "text": "Roll Centre Location"
        },
        "xaxis": {
         "title": {
          "text": "Roll Angle (radians)"
         }
        },
        "yaxis": {
         "tickfont": {
          "color": "orange"
         },
         "title": {
          "font": {
           "color": "orange"
          },
          "text": "RC Location, Z (m)"
         }
        }
       }
      }
     },
     "metadata": {},
     "output_type": "display_data"
    }
   ],
   "source": [
    "# Plot RC vs roll\n",
    "\n",
    "fig = go.Figure()\n",
    "\n",
    "# Add the trace for \"rc_z\"\n",
    "fig.add_trace(\n",
    "    go.Scatter(\n",
    "        x=results_df[\"roll_angle\"],\n",
    "        y=results_df[\"rc_z\"],\n",
    "        mode='lines',\n",
    "        marker=dict(color='orange'),\n",
    "        name='Roll Centre Location, Z'\n",
    "    )\n",
    ")\n",
    "\n",
    "# Update layout to add a secondary y-axis\n",
    "fig.update_layout(\n",
    "    title='Roll Centre Location',\n",
    "    xaxis=dict(title='Roll Angle (radians)'),\n",
    "    yaxis=dict(\n",
    "        title='RC Location, Z (m)',\n",
    "        titlefont=dict(color='orange'),\n",
    "        tickfont=dict(color='orange')\n",
    "    ),\n",
    "    legend=dict(x=0.5, y=-0.2, orientation='h')  # Adjust legend position if needed\n",
    ")\n",
    "\n",
    "# Show the figure\n",
    "fig.show()"
   ]
  },
  {
   "cell_type": "code",
   "execution_count": 16,
   "metadata": {},
   "outputs": [
    {
     "data": {
      "application/vnd.plotly.v1+json": {
       "config": {
        "plotlyServerURL": "https://plot.ly"
       },
       "data": [
        {
         "marker": {
          "color": "red"
         },
         "mode": "lines",
         "name": "Roll Centre Location, z",
         "type": "scatter",
         "x": [
          0,
          -0.10101010101010101,
          -0.20202020202020202,
          -0.30303030303030304,
          -0.40404040404040403,
          -0.5050505050505051,
          -0.6060606060606061,
          -0.7070707070707071,
          -0.8080808080808081,
          -0.9090909090909091,
          -1.0101010101010102,
          -1.1111111111111112,
          -1.2121212121212122,
          -1.3131313131313131,
          -1.4141414141414141,
          -1.5151515151515151,
          -1.6161616161616161,
          -1.7171717171717171,
          -1.8181818181818181,
          -1.9191919191919191,
          -2.0202020202020203,
          -2.121212121212121,
          -2.2222222222222223,
          -2.323232323232323,
          -2.4242424242424243,
          -2.525252525252525,
          -2.6262626262626263,
          -2.727272727272727,
          -2.8282828282828283,
          -2.929292929292929,
          -3.0303030303030303,
          -3.131313131313131,
          -3.2323232323232323,
          -3.3333333333333335,
          -3.4343434343434343,
          -3.5353535353535355,
          -3.6363636363636362,
          -3.7373737373737375,
          -3.8383838383838382,
          -3.9393939393939394,
          -4.040404040404041,
          -4.141414141414141,
          -4.242424242424242,
          -4.343434343434343,
          -4.444444444444445,
          -4.545454545454545,
          -4.646464646464646,
          -4.747474747474747,
          -4.848484848484849,
          -4.94949494949495,
          -5.05050505050505,
          -5.151515151515151,
          -5.252525252525253,
          -5.353535353535354,
          -5.454545454545454,
          -5.555555555555555,
          -5.656565656565657,
          -5.757575757575758,
          -5.858585858585858,
          -5.959595959595959,
          -6.0606060606060606,
          -6.161616161616162,
          -6.262626262626262,
          -6.363636363636363,
          -6.4646464646464645,
          -6.565656565656566,
          -6.666666666666667,
          -6.767676767676767,
          -6.8686868686868685,
          -6.96969696969697,
          -7.070707070707071,
          -7.171717171717171,
          -7.2727272727272725,
          -7.373737373737374,
          -7.474747474747475,
          -7.575757575757575,
          -7.6767676767676765,
          -7.777777777777778,
          -7.878787878787879,
          -7.979797979797979,
          -8.080808080808081,
          -8.181818181818182,
          -8.282828282828282,
          -8.383838383838384,
          -8.484848484848484,
          -8.585858585858587,
          -8.686868686868687,
          -8.787878787878787,
          -8.88888888888889,
          -8.98989898989899,
          -9.09090909090909,
          -9.191919191919192,
          -9.292929292929292,
          -9.393939393939394,
          -9.494949494949495,
          -9.595959595959595,
          -9.696969696969697,
          -9.797979797979798,
          -9.8989898989899,
          -10
         ],
         "y": [
          10.6169616293786,
          10.486857553637716,
          10.3571763344119,
          10.227920670983119,
          10.099093136824642,
          9.970696454054128,
          9.842733277130861,
          9.715206177012345,
          9.588117972268083,
          9.461471171207393,
          9.335268800685144,
          9.209513114245526,
          9.084207023570572,
          8.95935337837938,
          8.834954772633774,
          8.711013486852444,
          8.587532962728401,
          8.464515408732542,
          8.341963782412824,
          8.219880772794783,
          8.09826928055499,
          7.977131720614661,
          7.857207995120551,
          7.73710025849245,
          7.6174787713246115,
          7.4983466332015904,
          7.379706960458391,
          7.261562598641972,
          7.143916453931177,
          7.026771311605011,
          6.910130390073993,
          6.7942059596377815,
          6.678597140001843,
          6.563501949436064,
          6.448923511893641,
          6.3348648943114485,
          6.221329131460902,
          6.1083193316475715,
          5.995838563110884,
          5.883889939917035,
          5.772476565267765,
          5.661601574475221,
          5.551268119085814,
          5.441479364884621,
          5.33223846902099,
          5.223548629359964,
          5.115413043747007,
          5.007834928640029,
          4.900817516926681,
          4.794364045658735,
          4.688477799269572,
          4.583162033839299,
          4.478420071725247,
          4.374255141480859,
          4.270670633263055,
          4.167669894721968,
          4.06525622459853,
          3.9634330239289386,
          3.8622036926007723,
          3.7615716261941006,
          3.661540195962434,
          3.5621129160847387,
          3.463293130646327,
          3.3650844177117762,
          3.2674901730020665,
          3.170513889013495,
          3.0741591367414087,
          2.978429467431212,
          2.883328405947281,
          2.788859432006027,
          2.6950261541429206,
          2.6018323544289275,
          2.5092813915370455,
          2.4173769877117453,
          2.3261228082245395,
          2.2355225543281327,
          2.1455798055627797,
          2.0562982700616272,
          1.9676817930688402,
          1.8797338743704166,
          1.7924583688785418,
          1.70585921410149,
          1.6199399044239176,
          1.5347043018226116,
          1.4501563825761856,
          1.366299653806444,
          1.2831383843243518,
          1.2006760604681739,
          1.1189166270518673,
          1.037864186101896,
          0.9575225773973538,
          0.8778954386155424,
          0.798986751101609,
          0.7208009138417522,
          0.6433415869872267,
          0.5666125281801478,
          0.49061825104519297,
          0.41536228246284274,
          0.3408491816020813,
          0.26708242825662637
         ],
         "yaxis": "y"
        }
       ],
       "layout": {
        "legend": {
         "orientation": "h",
         "x": 0.5,
         "y": -0.2
        },
        "template": {
         "data": {
          "bar": [
           {
            "error_x": {
             "color": "#2a3f5f"
            },
            "error_y": {
             "color": "#2a3f5f"
            },
            "marker": {
             "line": {
              "color": "#E5ECF6",
              "width": 0.5
             },
             "pattern": {
              "fillmode": "overlay",
              "size": 10,
              "solidity": 0.2
             }
            },
            "type": "bar"
           }
          ],
          "barpolar": [
           {
            "marker": {
             "line": {
              "color": "#E5ECF6",
              "width": 0.5
             },
             "pattern": {
              "fillmode": "overlay",
              "size": 10,
              "solidity": 0.2
             }
            },
            "type": "barpolar"
           }
          ],
          "carpet": [
           {
            "aaxis": {
             "endlinecolor": "#2a3f5f",
             "gridcolor": "white",
             "linecolor": "white",
             "minorgridcolor": "white",
             "startlinecolor": "#2a3f5f"
            },
            "baxis": {
             "endlinecolor": "#2a3f5f",
             "gridcolor": "white",
             "linecolor": "white",
             "minorgridcolor": "white",
             "startlinecolor": "#2a3f5f"
            },
            "type": "carpet"
           }
          ],
          "choropleth": [
           {
            "colorbar": {
             "outlinewidth": 0,
             "ticks": ""
            },
            "type": "choropleth"
           }
          ],
          "contour": [
           {
            "colorbar": {
             "outlinewidth": 0,
             "ticks": ""
            },
            "colorscale": [
             [
              0,
              "#0d0887"
             ],
             [
              0.1111111111111111,
              "#46039f"
             ],
             [
              0.2222222222222222,
              "#7201a8"
             ],
             [
              0.3333333333333333,
              "#9c179e"
             ],
             [
              0.4444444444444444,
              "#bd3786"
             ],
             [
              0.5555555555555556,
              "#d8576b"
             ],
             [
              0.6666666666666666,
              "#ed7953"
             ],
             [
              0.7777777777777778,
              "#fb9f3a"
             ],
             [
              0.8888888888888888,
              "#fdca26"
             ],
             [
              1,
              "#f0f921"
             ]
            ],
            "type": "contour"
           }
          ],
          "contourcarpet": [
           {
            "colorbar": {
             "outlinewidth": 0,
             "ticks": ""
            },
            "type": "contourcarpet"
           }
          ],
          "heatmap": [
           {
            "colorbar": {
             "outlinewidth": 0,
             "ticks": ""
            },
            "colorscale": [
             [
              0,
              "#0d0887"
             ],
             [
              0.1111111111111111,
              "#46039f"
             ],
             [
              0.2222222222222222,
              "#7201a8"
             ],
             [
              0.3333333333333333,
              "#9c179e"
             ],
             [
              0.4444444444444444,
              "#bd3786"
             ],
             [
              0.5555555555555556,
              "#d8576b"
             ],
             [
              0.6666666666666666,
              "#ed7953"
             ],
             [
              0.7777777777777778,
              "#fb9f3a"
             ],
             [
              0.8888888888888888,
              "#fdca26"
             ],
             [
              1,
              "#f0f921"
             ]
            ],
            "type": "heatmap"
           }
          ],
          "heatmapgl": [
           {
            "colorbar": {
             "outlinewidth": 0,
             "ticks": ""
            },
            "colorscale": [
             [
              0,
              "#0d0887"
             ],
             [
              0.1111111111111111,
              "#46039f"
             ],
             [
              0.2222222222222222,
              "#7201a8"
             ],
             [
              0.3333333333333333,
              "#9c179e"
             ],
             [
              0.4444444444444444,
              "#bd3786"
             ],
             [
              0.5555555555555556,
              "#d8576b"
             ],
             [
              0.6666666666666666,
              "#ed7953"
             ],
             [
              0.7777777777777778,
              "#fb9f3a"
             ],
             [
              0.8888888888888888,
              "#fdca26"
             ],
             [
              1,
              "#f0f921"
             ]
            ],
            "type": "heatmapgl"
           }
          ],
          "histogram": [
           {
            "marker": {
             "pattern": {
              "fillmode": "overlay",
              "size": 10,
              "solidity": 0.2
             }
            },
            "type": "histogram"
           }
          ],
          "histogram2d": [
           {
            "colorbar": {
             "outlinewidth": 0,
             "ticks": ""
            },
            "colorscale": [
             [
              0,
              "#0d0887"
             ],
             [
              0.1111111111111111,
              "#46039f"
             ],
             [
              0.2222222222222222,
              "#7201a8"
             ],
             [
              0.3333333333333333,
              "#9c179e"
             ],
             [
              0.4444444444444444,
              "#bd3786"
             ],
             [
              0.5555555555555556,
              "#d8576b"
             ],
             [
              0.6666666666666666,
              "#ed7953"
             ],
             [
              0.7777777777777778,
              "#fb9f3a"
             ],
             [
              0.8888888888888888,
              "#fdca26"
             ],
             [
              1,
              "#f0f921"
             ]
            ],
            "type": "histogram2d"
           }
          ],
          "histogram2dcontour": [
           {
            "colorbar": {
             "outlinewidth": 0,
             "ticks": ""
            },
            "colorscale": [
             [
              0,
              "#0d0887"
             ],
             [
              0.1111111111111111,
              "#46039f"
             ],
             [
              0.2222222222222222,
              "#7201a8"
             ],
             [
              0.3333333333333333,
              "#9c179e"
             ],
             [
              0.4444444444444444,
              "#bd3786"
             ],
             [
              0.5555555555555556,
              "#d8576b"
             ],
             [
              0.6666666666666666,
              "#ed7953"
             ],
             [
              0.7777777777777778,
              "#fb9f3a"
             ],
             [
              0.8888888888888888,
              "#fdca26"
             ],
             [
              1,
              "#f0f921"
             ]
            ],
            "type": "histogram2dcontour"
           }
          ],
          "mesh3d": [
           {
            "colorbar": {
             "outlinewidth": 0,
             "ticks": ""
            },
            "type": "mesh3d"
           }
          ],
          "parcoords": [
           {
            "line": {
             "colorbar": {
              "outlinewidth": 0,
              "ticks": ""
             }
            },
            "type": "parcoords"
           }
          ],
          "pie": [
           {
            "automargin": true,
            "type": "pie"
           }
          ],
          "scatter": [
           {
            "fillpattern": {
             "fillmode": "overlay",
             "size": 10,
             "solidity": 0.2
            },
            "type": "scatter"
           }
          ],
          "scatter3d": [
           {
            "line": {
             "colorbar": {
              "outlinewidth": 0,
              "ticks": ""
             }
            },
            "marker": {
             "colorbar": {
              "outlinewidth": 0,
              "ticks": ""
             }
            },
            "type": "scatter3d"
           }
          ],
          "scattercarpet": [
           {
            "marker": {
             "colorbar": {
              "outlinewidth": 0,
              "ticks": ""
             }
            },
            "type": "scattercarpet"
           }
          ],
          "scattergeo": [
           {
            "marker": {
             "colorbar": {
              "outlinewidth": 0,
              "ticks": ""
             }
            },
            "type": "scattergeo"
           }
          ],
          "scattergl": [
           {
            "marker": {
             "colorbar": {
              "outlinewidth": 0,
              "ticks": ""
             }
            },
            "type": "scattergl"
           }
          ],
          "scattermapbox": [
           {
            "marker": {
             "colorbar": {
              "outlinewidth": 0,
              "ticks": ""
             }
            },
            "type": "scattermapbox"
           }
          ],
          "scatterpolar": [
           {
            "marker": {
             "colorbar": {
              "outlinewidth": 0,
              "ticks": ""
             }
            },
            "type": "scatterpolar"
           }
          ],
          "scatterpolargl": [
           {
            "marker": {
             "colorbar": {
              "outlinewidth": 0,
              "ticks": ""
             }
            },
            "type": "scatterpolargl"
           }
          ],
          "scatterternary": [
           {
            "marker": {
             "colorbar": {
              "outlinewidth": 0,
              "ticks": ""
             }
            },
            "type": "scatterternary"
           }
          ],
          "surface": [
           {
            "colorbar": {
             "outlinewidth": 0,
             "ticks": ""
            },
            "colorscale": [
             [
              0,
              "#0d0887"
             ],
             [
              0.1111111111111111,
              "#46039f"
             ],
             [
              0.2222222222222222,
              "#7201a8"
             ],
             [
              0.3333333333333333,
              "#9c179e"
             ],
             [
              0.4444444444444444,
              "#bd3786"
             ],
             [
              0.5555555555555556,
              "#d8576b"
             ],
             [
              0.6666666666666666,
              "#ed7953"
             ],
             [
              0.7777777777777778,
              "#fb9f3a"
             ],
             [
              0.8888888888888888,
              "#fdca26"
             ],
             [
              1,
              "#f0f921"
             ]
            ],
            "type": "surface"
           }
          ],
          "table": [
           {
            "cells": {
             "fill": {
              "color": "#EBF0F8"
             },
             "line": {
              "color": "white"
             }
            },
            "header": {
             "fill": {
              "color": "#C8D4E3"
             },
             "line": {
              "color": "white"
             }
            },
            "type": "table"
           }
          ]
         },
         "layout": {
          "annotationdefaults": {
           "arrowcolor": "#2a3f5f",
           "arrowhead": 0,
           "arrowwidth": 1
          },
          "autotypenumbers": "strict",
          "coloraxis": {
           "colorbar": {
            "outlinewidth": 0,
            "ticks": ""
           }
          },
          "colorscale": {
           "diverging": [
            [
             0,
             "#8e0152"
            ],
            [
             0.1,
             "#c51b7d"
            ],
            [
             0.2,
             "#de77ae"
            ],
            [
             0.3,
             "#f1b6da"
            ],
            [
             0.4,
             "#fde0ef"
            ],
            [
             0.5,
             "#f7f7f7"
            ],
            [
             0.6,
             "#e6f5d0"
            ],
            [
             0.7,
             "#b8e186"
            ],
            [
             0.8,
             "#7fbc41"
            ],
            [
             0.9,
             "#4d9221"
            ],
            [
             1,
             "#276419"
            ]
           ],
           "sequential": [
            [
             0,
             "#0d0887"
            ],
            [
             0.1111111111111111,
             "#46039f"
            ],
            [
             0.2222222222222222,
             "#7201a8"
            ],
            [
             0.3333333333333333,
             "#9c179e"
            ],
            [
             0.4444444444444444,
             "#bd3786"
            ],
            [
             0.5555555555555556,
             "#d8576b"
            ],
            [
             0.6666666666666666,
             "#ed7953"
            ],
            [
             0.7777777777777778,
             "#fb9f3a"
            ],
            [
             0.8888888888888888,
             "#fdca26"
            ],
            [
             1,
             "#f0f921"
            ]
           ],
           "sequentialminus": [
            [
             0,
             "#0d0887"
            ],
            [
             0.1111111111111111,
             "#46039f"
            ],
            [
             0.2222222222222222,
             "#7201a8"
            ],
            [
             0.3333333333333333,
             "#9c179e"
            ],
            [
             0.4444444444444444,
             "#bd3786"
            ],
            [
             0.5555555555555556,
             "#d8576b"
            ],
            [
             0.6666666666666666,
             "#ed7953"
            ],
            [
             0.7777777777777778,
             "#fb9f3a"
            ],
            [
             0.8888888888888888,
             "#fdca26"
            ],
            [
             1,
             "#f0f921"
            ]
           ]
          },
          "colorway": [
           "#636efa",
           "#EF553B",
           "#00cc96",
           "#ab63fa",
           "#FFA15A",
           "#19d3f3",
           "#FF6692",
           "#B6E880",
           "#FF97FF",
           "#FECB52"
          ],
          "font": {
           "color": "#2a3f5f"
          },
          "geo": {
           "bgcolor": "white",
           "lakecolor": "white",
           "landcolor": "#E5ECF6",
           "showlakes": true,
           "showland": true,
           "subunitcolor": "white"
          },
          "hoverlabel": {
           "align": "left"
          },
          "hovermode": "closest",
          "mapbox": {
           "style": "light"
          },
          "paper_bgcolor": "white",
          "plot_bgcolor": "#E5ECF6",
          "polar": {
           "angularaxis": {
            "gridcolor": "white",
            "linecolor": "white",
            "ticks": ""
           },
           "bgcolor": "#E5ECF6",
           "radialaxis": {
            "gridcolor": "white",
            "linecolor": "white",
            "ticks": ""
           }
          },
          "scene": {
           "xaxis": {
            "backgroundcolor": "#E5ECF6",
            "gridcolor": "white",
            "gridwidth": 2,
            "linecolor": "white",
            "showbackground": true,
            "ticks": "",
            "zerolinecolor": "white"
           },
           "yaxis": {
            "backgroundcolor": "#E5ECF6",
            "gridcolor": "white",
            "gridwidth": 2,
            "linecolor": "white",
            "showbackground": true,
            "ticks": "",
            "zerolinecolor": "white"
           },
           "zaxis": {
            "backgroundcolor": "#E5ECF6",
            "gridcolor": "white",
            "gridwidth": 2,
            "linecolor": "white",
            "showbackground": true,
            "ticks": "",
            "zerolinecolor": "white"
           }
          },
          "shapedefaults": {
           "line": {
            "color": "#2a3f5f"
           }
          },
          "ternary": {
           "aaxis": {
            "gridcolor": "white",
            "linecolor": "white",
            "ticks": ""
           },
           "baxis": {
            "gridcolor": "white",
            "linecolor": "white",
            "ticks": ""
           },
           "bgcolor": "#E5ECF6",
           "caxis": {
            "gridcolor": "white",
            "linecolor": "white",
            "ticks": ""
           }
          },
          "title": {
           "x": 0.05
          },
          "xaxis": {
           "automargin": true,
           "gridcolor": "white",
           "linecolor": "white",
           "ticks": "",
           "title": {
            "standoff": 15
           },
           "zerolinecolor": "white",
           "zerolinewidth": 2
          },
          "yaxis": {
           "automargin": true,
           "gridcolor": "white",
           "linecolor": "white",
           "ticks": "",
           "title": {
            "standoff": 15
           },
           "zerolinecolor": "white",
           "zerolinewidth": 2
          }
         }
        },
        "title": {
         "text": "Roll Centre Location"
        },
        "xaxis": {
         "title": {
          "text": "Jounce (m)"
         }
        },
        "yaxis": {
         "tickfont": {
          "color": "red"
         },
         "title": {
          "font": {
           "color": "red"
          },
          "text": "RC Location, Z (m)"
         }
        }
       }
      }
     },
     "metadata": {},
     "output_type": "display_data"
    }
   ],
   "source": [
    "# Plot RC vs jounce\n",
    "\n",
    "fig = go.Figure()\n",
    "\n",
    "fig.add_trace(\n",
    "    go.Scatter(\n",
    "        x=results_df[\"jounce\"],\n",
    "        y=results_df[\"rc_z\"],\n",
    "        mode='lines',\n",
    "        marker=dict(color='red'),\n",
    "        name='Roll Centre Location, z',\n",
    "        yaxis='y'  # Explicitly associate this trace with the primary y-axis\n",
    "    )\n",
    ")\n",
    "\n",
    "# Update layout to add a secondary y-axis\n",
    "fig.update_layout(\n",
    "    title='Roll Centre Location',\n",
    "    xaxis=dict(title='Jounce (m)'),\n",
    "    yaxis=dict(\n",
    "        title='RC Location, Z (m)',\n",
    "        titlefont=dict(color='red'),\n",
    "        tickfont=dict(color='red')\n",
    "    ),\n",
    "    legend=dict(x=0.5, y=-0.2, orientation='h')  # Adjust legend position if needed\n",
    ")\n",
    "\n",
    "# Show the figure\n",
    "fig.show()\n"
   ]
  },
  {
   "cell_type": "code",
   "execution_count": 39,
   "metadata": {},
   "outputs": [
    {
     "data": {
      "application/vnd.plotly.v1+json": {
       "config": {
        "plotlyServerURL": "https://plot.ly"
       },
       "data": [
        {
         "marker": {
          "color": "red"
         },
         "mode": "lines",
         "name": "lower Leading Z Heights",
         "type": "scatter",
         "x": [
          0,
          -0.0008814794201991563,
          -0.0017629588403983126,
          -0.0026444382605974688,
          -0.003525917680796625,
          -0.004407397100995782,
          -0.0052888765211949375,
          -0.006170355941394094,
          -0.00705183536159325,
          -0.007933314781792407,
          -0.008814794201991563,
          -0.009696273622190719,
          -0.010577753042389875,
          -0.011459232462589031,
          -0.012340711882788189,
          -0.013222191302987345,
          -0.0141036707231865,
          -0.014985150143385657,
          -0.015866629563584814,
          -0.01674810898378397,
          -0.017629588403983126,
          -0.01851106782418228,
          -0.019392547244381438,
          -0.020274026664580596,
          -0.02115550608477975,
          -0.022036985504978908,
          -0.022918464925178062,
          -0.02379994434537722,
          -0.024681423765576378,
          -0.025562903185775532,
          -0.02644438260597469,
          -0.027325862026173844,
          -0.028207341446373,
          -0.02908882086657216,
          -0.029970300286771313,
          -0.03085177970697047,
          -0.03173325912716963,
          -0.03261473854736878,
          -0.03349621796756794,
          -0.034377697387767095,
          -0.03525917680796625,
          -0.03614065622816541,
          -0.03702213564836456,
          -0.03790361506856372,
          -0.038785094488762877,
          -0.039666573908962034,
          -0.04054805332916119,
          -0.04142953274936034,
          -0.0423110121695595,
          -0.04319249158975866,
          -0.044073971009957816,
          -0.044955450430156974,
          -0.045836929850356124,
          -0.04671840927055528,
          -0.04759988869075444,
          -0.0484813681109536,
          -0.049362847531152755,
          -0.050244326951351906,
          -0.051125806371551064,
          -0.05200728579175022,
          -0.05288876521194938,
          -0.05377024463214854,
          -0.05465172405234769,
          -0.055533203472546845,
          -0.056414682892746,
          -0.05729616231294516,
          -0.05817764173314432,
          -0.05905912115334347,
          -0.05994060057354263,
          -0.060822079993741784,
          -0.06170355941394094,
          -0.0625850388341401,
          -0.06346651825433926,
          -0.06434799767453842,
          -0.06522947709473756,
          -0.06611095651493672,
          -0.06699243593513587,
          -0.06787391535533503,
          -0.06875539477553419,
          -0.06963687419573335,
          -0.0705183536159325,
          -0.07139983303613166,
          -0.07228131245633082,
          -0.07316279187652998,
          -0.07404427129672912,
          -0.07492575071692828,
          -0.07580723013712744,
          -0.0766887095573266,
          -0.07757018897752575,
          -0.07845166839772491,
          -0.07933314781792407,
          -0.08021462723812323,
          -0.08109610665832238,
          -0.08197758607852154,
          -0.08285906549872069,
          -0.08374054491891984,
          -0.084622024339119,
          -0.08550350375931816,
          -0.08638498317951732,
          -0.08726646259971647
         ],
         "y": [
          87,
          86.85452623946588,
          86.70899320480189,
          86.56340095444533,
          86.41774954821422,
          86.27203904731913,
          86.12626951437497,
          85.9804410134117,
          85.83455360988975,
          85.68860737070202,
          85.5426023642065,
          85.39653866020721,
          85.25041633,
          85.10423544635992,
          84.95799608356077,
          84.81169831739106,
          84.66534222517312,
          84.51892788573416,
          84.37245537948539,
          84.2259247883967,
          84.07933619595585,
          83.9326896873638,
          83.78598534921228,
          83.63922326988742,
          83.49240353937537,
          83.34552624916354,
          83.19859149262123,
          83.05159958275728,
          82.90455021837079,
          82.7574436823921,
          82.61028007524615,
          82.46305949929481,
          82.31578214955343,
          82.16844796250227,
          82.02105712513159,
          81.87360974688883,
          81.7261059390129,
          81.5785458145695,
          81.4309294884794,
          81.28325707752143,
          81.13552870034957,
          80.98774447751967,
          80.83990453150254,
          80.69200898665491,
          80.54405796930673,
          80.39605160772838,
          80.24799003214474,
          80.09987337480023,
          79.95170176987219,
          79.80347535362243,
          79.65519426428499,
          79.50685864219433,
          79.35846862967354,
          79.21002437117473,
          79.06152601323895,
          78.91297370447428,
          78.76436759564734,
          78.61570783965404,
          78.4669945915176,
          78.31822800851836,
          78.1694082499624,
          78.02053547755615,
          77.87160985506877,
          77.72263154854178,
          77.5736007263816,
          77.42451755905878,
          77.27538221937434,
          77.12619488278068,
          76.9769557264184,
          76.8276649304384,
          76.6783226766923,
          76.5289291498529,
          76.37948453694109,
          76.22998902703159,
          76.08044281215881,
          75.9308460863411,
          75.78119904616403,
          75.63150189083944,
          75.48175482197115,
          75.33195804348176,
          75.18211176205746,
          75.03221618711547,
          74.88227152990132,
          74.7322780051613,
          74.58223582942777,
          74.43214522219965,
          74.28200640595524,
          74.13181960501875,
          73.98158504693247,
          73.8313029622076,
          73.68097358305815,
          73.53059714472488,
          73.38017388666778,
          73.22970404870121,
          73.0791878752506,
          72.92862561301925,
          72.7780175105231,
          72.62736382002966,
          72.47666479813068,
          72.32592070075358
         ],
         "yaxis": "y"
        },
        {
         "marker": {
          "color": "orange"
         },
         "mode": "lines",
         "name": "Upper Leading Z Heights",
         "type": "scatter",
         "x": [
          0,
          -0.0008814794201991563,
          -0.0017629588403983126,
          -0.0026444382605974688,
          -0.003525917680796625,
          -0.004407397100995782,
          -0.0052888765211949375,
          -0.006170355941394094,
          -0.00705183536159325,
          -0.007933314781792407,
          -0.008814794201991563,
          -0.009696273622190719,
          -0.010577753042389875,
          -0.011459232462589031,
          -0.012340711882788189,
          -0.013222191302987345,
          -0.0141036707231865,
          -0.014985150143385657,
          -0.015866629563584814,
          -0.01674810898378397,
          -0.017629588403983126,
          -0.01851106782418228,
          -0.019392547244381438,
          -0.020274026664580596,
          -0.02115550608477975,
          -0.022036985504978908,
          -0.022918464925178062,
          -0.02379994434537722,
          -0.024681423765576378,
          -0.025562903185775532,
          -0.02644438260597469,
          -0.027325862026173844,
          -0.028207341446373,
          -0.02908882086657216,
          -0.029970300286771313,
          -0.03085177970697047,
          -0.03173325912716963,
          -0.03261473854736878,
          -0.03349621796756794,
          -0.034377697387767095,
          -0.03525917680796625,
          -0.03614065622816541,
          -0.03702213564836456,
          -0.03790361506856372,
          -0.038785094488762877,
          -0.039666573908962034,
          -0.04054805332916119,
          -0.04142953274936034,
          -0.0423110121695595,
          -0.04319249158975866,
          -0.044073971009957816,
          -0.044955450430156974,
          -0.045836929850356124,
          -0.04671840927055528,
          -0.04759988869075444,
          -0.0484813681109536,
          -0.049362847531152755,
          -0.050244326951351906,
          -0.051125806371551064,
          -0.05200728579175022,
          -0.05288876521194938,
          -0.05377024463214854,
          -0.05465172405234769,
          -0.055533203472546845,
          -0.056414682892746,
          -0.05729616231294516,
          -0.05817764173314432,
          -0.05905912115334347,
          -0.05994060057354263,
          -0.060822079993741784,
          -0.06170355941394094,
          -0.0625850388341401,
          -0.06346651825433926,
          -0.06434799767453842,
          -0.06522947709473756,
          -0.06611095651493672,
          -0.06699243593513587,
          -0.06787391535533503,
          -0.06875539477553419,
          -0.06963687419573335,
          -0.0705183536159325,
          -0.07139983303613166,
          -0.07228131245633082,
          -0.07316279187652998,
          -0.07404427129672912,
          -0.07492575071692828,
          -0.07580723013712744,
          -0.0766887095573266,
          -0.07757018897752575,
          -0.07845166839772491,
          -0.07933314781792407,
          -0.08021462723812323,
          -0.08109610665832238,
          -0.08197758607852154,
          -0.08285906549872069,
          -0.08374054491891984,
          -0.084622024339119,
          -0.08550350375931816,
          -0.08638498317951732,
          -0.08726646259971647
         ],
         "y": [
          220,
          219.78836362061884,
          219.57656467672948,
          219.3646032782582,
          219.15247953659227,
          218.94019356459162,
          218.72774547660075,
          218.5151353884592,
          218.3023634175171,
          218.0894296826371,
          217.87633430422682,
          217.6630774042199,
          217.44965910612171,
          217.23607953499672,
          217.02233881748782,
          216.8084370818325,
          216.5943744578818,
          216.38015107707128,
          216.16576707250016,
          215.95122257890603,
          215.73651773262378,
          215.52165267178117,
          215.30662753597613,
          215.09144246668043,
          214.8760976070453,
          214.66059310180256,
          214.44492909764529,
          214.22910596098538,
          214.01312344410414,
          213.79698188349346,
          213.58068143321884,
          213.3642222493619,
          213.14760458073678,
          212.93082841770155,
          212.71389400120344,
          212.49680149472553,
          212.27955106362145,
          212.0621428751504,
          211.84457709850562,
          211.62685390481693,
          211.40897346716827,
          211.19093596062405,
          210.97274156224228,
          210.75439045104548,
          210.53588280810808,
          210.31721881652334,
          210.0983986614175,
          209.8794225300148,
          209.66029061155092,
          209.44100309742416,
          209.22156018108345,
          209.0019620581565,
          208.78220892633766,
          208.5623009855287,
          208.34223843779836,
          208.12202148736046,
          207.9016503406655,
          207.68112520637135,
          207.46044629534092,
          207.23961382077235,
          207.01862799796731,
          206.79748904470574,
          206.576197180908,
          206.35475262884466,
          206.1331556132288,
          205.91140636091538,
          205.68950510116733,
          205.46745206597663,
          205.245247489101,
          205.02289160738587,
          204.80038465945486,
          204.57772688683013,
          204.3549185334594,
          204.13195984542136,
          203.90885107183186,
          203.68559246386775,
          203.46218427535027,
          203.23862676280413,
          203.0149201852231,
          202.79106480399676,
          202.56706088335528,
          202.34290869033674,
          202.11860849388464,
          201.8941605665198,
          201.66956518262617,
          201.44482261963094,
          201.21993315801745,
          200.9948970801916,
          200.76971467185402,
          200.54438622175078,
          200.31891202040734,
          200.09329236145254,
          199.8675275428107,
          199.64161786283708,
          199.4155636245743,
          199.18936513341916,
          198.96302269665742,
          198.73653662540258,
          198.50990723516864,
          198.28313484088142
         ],
         "yaxis": "y"
        },
        {
         "marker": {
          "color": "blue"
         },
         "mode": "lines",
         "name": "Lower Leading Y Positions",
         "type": "scatter",
         "x": [
          0,
          -0.0008814794201991563,
          -0.0017629588403983126,
          -0.0026444382605974688,
          -0.003525917680796625,
          -0.004407397100995782,
          -0.0052888765211949375,
          -0.006170355941394094,
          -0.00705183536159325,
          -0.007933314781792407,
          -0.008814794201991563,
          -0.009696273622190719,
          -0.010577753042389875,
          -0.011459232462589031,
          -0.012340711882788189,
          -0.013222191302987345,
          -0.0141036707231865,
          -0.014985150143385657,
          -0.015866629563584814,
          -0.01674810898378397,
          -0.017629588403983126,
          -0.01851106782418228,
          -0.019392547244381438,
          -0.020274026664580596,
          -0.02115550608477975,
          -0.022036985504978908,
          -0.022918464925178062,
          -0.02379994434537722,
          -0.024681423765576378,
          -0.025562903185775532,
          -0.02644438260597469,
          -0.027325862026173844,
          -0.028207341446373,
          -0.02908882086657216,
          -0.029970300286771313,
          -0.03085177970697047,
          -0.03173325912716963,
          -0.03261473854736878,
          -0.03349621796756794,
          -0.034377697387767095,
          -0.03525917680796625,
          -0.03614065622816541,
          -0.03702213564836456,
          -0.03790361506856372,
          -0.038785094488762877,
          -0.039666573908962034,
          -0.04054805332916119,
          -0.04142953274936034,
          -0.0423110121695595,
          -0.04319249158975866,
          -0.044073971009957816,
          -0.044955450430156974,
          -0.045836929850356124,
          -0.04671840927055528,
          -0.04759988869075444,
          -0.0484813681109536,
          -0.049362847531152755,
          -0.050244326951351906,
          -0.051125806371551064,
          -0.05200728579175022,
          -0.05288876521194938,
          -0.05377024463214854,
          -0.05465172405234769,
          -0.055533203472546845,
          -0.056414682892746,
          -0.05729616231294516,
          -0.05817764173314432,
          -0.05905912115334347,
          -0.05994060057354263,
          -0.060822079993741784,
          -0.06170355941394094,
          -0.0625850388341401,
          -0.06346651825433926,
          -0.06434799767453842,
          -0.06522947709473756,
          -0.06611095651493672,
          -0.06699243593513587,
          -0.06787391535533503,
          -0.06875539477553419,
          -0.06963687419573335,
          -0.0705183536159325,
          -0.07139983303613166,
          -0.07228131245633082,
          -0.07316279187652998,
          -0.07404427129672912,
          -0.07492575071692828,
          -0.07580723013712744,
          -0.0766887095573266,
          -0.07757018897752575,
          -0.07845166839772491,
          -0.07933314781792407,
          -0.08021462723812323,
          -0.08109610665832238,
          -0.08197758607852154,
          -0.08285906549872069,
          -0.08374054491891984,
          -0.084622024339119,
          -0.08550350375931816,
          -0.08638498317951732,
          -0.08726646259971647
         ],
         "y": [
          165,
          165.06726596466845,
          165.13444574921562,
          165.20153854977988,
          165.2685435571439,
          165.33545995671054,
          165.40228692851403,
          165.4690236476886,
          165.53566928312125,
          165.60222300045115,
          165.66868395630172,
          165.73505130636028,
          165.80132419708485,
          165.86750177148306,
          165.93358316722032,
          165.99956751595488,
          166.06545394255863,
          166.13124157095803,
          166.19692951445978,
          166.26251688156796,
          166.32800278183095,
          166.39338630450547,
          166.45866655642442,
          166.52384261837494,
          166.58891356891667,
          166.65387849379118,
          166.71873645134315,
          166.783468179471,
          166.84810693299067,
          166.91263567701324,
          166.97705344703408,
          167.04135925808646,
          167.10554567624203,
          167.1696239401082,
          167.23358724710098,
          167.2974345957809,
          167.36116498041594,
          167.42477738938115,
          167.48827080427176,
          167.55164420060285,
          167.61489654761397,
          167.67802680755884,
          167.74103393584886,
          167.80391688338534,
          167.8666745925869,
          167.92930599998346,
          167.9918100361864,
          168.05418562338298,
          168.1164316803136,
          168.1785471156238,
          168.240530833977,
          168.3023817307439,
          168.36409869779365,
          168.425680617819,
          168.48712636688035,
          168.54843481592587,
          168.60960482754743,
          168.6706352578917,
          168.73152495729738,
          168.79227276581358,
          168.85287752280914,
          168.91333805311262,
          168.97365318054614,
          169.03382172046526,
          169.09384247715272,
          169.1537142551798,
          169.21343585023368,
          169.27300603893104,
          169.3324236123619,
          169.39168733158348,
          169.45079597221195,
          169.50974828761744,
          169.56854302537585,
          169.62717893682662,
          169.68565474905606,
          169.7439691960368,
          169.80212100078106,
          169.86010887431698,
          169.9179315232854,
          169.97558765232543,
          170.0330759516061,
          170.09039509863334,
          170.1475437840088,
          170.2045206649447,
          170.26132441356475,
          170.31795368453513,
          170.37440711575417,
          170.430683358874,
          170.48678104316696,
          170.5426987831451,
          170.59843521128974,
          170.6539889440859,
          170.70935855350726,
          170.76454266366,
          170.81953984533507,
          170.8743486745123,
          170.92896774309662,
          170.98339561277845,
          171.03763080333655,
          171.09167190902755
         ],
         "yaxis": "y2"
        },
        {
         "marker": {
          "color": "green"
         },
         "mode": "lines",
         "name": "Upper Leading Y Positions",
         "type": "scatter",
         "x": [
          0,
          -0.0008814794201991563,
          -0.0017629588403983126,
          -0.0026444382605974688,
          -0.003525917680796625,
          -0.004407397100995782,
          -0.0052888765211949375,
          -0.006170355941394094,
          -0.00705183536159325,
          -0.007933314781792407,
          -0.008814794201991563,
          -0.009696273622190719,
          -0.010577753042389875,
          -0.011459232462589031,
          -0.012340711882788189,
          -0.013222191302987345,
          -0.0141036707231865,
          -0.014985150143385657,
          -0.015866629563584814,
          -0.01674810898378397,
          -0.017629588403983126,
          -0.01851106782418228,
          -0.019392547244381438,
          -0.020274026664580596,
          -0.02115550608477975,
          -0.022036985504978908,
          -0.022918464925178062,
          -0.02379994434537722,
          -0.024681423765576378,
          -0.025562903185775532,
          -0.02644438260597469,
          -0.027325862026173844,
          -0.028207341446373,
          -0.02908882086657216,
          -0.029970300286771313,
          -0.03085177970697047,
          -0.03173325912716963,
          -0.03261473854736878,
          -0.03349621796756794,
          -0.034377697387767095,
          -0.03525917680796625,
          -0.03614065622816541,
          -0.03702213564836456,
          -0.03790361506856372,
          -0.038785094488762877,
          -0.039666573908962034,
          -0.04054805332916119,
          -0.04142953274936034,
          -0.0423110121695595,
          -0.04319249158975866,
          -0.044073971009957816,
          -0.044955450430156974,
          -0.045836929850356124,
          -0.04671840927055528,
          -0.04759988869075444,
          -0.0484813681109536,
          -0.049362847531152755,
          -0.050244326951351906,
          -0.051125806371551064,
          -0.05200728579175022,
          -0.05288876521194938,
          -0.05377024463214854,
          -0.05465172405234769,
          -0.055533203472546845,
          -0.056414682892746,
          -0.05729616231294516,
          -0.05817764173314432,
          -0.05905912115334347,
          -0.05994060057354263,
          -0.060822079993741784,
          -0.06170355941394094,
          -0.0625850388341401,
          -0.06346651825433926,
          -0.06434799767453842,
          -0.06522947709473756,
          -0.06611095651493672,
          -0.06699243593513587,
          -0.06787391535533503,
          -0.06875539477553419,
          -0.06963687419573335,
          -0.0705183536159325,
          -0.07139983303613166,
          -0.07228131245633082,
          -0.07316279187652998,
          -0.07404427129672912,
          -0.07492575071692828,
          -0.07580723013712744,
          -0.0766887095573266,
          -0.07757018897752575,
          -0.07845166839772491,
          -0.07933314781792407,
          -0.08021462723812323,
          -0.08109610665832238,
          -0.08197758607852154,
          -0.08285906549872069,
          -0.08374054491891984,
          -0.084622024339119,
          -0.08550350375931816,
          -0.08638498317951732,
          -0.08726646259971647
         ],
         "y": [
          240,
          240.18447357465075,
          240.36880260266534,
          240.55298618915654,
          240.73702343392674,
          240.9209134314441,
          241.1046552708536,
          241.28824803644608,
          241.47169080631053,
          241.65498265533412,
          241.83812264943404,
          242.02110985363737,
          242.20394332378777,
          242.38662211232452,
          242.56914526639105,
          242.7515118271696,
          242.93372082910236,
          243.11577130573255,
          243.29766228002987,
          243.47939277020797,
          243.66096179557135,
          243.8423683551795,
          244.02361146571465,
          244.20469011786017,
          244.38560330011867,
          244.56635000822166,
          244.74692921055063,
          244.92732155508796,
          245.1075602067806,
          245.28762804091778,
          245.4675240032204,
          245.6472470189944,
          245.82678956463164,
          246.00616278910704,
          246.18535980025192,
          246.36437950708938,
          246.54322081439784,
          246.72188262111047,
          246.90036381942852,
          247.07866329552078,
          247.25677992932862,
          247.43471259385552,
          247.61246015531069,
          247.79002147544148,
          247.9673954075608,
          248.14458079914095,
          248.32157649178427,
          248.4983813187173,
          248.67499410976825,
          248.85141368471898,
          249.02763885941806,
          249.20366844046978,
          249.37950123102578,
          249.55513602511024,
          249.73057161016368,
          249.90580676856354,
          250.08084027437997,
          250.255670895287,
          250.43029739320002,
          250.60471851979383,
          250.7789330261125,
          250.95293964870916,
          251.12673712317985,
          251.3003241767038,
          251.4736995254368,
          251.646861885873,
          251.81980996567208,
          251.9925424534731,
          252.1650580524383,
          252.33735543574707,
          252.50943329118775,
          252.6812902843527,
          252.85292507509024,
          253.02433632706243,
          253.19552267972844,
          253.36648277948416,
          253.53721526181553,
          253.70771875027472,
          253.87799186407736,
          254.04803322048787,
          254.21784142235126,
          254.38741505990026,
          254.5567527365141,
          254.7258530222335,
          254.8947145020616,
          255.0633357435951,
          255.23171529771383,
          255.39985172910283,
          255.56774358011816,
          255.73538937840738,
          255.9027876696383,
          256.06993698353403,
          256.2368358053579,
          256.4034826725571,
          256.5698760693155,
          256.73601448505735,
          256.90189642518385,
          257.06752036493344,
          257.232884737685,
          257.39798805134706
         ],
         "yaxis": "y2"
        }
       ],
       "layout": {
        "legend": {
         "orientation": "h",
         "x": 0.5,
         "y": -0.2
        },
        "template": {
         "data": {
          "bar": [
           {
            "error_x": {
             "color": "#2a3f5f"
            },
            "error_y": {
             "color": "#2a3f5f"
            },
            "marker": {
             "line": {
              "color": "#E5ECF6",
              "width": 0.5
             },
             "pattern": {
              "fillmode": "overlay",
              "size": 10,
              "solidity": 0.2
             }
            },
            "type": "bar"
           }
          ],
          "barpolar": [
           {
            "marker": {
             "line": {
              "color": "#E5ECF6",
              "width": 0.5
             },
             "pattern": {
              "fillmode": "overlay",
              "size": 10,
              "solidity": 0.2
             }
            },
            "type": "barpolar"
           }
          ],
          "carpet": [
           {
            "aaxis": {
             "endlinecolor": "#2a3f5f",
             "gridcolor": "white",
             "linecolor": "white",
             "minorgridcolor": "white",
             "startlinecolor": "#2a3f5f"
            },
            "baxis": {
             "endlinecolor": "#2a3f5f",
             "gridcolor": "white",
             "linecolor": "white",
             "minorgridcolor": "white",
             "startlinecolor": "#2a3f5f"
            },
            "type": "carpet"
           }
          ],
          "choropleth": [
           {
            "colorbar": {
             "outlinewidth": 0,
             "ticks": ""
            },
            "type": "choropleth"
           }
          ],
          "contour": [
           {
            "colorbar": {
             "outlinewidth": 0,
             "ticks": ""
            },
            "colorscale": [
             [
              0,
              "#0d0887"
             ],
             [
              0.1111111111111111,
              "#46039f"
             ],
             [
              0.2222222222222222,
              "#7201a8"
             ],
             [
              0.3333333333333333,
              "#9c179e"
             ],
             [
              0.4444444444444444,
              "#bd3786"
             ],
             [
              0.5555555555555556,
              "#d8576b"
             ],
             [
              0.6666666666666666,
              "#ed7953"
             ],
             [
              0.7777777777777778,
              "#fb9f3a"
             ],
             [
              0.8888888888888888,
              "#fdca26"
             ],
             [
              1,
              "#f0f921"
             ]
            ],
            "type": "contour"
           }
          ],
          "contourcarpet": [
           {
            "colorbar": {
             "outlinewidth": 0,
             "ticks": ""
            },
            "type": "contourcarpet"
           }
          ],
          "heatmap": [
           {
            "colorbar": {
             "outlinewidth": 0,
             "ticks": ""
            },
            "colorscale": [
             [
              0,
              "#0d0887"
             ],
             [
              0.1111111111111111,
              "#46039f"
             ],
             [
              0.2222222222222222,
              "#7201a8"
             ],
             [
              0.3333333333333333,
              "#9c179e"
             ],
             [
              0.4444444444444444,
              "#bd3786"
             ],
             [
              0.5555555555555556,
              "#d8576b"
             ],
             [
              0.6666666666666666,
              "#ed7953"
             ],
             [
              0.7777777777777778,
              "#fb9f3a"
             ],
             [
              0.8888888888888888,
              "#fdca26"
             ],
             [
              1,
              "#f0f921"
             ]
            ],
            "type": "heatmap"
           }
          ],
          "heatmapgl": [
           {
            "colorbar": {
             "outlinewidth": 0,
             "ticks": ""
            },
            "colorscale": [
             [
              0,
              "#0d0887"
             ],
             [
              0.1111111111111111,
              "#46039f"
             ],
             [
              0.2222222222222222,
              "#7201a8"
             ],
             [
              0.3333333333333333,
              "#9c179e"
             ],
             [
              0.4444444444444444,
              "#bd3786"
             ],
             [
              0.5555555555555556,
              "#d8576b"
             ],
             [
              0.6666666666666666,
              "#ed7953"
             ],
             [
              0.7777777777777778,
              "#fb9f3a"
             ],
             [
              0.8888888888888888,
              "#fdca26"
             ],
             [
              1,
              "#f0f921"
             ]
            ],
            "type": "heatmapgl"
           }
          ],
          "histogram": [
           {
            "marker": {
             "pattern": {
              "fillmode": "overlay",
              "size": 10,
              "solidity": 0.2
             }
            },
            "type": "histogram"
           }
          ],
          "histogram2d": [
           {
            "colorbar": {
             "outlinewidth": 0,
             "ticks": ""
            },
            "colorscale": [
             [
              0,
              "#0d0887"
             ],
             [
              0.1111111111111111,
              "#46039f"
             ],
             [
              0.2222222222222222,
              "#7201a8"
             ],
             [
              0.3333333333333333,
              "#9c179e"
             ],
             [
              0.4444444444444444,
              "#bd3786"
             ],
             [
              0.5555555555555556,
              "#d8576b"
             ],
             [
              0.6666666666666666,
              "#ed7953"
             ],
             [
              0.7777777777777778,
              "#fb9f3a"
             ],
             [
              0.8888888888888888,
              "#fdca26"
             ],
             [
              1,
              "#f0f921"
             ]
            ],
            "type": "histogram2d"
           }
          ],
          "histogram2dcontour": [
           {
            "colorbar": {
             "outlinewidth": 0,
             "ticks": ""
            },
            "colorscale": [
             [
              0,
              "#0d0887"
             ],
             [
              0.1111111111111111,
              "#46039f"
             ],
             [
              0.2222222222222222,
              "#7201a8"
             ],
             [
              0.3333333333333333,
              "#9c179e"
             ],
             [
              0.4444444444444444,
              "#bd3786"
             ],
             [
              0.5555555555555556,
              "#d8576b"
             ],
             [
              0.6666666666666666,
              "#ed7953"
             ],
             [
              0.7777777777777778,
              "#fb9f3a"
             ],
             [
              0.8888888888888888,
              "#fdca26"
             ],
             [
              1,
              "#f0f921"
             ]
            ],
            "type": "histogram2dcontour"
           }
          ],
          "mesh3d": [
           {
            "colorbar": {
             "outlinewidth": 0,
             "ticks": ""
            },
            "type": "mesh3d"
           }
          ],
          "parcoords": [
           {
            "line": {
             "colorbar": {
              "outlinewidth": 0,
              "ticks": ""
             }
            },
            "type": "parcoords"
           }
          ],
          "pie": [
           {
            "automargin": true,
            "type": "pie"
           }
          ],
          "scatter": [
           {
            "fillpattern": {
             "fillmode": "overlay",
             "size": 10,
             "solidity": 0.2
            },
            "type": "scatter"
           }
          ],
          "scatter3d": [
           {
            "line": {
             "colorbar": {
              "outlinewidth": 0,
              "ticks": ""
             }
            },
            "marker": {
             "colorbar": {
              "outlinewidth": 0,
              "ticks": ""
             }
            },
            "type": "scatter3d"
           }
          ],
          "scattercarpet": [
           {
            "marker": {
             "colorbar": {
              "outlinewidth": 0,
              "ticks": ""
             }
            },
            "type": "scattercarpet"
           }
          ],
          "scattergeo": [
           {
            "marker": {
             "colorbar": {
              "outlinewidth": 0,
              "ticks": ""
             }
            },
            "type": "scattergeo"
           }
          ],
          "scattergl": [
           {
            "marker": {
             "colorbar": {
              "outlinewidth": 0,
              "ticks": ""
             }
            },
            "type": "scattergl"
           }
          ],
          "scattermapbox": [
           {
            "marker": {
             "colorbar": {
              "outlinewidth": 0,
              "ticks": ""
             }
            },
            "type": "scattermapbox"
           }
          ],
          "scatterpolar": [
           {
            "marker": {
             "colorbar": {
              "outlinewidth": 0,
              "ticks": ""
             }
            },
            "type": "scatterpolar"
           }
          ],
          "scatterpolargl": [
           {
            "marker": {
             "colorbar": {
              "outlinewidth": 0,
              "ticks": ""
             }
            },
            "type": "scatterpolargl"
           }
          ],
          "scatterternary": [
           {
            "marker": {
             "colorbar": {
              "outlinewidth": 0,
              "ticks": ""
             }
            },
            "type": "scatterternary"
           }
          ],
          "surface": [
           {
            "colorbar": {
             "outlinewidth": 0,
             "ticks": ""
            },
            "colorscale": [
             [
              0,
              "#0d0887"
             ],
             [
              0.1111111111111111,
              "#46039f"
             ],
             [
              0.2222222222222222,
              "#7201a8"
             ],
             [
              0.3333333333333333,
              "#9c179e"
             ],
             [
              0.4444444444444444,
              "#bd3786"
             ],
             [
              0.5555555555555556,
              "#d8576b"
             ],
             [
              0.6666666666666666,
              "#ed7953"
             ],
             [
              0.7777777777777778,
              "#fb9f3a"
             ],
             [
              0.8888888888888888,
              "#fdca26"
             ],
             [
              1,
              "#f0f921"
             ]
            ],
            "type": "surface"
           }
          ],
          "table": [
           {
            "cells": {
             "fill": {
              "color": "#EBF0F8"
             },
             "line": {
              "color": "white"
             }
            },
            "header": {
             "fill": {
              "color": "#C8D4E3"
             },
             "line": {
              "color": "white"
             }
            },
            "type": "table"
           }
          ]
         },
         "layout": {
          "annotationdefaults": {
           "arrowcolor": "#2a3f5f",
           "arrowhead": 0,
           "arrowwidth": 1
          },
          "autotypenumbers": "strict",
          "coloraxis": {
           "colorbar": {
            "outlinewidth": 0,
            "ticks": ""
           }
          },
          "colorscale": {
           "diverging": [
            [
             0,
             "#8e0152"
            ],
            [
             0.1,
             "#c51b7d"
            ],
            [
             0.2,
             "#de77ae"
            ],
            [
             0.3,
             "#f1b6da"
            ],
            [
             0.4,
             "#fde0ef"
            ],
            [
             0.5,
             "#f7f7f7"
            ],
            [
             0.6,
             "#e6f5d0"
            ],
            [
             0.7,
             "#b8e186"
            ],
            [
             0.8,
             "#7fbc41"
            ],
            [
             0.9,
             "#4d9221"
            ],
            [
             1,
             "#276419"
            ]
           ],
           "sequential": [
            [
             0,
             "#0d0887"
            ],
            [
             0.1111111111111111,
             "#46039f"
            ],
            [
             0.2222222222222222,
             "#7201a8"
            ],
            [
             0.3333333333333333,
             "#9c179e"
            ],
            [
             0.4444444444444444,
             "#bd3786"
            ],
            [
             0.5555555555555556,
             "#d8576b"
            ],
            [
             0.6666666666666666,
             "#ed7953"
            ],
            [
             0.7777777777777778,
             "#fb9f3a"
            ],
            [
             0.8888888888888888,
             "#fdca26"
            ],
            [
             1,
             "#f0f921"
            ]
           ],
           "sequentialminus": [
            [
             0,
             "#0d0887"
            ],
            [
             0.1111111111111111,
             "#46039f"
            ],
            [
             0.2222222222222222,
             "#7201a8"
            ],
            [
             0.3333333333333333,
             "#9c179e"
            ],
            [
             0.4444444444444444,
             "#bd3786"
            ],
            [
             0.5555555555555556,
             "#d8576b"
            ],
            [
             0.6666666666666666,
             "#ed7953"
            ],
            [
             0.7777777777777778,
             "#fb9f3a"
            ],
            [
             0.8888888888888888,
             "#fdca26"
            ],
            [
             1,
             "#f0f921"
            ]
           ]
          },
          "colorway": [
           "#636efa",
           "#EF553B",
           "#00cc96",
           "#ab63fa",
           "#FFA15A",
           "#19d3f3",
           "#FF6692",
           "#B6E880",
           "#FF97FF",
           "#FECB52"
          ],
          "font": {
           "color": "#2a3f5f"
          },
          "geo": {
           "bgcolor": "white",
           "lakecolor": "white",
           "landcolor": "#E5ECF6",
           "showlakes": true,
           "showland": true,
           "subunitcolor": "white"
          },
          "hoverlabel": {
           "align": "left"
          },
          "hovermode": "closest",
          "mapbox": {
           "style": "light"
          },
          "paper_bgcolor": "white",
          "plot_bgcolor": "#E5ECF6",
          "polar": {
           "angularaxis": {
            "gridcolor": "white",
            "linecolor": "white",
            "ticks": ""
           },
           "bgcolor": "#E5ECF6",
           "radialaxis": {
            "gridcolor": "white",
            "linecolor": "white",
            "ticks": ""
           }
          },
          "scene": {
           "xaxis": {
            "backgroundcolor": "#E5ECF6",
            "gridcolor": "white",
            "gridwidth": 2,
            "linecolor": "white",
            "showbackground": true,
            "ticks": "",
            "zerolinecolor": "white"
           },
           "yaxis": {
            "backgroundcolor": "#E5ECF6",
            "gridcolor": "white",
            "gridwidth": 2,
            "linecolor": "white",
            "showbackground": true,
            "ticks": "",
            "zerolinecolor": "white"
           },
           "zaxis": {
            "backgroundcolor": "#E5ECF6",
            "gridcolor": "white",
            "gridwidth": 2,
            "linecolor": "white",
            "showbackground": true,
            "ticks": "",
            "zerolinecolor": "white"
           }
          },
          "shapedefaults": {
           "line": {
            "color": "#2a3f5f"
           }
          },
          "ternary": {
           "aaxis": {
            "gridcolor": "white",
            "linecolor": "white",
            "ticks": ""
           },
           "baxis": {
            "gridcolor": "white",
            "linecolor": "white",
            "ticks": ""
           },
           "bgcolor": "#E5ECF6",
           "caxis": {
            "gridcolor": "white",
            "linecolor": "white",
            "ticks": ""
           }
          },
          "title": {
           "x": 0.05
          },
          "xaxis": {
           "automargin": true,
           "gridcolor": "white",
           "linecolor": "white",
           "ticks": "",
           "title": {
            "standoff": 15
           },
           "zerolinecolor": "white",
           "zerolinewidth": 2
          },
          "yaxis": {
           "automargin": true,
           "gridcolor": "white",
           "linecolor": "white",
           "ticks": "",
           "title": {
            "standoff": 15
           },
           "zerolinecolor": "white",
           "zerolinewidth": 2
          }
         }
        },
        "title": {
         "text": "Inner Leading Positions vs Roll"
        },
        "xaxis": {
         "title": {
          "text": "Roll Angles (degrees)"
         }
        },
        "yaxis": {
         "tickfont": {
          "color": "red"
         },
         "title": {
          "font": {
           "color": "red"
          },
          "text": "Z Heights (m)"
         }
        },
        "yaxis2": {
         "anchor": "x",
         "overlaying": "y",
         "side": "right",
         "tickfont": {
          "color": "blue"
         },
         "title": {
          "font": {
           "color": "blue"
          },
          "text": "Y Positions (m)"
         }
        }
       }
      }
     },
     "metadata": {},
     "output_type": "display_data"
    }
   ],
   "source": [
    "# Plot inner positions vs roll\n",
    "\n",
    "# Create the plot\n",
    "fig = go.Figure()\n",
    "\n",
    "# Add Z heights vs roll to the primary y-axis\n",
    "fig.add_trace(\n",
    "    go.Scatter(\n",
    "        x=results_df[\"roll_angle\"],\n",
    "        y=results_df[\"lower_inner1_z\"],\n",
    "        mode='lines',\n",
    "        marker=dict(color='red'),\n",
    "        name='lower Leading Z Heights',\n",
    "        yaxis='y'  # Primary y-axis\n",
    "    )\n",
    ")\n",
    "\n",
    "fig.add_trace(\n",
    "    go.Scatter(\n",
    "        x=results_df[\"roll_angle\"],\n",
    "        y=results_df[\"upper_inner1_z\"],\n",
    "        mode='lines',\n",
    "        marker=dict(color='orange'),\n",
    "        name='Upper Leading Z Heights',\n",
    "        yaxis='y'  # Primary y-axis\n",
    "    )\n",
    ")\n",
    "\n",
    "# Add Y positions vs roll to the secondary y-axis\n",
    "fig.add_trace(\n",
    "    go.Scatter(\n",
    "        x=results_df[\"roll_angle\"],\n",
    "        y=results_df[\"lower_inner1_y\"],\n",
    "        mode='lines',\n",
    "        marker=dict(color='blue'),\n",
    "        name='Lower Leading Y Positions',\n",
    "        yaxis='y2'  # Secondary y-axis\n",
    "    )\n",
    ")\n",
    "fig.add_trace(\n",
    "    go.Scatter(\n",
    "        x=results_df[\"roll_angle\"],\n",
    "        y=results_df[\"upper_inner1_y\"],\n",
    "        mode='lines',\n",
    "        marker=dict(color='green'),\n",
    "        name='Upper Leading Y Positions',\n",
    "        yaxis='y2'  # Secondary y-axis\n",
    "    )\n",
    ")\n",
    "\n",
    "# Update layout to add the secondary y-axis\n",
    "fig.update_layout(\n",
    "    title='Inner Leading Positions vs Roll',\n",
    "    xaxis=dict(title='Roll Angles (degrees)'),\n",
    "    yaxis=dict(\n",
    "        title='Z Heights (m)',\n",
    "        titlefont=dict(color='red'),\n",
    "        tickfont=dict(color='red')\n",
    "    ),\n",
    "    yaxis2=dict(\n",
    "        title='Y Positions (m)',\n",
    "        titlefont=dict(color='blue'),\n",
    "        tickfont=dict(color='blue'),\n",
    "        anchor='x',\n",
    "        overlaying='y',\n",
    "        side='right'\n",
    "    ),\n",
    "    legend=dict(x=0.5, y=-0.2, orientation='h')  # Adjust legend position if needed\n",
    ")\n",
    "\n",
    "# Show the figure\n",
    "fig.show()"
   ]
  },
  {
   "cell_type": "code",
   "execution_count": 17,
   "metadata": {},
   "outputs": [
    {
     "data": {
      "application/vnd.plotly.v1+json": {
       "config": {
        "plotlyServerURL": "https://plot.ly"
       },
       "data": [
        {
         "marker": {
          "color": "red"
         },
         "mode": "lines",
         "name": "KPI (°)",
         "type": "scatter",
         "x": [
          0,
          -0.0008814794201991563,
          -0.0017629588403983126,
          -0.0026444382605974688,
          -0.003525917680796625,
          -0.004407397100995782,
          -0.0052888765211949375,
          -0.006170355941394094,
          -0.00705183536159325,
          -0.007933314781792407,
          -0.008814794201991563,
          -0.009696273622190719,
          -0.010577753042389875,
          -0.011459232462589031,
          -0.012340711882788189,
          -0.013222191302987345,
          -0.0141036707231865,
          -0.014985150143385657,
          -0.015866629563584814,
          -0.01674810898378397,
          -0.017629588403983126,
          -0.01851106782418228,
          -0.019392547244381438,
          -0.020274026664580596,
          -0.02115550608477975,
          -0.022036985504978908,
          -0.022918464925178062,
          -0.02379994434537722,
          -0.024681423765576378,
          -0.025562903185775532,
          -0.02644438260597469,
          -0.027325862026173844,
          -0.028207341446373,
          -0.02908882086657216,
          -0.029970300286771313,
          -0.03085177970697047,
          -0.03173325912716963,
          -0.03261473854736878,
          -0.03349621796756794,
          -0.034377697387767095,
          -0.03525917680796625,
          -0.03614065622816541,
          -0.03702213564836456,
          -0.03790361506856372,
          -0.038785094488762877,
          -0.039666573908962034,
          -0.04054805332916119,
          -0.04142953274936034,
          -0.0423110121695595,
          -0.04319249158975866,
          -0.044073971009957816,
          -0.044955450430156974,
          -0.045836929850356124,
          -0.04671840927055528,
          -0.04759988869075444,
          -0.0484813681109536,
          -0.049362847531152755,
          -0.050244326951351906,
          -0.051125806371551064,
          -0.05200728579175022,
          -0.05288876521194938,
          -0.05377024463214854,
          -0.05465172405234769,
          -0.055533203472546845,
          -0.056414682892746,
          -0.05729616231294516,
          -0.05817764173314432,
          -0.05905912115334347,
          -0.05994060057354263,
          -0.060822079993741784,
          -0.06170355941394094,
          -0.0625850388341401,
          -0.06346651825433926,
          -0.06434799767453842,
          -0.06522947709473756,
          -0.06611095651493672,
          -0.06699243593513587,
          -0.06787391535533503,
          -0.06875539477553419,
          -0.06963687419573335,
          -0.0705183536159325,
          -0.07139983303613166,
          -0.07228131245633082,
          -0.07316279187652998,
          -0.07404427129672912,
          -0.07492575071692828,
          -0.07580723013712744,
          -0.0766887095573266,
          -0.07757018897752575,
          -0.07845166839772491,
          -0.07933314781792407,
          -0.08021462723812323,
          -0.08109610665832238,
          -0.08197758607852154,
          -0.08285906549872069,
          -0.08374054491891984,
          -0.084622024339119,
          -0.08550350375931816,
          -0.08638498317951732,
          -0.08726646259971647
         ],
         "y": [
          6.092771657336066,
          6.0748995997987745,
          6.057052264088697,
          6.039229660886511,
          6.021431836153741,
          6.003658979570707,
          5.985911121669691,
          5.968188199167897,
          5.950490674771998,
          5.932818147699034,
          5.9151709355341575,
          5.897549080845185,
          5.87995274361784,
          5.862382216623367,
          5.8448369935541065,
          5.827317461211566,
          5.809824047394171,
          5.792356522191573,
          5.774914876960718,
          5.757499230448932,
          5.740109897079184,
          5.722747053847933,
          5.705222336136844,
          5.6878914879280345,
          5.670585525245642,
          5.653305179321622,
          5.636049670769759,
          5.618819599530791,
          5.601615184928476,
          5.584435907060563,
          5.567283243130968,
          5.550222268084871,
          5.5331248566021065,
          5.516053333689375,
          5.4990077898031045,
          5.481988264419298,
          5.4649948354462685,
          5.448027578190271,
          5.431086540623168,
          5.414171821777041,
          5.3972834593950445,
          5.380421537214511,
          5.363586125717255,
          5.346777293436006,
          5.3299951180105,
          5.313239645091824,
          5.296510971500547,
          5.27980915579974,
          5.263134277134037,
          5.246486407622513,
          5.229865615593185,
          5.213271978062759,
          5.196705549382081,
          5.18016643708106,
          5.163654673856327,
          5.147170365124265,
          5.130713578715708,
          5.114284398255123,
          5.097882821227508,
          5.08150904843072,
          5.065163060861006,
          5.048844971700588,
          5.0325548533633295,
          5.016292760367292,
          5.000058791780571,
          4.983853044742178,
          4.967675558235588,
          4.95152642344975,
          4.9354056818418925,
          4.919313517524654,
          4.903249964625331,
          4.887215018623081,
          4.871208881727002,
          4.855231616916791,
          4.839283193746253,
          4.823363831174061,
          4.807473545614567,
          4.791612485869238,
          4.775780681341694,
          4.759978238525126,
          4.744205256276116,
          4.72846177483347,
          4.712747978165437,
          4.697063828657057,
          4.681409573454176,
          4.66578521843781,
          4.65019081405646,
          4.634626590744323,
          4.619092540825983,
          4.603588779023481,
          4.588115349486807,
          4.5726725602681215,
          4.557260377837496,
          4.541878719206237,
          4.526527925039828,
          4.511208287333651,
          4.495919337978402,
          4.480661815759303,
          4.46543529877045,
          4.450240157016999
         ],
         "yaxis": "y"
        },
        {
         "marker": {
          "color": "blue"
         },
         "mode": "lines",
         "name": "Caster Angle (°)",
         "type": "scatter",
         "x": [
          0,
          -0.0008814794201991563,
          -0.0017629588403983126,
          -0.0026444382605974688,
          -0.003525917680796625,
          -0.004407397100995782,
          -0.0052888765211949375,
          -0.006170355941394094,
          -0.00705183536159325,
          -0.007933314781792407,
          -0.008814794201991563,
          -0.009696273622190719,
          -0.010577753042389875,
          -0.011459232462589031,
          -0.012340711882788189,
          -0.013222191302987345,
          -0.0141036707231865,
          -0.014985150143385657,
          -0.015866629563584814,
          -0.01674810898378397,
          -0.017629588403983126,
          -0.01851106782418228,
          -0.019392547244381438,
          -0.020274026664580596,
          -0.02115550608477975,
          -0.022036985504978908,
          -0.022918464925178062,
          -0.02379994434537722,
          -0.024681423765576378,
          -0.025562903185775532,
          -0.02644438260597469,
          -0.027325862026173844,
          -0.028207341446373,
          -0.02908882086657216,
          -0.029970300286771313,
          -0.03085177970697047,
          -0.03173325912716963,
          -0.03261473854736878,
          -0.03349621796756794,
          -0.034377697387767095,
          -0.03525917680796625,
          -0.03614065622816541,
          -0.03702213564836456,
          -0.03790361506856372,
          -0.038785094488762877,
          -0.039666573908962034,
          -0.04054805332916119,
          -0.04142953274936034,
          -0.0423110121695595,
          -0.04319249158975866,
          -0.044073971009957816,
          -0.044955450430156974,
          -0.045836929850356124,
          -0.04671840927055528,
          -0.04759988869075444,
          -0.0484813681109536,
          -0.049362847531152755,
          -0.050244326951351906,
          -0.051125806371551064,
          -0.05200728579175022,
          -0.05288876521194938,
          -0.05377024463214854,
          -0.05465172405234769,
          -0.055533203472546845,
          -0.056414682892746,
          -0.05729616231294516,
          -0.05817764173314432,
          -0.05905912115334347,
          -0.05994060057354263,
          -0.060822079993741784,
          -0.06170355941394094,
          -0.0625850388341401,
          -0.06346651825433926,
          -0.06434799767453842,
          -0.06522947709473756,
          -0.06611095651493672,
          -0.06699243593513587,
          -0.06787391535533503,
          -0.06875539477553419,
          -0.06963687419573335,
          -0.0705183536159325,
          -0.07139983303613166,
          -0.07228131245633082,
          -0.07316279187652998,
          -0.07404427129672912,
          -0.07492575071692828,
          -0.07580723013712744,
          -0.0766887095573266,
          -0.07757018897752575,
          -0.07845166839772491,
          -0.07933314781792407,
          -0.08021462723812323,
          -0.08109610665832238,
          -0.08197758607852154,
          -0.08285906549872069,
          -0.08374054491891984,
          -0.084622024339119,
          -0.08550350375931816,
          -0.08638498317951732,
          -0.08726646259971647
         ],
         "y": [
          -4.016985413901961,
          -3.9960745150667676,
          -3.975285841775931,
          -3.954619671477242,
          -3.934076271343919,
          -3.9136559111181524,
          -3.8933588434123405,
          -3.873185432709908,
          -3.8531358119558337,
          -3.8332103187133524,
          -3.813409387940577,
          -3.7937330838523566,
          -3.774181741353634,
          -3.7547556690105237,
          -3.7354553227219536,
          -3.7162806845331864,
          -3.6972323487268306,
          -3.678310311814842,
          -3.6595151191367346,
          -3.640847187292968,
          -3.6223064157658142,
          -3.6038933491858645,
          -3.585656674792422,
          -3.5675057919763775,
          -3.5494841604302043,
          -3.53159192555312,
          -3.5138294067359874,
          -3.496197160046926,
          -3.4786952042421224,
          -3.461324088031708,
          -3.4440841317053583,
          -3.4268770923218193,
          -3.4098917429532425,
          -3.393038077668143,
          -3.3763164122422555,
          -3.3597271006035525,
          -3.3432704751024036,
          -3.3269468817618026,
          -3.310756662285203,
          -3.2947001661879862,
          -3.27877774828664,
          -3.2629897509761587,
          -3.2473365315237253,
          -3.2318184504630905,
          -3.2164358636623325,
          -3.201189135143246,
          -3.1860786128665395,
          -3.1711046871199198,
          -3.1562677020915526,
          -3.141568033568532,
          -3.1270060475849997,
          -3.112582127155182,
          -3.098296653221199,
          -3.0841499763591544,
          -3.070142496658692,
          -3.056274597119415,
          -3.04254664531775,
          -3.0289590386294956,
          -3.015512174648368,
          -3.002206418639961,
          -2.9890421876261604,
          -2.9760198616418645,
          -2.963139812888231,
          -2.950402499062399,
          -2.9378082764767988,
          -2.925357521099344,
          -2.913050697883671,
          -2.9008881808651847,
          -2.888870407709064,
          -2.8769977269322817,
          -2.8652705761737383,
          -2.853689428806899,
          -2.842254613984051,
          -2.830966571817102,
          -2.819825750691655,
          -2.8088325468320736,
          -2.7979873747079362,
          -2.787290685891799,
          -2.7767428877438385,
          -2.766344401390118,
          -2.7560956536979844,
          -2.7459971242266303,
          -2.7360491805691147,
          -2.7262522577738233,
          -2.716606866997503,
          -2.7071133137981325,
          -2.697772208187394,
          -2.688583853924969,
          -2.6795487246591065,
          -2.6706673377882013,
          -2.6619400534447055,
          -2.653367323642083,
          -2.64494955362359,
          -2.6366873901270886,
          -2.6285810864008443,
          -2.6206311437485033,
          -2.6128380954665724,
          -2.605202284810065,
          -2.5977243085125514,
          -2.5904044995551265
         ],
         "yaxis": "y2"
        }
       ],
       "layout": {
        "legend": {
         "orientation": "h",
         "x": 0.5,
         "y": -0.2
        },
        "template": {
         "data": {
          "bar": [
           {
            "error_x": {
             "color": "#2a3f5f"
            },
            "error_y": {
             "color": "#2a3f5f"
            },
            "marker": {
             "line": {
              "color": "#E5ECF6",
              "width": 0.5
             },
             "pattern": {
              "fillmode": "overlay",
              "size": 10,
              "solidity": 0.2
             }
            },
            "type": "bar"
           }
          ],
          "barpolar": [
           {
            "marker": {
             "line": {
              "color": "#E5ECF6",
              "width": 0.5
             },
             "pattern": {
              "fillmode": "overlay",
              "size": 10,
              "solidity": 0.2
             }
            },
            "type": "barpolar"
           }
          ],
          "carpet": [
           {
            "aaxis": {
             "endlinecolor": "#2a3f5f",
             "gridcolor": "white",
             "linecolor": "white",
             "minorgridcolor": "white",
             "startlinecolor": "#2a3f5f"
            },
            "baxis": {
             "endlinecolor": "#2a3f5f",
             "gridcolor": "white",
             "linecolor": "white",
             "minorgridcolor": "white",
             "startlinecolor": "#2a3f5f"
            },
            "type": "carpet"
           }
          ],
          "choropleth": [
           {
            "colorbar": {
             "outlinewidth": 0,
             "ticks": ""
            },
            "type": "choropleth"
           }
          ],
          "contour": [
           {
            "colorbar": {
             "outlinewidth": 0,
             "ticks": ""
            },
            "colorscale": [
             [
              0,
              "#0d0887"
             ],
             [
              0.1111111111111111,
              "#46039f"
             ],
             [
              0.2222222222222222,
              "#7201a8"
             ],
             [
              0.3333333333333333,
              "#9c179e"
             ],
             [
              0.4444444444444444,
              "#bd3786"
             ],
             [
              0.5555555555555556,
              "#d8576b"
             ],
             [
              0.6666666666666666,
              "#ed7953"
             ],
             [
              0.7777777777777778,
              "#fb9f3a"
             ],
             [
              0.8888888888888888,
              "#fdca26"
             ],
             [
              1,
              "#f0f921"
             ]
            ],
            "type": "contour"
           }
          ],
          "contourcarpet": [
           {
            "colorbar": {
             "outlinewidth": 0,
             "ticks": ""
            },
            "type": "contourcarpet"
           }
          ],
          "heatmap": [
           {
            "colorbar": {
             "outlinewidth": 0,
             "ticks": ""
            },
            "colorscale": [
             [
              0,
              "#0d0887"
             ],
             [
              0.1111111111111111,
              "#46039f"
             ],
             [
              0.2222222222222222,
              "#7201a8"
             ],
             [
              0.3333333333333333,
              "#9c179e"
             ],
             [
              0.4444444444444444,
              "#bd3786"
             ],
             [
              0.5555555555555556,
              "#d8576b"
             ],
             [
              0.6666666666666666,
              "#ed7953"
             ],
             [
              0.7777777777777778,
              "#fb9f3a"
             ],
             [
              0.8888888888888888,
              "#fdca26"
             ],
             [
              1,
              "#f0f921"
             ]
            ],
            "type": "heatmap"
           }
          ],
          "heatmapgl": [
           {
            "colorbar": {
             "outlinewidth": 0,
             "ticks": ""
            },
            "colorscale": [
             [
              0,
              "#0d0887"
             ],
             [
              0.1111111111111111,
              "#46039f"
             ],
             [
              0.2222222222222222,
              "#7201a8"
             ],
             [
              0.3333333333333333,
              "#9c179e"
             ],
             [
              0.4444444444444444,
              "#bd3786"
             ],
             [
              0.5555555555555556,
              "#d8576b"
             ],
             [
              0.6666666666666666,
              "#ed7953"
             ],
             [
              0.7777777777777778,
              "#fb9f3a"
             ],
             [
              0.8888888888888888,
              "#fdca26"
             ],
             [
              1,
              "#f0f921"
             ]
            ],
            "type": "heatmapgl"
           }
          ],
          "histogram": [
           {
            "marker": {
             "pattern": {
              "fillmode": "overlay",
              "size": 10,
              "solidity": 0.2
             }
            },
            "type": "histogram"
           }
          ],
          "histogram2d": [
           {
            "colorbar": {
             "outlinewidth": 0,
             "ticks": ""
            },
            "colorscale": [
             [
              0,
              "#0d0887"
             ],
             [
              0.1111111111111111,
              "#46039f"
             ],
             [
              0.2222222222222222,
              "#7201a8"
             ],
             [
              0.3333333333333333,
              "#9c179e"
             ],
             [
              0.4444444444444444,
              "#bd3786"
             ],
             [
              0.5555555555555556,
              "#d8576b"
             ],
             [
              0.6666666666666666,
              "#ed7953"
             ],
             [
              0.7777777777777778,
              "#fb9f3a"
             ],
             [
              0.8888888888888888,
              "#fdca26"
             ],
             [
              1,
              "#f0f921"
             ]
            ],
            "type": "histogram2d"
           }
          ],
          "histogram2dcontour": [
           {
            "colorbar": {
             "outlinewidth": 0,
             "ticks": ""
            },
            "colorscale": [
             [
              0,
              "#0d0887"
             ],
             [
              0.1111111111111111,
              "#46039f"
             ],
             [
              0.2222222222222222,
              "#7201a8"
             ],
             [
              0.3333333333333333,
              "#9c179e"
             ],
             [
              0.4444444444444444,
              "#bd3786"
             ],
             [
              0.5555555555555556,
              "#d8576b"
             ],
             [
              0.6666666666666666,
              "#ed7953"
             ],
             [
              0.7777777777777778,
              "#fb9f3a"
             ],
             [
              0.8888888888888888,
              "#fdca26"
             ],
             [
              1,
              "#f0f921"
             ]
            ],
            "type": "histogram2dcontour"
           }
          ],
          "mesh3d": [
           {
            "colorbar": {
             "outlinewidth": 0,
             "ticks": ""
            },
            "type": "mesh3d"
           }
          ],
          "parcoords": [
           {
            "line": {
             "colorbar": {
              "outlinewidth": 0,
              "ticks": ""
             }
            },
            "type": "parcoords"
           }
          ],
          "pie": [
           {
            "automargin": true,
            "type": "pie"
           }
          ],
          "scatter": [
           {
            "fillpattern": {
             "fillmode": "overlay",
             "size": 10,
             "solidity": 0.2
            },
            "type": "scatter"
           }
          ],
          "scatter3d": [
           {
            "line": {
             "colorbar": {
              "outlinewidth": 0,
              "ticks": ""
             }
            },
            "marker": {
             "colorbar": {
              "outlinewidth": 0,
              "ticks": ""
             }
            },
            "type": "scatter3d"
           }
          ],
          "scattercarpet": [
           {
            "marker": {
             "colorbar": {
              "outlinewidth": 0,
              "ticks": ""
             }
            },
            "type": "scattercarpet"
           }
          ],
          "scattergeo": [
           {
            "marker": {
             "colorbar": {
              "outlinewidth": 0,
              "ticks": ""
             }
            },
            "type": "scattergeo"
           }
          ],
          "scattergl": [
           {
            "marker": {
             "colorbar": {
              "outlinewidth": 0,
              "ticks": ""
             }
            },
            "type": "scattergl"
           }
          ],
          "scattermapbox": [
           {
            "marker": {
             "colorbar": {
              "outlinewidth": 0,
              "ticks": ""
             }
            },
            "type": "scattermapbox"
           }
          ],
          "scatterpolar": [
           {
            "marker": {
             "colorbar": {
              "outlinewidth": 0,
              "ticks": ""
             }
            },
            "type": "scatterpolar"
           }
          ],
          "scatterpolargl": [
           {
            "marker": {
             "colorbar": {
              "outlinewidth": 0,
              "ticks": ""
             }
            },
            "type": "scatterpolargl"
           }
          ],
          "scatterternary": [
           {
            "marker": {
             "colorbar": {
              "outlinewidth": 0,
              "ticks": ""
             }
            },
            "type": "scatterternary"
           }
          ],
          "surface": [
           {
            "colorbar": {
             "outlinewidth": 0,
             "ticks": ""
            },
            "colorscale": [
             [
              0,
              "#0d0887"
             ],
             [
              0.1111111111111111,
              "#46039f"
             ],
             [
              0.2222222222222222,
              "#7201a8"
             ],
             [
              0.3333333333333333,
              "#9c179e"
             ],
             [
              0.4444444444444444,
              "#bd3786"
             ],
             [
              0.5555555555555556,
              "#d8576b"
             ],
             [
              0.6666666666666666,
              "#ed7953"
             ],
             [
              0.7777777777777778,
              "#fb9f3a"
             ],
             [
              0.8888888888888888,
              "#fdca26"
             ],
             [
              1,
              "#f0f921"
             ]
            ],
            "type": "surface"
           }
          ],
          "table": [
           {
            "cells": {
             "fill": {
              "color": "#EBF0F8"
             },
             "line": {
              "color": "white"
             }
            },
            "header": {
             "fill": {
              "color": "#C8D4E3"
             },
             "line": {
              "color": "white"
             }
            },
            "type": "table"
           }
          ]
         },
         "layout": {
          "annotationdefaults": {
           "arrowcolor": "#2a3f5f",
           "arrowhead": 0,
           "arrowwidth": 1
          },
          "autotypenumbers": "strict",
          "coloraxis": {
           "colorbar": {
            "outlinewidth": 0,
            "ticks": ""
           }
          },
          "colorscale": {
           "diverging": [
            [
             0,
             "#8e0152"
            ],
            [
             0.1,
             "#c51b7d"
            ],
            [
             0.2,
             "#de77ae"
            ],
            [
             0.3,
             "#f1b6da"
            ],
            [
             0.4,
             "#fde0ef"
            ],
            [
             0.5,
             "#f7f7f7"
            ],
            [
             0.6,
             "#e6f5d0"
            ],
            [
             0.7,
             "#b8e186"
            ],
            [
             0.8,
             "#7fbc41"
            ],
            [
             0.9,
             "#4d9221"
            ],
            [
             1,
             "#276419"
            ]
           ],
           "sequential": [
            [
             0,
             "#0d0887"
            ],
            [
             0.1111111111111111,
             "#46039f"
            ],
            [
             0.2222222222222222,
             "#7201a8"
            ],
            [
             0.3333333333333333,
             "#9c179e"
            ],
            [
             0.4444444444444444,
             "#bd3786"
            ],
            [
             0.5555555555555556,
             "#d8576b"
            ],
            [
             0.6666666666666666,
             "#ed7953"
            ],
            [
             0.7777777777777778,
             "#fb9f3a"
            ],
            [
             0.8888888888888888,
             "#fdca26"
            ],
            [
             1,
             "#f0f921"
            ]
           ],
           "sequentialminus": [
            [
             0,
             "#0d0887"
            ],
            [
             0.1111111111111111,
             "#46039f"
            ],
            [
             0.2222222222222222,
             "#7201a8"
            ],
            [
             0.3333333333333333,
             "#9c179e"
            ],
            [
             0.4444444444444444,
             "#bd3786"
            ],
            [
             0.5555555555555556,
             "#d8576b"
            ],
            [
             0.6666666666666666,
             "#ed7953"
            ],
            [
             0.7777777777777778,
             "#fb9f3a"
            ],
            [
             0.8888888888888888,
             "#fdca26"
            ],
            [
             1,
             "#f0f921"
            ]
           ]
          },
          "colorway": [
           "#636efa",
           "#EF553B",
           "#00cc96",
           "#ab63fa",
           "#FFA15A",
           "#19d3f3",
           "#FF6692",
           "#B6E880",
           "#FF97FF",
           "#FECB52"
          ],
          "font": {
           "color": "#2a3f5f"
          },
          "geo": {
           "bgcolor": "white",
           "lakecolor": "white",
           "landcolor": "#E5ECF6",
           "showlakes": true,
           "showland": true,
           "subunitcolor": "white"
          },
          "hoverlabel": {
           "align": "left"
          },
          "hovermode": "closest",
          "mapbox": {
           "style": "light"
          },
          "paper_bgcolor": "white",
          "plot_bgcolor": "#E5ECF6",
          "polar": {
           "angularaxis": {
            "gridcolor": "white",
            "linecolor": "white",
            "ticks": ""
           },
           "bgcolor": "#E5ECF6",
           "radialaxis": {
            "gridcolor": "white",
            "linecolor": "white",
            "ticks": ""
           }
          },
          "scene": {
           "xaxis": {
            "backgroundcolor": "#E5ECF6",
            "gridcolor": "white",
            "gridwidth": 2,
            "linecolor": "white",
            "showbackground": true,
            "ticks": "",
            "zerolinecolor": "white"
           },
           "yaxis": {
            "backgroundcolor": "#E5ECF6",
            "gridcolor": "white",
            "gridwidth": 2,
            "linecolor": "white",
            "showbackground": true,
            "ticks": "",
            "zerolinecolor": "white"
           },
           "zaxis": {
            "backgroundcolor": "#E5ECF6",
            "gridcolor": "white",
            "gridwidth": 2,
            "linecolor": "white",
            "showbackground": true,
            "ticks": "",
            "zerolinecolor": "white"
           }
          },
          "shapedefaults": {
           "line": {
            "color": "#2a3f5f"
           }
          },
          "ternary": {
           "aaxis": {
            "gridcolor": "white",
            "linecolor": "white",
            "ticks": ""
           },
           "baxis": {
            "gridcolor": "white",
            "linecolor": "white",
            "ticks": ""
           },
           "bgcolor": "#E5ECF6",
           "caxis": {
            "gridcolor": "white",
            "linecolor": "white",
            "ticks": ""
           }
          },
          "title": {
           "x": 0.05
          },
          "xaxis": {
           "automargin": true,
           "gridcolor": "white",
           "linecolor": "white",
           "ticks": "",
           "title": {
            "standoff": 15
           },
           "zerolinecolor": "white",
           "zerolinewidth": 2
          },
          "yaxis": {
           "automargin": true,
           "gridcolor": "white",
           "linecolor": "white",
           "ticks": "",
           "title": {
            "standoff": 15
           },
           "zerolinecolor": "white",
           "zerolinewidth": 2
          }
         }
        },
        "title": {
         "text": "Inner Leading Positions vs Roll"
        },
        "xaxis": {
         "title": {
          "text": "Roll Angles (degrees)"
         }
        },
        "yaxis": {
         "tickfont": {
          "color": "red"
         },
         "title": {
          "font": {
           "color": "red"
          },
          "text": "KPI [°]"
         }
        },
        "yaxis2": {
         "anchor": "x",
         "overlaying": "y",
         "side": "right",
         "tickfont": {
          "color": "blue"
         },
         "title": {
          "font": {
           "color": "blue"
          },
          "text": "Caster angle [°]"
         }
        }
       }
      }
     },
     "metadata": {},
     "output_type": "display_data"
    }
   ],
   "source": [
    "# Plot KPI/Caster vs roll\n",
    "\n",
    "# Create the plot\n",
    "fig = go.Figure()\n",
    "\n",
    "# Add king pin incl\n",
    "fig.add_trace(\n",
    "    go.Scatter(\n",
    "        x=results_df[\"roll_angle\"],\n",
    "        y=results_df[\"kingpin_inclination_deg\"],\n",
    "        mode='lines',\n",
    "        marker=dict(color='red'),\n",
    "        name='KPI (°)',\n",
    "        yaxis='y'  # Primary y-axis\n",
    "    )\n",
    ")\n",
    "\n",
    "# Add caster angle \n",
    "fig.add_trace(\n",
    "    go.Scatter(\n",
    "        x=results_df[\"roll_angle\"],\n",
    "        y=results_df[\"camber_angle_deg\"],\n",
    "        mode='lines',\n",
    "        marker=dict(color='blue'),\n",
    "        name='Caster Angle (°)',\n",
    "        yaxis='y2'  # Secondary y-axis\n",
    "    )\n",
    ")\n",
    "\n",
    "# Update layout to add the secondary y-axis\n",
    "fig.update_layout(\n",
    "    title='Inner Leading Positions vs Roll',\n",
    "    xaxis=dict(title='Roll Angles (degrees)'),\n",
    "    yaxis=dict(\n",
    "        title='KPI [°]',\n",
    "        titlefont=dict(color='red'),\n",
    "        tickfont=dict(color='red')\n",
    "    ),\n",
    "    yaxis2=dict(\n",
    "        title='Caster angle [°]',\n",
    "        titlefont=dict(color='blue'),\n",
    "        tickfont=dict(color='blue'),\n",
    "        anchor='x',\n",
    "        overlaying='y',\n",
    "        side='right'\n",
    "    ),\n",
    "    legend=dict(x=0.5, y=-0.2, orientation='h')  # Adjust legend position if needed\n",
    ")\n",
    "\n",
    "# Show the figure\n",
    "fig.show()"
   ]
  },
  {
   "cell_type": "code",
   "execution_count": 35,
   "metadata": {},
   "outputs": [
    {
     "data": {
      "application/vnd.plotly.v1+json": {
       "config": {
        "plotlyServerURL": "https://plot.ly"
       },
       "data": [
        {
         "marker": {
          "color": "red"
         },
         "mode": "lines",
         "name": "lower Leading Z Heights",
         "type": "scatter",
         "x": [
          0,
          0,
          0,
          0,
          0,
          0,
          0,
          0,
          0,
          0,
          0,
          0,
          0,
          0,
          0,
          0,
          0,
          0,
          0,
          0,
          0,
          0,
          0,
          0,
          0,
          0,
          0,
          0,
          0,
          0,
          0,
          0,
          0,
          0,
          0,
          0,
          0,
          0,
          0,
          0,
          0,
          0,
          0,
          0,
          0,
          0,
          0,
          0,
          0,
          0,
          0,
          0,
          0,
          0,
          0,
          0,
          0,
          0,
          0,
          0,
          0,
          0,
          0,
          0,
          0,
          0,
          0,
          0,
          0,
          0,
          0,
          0,
          0,
          0,
          0,
          0,
          0,
          0,
          0,
          0,
          0,
          0,
          0,
          0,
          0,
          0,
          0,
          0,
          0,
          0,
          0,
          0,
          0,
          0,
          0,
          0,
          0,
          0,
          0,
          0
         ],
         "y": [
          6.092771657336066,
          6.078035442474752,
          6.063316813236612,
          6.048615971767488,
          6.033932815017543,
          6.01926740223254,
          6.004619914271666,
          5.989990294097992,
          5.975378755301556,
          5.960784887063298,
          5.946209448440054,
          5.93165200934632,
          5.917112604226876,
          5.902591610344536,
          5.8880890216064135,
          5.873604296277778,
          5.859138493334995,
          5.844691132864329,
          5.830262333933122,
          5.815851740989272,
          5.801460595352765,
          5.787087626491228,
          5.772733774425735,
          5.758398578138564,
          5.744082848170114,
          5.729786025114286,
          5.71530742496131,
          5.701027662001839,
          5.686765775151939,
          5.67252251827886,
          5.658296894780796,
          5.644157243468985,
          5.629971942736872,
          5.615804786728038,
          5.601655813202621,
          5.587525049954827,
          5.5734125219737916,
          5.5593182660896385,
          5.545242305331369,
          5.531184673067062,
          5.517145385895845,
          5.503124490173447,
          5.489122003896391,
          5.475137965969649,
          5.461172407775577,
          5.4472253669976665,
          5.433296838167057,
          5.4193868974600266,
          5.4054955377566705,
          5.391622827808958,
          5.377768761356369,
          5.363933398856655,
          5.3501167650362715,
          5.336318893441565,
          5.322539811083283,
          5.308779546921078,
          5.2950381357051155,
          5.281315613347586,
          5.267612017408029,
          5.253927394364069,
          5.240261750300711,
          5.226615136551496,
          5.2129875914277255,
          5.199379138520392,
          5.185789814363524,
          5.172219684027814,
          5.158668722357205,
          5.145137047348698,
          5.1316245824664275,
          5.118131525388295,
          5.104657787528177,
          5.091203443376614,
          5.077768516301433,
          5.064353120228339,
          5.050957217307287,
          5.037580872163147,
          5.02422414061729,
          5.010887082723618,
          4.997569681259423,
          4.984272000777772,
          4.970994137147479,
          4.957736117188344,
          4.944497904064683,
          4.9312796872505205,
          4.918081439970443,
          4.904903167691269,
          4.89174502029038,
          4.878606921968498,
          4.865489091567957,
          4.852391485030719,
          4.839314215264501,
          4.826257194797944,
          4.813220622836777,
          4.800204619015048,
          4.787208875784654,
          4.774234001319006,
          4.761279635322587,
          4.748345981539532,
          4.73543318369509,
          4.722541289315089
         ],
         "yaxis": "y"
        },
        {
         "marker": {
          "color": "blue"
         },
         "mode": "lines",
         "name": "Lower Leading Y Positions",
         "type": "scatter",
         "x": [
          0,
          0,
          0,
          0,
          0,
          0,
          0,
          0,
          0,
          0,
          0,
          0,
          0,
          0,
          0,
          0,
          0,
          0,
          0,
          0,
          0,
          0,
          0,
          0,
          0,
          0,
          0,
          0,
          0,
          0,
          0,
          0,
          0,
          0,
          0,
          0,
          0,
          0,
          0,
          0,
          0,
          0,
          0,
          0,
          0,
          0,
          0,
          0,
          0,
          0,
          0,
          0,
          0,
          0,
          0,
          0,
          0,
          0,
          0,
          0,
          0,
          0,
          0,
          0,
          0,
          0,
          0,
          0,
          0,
          0,
          0,
          0,
          0,
          0,
          0,
          0,
          0,
          0,
          0,
          0,
          0,
          0,
          0,
          0,
          0,
          0,
          0,
          0,
          0,
          0,
          0,
          0,
          0,
          0,
          0,
          0,
          0,
          0,
          0,
          0
         ],
         "y": [
          -4.016985413901961,
          -3.990759589017791,
          -3.964615937645116,
          -3.938554586898244,
          -3.9125756945132006,
          -3.8866794090750174,
          -3.86086587872327,
          -3.835135209121224,
          -3.809487589537958,
          -3.7839232271002294,
          -3.7584420741041136,
          -3.733044455477014,
          -3.7077304704482947,
          -3.682500252606971,
          -3.657353967622436,
          -3.6322918946432963,
          -3.607313959277593,
          -3.58242038362635,
          -3.5576113958216986,
          -3.5328871890792954,
          -3.5082477221102613,
          -3.4836934285461902,
          -3.459224333233705,
          -3.4348406845543398,
          -3.4105423290175625,
          -3.3863298694884785,
          -3.3622505966889995,
          -3.3382153113386033,
          -3.314266614735813,
          -3.2904045376251054,
          -3.2666293618507147,
          -3.242838389173433,
          -3.2192287663104073,
          -3.195706137144168,
          -3.1722706507048657,
          -3.1489224854135327,
          -3.1256618085384744,
          -3.1024887929075855,
          -3.079403616580717,
          -3.0564064469882153,
          -3.0334974630843003,
          -3.0106768462056386,
          -2.987944764140733,
          -2.9653013974523725,
          -2.942746926969239,
          -2.9202815256866783,
          -2.897905385837629,
          -2.8756186759312317,
          -2.8534215876566416,
          -2.8313142866388947,
          -2.8092969806974515,
          -2.7873698355113614,
          -2.7655330363112625,
          -2.743786787705794,
          -2.7221312462138303,
          -2.7005666211893042,
          -2.6790931010044567,
          -2.657710855677351,
          -2.6364200920452046,
          -2.6152209776709823,
          -2.594113727413084,
          -2.5730985215511453,
          -2.552175547867214,
          -2.5313450166333076,
          -2.5106070981466515,
          -2.4899619750604316,
          -2.4694099028057868,
          -2.4489509934235993,
          -2.4285855103614784,
          -2.40831359405666,
          -2.388135480601823,
          -2.3680513565871,
          -2.3480614033341536,
          -2.3281658365877473,
          -2.308364847202261,
          -2.2886586160485294,
          -2.269047372266866,
          -2.2495312989728853,
          -2.230110574924368,
          -2.210785454335341,
          -2.1915560978777413,
          -2.172422658782947,
          -2.1533854470368943,
          -2.1344445491698214,
          -2.115600241642979,
          -2.0968527197984166,
          -2.0782021645287845,
          -2.0596487781336217,
          -2.0411927548538973,
          -2.0228343181770256,
          -2.00457361528594,
          -1.9864109208333993,
          -1.9683464231570276,
          -1.9503802343755374,
          -1.9325127241396123,
          -1.9147439491724667,
          -1.8970741186545117,
          -1.879503612675251,
          -1.8620323649750132,
          -1.8446606969118862
         ],
         "yaxis": "y2"
        }
       ],
       "layout": {
        "legend": {
         "orientation": "h",
         "x": 0.5,
         "y": -0.2
        },
        "template": {
         "data": {
          "bar": [
           {
            "error_x": {
             "color": "#2a3f5f"
            },
            "error_y": {
             "color": "#2a3f5f"
            },
            "marker": {
             "line": {
              "color": "#E5ECF6",
              "width": 0.5
             },
             "pattern": {
              "fillmode": "overlay",
              "size": 10,
              "solidity": 0.2
             }
            },
            "type": "bar"
           }
          ],
          "barpolar": [
           {
            "marker": {
             "line": {
              "color": "#E5ECF6",
              "width": 0.5
             },
             "pattern": {
              "fillmode": "overlay",
              "size": 10,
              "solidity": 0.2
             }
            },
            "type": "barpolar"
           }
          ],
          "carpet": [
           {
            "aaxis": {
             "endlinecolor": "#2a3f5f",
             "gridcolor": "white",
             "linecolor": "white",
             "minorgridcolor": "white",
             "startlinecolor": "#2a3f5f"
            },
            "baxis": {
             "endlinecolor": "#2a3f5f",
             "gridcolor": "white",
             "linecolor": "white",
             "minorgridcolor": "white",
             "startlinecolor": "#2a3f5f"
            },
            "type": "carpet"
           }
          ],
          "choropleth": [
           {
            "colorbar": {
             "outlinewidth": 0,
             "ticks": ""
            },
            "type": "choropleth"
           }
          ],
          "contour": [
           {
            "colorbar": {
             "outlinewidth": 0,
             "ticks": ""
            },
            "colorscale": [
             [
              0,
              "#0d0887"
             ],
             [
              0.1111111111111111,
              "#46039f"
             ],
             [
              0.2222222222222222,
              "#7201a8"
             ],
             [
              0.3333333333333333,
              "#9c179e"
             ],
             [
              0.4444444444444444,
              "#bd3786"
             ],
             [
              0.5555555555555556,
              "#d8576b"
             ],
             [
              0.6666666666666666,
              "#ed7953"
             ],
             [
              0.7777777777777778,
              "#fb9f3a"
             ],
             [
              0.8888888888888888,
              "#fdca26"
             ],
             [
              1,
              "#f0f921"
             ]
            ],
            "type": "contour"
           }
          ],
          "contourcarpet": [
           {
            "colorbar": {
             "outlinewidth": 0,
             "ticks": ""
            },
            "type": "contourcarpet"
           }
          ],
          "heatmap": [
           {
            "colorbar": {
             "outlinewidth": 0,
             "ticks": ""
            },
            "colorscale": [
             [
              0,
              "#0d0887"
             ],
             [
              0.1111111111111111,
              "#46039f"
             ],
             [
              0.2222222222222222,
              "#7201a8"
             ],
             [
              0.3333333333333333,
              "#9c179e"
             ],
             [
              0.4444444444444444,
              "#bd3786"
             ],
             [
              0.5555555555555556,
              "#d8576b"
             ],
             [
              0.6666666666666666,
              "#ed7953"
             ],
             [
              0.7777777777777778,
              "#fb9f3a"
             ],
             [
              0.8888888888888888,
              "#fdca26"
             ],
             [
              1,
              "#f0f921"
             ]
            ],
            "type": "heatmap"
           }
          ],
          "heatmapgl": [
           {
            "colorbar": {
             "outlinewidth": 0,
             "ticks": ""
            },
            "colorscale": [
             [
              0,
              "#0d0887"
             ],
             [
              0.1111111111111111,
              "#46039f"
             ],
             [
              0.2222222222222222,
              "#7201a8"
             ],
             [
              0.3333333333333333,
              "#9c179e"
             ],
             [
              0.4444444444444444,
              "#bd3786"
             ],
             [
              0.5555555555555556,
              "#d8576b"
             ],
             [
              0.6666666666666666,
              "#ed7953"
             ],
             [
              0.7777777777777778,
              "#fb9f3a"
             ],
             [
              0.8888888888888888,
              "#fdca26"
             ],
             [
              1,
              "#f0f921"
             ]
            ],
            "type": "heatmapgl"
           }
          ],
          "histogram": [
           {
            "marker": {
             "pattern": {
              "fillmode": "overlay",
              "size": 10,
              "solidity": 0.2
             }
            },
            "type": "histogram"
           }
          ],
          "histogram2d": [
           {
            "colorbar": {
             "outlinewidth": 0,
             "ticks": ""
            },
            "colorscale": [
             [
              0,
              "#0d0887"
             ],
             [
              0.1111111111111111,
              "#46039f"
             ],
             [
              0.2222222222222222,
              "#7201a8"
             ],
             [
              0.3333333333333333,
              "#9c179e"
             ],
             [
              0.4444444444444444,
              "#bd3786"
             ],
             [
              0.5555555555555556,
              "#d8576b"
             ],
             [
              0.6666666666666666,
              "#ed7953"
             ],
             [
              0.7777777777777778,
              "#fb9f3a"
             ],
             [
              0.8888888888888888,
              "#fdca26"
             ],
             [
              1,
              "#f0f921"
             ]
            ],
            "type": "histogram2d"
           }
          ],
          "histogram2dcontour": [
           {
            "colorbar": {
             "outlinewidth": 0,
             "ticks": ""
            },
            "colorscale": [
             [
              0,
              "#0d0887"
             ],
             [
              0.1111111111111111,
              "#46039f"
             ],
             [
              0.2222222222222222,
              "#7201a8"
             ],
             [
              0.3333333333333333,
              "#9c179e"
             ],
             [
              0.4444444444444444,
              "#bd3786"
             ],
             [
              0.5555555555555556,
              "#d8576b"
             ],
             [
              0.6666666666666666,
              "#ed7953"
             ],
             [
              0.7777777777777778,
              "#fb9f3a"
             ],
             [
              0.8888888888888888,
              "#fdca26"
             ],
             [
              1,
              "#f0f921"
             ]
            ],
            "type": "histogram2dcontour"
           }
          ],
          "mesh3d": [
           {
            "colorbar": {
             "outlinewidth": 0,
             "ticks": ""
            },
            "type": "mesh3d"
           }
          ],
          "parcoords": [
           {
            "line": {
             "colorbar": {
              "outlinewidth": 0,
              "ticks": ""
             }
            },
            "type": "parcoords"
           }
          ],
          "pie": [
           {
            "automargin": true,
            "type": "pie"
           }
          ],
          "scatter": [
           {
            "fillpattern": {
             "fillmode": "overlay",
             "size": 10,
             "solidity": 0.2
            },
            "type": "scatter"
           }
          ],
          "scatter3d": [
           {
            "line": {
             "colorbar": {
              "outlinewidth": 0,
              "ticks": ""
             }
            },
            "marker": {
             "colorbar": {
              "outlinewidth": 0,
              "ticks": ""
             }
            },
            "type": "scatter3d"
           }
          ],
          "scattercarpet": [
           {
            "marker": {
             "colorbar": {
              "outlinewidth": 0,
              "ticks": ""
             }
            },
            "type": "scattercarpet"
           }
          ],
          "scattergeo": [
           {
            "marker": {
             "colorbar": {
              "outlinewidth": 0,
              "ticks": ""
             }
            },
            "type": "scattergeo"
           }
          ],
          "scattergl": [
           {
            "marker": {
             "colorbar": {
              "outlinewidth": 0,
              "ticks": ""
             }
            },
            "type": "scattergl"
           }
          ],
          "scattermapbox": [
           {
            "marker": {
             "colorbar": {
              "outlinewidth": 0,
              "ticks": ""
             }
            },
            "type": "scattermapbox"
           }
          ],
          "scatterpolar": [
           {
            "marker": {
             "colorbar": {
              "outlinewidth": 0,
              "ticks": ""
             }
            },
            "type": "scatterpolar"
           }
          ],
          "scatterpolargl": [
           {
            "marker": {
             "colorbar": {
              "outlinewidth": 0,
              "ticks": ""
             }
            },
            "type": "scatterpolargl"
           }
          ],
          "scatterternary": [
           {
            "marker": {
             "colorbar": {
              "outlinewidth": 0,
              "ticks": ""
             }
            },
            "type": "scatterternary"
           }
          ],
          "surface": [
           {
            "colorbar": {
             "outlinewidth": 0,
             "ticks": ""
            },
            "colorscale": [
             [
              0,
              "#0d0887"
             ],
             [
              0.1111111111111111,
              "#46039f"
             ],
             [
              0.2222222222222222,
              "#7201a8"
             ],
             [
              0.3333333333333333,
              "#9c179e"
             ],
             [
              0.4444444444444444,
              "#bd3786"
             ],
             [
              0.5555555555555556,
              "#d8576b"
             ],
             [
              0.6666666666666666,
              "#ed7953"
             ],
             [
              0.7777777777777778,
              "#fb9f3a"
             ],
             [
              0.8888888888888888,
              "#fdca26"
             ],
             [
              1,
              "#f0f921"
             ]
            ],
            "type": "surface"
           }
          ],
          "table": [
           {
            "cells": {
             "fill": {
              "color": "#EBF0F8"
             },
             "line": {
              "color": "white"
             }
            },
            "header": {
             "fill": {
              "color": "#C8D4E3"
             },
             "line": {
              "color": "white"
             }
            },
            "type": "table"
           }
          ]
         },
         "layout": {
          "annotationdefaults": {
           "arrowcolor": "#2a3f5f",
           "arrowhead": 0,
           "arrowwidth": 1
          },
          "autotypenumbers": "strict",
          "coloraxis": {
           "colorbar": {
            "outlinewidth": 0,
            "ticks": ""
           }
          },
          "colorscale": {
           "diverging": [
            [
             0,
             "#8e0152"
            ],
            [
             0.1,
             "#c51b7d"
            ],
            [
             0.2,
             "#de77ae"
            ],
            [
             0.3,
             "#f1b6da"
            ],
            [
             0.4,
             "#fde0ef"
            ],
            [
             0.5,
             "#f7f7f7"
            ],
            [
             0.6,
             "#e6f5d0"
            ],
            [
             0.7,
             "#b8e186"
            ],
            [
             0.8,
             "#7fbc41"
            ],
            [
             0.9,
             "#4d9221"
            ],
            [
             1,
             "#276419"
            ]
           ],
           "sequential": [
            [
             0,
             "#0d0887"
            ],
            [
             0.1111111111111111,
             "#46039f"
            ],
            [
             0.2222222222222222,
             "#7201a8"
            ],
            [
             0.3333333333333333,
             "#9c179e"
            ],
            [
             0.4444444444444444,
             "#bd3786"
            ],
            [
             0.5555555555555556,
             "#d8576b"
            ],
            [
             0.6666666666666666,
             "#ed7953"
            ],
            [
             0.7777777777777778,
             "#fb9f3a"
            ],
            [
             0.8888888888888888,
             "#fdca26"
            ],
            [
             1,
             "#f0f921"
            ]
           ],
           "sequentialminus": [
            [
             0,
             "#0d0887"
            ],
            [
             0.1111111111111111,
             "#46039f"
            ],
            [
             0.2222222222222222,
             "#7201a8"
            ],
            [
             0.3333333333333333,
             "#9c179e"
            ],
            [
             0.4444444444444444,
             "#bd3786"
            ],
            [
             0.5555555555555556,
             "#d8576b"
            ],
            [
             0.6666666666666666,
             "#ed7953"
            ],
            [
             0.7777777777777778,
             "#fb9f3a"
            ],
            [
             0.8888888888888888,
             "#fdca26"
            ],
            [
             1,
             "#f0f921"
            ]
           ]
          },
          "colorway": [
           "#636efa",
           "#EF553B",
           "#00cc96",
           "#ab63fa",
           "#FFA15A",
           "#19d3f3",
           "#FF6692",
           "#B6E880",
           "#FF97FF",
           "#FECB52"
          ],
          "font": {
           "color": "#2a3f5f"
          },
          "geo": {
           "bgcolor": "white",
           "lakecolor": "white",
           "landcolor": "#E5ECF6",
           "showlakes": true,
           "showland": true,
           "subunitcolor": "white"
          },
          "hoverlabel": {
           "align": "left"
          },
          "hovermode": "closest",
          "mapbox": {
           "style": "light"
          },
          "paper_bgcolor": "white",
          "plot_bgcolor": "#E5ECF6",
          "polar": {
           "angularaxis": {
            "gridcolor": "white",
            "linecolor": "white",
            "ticks": ""
           },
           "bgcolor": "#E5ECF6",
           "radialaxis": {
            "gridcolor": "white",
            "linecolor": "white",
            "ticks": ""
           }
          },
          "scene": {
           "xaxis": {
            "backgroundcolor": "#E5ECF6",
            "gridcolor": "white",
            "gridwidth": 2,
            "linecolor": "white",
            "showbackground": true,
            "ticks": "",
            "zerolinecolor": "white"
           },
           "yaxis": {
            "backgroundcolor": "#E5ECF6",
            "gridcolor": "white",
            "gridwidth": 2,
            "linecolor": "white",
            "showbackground": true,
            "ticks": "",
            "zerolinecolor": "white"
           },
           "zaxis": {
            "backgroundcolor": "#E5ECF6",
            "gridcolor": "white",
            "gridwidth": 2,
            "linecolor": "white",
            "showbackground": true,
            "ticks": "",
            "zerolinecolor": "white"
           }
          },
          "shapedefaults": {
           "line": {
            "color": "#2a3f5f"
           }
          },
          "ternary": {
           "aaxis": {
            "gridcolor": "white",
            "linecolor": "white",
            "ticks": ""
           },
           "baxis": {
            "gridcolor": "white",
            "linecolor": "white",
            "ticks": ""
           },
           "bgcolor": "#E5ECF6",
           "caxis": {
            "gridcolor": "white",
            "linecolor": "white",
            "ticks": ""
           }
          },
          "title": {
           "x": 0.05
          },
          "xaxis": {
           "automargin": true,
           "gridcolor": "white",
           "linecolor": "white",
           "ticks": "",
           "title": {
            "standoff": 15
           },
           "zerolinecolor": "white",
           "zerolinewidth": 2
          },
          "yaxis": {
           "automargin": true,
           "gridcolor": "white",
           "linecolor": "white",
           "ticks": "",
           "title": {
            "standoff": 15
           },
           "zerolinecolor": "white",
           "zerolinewidth": 2
          }
         }
        },
        "title": {
         "text": "Inner Leading Positions vs Roll"
        },
        "xaxis": {
         "title": {
          "text": "body jounce (m)"
         }
        },
        "yaxis": {
         "tickfont": {
          "color": "red"
         },
         "title": {
          "font": {
           "color": "red"
          },
          "text": "KPI [°]"
         }
        },
        "yaxis2": {
         "anchor": "x",
         "overlaying": "y",
         "side": "right",
         "tickfont": {
          "color": "blue"
         },
         "title": {
          "font": {
           "color": "blue"
          },
          "text": "Caster angle [°]"
         }
        }
       }
      }
     },
     "metadata": {},
     "output_type": "display_data"
    }
   ],
   "source": [
    "# Plot KPI/Caster vs jounce\n",
    "\n",
    "# Create the plot\n",
    "fig = go.Figure()\n",
    "\n",
    "# Add king pin incl\n",
    "fig.add_trace(\n",
    "    go.Scatter(\n",
    "        x=results_df[\"jounce\"],\n",
    "        y=results_df[\"kingpin_inclination_deg\"],\n",
    "        mode='lines',\n",
    "        marker=dict(color='red'),\n",
    "        name='lower Leading Z Heights',\n",
    "        yaxis='y'  # Primary y-axis\n",
    "    )\n",
    ")\n",
    "\n",
    "# Add caster angle \n",
    "fig.add_trace(\n",
    "    go.Scatter(\n",
    "        x=results_df[\"jounce\"],\n",
    "        y=results_df[\"camber_angle_deg\"],\n",
    "        mode='lines',\n",
    "        marker=dict(color='blue'),\n",
    "        name='Lower Leading Y Positions',\n",
    "        yaxis='y2'  # Secondary y-axis\n",
    "    )\n",
    ")\n",
    "\n",
    "# Update layout to add the secondary y-axis\n",
    "fig.update_layout(\n",
    "    title='Inner Leading Positions vs Roll',\n",
    "    xaxis=dict(title='body jounce (m)'),\n",
    "    yaxis=dict(\n",
    "        title='KPI [°]',\n",
    "        titlefont=dict(color='red'),\n",
    "        tickfont=dict(color='red')\n",
    "    ),\n",
    "    yaxis2=dict(\n",
    "        title='Caster angle [°]',\n",
    "        titlefont=dict(color='blue'),\n",
    "        tickfont=dict(color='blue'),\n",
    "        anchor='x',\n",
    "        overlaying='y',\n",
    "        side='right'\n",
    "    ),\n",
    "    legend=dict(x=0.5, y=-0.2, orientation='h')  # Adjust legend position if needed\n",
    ")\n",
    "\n",
    "# Show the figure\n",
    "fig.show()"
   ]
  }
 ],
 "metadata": {
  "kernelspec": {
   "display_name": "Python 3",
   "language": "python",
   "name": "python3"
  },
  "language_info": {
   "codemirror_mode": {
    "name": "ipython",
    "version": 3
   },
   "file_extension": ".py",
   "mimetype": "text/x-python",
   "name": "python",
   "nbconvert_exporter": "python",
   "pygments_lexer": "ipython3",
   "version": "3.11.4"
  }
 },
 "nbformat": 4,
 "nbformat_minor": 2
}
