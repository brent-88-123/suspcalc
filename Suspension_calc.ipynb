{
 "cells": [
  {
   "cell_type": "markdown",
   "metadata": {},
   "source": [
    "-------------------------------------------------------------------------------\n",
    "\n",
    "CHIBO 2024\n",
    "\n",
    "An attempt to static calculate the forces in (x,y,z) at all the suspension pickup points for various roll/jounce effects\n",
    "\n",
    "18.12.2024: Created\n",
    "\n",
    "03.01.2025: Outboard points calc working, moved functions to susprog.py and added loop \n",
    "\n",
    "05.01.2025: Added jounce updater for the inner points and included in susprog.py\n",
    "\n",
    "08.01.2025: Added trail & scrub radius calc in loop\n",
    "\n",
    "09.01.2025: Rewrote roll centre code to correct errors in original\n",
    "\n",
    "11.01.2025: Added in trail/scrub/KPI/Caster angle evaluation. Bug was present for a while which miscalculated RC via unsmooth rotation of inner points. Went away for unknown reason\n",
    "\n",
    "19.01.2025: Changed units to mm, this fixes small number rounding error which causes output instability\n",
    "\n",
    "05.03.2025: Added force calculator to add reaction loads at outer points. Refractored sim code to be a callable function to run multiple simulations\n",
    "\n",
    "-------------------------------------------------------------------------------"
   ]
  },
  {
   "cell_type": "code",
   "execution_count": 8,
   "metadata": {},
   "outputs": [],
   "source": [
    "#Import required libraries\n",
    "import numpy as np\n",
    "import pandas as pd\n",
    "from scipy.optimize import minimize\n",
    "\n",
    "import plotly.graph_objects as go\n",
    "import matplotlib.pyplot as plt\n",
    "\n",
    "import susprog                      # Python file containing the equations for the loop "
   ]
  },
  {
   "cell_type": "code",
   "execution_count": 9,
   "metadata": {},
   "outputs": [],
   "source": [
    "# Declare motions for evaluation\n",
    "\n",
    "# Define maximum roll and jounce inputs\n",
    "body_roll = -5.00  # Maximum roll angle in degrees\n",
    "body_jounce = 0  # Maximum jounce in meters (5 cm = 0.05)\n",
    "sim_vales = 100\n",
    "\n",
    "# Generate roll and jounce motion inputs\n",
    "roll_angles = np.linspace(0, np.radians(body_roll), sim_vales)  # 0 to max roll angle in 100 steps\n",
    "jounce_displacements = np.linspace(0, body_jounce, sim_vales)  # 0 to max jounce in 100 steps"
   ]
  },
  {
   "cell_type": "code",
   "execution_count": 10,
   "metadata": {},
   "outputs": [],
   "source": [
    "# Suspension pickup points in millimeters\n",
    "upper_a_arm = np.array([\n",
    "    [1.5, 506.5, 315],      # Outer point (converted from m to mm)\n",
    "    [-135, 240, 220],       # Inner leading point\n",
    "    [180, 255, 255]         # Inner trailing point\n",
    "], dtype=np.float64)\n",
    "\n",
    "lower_a_arm = np.array([\n",
    "    [-17.5, 519, 137],      # Outer point\n",
    "    [-180, 165, 87],        # Inner leading point\n",
    "    [180, 170, 87]          # Inner trailing point\n",
    "], dtype=np.float64)\n",
    "\n",
    "tie_rod = np.array([\n",
    "    [60, 515, 160],         # Outer point\n",
    "    [70, 195, 100]          # Inner point\n",
    "], dtype=np.float64)\n",
    "\n",
    "tire_cop = np.array([-5, 525, 0])\n",
    "force_vector = np.array([5000, 5000, -20000])  # Force in N\n"
   ]
  },
  {
   "cell_type": "code",
   "execution_count": 11,
   "metadata": {},
   "outputs": [],
   "source": [
    "# Calculate lengths for upper and lower A-arms and tie rod\n",
    "upper_lengths = [\n",
    "    np.linalg.norm(upper_a_arm[1] - upper_a_arm[0]),  # Upper outer to inner leading\n",
    "    np.linalg.norm(upper_a_arm[2] - upper_a_arm[0]),  # Upper outer to inner trailing\n",
    "    np.linalg.norm(upper_a_arm[0] - lower_a_arm[0])   # Upper outer to lower outer\n",
    "]\n",
    "\n",
    "lower_lengths = [\n",
    "    np.linalg.norm(lower_a_arm[1] - lower_a_arm[0]),  # Lower outer to inner leading\n",
    "    np.linalg.norm(lower_a_arm[2] - lower_a_arm[0]),  # Lower outer to inner trailing\n",
    "    np.linalg.norm(lower_a_arm[0] - tire_cop)         # Lower outer to tire center of pressure\n",
    "]\n",
    "\n",
    "tie_length = [\n",
    "    np.linalg.norm(tie_rod[1] - tie_rod[0]),          # Tie rod outer to inner leading\n",
    "    np.linalg.norm(upper_a_arm[0] - tie_rod[0]),      # Tie rod outer to upper outer\n",
    "    np.linalg.norm(lower_a_arm[0] - tie_rod[0])       # Tie rod outer to lower outer\n",
    "]"
   ]
  },
  {
   "cell_type": "code",
   "execution_count": 12,
   "metadata": {},
   "outputs": [],
   "source": [
    "results = susprog.run_simulation (upper_a_arm, lower_a_arm, tie_rod, tire_cop, force_vector, susprog, roll_angles, jounce_displacements, lower_lengths, upper_lengths,tie_length)"
   ]
  },
  {
   "cell_type": "code",
   "execution_count": 13,
   "metadata": {},
   "outputs": [
    {
     "data": {
      "application/vnd.plotly.v1+json": {
       "config": {
        "plotlyServerURL": "https://plot.ly"
       },
       "data": [
        {
         "marker": {
          "color": "blue",
          "size": 5
         },
         "mode": "markers+lines",
         "name": "Lower A-arm (Initial)",
         "type": "scatter3d",
         "x": [
          -17.5,
          -180,
          180
         ],
         "y": [
          519,
          165,
          170
         ],
         "z": [
          137,
          87,
          87
         ]
        },
        {
         "marker": {
          "color": "red",
          "size": 5
         },
         "mode": "markers+lines",
         "name": "Lower A-arm (Final)",
         "type": "scatter3d",
         "x": [
          -17.36887890892695,
          -180.00000000000003,
          180.00000000000003
         ],
         "y": [
          522.6237846774861,
          171.09167190902755,
          176.07264539948628
         ],
         "z": [
          137.1227254064121,
          72.32592070075358,
          71.8901419870153
         ]
        },
        {
         "marker": {
          "color": "green",
          "size": 5
         },
         "mode": "markers+lines",
         "name": "Upper A-arm (Initial)",
         "type": "scatter3d",
         "x": [
          1.5,
          -135,
          180
         ],
         "y": [
          506.5,
          240,
          255
         ],
         "z": [
          315,
          220,
          255
         ]
        },
        {
         "marker": {
          "color": "orange",
          "size": 5
         },
         "mode": "markers+lines",
         "name": "Upper A-arm (Final)",
         "type": "scatter3d",
         "x": [
          -2.6025084278470834,
          -135.00000000000003,
          180.00000000000003
         ],
         "y": [
          516.8670060112387,
          257.39798805134706,
          275.39135951889125
         ],
         "z": [
          315.86841538262917,
          198.28313484088142,
          231.84261313287763
         ]
        },
        {
         "marker": {
          "color": "purple",
          "size": 8
         },
         "mode": "markers+lines",
         "name": "Roll Center",
         "type": "scatter3d",
         "x": [
          0,
          0
         ],
         "y": [
          0,
          0
         ],
         "z": [
          10.6169616293786,
          9.91449625965036
         ]
        }
       ],
       "layout": {
        "legend": {
         "x": 0.1,
         "y": 0.9
        },
        "scene": {
         "xaxis": {
          "title": {
           "text": "X-axis (m)"
          }
         },
         "yaxis": {
          "title": {
           "text": "Y-axis (m)"
          }
         },
         "zaxis": {
          "title": {
           "text": "Z-axis (m)"
          }
         }
        },
        "template": {
         "data": {
          "bar": [
           {
            "error_x": {
             "color": "#2a3f5f"
            },
            "error_y": {
             "color": "#2a3f5f"
            },
            "marker": {
             "line": {
              "color": "#E5ECF6",
              "width": 0.5
             },
             "pattern": {
              "fillmode": "overlay",
              "size": 10,
              "solidity": 0.2
             }
            },
            "type": "bar"
           }
          ],
          "barpolar": [
           {
            "marker": {
             "line": {
              "color": "#E5ECF6",
              "width": 0.5
             },
             "pattern": {
              "fillmode": "overlay",
              "size": 10,
              "solidity": 0.2
             }
            },
            "type": "barpolar"
           }
          ],
          "carpet": [
           {
            "aaxis": {
             "endlinecolor": "#2a3f5f",
             "gridcolor": "white",
             "linecolor": "white",
             "minorgridcolor": "white",
             "startlinecolor": "#2a3f5f"
            },
            "baxis": {
             "endlinecolor": "#2a3f5f",
             "gridcolor": "white",
             "linecolor": "white",
             "minorgridcolor": "white",
             "startlinecolor": "#2a3f5f"
            },
            "type": "carpet"
           }
          ],
          "choropleth": [
           {
            "colorbar": {
             "outlinewidth": 0,
             "ticks": ""
            },
            "type": "choropleth"
           }
          ],
          "contour": [
           {
            "colorbar": {
             "outlinewidth": 0,
             "ticks": ""
            },
            "colorscale": [
             [
              0,
              "#0d0887"
             ],
             [
              0.1111111111111111,
              "#46039f"
             ],
             [
              0.2222222222222222,
              "#7201a8"
             ],
             [
              0.3333333333333333,
              "#9c179e"
             ],
             [
              0.4444444444444444,
              "#bd3786"
             ],
             [
              0.5555555555555556,
              "#d8576b"
             ],
             [
              0.6666666666666666,
              "#ed7953"
             ],
             [
              0.7777777777777778,
              "#fb9f3a"
             ],
             [
              0.8888888888888888,
              "#fdca26"
             ],
             [
              1,
              "#f0f921"
             ]
            ],
            "type": "contour"
           }
          ],
          "contourcarpet": [
           {
            "colorbar": {
             "outlinewidth": 0,
             "ticks": ""
            },
            "type": "contourcarpet"
           }
          ],
          "heatmap": [
           {
            "colorbar": {
             "outlinewidth": 0,
             "ticks": ""
            },
            "colorscale": [
             [
              0,
              "#0d0887"
             ],
             [
              0.1111111111111111,
              "#46039f"
             ],
             [
              0.2222222222222222,
              "#7201a8"
             ],
             [
              0.3333333333333333,
              "#9c179e"
             ],
             [
              0.4444444444444444,
              "#bd3786"
             ],
             [
              0.5555555555555556,
              "#d8576b"
             ],
             [
              0.6666666666666666,
              "#ed7953"
             ],
             [
              0.7777777777777778,
              "#fb9f3a"
             ],
             [
              0.8888888888888888,
              "#fdca26"
             ],
             [
              1,
              "#f0f921"
             ]
            ],
            "type": "heatmap"
           }
          ],
          "heatmapgl": [
           {
            "colorbar": {
             "outlinewidth": 0,
             "ticks": ""
            },
            "colorscale": [
             [
              0,
              "#0d0887"
             ],
             [
              0.1111111111111111,
              "#46039f"
             ],
             [
              0.2222222222222222,
              "#7201a8"
             ],
             [
              0.3333333333333333,
              "#9c179e"
             ],
             [
              0.4444444444444444,
              "#bd3786"
             ],
             [
              0.5555555555555556,
              "#d8576b"
             ],
             [
              0.6666666666666666,
              "#ed7953"
             ],
             [
              0.7777777777777778,
              "#fb9f3a"
             ],
             [
              0.8888888888888888,
              "#fdca26"
             ],
             [
              1,
              "#f0f921"
             ]
            ],
            "type": "heatmapgl"
           }
          ],
          "histogram": [
           {
            "marker": {
             "pattern": {
              "fillmode": "overlay",
              "size": 10,
              "solidity": 0.2
             }
            },
            "type": "histogram"
           }
          ],
          "histogram2d": [
           {
            "colorbar": {
             "outlinewidth": 0,
             "ticks": ""
            },
            "colorscale": [
             [
              0,
              "#0d0887"
             ],
             [
              0.1111111111111111,
              "#46039f"
             ],
             [
              0.2222222222222222,
              "#7201a8"
             ],
             [
              0.3333333333333333,
              "#9c179e"
             ],
             [
              0.4444444444444444,
              "#bd3786"
             ],
             [
              0.5555555555555556,
              "#d8576b"
             ],
             [
              0.6666666666666666,
              "#ed7953"
             ],
             [
              0.7777777777777778,
              "#fb9f3a"
             ],
             [
              0.8888888888888888,
              "#fdca26"
             ],
             [
              1,
              "#f0f921"
             ]
            ],
            "type": "histogram2d"
           }
          ],
          "histogram2dcontour": [
           {
            "colorbar": {
             "outlinewidth": 0,
             "ticks": ""
            },
            "colorscale": [
             [
              0,
              "#0d0887"
             ],
             [
              0.1111111111111111,
              "#46039f"
             ],
             [
              0.2222222222222222,
              "#7201a8"
             ],
             [
              0.3333333333333333,
              "#9c179e"
             ],
             [
              0.4444444444444444,
              "#bd3786"
             ],
             [
              0.5555555555555556,
              "#d8576b"
             ],
             [
              0.6666666666666666,
              "#ed7953"
             ],
             [
              0.7777777777777778,
              "#fb9f3a"
             ],
             [
              0.8888888888888888,
              "#fdca26"
             ],
             [
              1,
              "#f0f921"
             ]
            ],
            "type": "histogram2dcontour"
           }
          ],
          "mesh3d": [
           {
            "colorbar": {
             "outlinewidth": 0,
             "ticks": ""
            },
            "type": "mesh3d"
           }
          ],
          "parcoords": [
           {
            "line": {
             "colorbar": {
              "outlinewidth": 0,
              "ticks": ""
             }
            },
            "type": "parcoords"
           }
          ],
          "pie": [
           {
            "automargin": true,
            "type": "pie"
           }
          ],
          "scatter": [
           {
            "fillpattern": {
             "fillmode": "overlay",
             "size": 10,
             "solidity": 0.2
            },
            "type": "scatter"
           }
          ],
          "scatter3d": [
           {
            "line": {
             "colorbar": {
              "outlinewidth": 0,
              "ticks": ""
             }
            },
            "marker": {
             "colorbar": {
              "outlinewidth": 0,
              "ticks": ""
             }
            },
            "type": "scatter3d"
           }
          ],
          "scattercarpet": [
           {
            "marker": {
             "colorbar": {
              "outlinewidth": 0,
              "ticks": ""
             }
            },
            "type": "scattercarpet"
           }
          ],
          "scattergeo": [
           {
            "marker": {
             "colorbar": {
              "outlinewidth": 0,
              "ticks": ""
             }
            },
            "type": "scattergeo"
           }
          ],
          "scattergl": [
           {
            "marker": {
             "colorbar": {
              "outlinewidth": 0,
              "ticks": ""
             }
            },
            "type": "scattergl"
           }
          ],
          "scattermapbox": [
           {
            "marker": {
             "colorbar": {
              "outlinewidth": 0,
              "ticks": ""
             }
            },
            "type": "scattermapbox"
           }
          ],
          "scatterpolar": [
           {
            "marker": {
             "colorbar": {
              "outlinewidth": 0,
              "ticks": ""
             }
            },
            "type": "scatterpolar"
           }
          ],
          "scatterpolargl": [
           {
            "marker": {
             "colorbar": {
              "outlinewidth": 0,
              "ticks": ""
             }
            },
            "type": "scatterpolargl"
           }
          ],
          "scatterternary": [
           {
            "marker": {
             "colorbar": {
              "outlinewidth": 0,
              "ticks": ""
             }
            },
            "type": "scatterternary"
           }
          ],
          "surface": [
           {
            "colorbar": {
             "outlinewidth": 0,
             "ticks": ""
            },
            "colorscale": [
             [
              0,
              "#0d0887"
             ],
             [
              0.1111111111111111,
              "#46039f"
             ],
             [
              0.2222222222222222,
              "#7201a8"
             ],
             [
              0.3333333333333333,
              "#9c179e"
             ],
             [
              0.4444444444444444,
              "#bd3786"
             ],
             [
              0.5555555555555556,
              "#d8576b"
             ],
             [
              0.6666666666666666,
              "#ed7953"
             ],
             [
              0.7777777777777778,
              "#fb9f3a"
             ],
             [
              0.8888888888888888,
              "#fdca26"
             ],
             [
              1,
              "#f0f921"
             ]
            ],
            "type": "surface"
           }
          ],
          "table": [
           {
            "cells": {
             "fill": {
              "color": "#EBF0F8"
             },
             "line": {
              "color": "white"
             }
            },
            "header": {
             "fill": {
              "color": "#C8D4E3"
             },
             "line": {
              "color": "white"
             }
            },
            "type": "table"
           }
          ]
         },
         "layout": {
          "annotationdefaults": {
           "arrowcolor": "#2a3f5f",
           "arrowhead": 0,
           "arrowwidth": 1
          },
          "autotypenumbers": "strict",
          "coloraxis": {
           "colorbar": {
            "outlinewidth": 0,
            "ticks": ""
           }
          },
          "colorscale": {
           "diverging": [
            [
             0,
             "#8e0152"
            ],
            [
             0.1,
             "#c51b7d"
            ],
            [
             0.2,
             "#de77ae"
            ],
            [
             0.3,
             "#f1b6da"
            ],
            [
             0.4,
             "#fde0ef"
            ],
            [
             0.5,
             "#f7f7f7"
            ],
            [
             0.6,
             "#e6f5d0"
            ],
            [
             0.7,
             "#b8e186"
            ],
            [
             0.8,
             "#7fbc41"
            ],
            [
             0.9,
             "#4d9221"
            ],
            [
             1,
             "#276419"
            ]
           ],
           "sequential": [
            [
             0,
             "#0d0887"
            ],
            [
             0.1111111111111111,
             "#46039f"
            ],
            [
             0.2222222222222222,
             "#7201a8"
            ],
            [
             0.3333333333333333,
             "#9c179e"
            ],
            [
             0.4444444444444444,
             "#bd3786"
            ],
            [
             0.5555555555555556,
             "#d8576b"
            ],
            [
             0.6666666666666666,
             "#ed7953"
            ],
            [
             0.7777777777777778,
             "#fb9f3a"
            ],
            [
             0.8888888888888888,
             "#fdca26"
            ],
            [
             1,
             "#f0f921"
            ]
           ],
           "sequentialminus": [
            [
             0,
             "#0d0887"
            ],
            [
             0.1111111111111111,
             "#46039f"
            ],
            [
             0.2222222222222222,
             "#7201a8"
            ],
            [
             0.3333333333333333,
             "#9c179e"
            ],
            [
             0.4444444444444444,
             "#bd3786"
            ],
            [
             0.5555555555555556,
             "#d8576b"
            ],
            [
             0.6666666666666666,
             "#ed7953"
            ],
            [
             0.7777777777777778,
             "#fb9f3a"
            ],
            [
             0.8888888888888888,
             "#fdca26"
            ],
            [
             1,
             "#f0f921"
            ]
           ]
          },
          "colorway": [
           "#636efa",
           "#EF553B",
           "#00cc96",
           "#ab63fa",
           "#FFA15A",
           "#19d3f3",
           "#FF6692",
           "#B6E880",
           "#FF97FF",
           "#FECB52"
          ],
          "font": {
           "color": "#2a3f5f"
          },
          "geo": {
           "bgcolor": "white",
           "lakecolor": "white",
           "landcolor": "#E5ECF6",
           "showlakes": true,
           "showland": true,
           "subunitcolor": "white"
          },
          "hoverlabel": {
           "align": "left"
          },
          "hovermode": "closest",
          "mapbox": {
           "style": "light"
          },
          "paper_bgcolor": "white",
          "plot_bgcolor": "#E5ECF6",
          "polar": {
           "angularaxis": {
            "gridcolor": "white",
            "linecolor": "white",
            "ticks": ""
           },
           "bgcolor": "#E5ECF6",
           "radialaxis": {
            "gridcolor": "white",
            "linecolor": "white",
            "ticks": ""
           }
          },
          "scene": {
           "xaxis": {
            "backgroundcolor": "#E5ECF6",
            "gridcolor": "white",
            "gridwidth": 2,
            "linecolor": "white",
            "showbackground": true,
            "ticks": "",
            "zerolinecolor": "white"
           },
           "yaxis": {
            "backgroundcolor": "#E5ECF6",
            "gridcolor": "white",
            "gridwidth": 2,
            "linecolor": "white",
            "showbackground": true,
            "ticks": "",
            "zerolinecolor": "white"
           },
           "zaxis": {
            "backgroundcolor": "#E5ECF6",
            "gridcolor": "white",
            "gridwidth": 2,
            "linecolor": "white",
            "showbackground": true,
            "ticks": "",
            "zerolinecolor": "white"
           }
          },
          "shapedefaults": {
           "line": {
            "color": "#2a3f5f"
           }
          },
          "ternary": {
           "aaxis": {
            "gridcolor": "white",
            "linecolor": "white",
            "ticks": ""
           },
           "baxis": {
            "gridcolor": "white",
            "linecolor": "white",
            "ticks": ""
           },
           "bgcolor": "#E5ECF6",
           "caxis": {
            "gridcolor": "white",
            "linecolor": "white",
            "ticks": ""
           }
          },
          "title": {
           "x": 0.05
          },
          "xaxis": {
           "automargin": true,
           "gridcolor": "white",
           "linecolor": "white",
           "ticks": "",
           "title": {
            "standoff": 15
           },
           "zerolinecolor": "white",
           "zerolinewidth": 2
          },
          "yaxis": {
           "automargin": true,
           "gridcolor": "white",
           "linecolor": "white",
           "ticks": "",
           "title": {
            "standoff": 15
           },
           "zerolinecolor": "white",
           "zerolinewidth": 2
          }
         }
        },
        "title": {
         "text": "3D Suspension Geometry (Initial vs. Final)"
        }
       }
      }
     },
     "metadata": {},
     "output_type": "display_data"
    },
    {
     "data": {
      "text/plain": [
       "'\\n# Print the initial and final points\\nprint(\"Initial Lower A-arm Points:\\n\", lower_initial)\\nprint(\"Final Lower A-arm Points:\\n\", lower_final)\\n\\nprint(\"Initial Upper A-arm Points:\\n\", upper_initial)\\nprint(\"Final Upper A-arm Points:\\n\", upper_final)\\n\\nprint(\"Initial Roll Center:\", rc_initial)\\nprint(\"Final Roll Center:\", rc_final)\\n'"
      ]
     },
     "execution_count": 13,
     "metadata": {},
     "output_type": "execute_result"
    }
   ],
   "source": [
    "# Extract the initial and final suspension points from the results\n",
    "lower_initial = results.iloc[0, 2:11].values.reshape(3, 3)  # First row, lower A-arm (3x3)\n",
    "upper_initial = results.iloc[0, 11:20].values.reshape(3, 3)  # First row, upper A-arm (3x3)\n",
    "\n",
    "lower_final = results.iloc[-1, 2:11].values.reshape(3, 3)  # Last row, lower A-arm (3x3)\n",
    "upper_final = results.iloc[-1, 11:20].values.reshape(3, 3)  # Last row, upper A-arm (3x3)\n",
    "\n",
    "# Extract roll centers\n",
    "rc_initial = results.iloc[0, 20:23].values  # Initial roll center\n",
    "rc_final = results.iloc[-1, 20:23].values  # Final roll center\n",
    "\n",
    "# Create a 3D scatter plot\n",
    "fig = go.Figure()\n",
    "\n",
    "# Add initial lower A-arm points\n",
    "fig.add_trace(go.Scatter3d(\n",
    "    x=lower_initial[:, 0], y=lower_initial[:, 1], z=lower_initial[:, 2],\n",
    "    mode='markers+lines',\n",
    "    marker=dict(size=5, color='blue'),\n",
    "    name='Lower A-arm (Initial)'\n",
    "))\n",
    "\n",
    "# Add final lower A-arm points\n",
    "fig.add_trace(go.Scatter3d(\n",
    "    x=lower_final[:, 0], y=lower_final[:, 1], z=lower_final[:, 2],\n",
    "    mode='markers+lines',\n",
    "    marker=dict(size=5, color='red'),\n",
    "    name='Lower A-arm (Final)'\n",
    "))\n",
    "\n",
    "# Add initial upper A-arm points\n",
    "fig.add_trace(go.Scatter3d(\n",
    "    x=upper_initial[:, 0], y=upper_initial[:, 1], z=upper_initial[:, 2],\n",
    "    mode='markers+lines',\n",
    "    marker=dict(size=5, color='green'),\n",
    "    name='Upper A-arm (Initial)'\n",
    "))\n",
    "\n",
    "# Add final upper A-arm points\n",
    "fig.add_trace(go.Scatter3d(\n",
    "    x=upper_final[:, 0], y=upper_final[:, 1], z=upper_final[:, 2],\n",
    "    mode='markers+lines',\n",
    "    marker=dict(size=5, color='orange'),\n",
    "    name='Upper A-arm (Final)'\n",
    "))\n",
    "\n",
    "# Add roll center points\n",
    "fig.add_trace(go.Scatter3d(\n",
    "    x=[rc_initial[0], rc_final[0]],\n",
    "    y=[rc_initial[1], rc_final[1]],\n",
    "    z=[rc_initial[2], rc_final[2]],\n",
    "    mode='markers+lines',\n",
    "    marker=dict(size=8, color='purple'),\n",
    "    name='Roll Center'\n",
    "))\n",
    "\n",
    "# Configure the layout\n",
    "fig.update_layout(\n",
    "    scene=dict(\n",
    "        xaxis_title='X-axis (m)',\n",
    "        yaxis_title='Y-axis (m)',\n",
    "        zaxis_title='Z-axis (m)'\n",
    "    ),\n",
    "    title=\"3D Suspension Geometry (Initial vs. Final)\",\n",
    "    legend=dict(x=0.1, y=0.9)\n",
    ")\n",
    "\n",
    "# Show the figure\n",
    "fig.show()\n",
    "\n",
    "\"\"\"\n",
    "# Print the initial and final points\n",
    "print(\"Initial Lower A-arm Points:\\n\", lower_initial)\n",
    "print(\"Final Lower A-arm Points:\\n\", lower_final)\n",
    "\n",
    "print(\"Initial Upper A-arm Points:\\n\", upper_initial)\n",
    "print(\"Final Upper A-arm Points:\\n\", upper_final)\n",
    "\n",
    "print(\"Initial Roll Center:\", rc_initial)\n",
    "print(\"Final Roll Center:\", rc_final)\n",
    "\"\"\""
   ]
  },
  {
   "cell_type": "code",
   "execution_count": 14,
   "metadata": {},
   "outputs": [
    {
     "data": {
      "application/vnd.plotly.v1+json": {
       "config": {
        "plotlyServerURL": "https://plot.ly"
       },
       "data": [
        {
         "marker": {
          "color": "orange"
         },
         "mode": "lines",
         "name": "Roll Centre Location, Z",
         "type": "scatter",
         "x": [
          0,
          -0.0008814794201991563,
          -0.0017629588403983126,
          -0.0026444382605974688,
          -0.003525917680796625,
          -0.004407397100995782,
          -0.0052888765211949375,
          -0.006170355941394094,
          -0.00705183536159325,
          -0.007933314781792407,
          -0.008814794201991563,
          -0.009696273622190719,
          -0.010577753042389875,
          -0.011459232462589031,
          -0.012340711882788189,
          -0.013222191302987345,
          -0.0141036707231865,
          -0.014985150143385657,
          -0.015866629563584814,
          -0.01674810898378397,
          -0.017629588403983126,
          -0.01851106782418228,
          -0.019392547244381438,
          -0.020274026664580596,
          -0.02115550608477975,
          -0.022036985504978908,
          -0.022918464925178062,
          -0.02379994434537722,
          -0.024681423765576378,
          -0.025562903185775532,
          -0.02644438260597469,
          -0.027325862026173844,
          -0.028207341446373,
          -0.02908882086657216,
          -0.029970300286771313,
          -0.03085177970697047,
          -0.03173325912716963,
          -0.03261473854736878,
          -0.03349621796756794,
          -0.034377697387767095,
          -0.03525917680796625,
          -0.03614065622816541,
          -0.03702213564836456,
          -0.03790361506856372,
          -0.038785094488762877,
          -0.039666573908962034,
          -0.04054805332916119,
          -0.04142953274936034,
          -0.0423110121695595,
          -0.04319249158975866,
          -0.044073971009957816,
          -0.044955450430156974,
          -0.045836929850356124,
          -0.04671840927055528,
          -0.04759988869075444,
          -0.0484813681109536,
          -0.049362847531152755,
          -0.050244326951351906,
          -0.051125806371551064,
          -0.05200728579175022,
          -0.05288876521194938,
          -0.05377024463214854,
          -0.05465172405234769,
          -0.055533203472546845,
          -0.056414682892746,
          -0.05729616231294516,
          -0.05817764173314432,
          -0.05905912115334347,
          -0.05994060057354263,
          -0.060822079993741784,
          -0.06170355941394094,
          -0.0625850388341401,
          -0.06346651825433926,
          -0.06434799767453842,
          -0.06522947709473756,
          -0.06611095651493672,
          -0.06699243593513587,
          -0.06787391535533503,
          -0.06875539477553419,
          -0.06963687419573335,
          -0.0705183536159325,
          -0.07139983303613166,
          -0.07228131245633082,
          -0.07316279187652998,
          -0.07404427129672912,
          -0.07492575071692828,
          -0.07580723013712744,
          -0.0766887095573266,
          -0.07757018897752575,
          -0.07845166839772491,
          -0.07933314781792407,
          -0.08021462723812323,
          -0.08109610665832238,
          -0.08197758607852154,
          -0.08285906549872069,
          -0.08374054491891984,
          -0.084622024339119,
          -0.08550350375931816,
          -0.08638498317951732,
          -0.08726646259971647
         ],
         "y": [
          10.6169616293786,
          10.593093719343575,
          10.569510033854923,
          10.546212102445626,
          10.523201460459124,
          10.500479642551836,
          10.478048107538447,
          10.455908477165162,
          10.434062067734846,
          10.412510697448841,
          10.391255625211056,
          10.370298567898057,
          10.349641020099135,
          10.329284486979455,
          10.30923053122578,
          10.289480810484765,
          10.270036659763203,
          10.250899790976574,
          10.232071846542883,
          10.21355408521341,
          10.19534862622747,
          10.17745630105628,
          10.15987908520203,
          10.142618734060866,
          10.125676400020728,
          10.109054257432193,
          10.093524003374261,
          10.077619110018329,
          10.062042801178062,
          10.046796782900708,
          10.031883293653003,
          10.017532953095696,
          10.003306433020258,
          9.989418139769036,
          9.975869923526878,
          9.962663567759853,
          9.949800847370586,
          9.937283556408419,
          9.925113485332796,
          9.913292427090239,
          9.90182219654315,
          9.890704624070555,
          9.879941492291913,
          9.869534644027011,
          9.859485910261983,
          9.849797112259552,
          9.840470123153816,
          9.831506744952023,
          9.82290886982852,
          9.814678332443489,
          9.80681703381994,
          9.799326808647786,
          9.792209553121756,
          9.785467165852861,
          9.779101516342136,
          9.77311451340064,
          9.76750806371415,
          9.76228405961554,
          9.757444466587918,
          9.75299113545761,
          9.748926069738731,
          9.745251165632311,
          9.741968355001573,
          9.739079648878064,
          9.73658693303679,
          9.734492135293115,
          9.732797395006362,
          9.731504487654766,
          9.730615583423367,
          9.730132495969956,
          9.730057296027123,
          9.73039203423464,
          9.731138593940749,
          9.732299132360952,
          9.733875591041294,
          9.735869976687987,
          9.738284372089359,
          9.741120820729812,
          9.744381295042533,
          9.748067877860052,
          9.7521827303337,
          9.756727730548727,
          9.761705126528378,
          9.767116861396413,
          9.772965023745988,
          9.779251830153587,
          9.785979219502266,
          9.793149335075865,
          9.80076441592411,
          9.808826378620003,
          9.817337258882622,
          9.826299557176187,
          9.835715033601867,
          9.845586021324,
          9.855914697071222,
          9.866702962301284,
          9.877952997684591,
          9.889667384526204,
          9.901847749211242,
          9.91449625965036
         ]
        }
       ],
       "layout": {
        "legend": {
         "orientation": "h",
         "x": 0.5,
         "y": -0.2
        },
        "template": {
         "data": {
          "bar": [
           {
            "error_x": {
             "color": "#2a3f5f"
            },
            "error_y": {
             "color": "#2a3f5f"
            },
            "marker": {
             "line": {
              "color": "#E5ECF6",
              "width": 0.5
             },
             "pattern": {
              "fillmode": "overlay",
              "size": 10,
              "solidity": 0.2
             }
            },
            "type": "bar"
           }
          ],
          "barpolar": [
           {
            "marker": {
             "line": {
              "color": "#E5ECF6",
              "width": 0.5
             },
             "pattern": {
              "fillmode": "overlay",
              "size": 10,
              "solidity": 0.2
             }
            },
            "type": "barpolar"
           }
          ],
          "carpet": [
           {
            "aaxis": {
             "endlinecolor": "#2a3f5f",
             "gridcolor": "white",
             "linecolor": "white",
             "minorgridcolor": "white",
             "startlinecolor": "#2a3f5f"
            },
            "baxis": {
             "endlinecolor": "#2a3f5f",
             "gridcolor": "white",
             "linecolor": "white",
             "minorgridcolor": "white",
             "startlinecolor": "#2a3f5f"
            },
            "type": "carpet"
           }
          ],
          "choropleth": [
           {
            "colorbar": {
             "outlinewidth": 0,
             "ticks": ""
            },
            "type": "choropleth"
           }
          ],
          "contour": [
           {
            "colorbar": {
             "outlinewidth": 0,
             "ticks": ""
            },
            "colorscale": [
             [
              0,
              "#0d0887"
             ],
             [
              0.1111111111111111,
              "#46039f"
             ],
             [
              0.2222222222222222,
              "#7201a8"
             ],
             [
              0.3333333333333333,
              "#9c179e"
             ],
             [
              0.4444444444444444,
              "#bd3786"
             ],
             [
              0.5555555555555556,
              "#d8576b"
             ],
             [
              0.6666666666666666,
              "#ed7953"
             ],
             [
              0.7777777777777778,
              "#fb9f3a"
             ],
             [
              0.8888888888888888,
              "#fdca26"
             ],
             [
              1,
              "#f0f921"
             ]
            ],
            "type": "contour"
           }
          ],
          "contourcarpet": [
           {
            "colorbar": {
             "outlinewidth": 0,
             "ticks": ""
            },
            "type": "contourcarpet"
           }
          ],
          "heatmap": [
           {
            "colorbar": {
             "outlinewidth": 0,
             "ticks": ""
            },
            "colorscale": [
             [
              0,
              "#0d0887"
             ],
             [
              0.1111111111111111,
              "#46039f"
             ],
             [
              0.2222222222222222,
              "#7201a8"
             ],
             [
              0.3333333333333333,
              "#9c179e"
             ],
             [
              0.4444444444444444,
              "#bd3786"
             ],
             [
              0.5555555555555556,
              "#d8576b"
             ],
             [
              0.6666666666666666,
              "#ed7953"
             ],
             [
              0.7777777777777778,
              "#fb9f3a"
             ],
             [
              0.8888888888888888,
              "#fdca26"
             ],
             [
              1,
              "#f0f921"
             ]
            ],
            "type": "heatmap"
           }
          ],
          "heatmapgl": [
           {
            "colorbar": {
             "outlinewidth": 0,
             "ticks": ""
            },
            "colorscale": [
             [
              0,
              "#0d0887"
             ],
             [
              0.1111111111111111,
              "#46039f"
             ],
             [
              0.2222222222222222,
              "#7201a8"
             ],
             [
              0.3333333333333333,
              "#9c179e"
             ],
             [
              0.4444444444444444,
              "#bd3786"
             ],
             [
              0.5555555555555556,
              "#d8576b"
             ],
             [
              0.6666666666666666,
              "#ed7953"
             ],
             [
              0.7777777777777778,
              "#fb9f3a"
             ],
             [
              0.8888888888888888,
              "#fdca26"
             ],
             [
              1,
              "#f0f921"
             ]
            ],
            "type": "heatmapgl"
           }
          ],
          "histogram": [
           {
            "marker": {
             "pattern": {
              "fillmode": "overlay",
              "size": 10,
              "solidity": 0.2
             }
            },
            "type": "histogram"
           }
          ],
          "histogram2d": [
           {
            "colorbar": {
             "outlinewidth": 0,
             "ticks": ""
            },
            "colorscale": [
             [
              0,
              "#0d0887"
             ],
             [
              0.1111111111111111,
              "#46039f"
             ],
             [
              0.2222222222222222,
              "#7201a8"
             ],
             [
              0.3333333333333333,
              "#9c179e"
             ],
             [
              0.4444444444444444,
              "#bd3786"
             ],
             [
              0.5555555555555556,
              "#d8576b"
             ],
             [
              0.6666666666666666,
              "#ed7953"
             ],
             [
              0.7777777777777778,
              "#fb9f3a"
             ],
             [
              0.8888888888888888,
              "#fdca26"
             ],
             [
              1,
              "#f0f921"
             ]
            ],
            "type": "histogram2d"
           }
          ],
          "histogram2dcontour": [
           {
            "colorbar": {
             "outlinewidth": 0,
             "ticks": ""
            },
            "colorscale": [
             [
              0,
              "#0d0887"
             ],
             [
              0.1111111111111111,
              "#46039f"
             ],
             [
              0.2222222222222222,
              "#7201a8"
             ],
             [
              0.3333333333333333,
              "#9c179e"
             ],
             [
              0.4444444444444444,
              "#bd3786"
             ],
             [
              0.5555555555555556,
              "#d8576b"
             ],
             [
              0.6666666666666666,
              "#ed7953"
             ],
             [
              0.7777777777777778,
              "#fb9f3a"
             ],
             [
              0.8888888888888888,
              "#fdca26"
             ],
             [
              1,
              "#f0f921"
             ]
            ],
            "type": "histogram2dcontour"
           }
          ],
          "mesh3d": [
           {
            "colorbar": {
             "outlinewidth": 0,
             "ticks": ""
            },
            "type": "mesh3d"
           }
          ],
          "parcoords": [
           {
            "line": {
             "colorbar": {
              "outlinewidth": 0,
              "ticks": ""
             }
            },
            "type": "parcoords"
           }
          ],
          "pie": [
           {
            "automargin": true,
            "type": "pie"
           }
          ],
          "scatter": [
           {
            "fillpattern": {
             "fillmode": "overlay",
             "size": 10,
             "solidity": 0.2
            },
            "type": "scatter"
           }
          ],
          "scatter3d": [
           {
            "line": {
             "colorbar": {
              "outlinewidth": 0,
              "ticks": ""
             }
            },
            "marker": {
             "colorbar": {
              "outlinewidth": 0,
              "ticks": ""
             }
            },
            "type": "scatter3d"
           }
          ],
          "scattercarpet": [
           {
            "marker": {
             "colorbar": {
              "outlinewidth": 0,
              "ticks": ""
             }
            },
            "type": "scattercarpet"
           }
          ],
          "scattergeo": [
           {
            "marker": {
             "colorbar": {
              "outlinewidth": 0,
              "ticks": ""
             }
            },
            "type": "scattergeo"
           }
          ],
          "scattergl": [
           {
            "marker": {
             "colorbar": {
              "outlinewidth": 0,
              "ticks": ""
             }
            },
            "type": "scattergl"
           }
          ],
          "scattermapbox": [
           {
            "marker": {
             "colorbar": {
              "outlinewidth": 0,
              "ticks": ""
             }
            },
            "type": "scattermapbox"
           }
          ],
          "scatterpolar": [
           {
            "marker": {
             "colorbar": {
              "outlinewidth": 0,
              "ticks": ""
             }
            },
            "type": "scatterpolar"
           }
          ],
          "scatterpolargl": [
           {
            "marker": {
             "colorbar": {
              "outlinewidth": 0,
              "ticks": ""
             }
            },
            "type": "scatterpolargl"
           }
          ],
          "scatterternary": [
           {
            "marker": {
             "colorbar": {
              "outlinewidth": 0,
              "ticks": ""
             }
            },
            "type": "scatterternary"
           }
          ],
          "surface": [
           {
            "colorbar": {
             "outlinewidth": 0,
             "ticks": ""
            },
            "colorscale": [
             [
              0,
              "#0d0887"
             ],
             [
              0.1111111111111111,
              "#46039f"
             ],
             [
              0.2222222222222222,
              "#7201a8"
             ],
             [
              0.3333333333333333,
              "#9c179e"
             ],
             [
              0.4444444444444444,
              "#bd3786"
             ],
             [
              0.5555555555555556,
              "#d8576b"
             ],
             [
              0.6666666666666666,
              "#ed7953"
             ],
             [
              0.7777777777777778,
              "#fb9f3a"
             ],
             [
              0.8888888888888888,
              "#fdca26"
             ],
             [
              1,
              "#f0f921"
             ]
            ],
            "type": "surface"
           }
          ],
          "table": [
           {
            "cells": {
             "fill": {
              "color": "#EBF0F8"
             },
             "line": {
              "color": "white"
             }
            },
            "header": {
             "fill": {
              "color": "#C8D4E3"
             },
             "line": {
              "color": "white"
             }
            },
            "type": "table"
           }
          ]
         },
         "layout": {
          "annotationdefaults": {
           "arrowcolor": "#2a3f5f",
           "arrowhead": 0,
           "arrowwidth": 1
          },
          "autotypenumbers": "strict",
          "coloraxis": {
           "colorbar": {
            "outlinewidth": 0,
            "ticks": ""
           }
          },
          "colorscale": {
           "diverging": [
            [
             0,
             "#8e0152"
            ],
            [
             0.1,
             "#c51b7d"
            ],
            [
             0.2,
             "#de77ae"
            ],
            [
             0.3,
             "#f1b6da"
            ],
            [
             0.4,
             "#fde0ef"
            ],
            [
             0.5,
             "#f7f7f7"
            ],
            [
             0.6,
             "#e6f5d0"
            ],
            [
             0.7,
             "#b8e186"
            ],
            [
             0.8,
             "#7fbc41"
            ],
            [
             0.9,
             "#4d9221"
            ],
            [
             1,
             "#276419"
            ]
           ],
           "sequential": [
            [
             0,
             "#0d0887"
            ],
            [
             0.1111111111111111,
             "#46039f"
            ],
            [
             0.2222222222222222,
             "#7201a8"
            ],
            [
             0.3333333333333333,
             "#9c179e"
            ],
            [
             0.4444444444444444,
             "#bd3786"
            ],
            [
             0.5555555555555556,
             "#d8576b"
            ],
            [
             0.6666666666666666,
             "#ed7953"
            ],
            [
             0.7777777777777778,
             "#fb9f3a"
            ],
            [
             0.8888888888888888,
             "#fdca26"
            ],
            [
             1,
             "#f0f921"
            ]
           ],
           "sequentialminus": [
            [
             0,
             "#0d0887"
            ],
            [
             0.1111111111111111,
             "#46039f"
            ],
            [
             0.2222222222222222,
             "#7201a8"
            ],
            [
             0.3333333333333333,
             "#9c179e"
            ],
            [
             0.4444444444444444,
             "#bd3786"
            ],
            [
             0.5555555555555556,
             "#d8576b"
            ],
            [
             0.6666666666666666,
             "#ed7953"
            ],
            [
             0.7777777777777778,
             "#fb9f3a"
            ],
            [
             0.8888888888888888,
             "#fdca26"
            ],
            [
             1,
             "#f0f921"
            ]
           ]
          },
          "colorway": [
           "#636efa",
           "#EF553B",
           "#00cc96",
           "#ab63fa",
           "#FFA15A",
           "#19d3f3",
           "#FF6692",
           "#B6E880",
           "#FF97FF",
           "#FECB52"
          ],
          "font": {
           "color": "#2a3f5f"
          },
          "geo": {
           "bgcolor": "white",
           "lakecolor": "white",
           "landcolor": "#E5ECF6",
           "showlakes": true,
           "showland": true,
           "subunitcolor": "white"
          },
          "hoverlabel": {
           "align": "left"
          },
          "hovermode": "closest",
          "mapbox": {
           "style": "light"
          },
          "paper_bgcolor": "white",
          "plot_bgcolor": "#E5ECF6",
          "polar": {
           "angularaxis": {
            "gridcolor": "white",
            "linecolor": "white",
            "ticks": ""
           },
           "bgcolor": "#E5ECF6",
           "radialaxis": {
            "gridcolor": "white",
            "linecolor": "white",
            "ticks": ""
           }
          },
          "scene": {
           "xaxis": {
            "backgroundcolor": "#E5ECF6",
            "gridcolor": "white",
            "gridwidth": 2,
            "linecolor": "white",
            "showbackground": true,
            "ticks": "",
            "zerolinecolor": "white"
           },
           "yaxis": {
            "backgroundcolor": "#E5ECF6",
            "gridcolor": "white",
            "gridwidth": 2,
            "linecolor": "white",
            "showbackground": true,
            "ticks": "",
            "zerolinecolor": "white"
           },
           "zaxis": {
            "backgroundcolor": "#E5ECF6",
            "gridcolor": "white",
            "gridwidth": 2,
            "linecolor": "white",
            "showbackground": true,
            "ticks": "",
            "zerolinecolor": "white"
           }
          },
          "shapedefaults": {
           "line": {
            "color": "#2a3f5f"
           }
          },
          "ternary": {
           "aaxis": {
            "gridcolor": "white",
            "linecolor": "white",
            "ticks": ""
           },
           "baxis": {
            "gridcolor": "white",
            "linecolor": "white",
            "ticks": ""
           },
           "bgcolor": "#E5ECF6",
           "caxis": {
            "gridcolor": "white",
            "linecolor": "white",
            "ticks": ""
           }
          },
          "title": {
           "x": 0.05
          },
          "xaxis": {
           "automargin": true,
           "gridcolor": "white",
           "linecolor": "white",
           "ticks": "",
           "title": {
            "standoff": 15
           },
           "zerolinecolor": "white",
           "zerolinewidth": 2
          },
          "yaxis": {
           "automargin": true,
           "gridcolor": "white",
           "linecolor": "white",
           "ticks": "",
           "title": {
            "standoff": 15
           },
           "zerolinecolor": "white",
           "zerolinewidth": 2
          }
         }
        },
        "title": {
         "text": "Roll Centre Location"
        },
        "xaxis": {
         "title": {
          "text": "Roll Angle (radians)"
         }
        },
        "yaxis": {
         "tickfont": {
          "color": "orange"
         },
         "title": {
          "font": {
           "color": "orange"
          },
          "text": "RC Location, Z (m)"
         }
        }
       }
      }
     },
     "metadata": {},
     "output_type": "display_data"
    }
   ],
   "source": [
    "# Plot RC vs roll\n",
    "\n",
    "fig = go.Figure()\n",
    "\n",
    "# Add the trace for \"rc_z\"\n",
    "fig.add_trace(\n",
    "    go.Scatter(\n",
    "        x=results[\"roll_angle\"],\n",
    "        y=results[\"rc_z\"],\n",
    "        mode='lines',\n",
    "        marker=dict(color='orange'),\n",
    "        name='Roll Centre Location, Z'\n",
    "    )\n",
    ")\n",
    "\n",
    "# Update layout to add a secondary y-axis\n",
    "fig.update_layout(\n",
    "    title='Roll Centre Location',\n",
    "    xaxis=dict(title='Roll Angle (radians)'),\n",
    "    yaxis=dict(\n",
    "        title='RC Location, Z (m)',\n",
    "        titlefont=dict(color='orange'),\n",
    "        tickfont=dict(color='orange')\n",
    "    ),\n",
    "    legend=dict(x=0.5, y=-0.2, orientation='h')  # Adjust legend position if needed\n",
    ")\n",
    "\n",
    "# Show the figure\n",
    "fig.show()"
   ]
  },
  {
   "cell_type": "code",
   "execution_count": 16,
   "metadata": {},
   "outputs": [
    {
     "data": {
      "application/vnd.plotly.v1+json": {
       "config": {
        "plotlyServerURL": "https://plot.ly"
       },
       "data": [
        {
         "marker": {
          "color": "red"
         },
         "mode": "lines",
         "name": "Roll Centre Location, z",
         "type": "scatter",
         "x": [
          0,
          -0.0008814794201991563,
          -0.0017629588403983126,
          -0.0026444382605974688,
          -0.003525917680796625,
          -0.004407397100995782,
          -0.0052888765211949375,
          -0.006170355941394094,
          -0.00705183536159325,
          -0.007933314781792407,
          -0.008814794201991563,
          -0.009696273622190719,
          -0.010577753042389875,
          -0.011459232462589031,
          -0.012340711882788189,
          -0.013222191302987345,
          -0.0141036707231865,
          -0.014985150143385657,
          -0.015866629563584814,
          -0.01674810898378397,
          -0.017629588403983126,
          -0.01851106782418228,
          -0.019392547244381438,
          -0.020274026664580596,
          -0.02115550608477975,
          -0.022036985504978908,
          -0.022918464925178062,
          -0.02379994434537722,
          -0.024681423765576378,
          -0.025562903185775532,
          -0.02644438260597469,
          -0.027325862026173844,
          -0.028207341446373,
          -0.02908882086657216,
          -0.029970300286771313,
          -0.03085177970697047,
          -0.03173325912716963,
          -0.03261473854736878,
          -0.03349621796756794,
          -0.034377697387767095,
          -0.03525917680796625,
          -0.03614065622816541,
          -0.03702213564836456,
          -0.03790361506856372,
          -0.038785094488762877,
          -0.039666573908962034,
          -0.04054805332916119,
          -0.04142953274936034,
          -0.0423110121695595,
          -0.04319249158975866,
          -0.044073971009957816,
          -0.044955450430156974,
          -0.045836929850356124,
          -0.04671840927055528,
          -0.04759988869075444,
          -0.0484813681109536,
          -0.049362847531152755,
          -0.050244326951351906,
          -0.051125806371551064,
          -0.05200728579175022,
          -0.05288876521194938,
          -0.05377024463214854,
          -0.05465172405234769,
          -0.055533203472546845,
          -0.056414682892746,
          -0.05729616231294516,
          -0.05817764173314432,
          -0.05905912115334347,
          -0.05994060057354263,
          -0.060822079993741784,
          -0.06170355941394094,
          -0.0625850388341401,
          -0.06346651825433926,
          -0.06434799767453842,
          -0.06522947709473756,
          -0.06611095651493672,
          -0.06699243593513587,
          -0.06787391535533503,
          -0.06875539477553419,
          -0.06963687419573335,
          -0.0705183536159325,
          -0.07139983303613166,
          -0.07228131245633082,
          -0.07316279187652998,
          -0.07404427129672912,
          -0.07492575071692828,
          -0.07580723013712744,
          -0.0766887095573266,
          -0.07757018897752575,
          -0.07845166839772491,
          -0.07933314781792407,
          -0.08021462723812323,
          -0.08109610665832238,
          -0.08197758607852154,
          -0.08285906549872069,
          -0.08374054491891984,
          -0.084622024339119,
          -0.08550350375931816,
          -0.08638498317951732,
          -0.08726646259971647
         ],
         "y": [
          26.74090857836282,
          26.740901661400816,
          26.740880809819156,
          26.74084611047192,
          26.74091126731892,
          26.74091342261596,
          26.740916495780656,
          26.74092060454158,
          26.740925833935858,
          26.740932180616042,
          26.74093960429673,
          26.740948000137866,
          26.74095720118426,
          26.740967012115245,
          26.740977113553754,
          26.740987239864126,
          26.74099716363411,
          26.74100652011459,
          26.74101512933178,
          26.741022760623206,
          26.741029303464284,
          26.74103468163462,
          26.74103896235374,
          26.74104223524999,
          26.741044640359824,
          26.741046459032393,
          26.740957955110165,
          26.740951311634483,
          26.740944707833435,
          26.74093850842394,
          26.74093305485597,
          26.740928699928137,
          26.74092574582998,
          26.740924435006228,
          26.740925020278965,
          26.740927718066818,
          26.740932804102055,
          26.740940562103006,
          26.74095136258715,
          26.740965600341394,
          26.74090870236941,
          26.740908580678916,
          26.74090843131329,
          26.740908253642708,
          26.740908037078217,
          26.740907783490993,
          26.740907488104128,
          26.740907145345727,
          26.740906753535313,
          26.74090630547317,
          26.740905787008625,
          26.740875658562853,
          26.74090906429084,
          26.740909074017964,
          26.740909075658855,
          26.740909068284584,
          26.7409090521357,
          26.7409090269991,
          26.740908991274633,
          26.74090895203605,
          26.740908905476648,
          26.74090885563714,
          26.74090880891156,
          26.74090876534676,
          26.740908730769338,
          26.740908712693663,
          26.740908699317853,
          26.74090871496328,
          26.740908743309323,
          26.74090879397014,
          26.74090888465519,
          26.740908998584114,
          26.740909149060922,
          26.74090932194571,
          26.74090952965085,
          26.740909780141134,
          26.740910056044257,
          26.740910376200453,
          26.740910725418754,
          26.74091111526765,
          26.740911526374813,
          26.74091198409252,
          26.74091247417922,
          26.740912995076645,
          26.740913549547788,
          26.7409141410706,
          26.740914768682607,
          26.7409154393752,
          26.740916121350093,
          26.740916874207617,
          26.740917655500084,
          26.74091846412401,
          26.74091934485654,
          26.74092025856928,
          26.740921225007924,
          26.74092225133187,
          26.74092335328852,
          26.740924503871383,
          26.740925735670096,
          26.740927069973814
         ],
         "yaxis": "y"
        }
       ],
       "layout": {
        "legend": {
         "orientation": "h",
         "x": 0.5,
         "y": -0.2
        },
        "template": {
         "data": {
          "bar": [
           {
            "error_x": {
             "color": "#2a3f5f"
            },
            "error_y": {
             "color": "#2a3f5f"
            },
            "marker": {
             "line": {
              "color": "#E5ECF6",
              "width": 0.5
             },
             "pattern": {
              "fillmode": "overlay",
              "size": 10,
              "solidity": 0.2
             }
            },
            "type": "bar"
           }
          ],
          "barpolar": [
           {
            "marker": {
             "line": {
              "color": "#E5ECF6",
              "width": 0.5
             },
             "pattern": {
              "fillmode": "overlay",
              "size": 10,
              "solidity": 0.2
             }
            },
            "type": "barpolar"
           }
          ],
          "carpet": [
           {
            "aaxis": {
             "endlinecolor": "#2a3f5f",
             "gridcolor": "white",
             "linecolor": "white",
             "minorgridcolor": "white",
             "startlinecolor": "#2a3f5f"
            },
            "baxis": {
             "endlinecolor": "#2a3f5f",
             "gridcolor": "white",
             "linecolor": "white",
             "minorgridcolor": "white",
             "startlinecolor": "#2a3f5f"
            },
            "type": "carpet"
           }
          ],
          "choropleth": [
           {
            "colorbar": {
             "outlinewidth": 0,
             "ticks": ""
            },
            "type": "choropleth"
           }
          ],
          "contour": [
           {
            "colorbar": {
             "outlinewidth": 0,
             "ticks": ""
            },
            "colorscale": [
             [
              0,
              "#0d0887"
             ],
             [
              0.1111111111111111,
              "#46039f"
             ],
             [
              0.2222222222222222,
              "#7201a8"
             ],
             [
              0.3333333333333333,
              "#9c179e"
             ],
             [
              0.4444444444444444,
              "#bd3786"
             ],
             [
              0.5555555555555556,
              "#d8576b"
             ],
             [
              0.6666666666666666,
              "#ed7953"
             ],
             [
              0.7777777777777778,
              "#fb9f3a"
             ],
             [
              0.8888888888888888,
              "#fdca26"
             ],
             [
              1,
              "#f0f921"
             ]
            ],
            "type": "contour"
           }
          ],
          "contourcarpet": [
           {
            "colorbar": {
             "outlinewidth": 0,
             "ticks": ""
            },
            "type": "contourcarpet"
           }
          ],
          "heatmap": [
           {
            "colorbar": {
             "outlinewidth": 0,
             "ticks": ""
            },
            "colorscale": [
             [
              0,
              "#0d0887"
             ],
             [
              0.1111111111111111,
              "#46039f"
             ],
             [
              0.2222222222222222,
              "#7201a8"
             ],
             [
              0.3333333333333333,
              "#9c179e"
             ],
             [
              0.4444444444444444,
              "#bd3786"
             ],
             [
              0.5555555555555556,
              "#d8576b"
             ],
             [
              0.6666666666666666,
              "#ed7953"
             ],
             [
              0.7777777777777778,
              "#fb9f3a"
             ],
             [
              0.8888888888888888,
              "#fdca26"
             ],
             [
              1,
              "#f0f921"
             ]
            ],
            "type": "heatmap"
           }
          ],
          "heatmapgl": [
           {
            "colorbar": {
             "outlinewidth": 0,
             "ticks": ""
            },
            "colorscale": [
             [
              0,
              "#0d0887"
             ],
             [
              0.1111111111111111,
              "#46039f"
             ],
             [
              0.2222222222222222,
              "#7201a8"
             ],
             [
              0.3333333333333333,
              "#9c179e"
             ],
             [
              0.4444444444444444,
              "#bd3786"
             ],
             [
              0.5555555555555556,
              "#d8576b"
             ],
             [
              0.6666666666666666,
              "#ed7953"
             ],
             [
              0.7777777777777778,
              "#fb9f3a"
             ],
             [
              0.8888888888888888,
              "#fdca26"
             ],
             [
              1,
              "#f0f921"
             ]
            ],
            "type": "heatmapgl"
           }
          ],
          "histogram": [
           {
            "marker": {
             "pattern": {
              "fillmode": "overlay",
              "size": 10,
              "solidity": 0.2
             }
            },
            "type": "histogram"
           }
          ],
          "histogram2d": [
           {
            "colorbar": {
             "outlinewidth": 0,
             "ticks": ""
            },
            "colorscale": [
             [
              0,
              "#0d0887"
             ],
             [
              0.1111111111111111,
              "#46039f"
             ],
             [
              0.2222222222222222,
              "#7201a8"
             ],
             [
              0.3333333333333333,
              "#9c179e"
             ],
             [
              0.4444444444444444,
              "#bd3786"
             ],
             [
              0.5555555555555556,
              "#d8576b"
             ],
             [
              0.6666666666666666,
              "#ed7953"
             ],
             [
              0.7777777777777778,
              "#fb9f3a"
             ],
             [
              0.8888888888888888,
              "#fdca26"
             ],
             [
              1,
              "#f0f921"
             ]
            ],
            "type": "histogram2d"
           }
          ],
          "histogram2dcontour": [
           {
            "colorbar": {
             "outlinewidth": 0,
             "ticks": ""
            },
            "colorscale": [
             [
              0,
              "#0d0887"
             ],
             [
              0.1111111111111111,
              "#46039f"
             ],
             [
              0.2222222222222222,
              "#7201a8"
             ],
             [
              0.3333333333333333,
              "#9c179e"
             ],
             [
              0.4444444444444444,
              "#bd3786"
             ],
             [
              0.5555555555555556,
              "#d8576b"
             ],
             [
              0.6666666666666666,
              "#ed7953"
             ],
             [
              0.7777777777777778,
              "#fb9f3a"
             ],
             [
              0.8888888888888888,
              "#fdca26"
             ],
             [
              1,
              "#f0f921"
             ]
            ],
            "type": "histogram2dcontour"
           }
          ],
          "mesh3d": [
           {
            "colorbar": {
             "outlinewidth": 0,
             "ticks": ""
            },
            "type": "mesh3d"
           }
          ],
          "parcoords": [
           {
            "line": {
             "colorbar": {
              "outlinewidth": 0,
              "ticks": ""
             }
            },
            "type": "parcoords"
           }
          ],
          "pie": [
           {
            "automargin": true,
            "type": "pie"
           }
          ],
          "scatter": [
           {
            "fillpattern": {
             "fillmode": "overlay",
             "size": 10,
             "solidity": 0.2
            },
            "type": "scatter"
           }
          ],
          "scatter3d": [
           {
            "line": {
             "colorbar": {
              "outlinewidth": 0,
              "ticks": ""
             }
            },
            "marker": {
             "colorbar": {
              "outlinewidth": 0,
              "ticks": ""
             }
            },
            "type": "scatter3d"
           }
          ],
          "scattercarpet": [
           {
            "marker": {
             "colorbar": {
              "outlinewidth": 0,
              "ticks": ""
             }
            },
            "type": "scattercarpet"
           }
          ],
          "scattergeo": [
           {
            "marker": {
             "colorbar": {
              "outlinewidth": 0,
              "ticks": ""
             }
            },
            "type": "scattergeo"
           }
          ],
          "scattergl": [
           {
            "marker": {
             "colorbar": {
              "outlinewidth": 0,
              "ticks": ""
             }
            },
            "type": "scattergl"
           }
          ],
          "scattermapbox": [
           {
            "marker": {
             "colorbar": {
              "outlinewidth": 0,
              "ticks": ""
             }
            },
            "type": "scattermapbox"
           }
          ],
          "scatterpolar": [
           {
            "marker": {
             "colorbar": {
              "outlinewidth": 0,
              "ticks": ""
             }
            },
            "type": "scatterpolar"
           }
          ],
          "scatterpolargl": [
           {
            "marker": {
             "colorbar": {
              "outlinewidth": 0,
              "ticks": ""
             }
            },
            "type": "scatterpolargl"
           }
          ],
          "scatterternary": [
           {
            "marker": {
             "colorbar": {
              "outlinewidth": 0,
              "ticks": ""
             }
            },
            "type": "scatterternary"
           }
          ],
          "surface": [
           {
            "colorbar": {
             "outlinewidth": 0,
             "ticks": ""
            },
            "colorscale": [
             [
              0,
              "#0d0887"
             ],
             [
              0.1111111111111111,
              "#46039f"
             ],
             [
              0.2222222222222222,
              "#7201a8"
             ],
             [
              0.3333333333333333,
              "#9c179e"
             ],
             [
              0.4444444444444444,
              "#bd3786"
             ],
             [
              0.5555555555555556,
              "#d8576b"
             ],
             [
              0.6666666666666666,
              "#ed7953"
             ],
             [
              0.7777777777777778,
              "#fb9f3a"
             ],
             [
              0.8888888888888888,
              "#fdca26"
             ],
             [
              1,
              "#f0f921"
             ]
            ],
            "type": "surface"
           }
          ],
          "table": [
           {
            "cells": {
             "fill": {
              "color": "#EBF0F8"
             },
             "line": {
              "color": "white"
             }
            },
            "header": {
             "fill": {
              "color": "#C8D4E3"
             },
             "line": {
              "color": "white"
             }
            },
            "type": "table"
           }
          ]
         },
         "layout": {
          "annotationdefaults": {
           "arrowcolor": "#2a3f5f",
           "arrowhead": 0,
           "arrowwidth": 1
          },
          "autotypenumbers": "strict",
          "coloraxis": {
           "colorbar": {
            "outlinewidth": 0,
            "ticks": ""
           }
          },
          "colorscale": {
           "diverging": [
            [
             0,
             "#8e0152"
            ],
            [
             0.1,
             "#c51b7d"
            ],
            [
             0.2,
             "#de77ae"
            ],
            [
             0.3,
             "#f1b6da"
            ],
            [
             0.4,
             "#fde0ef"
            ],
            [
             0.5,
             "#f7f7f7"
            ],
            [
             0.6,
             "#e6f5d0"
            ],
            [
             0.7,
             "#b8e186"
            ],
            [
             0.8,
             "#7fbc41"
            ],
            [
             0.9,
             "#4d9221"
            ],
            [
             1,
             "#276419"
            ]
           ],
           "sequential": [
            [
             0,
             "#0d0887"
            ],
            [
             0.1111111111111111,
             "#46039f"
            ],
            [
             0.2222222222222222,
             "#7201a8"
            ],
            [
             0.3333333333333333,
             "#9c179e"
            ],
            [
             0.4444444444444444,
             "#bd3786"
            ],
            [
             0.5555555555555556,
             "#d8576b"
            ],
            [
             0.6666666666666666,
             "#ed7953"
            ],
            [
             0.7777777777777778,
             "#fb9f3a"
            ],
            [
             0.8888888888888888,
             "#fdca26"
            ],
            [
             1,
             "#f0f921"
            ]
           ],
           "sequentialminus": [
            [
             0,
             "#0d0887"
            ],
            [
             0.1111111111111111,
             "#46039f"
            ],
            [
             0.2222222222222222,
             "#7201a8"
            ],
            [
             0.3333333333333333,
             "#9c179e"
            ],
            [
             0.4444444444444444,
             "#bd3786"
            ],
            [
             0.5555555555555556,
             "#d8576b"
            ],
            [
             0.6666666666666666,
             "#ed7953"
            ],
            [
             0.7777777777777778,
             "#fb9f3a"
            ],
            [
             0.8888888888888888,
             "#fdca26"
            ],
            [
             1,
             "#f0f921"
            ]
           ]
          },
          "colorway": [
           "#636efa",
           "#EF553B",
           "#00cc96",
           "#ab63fa",
           "#FFA15A",
           "#19d3f3",
           "#FF6692",
           "#B6E880",
           "#FF97FF",
           "#FECB52"
          ],
          "font": {
           "color": "#2a3f5f"
          },
          "geo": {
           "bgcolor": "white",
           "lakecolor": "white",
           "landcolor": "#E5ECF6",
           "showlakes": true,
           "showland": true,
           "subunitcolor": "white"
          },
          "hoverlabel": {
           "align": "left"
          },
          "hovermode": "closest",
          "mapbox": {
           "style": "light"
          },
          "paper_bgcolor": "white",
          "plot_bgcolor": "#E5ECF6",
          "polar": {
           "angularaxis": {
            "gridcolor": "white",
            "linecolor": "white",
            "ticks": ""
           },
           "bgcolor": "#E5ECF6",
           "radialaxis": {
            "gridcolor": "white",
            "linecolor": "white",
            "ticks": ""
           }
          },
          "scene": {
           "xaxis": {
            "backgroundcolor": "#E5ECF6",
            "gridcolor": "white",
            "gridwidth": 2,
            "linecolor": "white",
            "showbackground": true,
            "ticks": "",
            "zerolinecolor": "white"
           },
           "yaxis": {
            "backgroundcolor": "#E5ECF6",
            "gridcolor": "white",
            "gridwidth": 2,
            "linecolor": "white",
            "showbackground": true,
            "ticks": "",
            "zerolinecolor": "white"
           },
           "zaxis": {
            "backgroundcolor": "#E5ECF6",
            "gridcolor": "white",
            "gridwidth": 2,
            "linecolor": "white",
            "showbackground": true,
            "ticks": "",
            "zerolinecolor": "white"
           }
          },
          "shapedefaults": {
           "line": {
            "color": "#2a3f5f"
           }
          },
          "ternary": {
           "aaxis": {
            "gridcolor": "white",
            "linecolor": "white",
            "ticks": ""
           },
           "baxis": {
            "gridcolor": "white",
            "linecolor": "white",
            "ticks": ""
           },
           "bgcolor": "#E5ECF6",
           "caxis": {
            "gridcolor": "white",
            "linecolor": "white",
            "ticks": ""
           }
          },
          "title": {
           "x": 0.05
          },
          "xaxis": {
           "automargin": true,
           "gridcolor": "white",
           "linecolor": "white",
           "ticks": "",
           "title": {
            "standoff": 15
           },
           "zerolinecolor": "white",
           "zerolinewidth": 2
          },
          "yaxis": {
           "automargin": true,
           "gridcolor": "white",
           "linecolor": "white",
           "ticks": "",
           "title": {
            "standoff": 15
           },
           "zerolinecolor": "white",
           "zerolinewidth": 2
          }
         }
        },
        "title": {
         "text": "bump"
        },
        "xaxis": {
         "title": {
          "text": "Jounce (m)"
         }
        },
        "yaxis": {
         "tickfont": {
          "color": "red"
         },
         "title": {
          "font": {
           "color": "red"
          },
          "text": "RC Location, Z (m)"
         }
        }
       }
      }
     },
     "metadata": {},
     "output_type": "display_data"
    }
   ],
   "source": [
    "# Plot Bump steer vs roll\n",
    "\n",
    "fig = go.Figure()\n",
    "\n",
    "fig.add_trace(\n",
    "    go.Scatter(\n",
    "        x=results[\"roll_angle\"],\n",
    "        y=results[\"Bump_Steer\"],\n",
    "        mode='lines',\n",
    "        marker=dict(color='red'),\n",
    "        name='Roll Centre Location, z',\n",
    "        yaxis='y'  # Explicitly associate this trace with the primary y-axis\n",
    "    )\n",
    ")\n",
    "\n",
    "# Update layout to add a secondary y-axis\n",
    "fig.update_layout(\n",
    "    title='bump',\n",
    "    xaxis=dict(title='Jounce (m)'),\n",
    "    yaxis=dict(\n",
    "        title='RC Location, Z (m)',\n",
    "        titlefont=dict(color='red'),\n",
    "        tickfont=dict(color='red')\n",
    "    ),\n",
    "    legend=dict(x=0.5, y=-0.2, orientation='h')  # Adjust legend position if needed\n",
    ")\n",
    "\n",
    "# Show the figure\n",
    "fig.show()\n"
   ]
  },
  {
   "cell_type": "code",
   "execution_count": null,
   "metadata": {},
   "outputs": [
    {
     "data": {
      "application/vnd.plotly.v1+json": {
       "config": {
        "plotlyServerURL": "https://plot.ly"
       },
       "data": [
        {
         "marker": {
          "color": "red"
         },
         "mode": "lines",
         "name": "lower Leading Z Heights",
         "type": "scatter",
         "x": [
          0,
          -0.0008814794201991563,
          -0.0017629588403983126,
          -0.0026444382605974688,
          -0.003525917680796625,
          -0.004407397100995782,
          -0.0052888765211949375,
          -0.006170355941394094,
          -0.00705183536159325,
          -0.007933314781792407,
          -0.008814794201991563,
          -0.009696273622190719,
          -0.010577753042389875,
          -0.011459232462589031,
          -0.012340711882788189,
          -0.013222191302987345,
          -0.0141036707231865,
          -0.014985150143385657,
          -0.015866629563584814,
          -0.01674810898378397,
          -0.017629588403983126,
          -0.01851106782418228,
          -0.019392547244381438,
          -0.020274026664580596,
          -0.02115550608477975,
          -0.022036985504978908,
          -0.022918464925178062,
          -0.02379994434537722,
          -0.024681423765576378,
          -0.025562903185775532,
          -0.02644438260597469,
          -0.027325862026173844,
          -0.028207341446373,
          -0.02908882086657216,
          -0.029970300286771313,
          -0.03085177970697047,
          -0.03173325912716963,
          -0.03261473854736878,
          -0.03349621796756794,
          -0.034377697387767095,
          -0.03525917680796625,
          -0.03614065622816541,
          -0.03702213564836456,
          -0.03790361506856372,
          -0.038785094488762877,
          -0.039666573908962034,
          -0.04054805332916119,
          -0.04142953274936034,
          -0.0423110121695595,
          -0.04319249158975866,
          -0.044073971009957816,
          -0.044955450430156974,
          -0.045836929850356124,
          -0.04671840927055528,
          -0.04759988869075444,
          -0.0484813681109536,
          -0.049362847531152755,
          -0.050244326951351906,
          -0.051125806371551064,
          -0.05200728579175022,
          -0.05288876521194938,
          -0.05377024463214854,
          -0.05465172405234769,
          -0.055533203472546845,
          -0.056414682892746,
          -0.05729616231294516,
          -0.05817764173314432,
          -0.05905912115334347,
          -0.05994060057354263,
          -0.060822079993741784,
          -0.06170355941394094,
          -0.0625850388341401,
          -0.06346651825433926,
          -0.06434799767453842,
          -0.06522947709473756,
          -0.06611095651493672,
          -0.06699243593513587,
          -0.06787391535533503,
          -0.06875539477553419,
          -0.06963687419573335,
          -0.0705183536159325,
          -0.07139983303613166,
          -0.07228131245633082,
          -0.07316279187652998,
          -0.07404427129672912,
          -0.07492575071692828,
          -0.07580723013712744,
          -0.0766887095573266,
          -0.07757018897752575,
          -0.07845166839772491,
          -0.07933314781792407,
          -0.08021462723812323,
          -0.08109610665832238,
          -0.08197758607852154,
          -0.08285906549872069,
          -0.08374054491891984,
          -0.084622024339119,
          -0.08550350375931816,
          -0.08638498317951732,
          -0.08726646259971647
         ],
         "y": [
          87,
          86.85452623946588,
          86.70899320480189,
          86.56340095444533,
          86.41774954821422,
          86.27203904731913,
          86.12626951437497,
          85.9804410134117,
          85.83455360988975,
          85.68860737070202,
          85.5426023642065,
          85.39653866020721,
          85.25041633,
          85.10423544635992,
          84.95799608356077,
          84.81169831739106,
          84.66534222517312,
          84.51892788573416,
          84.37245537948539,
          84.2259247883967,
          84.07933619595585,
          83.9326896873638,
          83.78598534921228,
          83.63922326988742,
          83.49240353937537,
          83.34552624916354,
          83.19859149262123,
          83.05159958275728,
          82.90455021837079,
          82.7574436823921,
          82.61028007524615,
          82.46305949929481,
          82.31578214955343,
          82.16844796250227,
          82.02105712513159,
          81.87360974688883,
          81.7261059390129,
          81.5785458145695,
          81.4309294884794,
          81.28325707752143,
          81.13552870034957,
          80.98774447751967,
          80.83990453150254,
          80.69200898665491,
          80.54405796930673,
          80.39605160772838,
          80.24799003214474,
          80.09987337480023,
          79.95170176987219,
          79.80347535362243,
          79.65519426428499,
          79.50685864219433,
          79.35846862967354,
          79.21002437117473,
          79.06152601323895,
          78.91297370447428,
          78.76436759564734,
          78.61570783965404,
          78.4669945915176,
          78.31822800851836,
          78.1694082499624,
          78.02053547755615,
          77.87160985506877,
          77.72263154854178,
          77.5736007263816,
          77.42451755905878,
          77.27538221937434,
          77.12619488278068,
          76.9769557264184,
          76.8276649304384,
          76.6783226766923,
          76.5289291498529,
          76.37948453694109,
          76.22998902703159,
          76.08044281215881,
          75.9308460863411,
          75.78119904616403,
          75.63150189083944,
          75.48175482197115,
          75.33195804348176,
          75.18211176205746,
          75.03221618711547,
          74.88227152990132,
          74.7322780051613,
          74.58223582942777,
          74.43214522219965,
          74.28200640595524,
          74.13181960501875,
          73.98158504693247,
          73.8313029622076,
          73.68097358305815,
          73.53059714472488,
          73.38017388666778,
          73.22970404870121,
          73.0791878752506,
          72.92862561301925,
          72.7780175105231,
          72.62736382002966,
          72.47666479813068,
          72.32592070075358
         ],
         "yaxis": "y"
        },
        {
         "marker": {
          "color": "orange"
         },
         "mode": "lines",
         "name": "Upper Leading Z Heights",
         "type": "scatter",
         "x": [
          0,
          -0.0008814794201991563,
          -0.0017629588403983126,
          -0.0026444382605974688,
          -0.003525917680796625,
          -0.004407397100995782,
          -0.0052888765211949375,
          -0.006170355941394094,
          -0.00705183536159325,
          -0.007933314781792407,
          -0.008814794201991563,
          -0.009696273622190719,
          -0.010577753042389875,
          -0.011459232462589031,
          -0.012340711882788189,
          -0.013222191302987345,
          -0.0141036707231865,
          -0.014985150143385657,
          -0.015866629563584814,
          -0.01674810898378397,
          -0.017629588403983126,
          -0.01851106782418228,
          -0.019392547244381438,
          -0.020274026664580596,
          -0.02115550608477975,
          -0.022036985504978908,
          -0.022918464925178062,
          -0.02379994434537722,
          -0.024681423765576378,
          -0.025562903185775532,
          -0.02644438260597469,
          -0.027325862026173844,
          -0.028207341446373,
          -0.02908882086657216,
          -0.029970300286771313,
          -0.03085177970697047,
          -0.03173325912716963,
          -0.03261473854736878,
          -0.03349621796756794,
          -0.034377697387767095,
          -0.03525917680796625,
          -0.03614065622816541,
          -0.03702213564836456,
          -0.03790361506856372,
          -0.038785094488762877,
          -0.039666573908962034,
          -0.04054805332916119,
          -0.04142953274936034,
          -0.0423110121695595,
          -0.04319249158975866,
          -0.044073971009957816,
          -0.044955450430156974,
          -0.045836929850356124,
          -0.04671840927055528,
          -0.04759988869075444,
          -0.0484813681109536,
          -0.049362847531152755,
          -0.050244326951351906,
          -0.051125806371551064,
          -0.05200728579175022,
          -0.05288876521194938,
          -0.05377024463214854,
          -0.05465172405234769,
          -0.055533203472546845,
          -0.056414682892746,
          -0.05729616231294516,
          -0.05817764173314432,
          -0.05905912115334347,
          -0.05994060057354263,
          -0.060822079993741784,
          -0.06170355941394094,
          -0.0625850388341401,
          -0.06346651825433926,
          -0.06434799767453842,
          -0.06522947709473756,
          -0.06611095651493672,
          -0.06699243593513587,
          -0.06787391535533503,
          -0.06875539477553419,
          -0.06963687419573335,
          -0.0705183536159325,
          -0.07139983303613166,
          -0.07228131245633082,
          -0.07316279187652998,
          -0.07404427129672912,
          -0.07492575071692828,
          -0.07580723013712744,
          -0.0766887095573266,
          -0.07757018897752575,
          -0.07845166839772491,
          -0.07933314781792407,
          -0.08021462723812323,
          -0.08109610665832238,
          -0.08197758607852154,
          -0.08285906549872069,
          -0.08374054491891984,
          -0.084622024339119,
          -0.08550350375931816,
          -0.08638498317951732,
          -0.08726646259971647
         ],
         "y": [
          220,
          219.78836362061884,
          219.57656467672948,
          219.3646032782582,
          219.15247953659227,
          218.94019356459162,
          218.72774547660075,
          218.5151353884592,
          218.3023634175171,
          218.0894296826371,
          217.87633430422682,
          217.6630774042199,
          217.44965910612171,
          217.23607953499672,
          217.02233881748782,
          216.8084370818325,
          216.5943744578818,
          216.38015107707128,
          216.16576707250016,
          215.95122257890603,
          215.73651773262378,
          215.52165267178117,
          215.30662753597613,
          215.09144246668043,
          214.8760976070453,
          214.66059310180256,
          214.44492909764529,
          214.22910596098538,
          214.01312344410414,
          213.79698188349346,
          213.58068143321884,
          213.3642222493619,
          213.14760458073678,
          212.93082841770155,
          212.71389400120344,
          212.49680149472553,
          212.27955106362145,
          212.0621428751504,
          211.84457709850562,
          211.62685390481693,
          211.40897346716827,
          211.19093596062405,
          210.97274156224228,
          210.75439045104548,
          210.53588280810808,
          210.31721881652334,
          210.0983986614175,
          209.8794225300148,
          209.66029061155092,
          209.44100309742416,
          209.22156018108345,
          209.0019620581565,
          208.78220892633766,
          208.5623009855287,
          208.34223843779836,
          208.12202148736046,
          207.9016503406655,
          207.68112520637135,
          207.46044629534092,
          207.23961382077235,
          207.01862799796731,
          206.79748904470574,
          206.576197180908,
          206.35475262884466,
          206.1331556132288,
          205.91140636091538,
          205.68950510116733,
          205.46745206597663,
          205.245247489101,
          205.02289160738587,
          204.80038465945486,
          204.57772688683013,
          204.3549185334594,
          204.13195984542136,
          203.90885107183186,
          203.68559246386775,
          203.46218427535027,
          203.23862676280413,
          203.0149201852231,
          202.79106480399676,
          202.56706088335528,
          202.34290869033674,
          202.11860849388464,
          201.8941605665198,
          201.66956518262617,
          201.44482261963094,
          201.21993315801745,
          200.9948970801916,
          200.76971467185402,
          200.54438622175078,
          200.31891202040734,
          200.09329236145254,
          199.8675275428107,
          199.64161786283708,
          199.4155636245743,
          199.18936513341916,
          198.96302269665742,
          198.73653662540258,
          198.50990723516864,
          198.28313484088142
         ],
         "yaxis": "y"
        },
        {
         "marker": {
          "color": "blue"
         },
         "mode": "lines",
         "name": "Lower Leading Y Positions",
         "type": "scatter",
         "x": [
          0,
          -0.0008814794201991563,
          -0.0017629588403983126,
          -0.0026444382605974688,
          -0.003525917680796625,
          -0.004407397100995782,
          -0.0052888765211949375,
          -0.006170355941394094,
          -0.00705183536159325,
          -0.007933314781792407,
          -0.008814794201991563,
          -0.009696273622190719,
          -0.010577753042389875,
          -0.011459232462589031,
          -0.012340711882788189,
          -0.013222191302987345,
          -0.0141036707231865,
          -0.014985150143385657,
          -0.015866629563584814,
          -0.01674810898378397,
          -0.017629588403983126,
          -0.01851106782418228,
          -0.019392547244381438,
          -0.020274026664580596,
          -0.02115550608477975,
          -0.022036985504978908,
          -0.022918464925178062,
          -0.02379994434537722,
          -0.024681423765576378,
          -0.025562903185775532,
          -0.02644438260597469,
          -0.027325862026173844,
          -0.028207341446373,
          -0.02908882086657216,
          -0.029970300286771313,
          -0.03085177970697047,
          -0.03173325912716963,
          -0.03261473854736878,
          -0.03349621796756794,
          -0.034377697387767095,
          -0.03525917680796625,
          -0.03614065622816541,
          -0.03702213564836456,
          -0.03790361506856372,
          -0.038785094488762877,
          -0.039666573908962034,
          -0.04054805332916119,
          -0.04142953274936034,
          -0.0423110121695595,
          -0.04319249158975866,
          -0.044073971009957816,
          -0.044955450430156974,
          -0.045836929850356124,
          -0.04671840927055528,
          -0.04759988869075444,
          -0.0484813681109536,
          -0.049362847531152755,
          -0.050244326951351906,
          -0.051125806371551064,
          -0.05200728579175022,
          -0.05288876521194938,
          -0.05377024463214854,
          -0.05465172405234769,
          -0.055533203472546845,
          -0.056414682892746,
          -0.05729616231294516,
          -0.05817764173314432,
          -0.05905912115334347,
          -0.05994060057354263,
          -0.060822079993741784,
          -0.06170355941394094,
          -0.0625850388341401,
          -0.06346651825433926,
          -0.06434799767453842,
          -0.06522947709473756,
          -0.06611095651493672,
          -0.06699243593513587,
          -0.06787391535533503,
          -0.06875539477553419,
          -0.06963687419573335,
          -0.0705183536159325,
          -0.07139983303613166,
          -0.07228131245633082,
          -0.07316279187652998,
          -0.07404427129672912,
          -0.07492575071692828,
          -0.07580723013712744,
          -0.0766887095573266,
          -0.07757018897752575,
          -0.07845166839772491,
          -0.07933314781792407,
          -0.08021462723812323,
          -0.08109610665832238,
          -0.08197758607852154,
          -0.08285906549872069,
          -0.08374054491891984,
          -0.084622024339119,
          -0.08550350375931816,
          -0.08638498317951732,
          -0.08726646259971647
         ],
         "y": [
          165,
          165.06726596466845,
          165.13444574921562,
          165.20153854977988,
          165.2685435571439,
          165.33545995671054,
          165.40228692851403,
          165.4690236476886,
          165.53566928312125,
          165.60222300045115,
          165.66868395630172,
          165.73505130636028,
          165.80132419708485,
          165.86750177148306,
          165.93358316722032,
          165.99956751595488,
          166.06545394255863,
          166.13124157095803,
          166.19692951445978,
          166.26251688156796,
          166.32800278183095,
          166.39338630450547,
          166.45866655642442,
          166.52384261837494,
          166.58891356891667,
          166.65387849379118,
          166.71873645134315,
          166.783468179471,
          166.84810693299067,
          166.91263567701324,
          166.97705344703408,
          167.04135925808646,
          167.10554567624203,
          167.1696239401082,
          167.23358724710098,
          167.2974345957809,
          167.36116498041594,
          167.42477738938115,
          167.48827080427176,
          167.55164420060285,
          167.61489654761397,
          167.67802680755884,
          167.74103393584886,
          167.80391688338534,
          167.8666745925869,
          167.92930599998346,
          167.9918100361864,
          168.05418562338298,
          168.1164316803136,
          168.1785471156238,
          168.240530833977,
          168.3023817307439,
          168.36409869779365,
          168.425680617819,
          168.48712636688035,
          168.54843481592587,
          168.60960482754743,
          168.6706352578917,
          168.73152495729738,
          168.79227276581358,
          168.85287752280914,
          168.91333805311262,
          168.97365318054614,
          169.03382172046526,
          169.09384247715272,
          169.1537142551798,
          169.21343585023368,
          169.27300603893104,
          169.3324236123619,
          169.39168733158348,
          169.45079597221195,
          169.50974828761744,
          169.56854302537585,
          169.62717893682662,
          169.68565474905606,
          169.7439691960368,
          169.80212100078106,
          169.86010887431698,
          169.9179315232854,
          169.97558765232543,
          170.0330759516061,
          170.09039509863334,
          170.1475437840088,
          170.2045206649447,
          170.26132441356475,
          170.31795368453513,
          170.37440711575417,
          170.430683358874,
          170.48678104316696,
          170.5426987831451,
          170.59843521128974,
          170.6539889440859,
          170.70935855350726,
          170.76454266366,
          170.81953984533507,
          170.8743486745123,
          170.92896774309662,
          170.98339561277845,
          171.03763080333655,
          171.09167190902755
         ],
         "yaxis": "y2"
        },
        {
         "marker": {
          "color": "green"
         },
         "mode": "lines",
         "name": "Upper Leading Y Positions",
         "type": "scatter",
         "x": [
          0,
          -0.0008814794201991563,
          -0.0017629588403983126,
          -0.0026444382605974688,
          -0.003525917680796625,
          -0.004407397100995782,
          -0.0052888765211949375,
          -0.006170355941394094,
          -0.00705183536159325,
          -0.007933314781792407,
          -0.008814794201991563,
          -0.009696273622190719,
          -0.010577753042389875,
          -0.011459232462589031,
          -0.012340711882788189,
          -0.013222191302987345,
          -0.0141036707231865,
          -0.014985150143385657,
          -0.015866629563584814,
          -0.01674810898378397,
          -0.017629588403983126,
          -0.01851106782418228,
          -0.019392547244381438,
          -0.020274026664580596,
          -0.02115550608477975,
          -0.022036985504978908,
          -0.022918464925178062,
          -0.02379994434537722,
          -0.024681423765576378,
          -0.025562903185775532,
          -0.02644438260597469,
          -0.027325862026173844,
          -0.028207341446373,
          -0.02908882086657216,
          -0.029970300286771313,
          -0.03085177970697047,
          -0.03173325912716963,
          -0.03261473854736878,
          -0.03349621796756794,
          -0.034377697387767095,
          -0.03525917680796625,
          -0.03614065622816541,
          -0.03702213564836456,
          -0.03790361506856372,
          -0.038785094488762877,
          -0.039666573908962034,
          -0.04054805332916119,
          -0.04142953274936034,
          -0.0423110121695595,
          -0.04319249158975866,
          -0.044073971009957816,
          -0.044955450430156974,
          -0.045836929850356124,
          -0.04671840927055528,
          -0.04759988869075444,
          -0.0484813681109536,
          -0.049362847531152755,
          -0.050244326951351906,
          -0.051125806371551064,
          -0.05200728579175022,
          -0.05288876521194938,
          -0.05377024463214854,
          -0.05465172405234769,
          -0.055533203472546845,
          -0.056414682892746,
          -0.05729616231294516,
          -0.05817764173314432,
          -0.05905912115334347,
          -0.05994060057354263,
          -0.060822079993741784,
          -0.06170355941394094,
          -0.0625850388341401,
          -0.06346651825433926,
          -0.06434799767453842,
          -0.06522947709473756,
          -0.06611095651493672,
          -0.06699243593513587,
          -0.06787391535533503,
          -0.06875539477553419,
          -0.06963687419573335,
          -0.0705183536159325,
          -0.07139983303613166,
          -0.07228131245633082,
          -0.07316279187652998,
          -0.07404427129672912,
          -0.07492575071692828,
          -0.07580723013712744,
          -0.0766887095573266,
          -0.07757018897752575,
          -0.07845166839772491,
          -0.07933314781792407,
          -0.08021462723812323,
          -0.08109610665832238,
          -0.08197758607852154,
          -0.08285906549872069,
          -0.08374054491891984,
          -0.084622024339119,
          -0.08550350375931816,
          -0.08638498317951732,
          -0.08726646259971647
         ],
         "y": [
          240,
          240.18447357465075,
          240.36880260266534,
          240.55298618915654,
          240.73702343392674,
          240.9209134314441,
          241.1046552708536,
          241.28824803644608,
          241.47169080631053,
          241.65498265533412,
          241.83812264943404,
          242.02110985363737,
          242.20394332378777,
          242.38662211232452,
          242.56914526639105,
          242.7515118271696,
          242.93372082910236,
          243.11577130573255,
          243.29766228002987,
          243.47939277020797,
          243.66096179557135,
          243.8423683551795,
          244.02361146571465,
          244.20469011786017,
          244.38560330011867,
          244.56635000822166,
          244.74692921055063,
          244.92732155508796,
          245.1075602067806,
          245.28762804091778,
          245.4675240032204,
          245.6472470189944,
          245.82678956463164,
          246.00616278910704,
          246.18535980025192,
          246.36437950708938,
          246.54322081439784,
          246.72188262111047,
          246.90036381942852,
          247.07866329552078,
          247.25677992932862,
          247.43471259385552,
          247.61246015531069,
          247.79002147544148,
          247.9673954075608,
          248.14458079914095,
          248.32157649178427,
          248.4983813187173,
          248.67499410976825,
          248.85141368471898,
          249.02763885941806,
          249.20366844046978,
          249.37950123102578,
          249.55513602511024,
          249.73057161016368,
          249.90580676856354,
          250.08084027437997,
          250.255670895287,
          250.43029739320002,
          250.60471851979383,
          250.7789330261125,
          250.95293964870916,
          251.12673712317985,
          251.3003241767038,
          251.4736995254368,
          251.646861885873,
          251.81980996567208,
          251.9925424534731,
          252.1650580524383,
          252.33735543574707,
          252.50943329118775,
          252.6812902843527,
          252.85292507509024,
          253.02433632706243,
          253.19552267972844,
          253.36648277948416,
          253.53721526181553,
          253.70771875027472,
          253.87799186407736,
          254.04803322048787,
          254.21784142235126,
          254.38741505990026,
          254.5567527365141,
          254.7258530222335,
          254.8947145020616,
          255.0633357435951,
          255.23171529771383,
          255.39985172910283,
          255.56774358011816,
          255.73538937840738,
          255.9027876696383,
          256.06993698353403,
          256.2368358053579,
          256.4034826725571,
          256.5698760693155,
          256.73601448505735,
          256.90189642518385,
          257.06752036493344,
          257.232884737685,
          257.39798805134706
         ],
         "yaxis": "y2"
        }
       ],
       "layout": {
        "legend": {
         "orientation": "h",
         "x": 0.5,
         "y": -0.2
        },
        "template": {
         "data": {
          "bar": [
           {
            "error_x": {
             "color": "#2a3f5f"
            },
            "error_y": {
             "color": "#2a3f5f"
            },
            "marker": {
             "line": {
              "color": "#E5ECF6",
              "width": 0.5
             },
             "pattern": {
              "fillmode": "overlay",
              "size": 10,
              "solidity": 0.2
             }
            },
            "type": "bar"
           }
          ],
          "barpolar": [
           {
            "marker": {
             "line": {
              "color": "#E5ECF6",
              "width": 0.5
             },
             "pattern": {
              "fillmode": "overlay",
              "size": 10,
              "solidity": 0.2
             }
            },
            "type": "barpolar"
           }
          ],
          "carpet": [
           {
            "aaxis": {
             "endlinecolor": "#2a3f5f",
             "gridcolor": "white",
             "linecolor": "white",
             "minorgridcolor": "white",
             "startlinecolor": "#2a3f5f"
            },
            "baxis": {
             "endlinecolor": "#2a3f5f",
             "gridcolor": "white",
             "linecolor": "white",
             "minorgridcolor": "white",
             "startlinecolor": "#2a3f5f"
            },
            "type": "carpet"
           }
          ],
          "choropleth": [
           {
            "colorbar": {
             "outlinewidth": 0,
             "ticks": ""
            },
            "type": "choropleth"
           }
          ],
          "contour": [
           {
            "colorbar": {
             "outlinewidth": 0,
             "ticks": ""
            },
            "colorscale": [
             [
              0,
              "#0d0887"
             ],
             [
              0.1111111111111111,
              "#46039f"
             ],
             [
              0.2222222222222222,
              "#7201a8"
             ],
             [
              0.3333333333333333,
              "#9c179e"
             ],
             [
              0.4444444444444444,
              "#bd3786"
             ],
             [
              0.5555555555555556,
              "#d8576b"
             ],
             [
              0.6666666666666666,
              "#ed7953"
             ],
             [
              0.7777777777777778,
              "#fb9f3a"
             ],
             [
              0.8888888888888888,
              "#fdca26"
             ],
             [
              1,
              "#f0f921"
             ]
            ],
            "type": "contour"
           }
          ],
          "contourcarpet": [
           {
            "colorbar": {
             "outlinewidth": 0,
             "ticks": ""
            },
            "type": "contourcarpet"
           }
          ],
          "heatmap": [
           {
            "colorbar": {
             "outlinewidth": 0,
             "ticks": ""
            },
            "colorscale": [
             [
              0,
              "#0d0887"
             ],
             [
              0.1111111111111111,
              "#46039f"
             ],
             [
              0.2222222222222222,
              "#7201a8"
             ],
             [
              0.3333333333333333,
              "#9c179e"
             ],
             [
              0.4444444444444444,
              "#bd3786"
             ],
             [
              0.5555555555555556,
              "#d8576b"
             ],
             [
              0.6666666666666666,
              "#ed7953"
             ],
             [
              0.7777777777777778,
              "#fb9f3a"
             ],
             [
              0.8888888888888888,
              "#fdca26"
             ],
             [
              1,
              "#f0f921"
             ]
            ],
            "type": "heatmap"
           }
          ],
          "heatmapgl": [
           {
            "colorbar": {
             "outlinewidth": 0,
             "ticks": ""
            },
            "colorscale": [
             [
              0,
              "#0d0887"
             ],
             [
              0.1111111111111111,
              "#46039f"
             ],
             [
              0.2222222222222222,
              "#7201a8"
             ],
             [
              0.3333333333333333,
              "#9c179e"
             ],
             [
              0.4444444444444444,
              "#bd3786"
             ],
             [
              0.5555555555555556,
              "#d8576b"
             ],
             [
              0.6666666666666666,
              "#ed7953"
             ],
             [
              0.7777777777777778,
              "#fb9f3a"
             ],
             [
              0.8888888888888888,
              "#fdca26"
             ],
             [
              1,
              "#f0f921"
             ]
            ],
            "type": "heatmapgl"
           }
          ],
          "histogram": [
           {
            "marker": {
             "pattern": {
              "fillmode": "overlay",
              "size": 10,
              "solidity": 0.2
             }
            },
            "type": "histogram"
           }
          ],
          "histogram2d": [
           {
            "colorbar": {
             "outlinewidth": 0,
             "ticks": ""
            },
            "colorscale": [
             [
              0,
              "#0d0887"
             ],
             [
              0.1111111111111111,
              "#46039f"
             ],
             [
              0.2222222222222222,
              "#7201a8"
             ],
             [
              0.3333333333333333,
              "#9c179e"
             ],
             [
              0.4444444444444444,
              "#bd3786"
             ],
             [
              0.5555555555555556,
              "#d8576b"
             ],
             [
              0.6666666666666666,
              "#ed7953"
             ],
             [
              0.7777777777777778,
              "#fb9f3a"
             ],
             [
              0.8888888888888888,
              "#fdca26"
             ],
             [
              1,
              "#f0f921"
             ]
            ],
            "type": "histogram2d"
           }
          ],
          "histogram2dcontour": [
           {
            "colorbar": {
             "outlinewidth": 0,
             "ticks": ""
            },
            "colorscale": [
             [
              0,
              "#0d0887"
             ],
             [
              0.1111111111111111,
              "#46039f"
             ],
             [
              0.2222222222222222,
              "#7201a8"
             ],
             [
              0.3333333333333333,
              "#9c179e"
             ],
             [
              0.4444444444444444,
              "#bd3786"
             ],
             [
              0.5555555555555556,
              "#d8576b"
             ],
             [
              0.6666666666666666,
              "#ed7953"
             ],
             [
              0.7777777777777778,
              "#fb9f3a"
             ],
             [
              0.8888888888888888,
              "#fdca26"
             ],
             [
              1,
              "#f0f921"
             ]
            ],
            "type": "histogram2dcontour"
           }
          ],
          "mesh3d": [
           {
            "colorbar": {
             "outlinewidth": 0,
             "ticks": ""
            },
            "type": "mesh3d"
           }
          ],
          "parcoords": [
           {
            "line": {
             "colorbar": {
              "outlinewidth": 0,
              "ticks": ""
             }
            },
            "type": "parcoords"
           }
          ],
          "pie": [
           {
            "automargin": true,
            "type": "pie"
           }
          ],
          "scatter": [
           {
            "fillpattern": {
             "fillmode": "overlay",
             "size": 10,
             "solidity": 0.2
            },
            "type": "scatter"
           }
          ],
          "scatter3d": [
           {
            "line": {
             "colorbar": {
              "outlinewidth": 0,
              "ticks": ""
             }
            },
            "marker": {
             "colorbar": {
              "outlinewidth": 0,
              "ticks": ""
             }
            },
            "type": "scatter3d"
           }
          ],
          "scattercarpet": [
           {
            "marker": {
             "colorbar": {
              "outlinewidth": 0,
              "ticks": ""
             }
            },
            "type": "scattercarpet"
           }
          ],
          "scattergeo": [
           {
            "marker": {
             "colorbar": {
              "outlinewidth": 0,
              "ticks": ""
             }
            },
            "type": "scattergeo"
           }
          ],
          "scattergl": [
           {
            "marker": {
             "colorbar": {
              "outlinewidth": 0,
              "ticks": ""
             }
            },
            "type": "scattergl"
           }
          ],
          "scattermapbox": [
           {
            "marker": {
             "colorbar": {
              "outlinewidth": 0,
              "ticks": ""
             }
            },
            "type": "scattermapbox"
           }
          ],
          "scatterpolar": [
           {
            "marker": {
             "colorbar": {
              "outlinewidth": 0,
              "ticks": ""
             }
            },
            "type": "scatterpolar"
           }
          ],
          "scatterpolargl": [
           {
            "marker": {
             "colorbar": {
              "outlinewidth": 0,
              "ticks": ""
             }
            },
            "type": "scatterpolargl"
           }
          ],
          "scatterternary": [
           {
            "marker": {
             "colorbar": {
              "outlinewidth": 0,
              "ticks": ""
             }
            },
            "type": "scatterternary"
           }
          ],
          "surface": [
           {
            "colorbar": {
             "outlinewidth": 0,
             "ticks": ""
            },
            "colorscale": [
             [
              0,
              "#0d0887"
             ],
             [
              0.1111111111111111,
              "#46039f"
             ],
             [
              0.2222222222222222,
              "#7201a8"
             ],
             [
              0.3333333333333333,
              "#9c179e"
             ],
             [
              0.4444444444444444,
              "#bd3786"
             ],
             [
              0.5555555555555556,
              "#d8576b"
             ],
             [
              0.6666666666666666,
              "#ed7953"
             ],
             [
              0.7777777777777778,
              "#fb9f3a"
             ],
             [
              0.8888888888888888,
              "#fdca26"
             ],
             [
              1,
              "#f0f921"
             ]
            ],
            "type": "surface"
           }
          ],
          "table": [
           {
            "cells": {
             "fill": {
              "color": "#EBF0F8"
             },
             "line": {
              "color": "white"
             }
            },
            "header": {
             "fill": {
              "color": "#C8D4E3"
             },
             "line": {
              "color": "white"
             }
            },
            "type": "table"
           }
          ]
         },
         "layout": {
          "annotationdefaults": {
           "arrowcolor": "#2a3f5f",
           "arrowhead": 0,
           "arrowwidth": 1
          },
          "autotypenumbers": "strict",
          "coloraxis": {
           "colorbar": {
            "outlinewidth": 0,
            "ticks": ""
           }
          },
          "colorscale": {
           "diverging": [
            [
             0,
             "#8e0152"
            ],
            [
             0.1,
             "#c51b7d"
            ],
            [
             0.2,
             "#de77ae"
            ],
            [
             0.3,
             "#f1b6da"
            ],
            [
             0.4,
             "#fde0ef"
            ],
            [
             0.5,
             "#f7f7f7"
            ],
            [
             0.6,
             "#e6f5d0"
            ],
            [
             0.7,
             "#b8e186"
            ],
            [
             0.8,
             "#7fbc41"
            ],
            [
             0.9,
             "#4d9221"
            ],
            [
             1,
             "#276419"
            ]
           ],
           "sequential": [
            [
             0,
             "#0d0887"
            ],
            [
             0.1111111111111111,
             "#46039f"
            ],
            [
             0.2222222222222222,
             "#7201a8"
            ],
            [
             0.3333333333333333,
             "#9c179e"
            ],
            [
             0.4444444444444444,
             "#bd3786"
            ],
            [
             0.5555555555555556,
             "#d8576b"
            ],
            [
             0.6666666666666666,
             "#ed7953"
            ],
            [
             0.7777777777777778,
             "#fb9f3a"
            ],
            [
             0.8888888888888888,
             "#fdca26"
            ],
            [
             1,
             "#f0f921"
            ]
           ],
           "sequentialminus": [
            [
             0,
             "#0d0887"
            ],
            [
             0.1111111111111111,
             "#46039f"
            ],
            [
             0.2222222222222222,
             "#7201a8"
            ],
            [
             0.3333333333333333,
             "#9c179e"
            ],
            [
             0.4444444444444444,
             "#bd3786"
            ],
            [
             0.5555555555555556,
             "#d8576b"
            ],
            [
             0.6666666666666666,
             "#ed7953"
            ],
            [
             0.7777777777777778,
             "#fb9f3a"
            ],
            [
             0.8888888888888888,
             "#fdca26"
            ],
            [
             1,
             "#f0f921"
            ]
           ]
          },
          "colorway": [
           "#636efa",
           "#EF553B",
           "#00cc96",
           "#ab63fa",
           "#FFA15A",
           "#19d3f3",
           "#FF6692",
           "#B6E880",
           "#FF97FF",
           "#FECB52"
          ],
          "font": {
           "color": "#2a3f5f"
          },
          "geo": {
           "bgcolor": "white",
           "lakecolor": "white",
           "landcolor": "#E5ECF6",
           "showlakes": true,
           "showland": true,
           "subunitcolor": "white"
          },
          "hoverlabel": {
           "align": "left"
          },
          "hovermode": "closest",
          "mapbox": {
           "style": "light"
          },
          "paper_bgcolor": "white",
          "plot_bgcolor": "#E5ECF6",
          "polar": {
           "angularaxis": {
            "gridcolor": "white",
            "linecolor": "white",
            "ticks": ""
           },
           "bgcolor": "#E5ECF6",
           "radialaxis": {
            "gridcolor": "white",
            "linecolor": "white",
            "ticks": ""
           }
          },
          "scene": {
           "xaxis": {
            "backgroundcolor": "#E5ECF6",
            "gridcolor": "white",
            "gridwidth": 2,
            "linecolor": "white",
            "showbackground": true,
            "ticks": "",
            "zerolinecolor": "white"
           },
           "yaxis": {
            "backgroundcolor": "#E5ECF6",
            "gridcolor": "white",
            "gridwidth": 2,
            "linecolor": "white",
            "showbackground": true,
            "ticks": "",
            "zerolinecolor": "white"
           },
           "zaxis": {
            "backgroundcolor": "#E5ECF6",
            "gridcolor": "white",
            "gridwidth": 2,
            "linecolor": "white",
            "showbackground": true,
            "ticks": "",
            "zerolinecolor": "white"
           }
          },
          "shapedefaults": {
           "line": {
            "color": "#2a3f5f"
           }
          },
          "ternary": {
           "aaxis": {
            "gridcolor": "white",
            "linecolor": "white",
            "ticks": ""
           },
           "baxis": {
            "gridcolor": "white",
            "linecolor": "white",
            "ticks": ""
           },
           "bgcolor": "#E5ECF6",
           "caxis": {
            "gridcolor": "white",
            "linecolor": "white",
            "ticks": ""
           }
          },
          "title": {
           "x": 0.05
          },
          "xaxis": {
           "automargin": true,
           "gridcolor": "white",
           "linecolor": "white",
           "ticks": "",
           "title": {
            "standoff": 15
           },
           "zerolinecolor": "white",
           "zerolinewidth": 2
          },
          "yaxis": {
           "automargin": true,
           "gridcolor": "white",
           "linecolor": "white",
           "ticks": "",
           "title": {
            "standoff": 15
           },
           "zerolinecolor": "white",
           "zerolinewidth": 2
          }
         }
        },
        "title": {
         "text": "Inner Leading Positions vs Roll"
        },
        "xaxis": {
         "title": {
          "text": "Roll Angles (degrees)"
         }
        },
        "yaxis": {
         "tickfont": {
          "color": "red"
         },
         "title": {
          "font": {
           "color": "red"
          },
          "text": "Z Heights (m)"
         }
        },
        "yaxis2": {
         "anchor": "x",
         "overlaying": "y",
         "side": "right",
         "tickfont": {
          "color": "blue"
         },
         "title": {
          "font": {
           "color": "blue"
          },
          "text": "Y Positions (m)"
         }
        }
       }
      }
     },
     "metadata": {},
     "output_type": "display_data"
    }
   ],
   "source": [
    "# Plot inner positions vs roll\n",
    "\n",
    "# Create the plot\n",
    "fig = go.Figure()\n",
    "\n",
    "# Add Z heights vs roll to the primary y-axis\n",
    "fig.add_trace(\n",
    "    go.Scatter(\n",
    "        x=results[\"roll_angle\"],\n",
    "        y=results[\"lower_inner1_z\"],\n",
    "        mode='lines',\n",
    "        marker=dict(color='red'),\n",
    "        name='lower Leading Z Heights',\n",
    "        yaxis='y'  # Primary y-axis\n",
    "    )\n",
    ")\n",
    "\n",
    "fig.add_trace(\n",
    "    go.Scatter(\n",
    "        x=results[\"roll_angle\"],\n",
    "        y=results[\"upper_inner1_z\"],\n",
    "        mode='lines',\n",
    "        marker=dict(color='orange'),\n",
    "        name='Upper Leading Z Heights',\n",
    "        yaxis='y'  # Primary y-axis\n",
    "    )\n",
    ")\n",
    "\n",
    "# Add Y positions vs roll to the secondary y-axis\n",
    "fig.add_trace(\n",
    "    go.Scatter(\n",
    "        x=results[\"roll_angle\"],\n",
    "        y=results[\"lower_inner1_y\"],\n",
    "        mode='lines',\n",
    "        marker=dict(color='blue'),\n",
    "        name='Lower Leading Y Positions',\n",
    "        yaxis='y2'  # Secondary y-axis\n",
    "    )\n",
    ")\n",
    "fig.add_trace(\n",
    "    go.Scatter(\n",
    "        x=results[\"roll_angle\"],\n",
    "        y=results[\"upper_inner1_y\"],\n",
    "        mode='lines',\n",
    "        marker=dict(color='green'),\n",
    "        name='Upper Leading Y Positions',\n",
    "        yaxis='y2'  # Secondary y-axis\n",
    "    )\n",
    ")\n",
    "\n",
    "# Update layout to add the secondary y-axis\n",
    "fig.update_layout(\n",
    "    title='Inner Leading Positions vs Roll',\n",
    "    xaxis=dict(title='Roll Angles (degrees)'),\n",
    "    yaxis=dict(\n",
    "        title='Z Heights (m)',\n",
    "        titlefont=dict(color='red'),\n",
    "        tickfont=dict(color='red')\n",
    "    ),\n",
    "    yaxis2=dict(\n",
    "        title='Y Positions (m)',\n",
    "        titlefont=dict(color='blue'),\n",
    "        tickfont=dict(color='blue'),\n",
    "        anchor='x',\n",
    "        overlaying='y',\n",
    "        side='right'\n",
    "    ),\n",
    "    legend=dict(x=0.5, y=-0.2, orientation='h')  # Adjust legend position if needed\n",
    ")\n",
    "\n",
    "# Show the figure\n",
    "fig.show()"
   ]
  },
  {
   "cell_type": "code",
   "execution_count": null,
   "metadata": {},
   "outputs": [
    {
     "data": {
      "application/vnd.plotly.v1+json": {
       "config": {
        "plotlyServerURL": "https://plot.ly"
       },
       "data": [
        {
         "marker": {
          "color": "red"
         },
         "mode": "lines",
         "name": "KPI (°)",
         "type": "scatter",
         "x": [
          0,
          -0.0008814794201991563,
          -0.0017629588403983126,
          -0.0026444382605974688,
          -0.003525917680796625,
          -0.004407397100995782,
          -0.0052888765211949375,
          -0.006170355941394094,
          -0.00705183536159325,
          -0.007933314781792407,
          -0.008814794201991563,
          -0.009696273622190719,
          -0.010577753042389875,
          -0.011459232462589031,
          -0.012340711882788189,
          -0.013222191302987345,
          -0.0141036707231865,
          -0.014985150143385657,
          -0.015866629563584814,
          -0.01674810898378397,
          -0.017629588403983126,
          -0.01851106782418228,
          -0.019392547244381438,
          -0.020274026664580596,
          -0.02115550608477975,
          -0.022036985504978908,
          -0.022918464925178062,
          -0.02379994434537722,
          -0.024681423765576378,
          -0.025562903185775532,
          -0.02644438260597469,
          -0.027325862026173844,
          -0.028207341446373,
          -0.02908882086657216,
          -0.029970300286771313,
          -0.03085177970697047,
          -0.03173325912716963,
          -0.03261473854736878,
          -0.03349621796756794,
          -0.034377697387767095,
          -0.03525917680796625,
          -0.03614065622816541,
          -0.03702213564836456,
          -0.03790361506856372,
          -0.038785094488762877,
          -0.039666573908962034,
          -0.04054805332916119,
          -0.04142953274936034,
          -0.0423110121695595,
          -0.04319249158975866,
          -0.044073971009957816,
          -0.044955450430156974,
          -0.045836929850356124,
          -0.04671840927055528,
          -0.04759988869075444,
          -0.0484813681109536,
          -0.049362847531152755,
          -0.050244326951351906,
          -0.051125806371551064,
          -0.05200728579175022,
          -0.05288876521194938,
          -0.05377024463214854,
          -0.05465172405234769,
          -0.055533203472546845,
          -0.056414682892746,
          -0.05729616231294516,
          -0.05817764173314432,
          -0.05905912115334347,
          -0.05994060057354263,
          -0.060822079993741784,
          -0.06170355941394094,
          -0.0625850388341401,
          -0.06346651825433926,
          -0.06434799767453842,
          -0.06522947709473756,
          -0.06611095651493672,
          -0.06699243593513587,
          -0.06787391535533503,
          -0.06875539477553419,
          -0.06963687419573335,
          -0.0705183536159325,
          -0.07139983303613166,
          -0.07228131245633082,
          -0.07316279187652998,
          -0.07404427129672912,
          -0.07492575071692828,
          -0.07580723013712744,
          -0.0766887095573266,
          -0.07757018897752575,
          -0.07845166839772491,
          -0.07933314781792407,
          -0.08021462723812323,
          -0.08109610665832238,
          -0.08197758607852154,
          -0.08285906549872069,
          -0.08374054491891984,
          -0.084622024339119,
          -0.08550350375931816,
          -0.08638498317951732,
          -0.08726646259971647
         ],
         "y": [
          6.092771657336066,
          6.078035442474752,
          6.063316813236612,
          6.048615971767488,
          6.033932815017543,
          6.01926740223254,
          6.004619914271666,
          5.989990294097992,
          5.975378755301556,
          5.960784887063298,
          5.946209448440054,
          5.93165200934632,
          5.917112604226876,
          5.902591610344536,
          5.8880890216064135,
          5.873604296277778,
          5.859138493334995,
          5.844691132864329,
          5.830262333933122,
          5.815851740989272,
          5.801460595352765,
          5.787087626491228,
          5.772733774425735,
          5.758398578138564,
          5.744082848170114,
          5.729786025114286,
          5.71530742496131,
          5.701027662001839,
          5.686765775151939,
          5.67252251827886,
          5.658296894780796,
          5.644157243468985,
          5.629971942736872,
          5.615804786728038,
          5.601655813202621,
          5.587525049954827,
          5.5734125219737916,
          5.5593182660896385,
          5.545242305331369,
          5.531184673067062,
          5.517145385895845,
          5.503124490173447,
          5.489122003896391,
          5.475137965969649,
          5.461172407775577,
          5.4472253669976665,
          5.433296838167057,
          5.4193868974600266,
          5.4054955377566705,
          5.391622827808958,
          5.377768761356369,
          5.363933398856655,
          5.3501167650362715,
          5.336318893441565,
          5.322539811083283,
          5.308779546921078,
          5.2950381357051155,
          5.281315613347586,
          5.267612017408029,
          5.253927394364069,
          5.240261750300711,
          5.226615136551496,
          5.2129875914277255,
          5.199379138520392,
          5.185789814363524,
          5.172219684027814,
          5.158668722357205,
          5.145137047348698,
          5.1316245824664275,
          5.118131525388295,
          5.104657787528177,
          5.091203443376614,
          5.077768516301433,
          5.064353120228339,
          5.050957217307287,
          5.037580872163147,
          5.02422414061729,
          5.010887082723618,
          4.997569681259423,
          4.984272000777772,
          4.970994137147479,
          4.957736117188344,
          4.944497904064683,
          4.9312796872505205,
          4.918081439970443,
          4.904903167691269,
          4.89174502029038,
          4.878606921968498,
          4.865489091567957,
          4.852391485030719,
          4.839314215264501,
          4.826257194797944,
          4.813220622836777,
          4.800204619015048,
          4.787208875784654,
          4.774234001319006,
          4.761279635322587,
          4.748345981539532,
          4.73543318369509,
          4.722541289315089
         ],
         "yaxis": "y"
        },
        {
         "marker": {
          "color": "blue"
         },
         "mode": "lines",
         "name": "Caster Angle (°)",
         "type": "scatter",
         "x": [
          0,
          -0.0008814794201991563,
          -0.0017629588403983126,
          -0.0026444382605974688,
          -0.003525917680796625,
          -0.004407397100995782,
          -0.0052888765211949375,
          -0.006170355941394094,
          -0.00705183536159325,
          -0.007933314781792407,
          -0.008814794201991563,
          -0.009696273622190719,
          -0.010577753042389875,
          -0.011459232462589031,
          -0.012340711882788189,
          -0.013222191302987345,
          -0.0141036707231865,
          -0.014985150143385657,
          -0.015866629563584814,
          -0.01674810898378397,
          -0.017629588403983126,
          -0.01851106782418228,
          -0.019392547244381438,
          -0.020274026664580596,
          -0.02115550608477975,
          -0.022036985504978908,
          -0.022918464925178062,
          -0.02379994434537722,
          -0.024681423765576378,
          -0.025562903185775532,
          -0.02644438260597469,
          -0.027325862026173844,
          -0.028207341446373,
          -0.02908882086657216,
          -0.029970300286771313,
          -0.03085177970697047,
          -0.03173325912716963,
          -0.03261473854736878,
          -0.03349621796756794,
          -0.034377697387767095,
          -0.03525917680796625,
          -0.03614065622816541,
          -0.03702213564836456,
          -0.03790361506856372,
          -0.038785094488762877,
          -0.039666573908962034,
          -0.04054805332916119,
          -0.04142953274936034,
          -0.0423110121695595,
          -0.04319249158975866,
          -0.044073971009957816,
          -0.044955450430156974,
          -0.045836929850356124,
          -0.04671840927055528,
          -0.04759988869075444,
          -0.0484813681109536,
          -0.049362847531152755,
          -0.050244326951351906,
          -0.051125806371551064,
          -0.05200728579175022,
          -0.05288876521194938,
          -0.05377024463214854,
          -0.05465172405234769,
          -0.055533203472546845,
          -0.056414682892746,
          -0.05729616231294516,
          -0.05817764173314432,
          -0.05905912115334347,
          -0.05994060057354263,
          -0.060822079993741784,
          -0.06170355941394094,
          -0.0625850388341401,
          -0.06346651825433926,
          -0.06434799767453842,
          -0.06522947709473756,
          -0.06611095651493672,
          -0.06699243593513587,
          -0.06787391535533503,
          -0.06875539477553419,
          -0.06963687419573335,
          -0.0705183536159325,
          -0.07139983303613166,
          -0.07228131245633082,
          -0.07316279187652998,
          -0.07404427129672912,
          -0.07492575071692828,
          -0.07580723013712744,
          -0.0766887095573266,
          -0.07757018897752575,
          -0.07845166839772491,
          -0.07933314781792407,
          -0.08021462723812323,
          -0.08109610665832238,
          -0.08197758607852154,
          -0.08285906549872069,
          -0.08374054491891984,
          -0.084622024339119,
          -0.08550350375931816,
          -0.08638498317951732,
          -0.08726646259971647
         ],
         "y": [
          -4.016985413901961,
          -3.990759589017791,
          -3.964615937645116,
          -3.938554586898244,
          -3.9125756945132006,
          -3.8866794090750174,
          -3.86086587872327,
          -3.835135209121224,
          -3.809487589537958,
          -3.7839232271002294,
          -3.7584420741041136,
          -3.733044455477014,
          -3.7077304704482947,
          -3.682500252606971,
          -3.657353967622436,
          -3.6322918946432963,
          -3.607313959277593,
          -3.58242038362635,
          -3.5576113958216986,
          -3.5328871890792954,
          -3.5082477221102613,
          -3.4836934285461902,
          -3.459224333233705,
          -3.4348406845543398,
          -3.4105423290175625,
          -3.3863298694884785,
          -3.3622505966889995,
          -3.3382153113386033,
          -3.314266614735813,
          -3.2904045376251054,
          -3.2666293618507147,
          -3.242838389173433,
          -3.2192287663104073,
          -3.195706137144168,
          -3.1722706507048657,
          -3.1489224854135327,
          -3.1256618085384744,
          -3.1024887929075855,
          -3.079403616580717,
          -3.0564064469882153,
          -3.0334974630843003,
          -3.0106768462056386,
          -2.987944764140733,
          -2.9653013974523725,
          -2.942746926969239,
          -2.9202815256866783,
          -2.897905385837629,
          -2.8756186759312317,
          -2.8534215876566416,
          -2.8313142866388947,
          -2.8092969806974515,
          -2.7873698355113614,
          -2.7655330363112625,
          -2.743786787705794,
          -2.7221312462138303,
          -2.7005666211893042,
          -2.6790931010044567,
          -2.657710855677351,
          -2.6364200920452046,
          -2.6152209776709823,
          -2.594113727413084,
          -2.5730985215511453,
          -2.552175547867214,
          -2.5313450166333076,
          -2.5106070981466515,
          -2.4899619750604316,
          -2.4694099028057868,
          -2.4489509934235993,
          -2.4285855103614784,
          -2.40831359405666,
          -2.388135480601823,
          -2.3680513565871,
          -2.3480614033341536,
          -2.3281658365877473,
          -2.308364847202261,
          -2.2886586160485294,
          -2.269047372266866,
          -2.2495312989728853,
          -2.230110574924368,
          -2.210785454335341,
          -2.1915560978777413,
          -2.172422658782947,
          -2.1533854470368943,
          -2.1344445491698214,
          -2.115600241642979,
          -2.0968527197984166,
          -2.0782021645287845,
          -2.0596487781336217,
          -2.0411927548538973,
          -2.0228343181770256,
          -2.00457361528594,
          -1.9864109208333993,
          -1.9683464231570276,
          -1.9503802343755374,
          -1.9325127241396123,
          -1.9147439491724667,
          -1.8970741186545117,
          -1.879503612675251,
          -1.8620323649750132,
          -1.8446606969118862
         ],
         "yaxis": "y2"
        }
       ],
       "layout": {
        "legend": {
         "orientation": "h",
         "x": 0.5,
         "y": -0.2
        },
        "template": {
         "data": {
          "bar": [
           {
            "error_x": {
             "color": "#2a3f5f"
            },
            "error_y": {
             "color": "#2a3f5f"
            },
            "marker": {
             "line": {
              "color": "#E5ECF6",
              "width": 0.5
             },
             "pattern": {
              "fillmode": "overlay",
              "size": 10,
              "solidity": 0.2
             }
            },
            "type": "bar"
           }
          ],
          "barpolar": [
           {
            "marker": {
             "line": {
              "color": "#E5ECF6",
              "width": 0.5
             },
             "pattern": {
              "fillmode": "overlay",
              "size": 10,
              "solidity": 0.2
             }
            },
            "type": "barpolar"
           }
          ],
          "carpet": [
           {
            "aaxis": {
             "endlinecolor": "#2a3f5f",
             "gridcolor": "white",
             "linecolor": "white",
             "minorgridcolor": "white",
             "startlinecolor": "#2a3f5f"
            },
            "baxis": {
             "endlinecolor": "#2a3f5f",
             "gridcolor": "white",
             "linecolor": "white",
             "minorgridcolor": "white",
             "startlinecolor": "#2a3f5f"
            },
            "type": "carpet"
           }
          ],
          "choropleth": [
           {
            "colorbar": {
             "outlinewidth": 0,
             "ticks": ""
            },
            "type": "choropleth"
           }
          ],
          "contour": [
           {
            "colorbar": {
             "outlinewidth": 0,
             "ticks": ""
            },
            "colorscale": [
             [
              0,
              "#0d0887"
             ],
             [
              0.1111111111111111,
              "#46039f"
             ],
             [
              0.2222222222222222,
              "#7201a8"
             ],
             [
              0.3333333333333333,
              "#9c179e"
             ],
             [
              0.4444444444444444,
              "#bd3786"
             ],
             [
              0.5555555555555556,
              "#d8576b"
             ],
             [
              0.6666666666666666,
              "#ed7953"
             ],
             [
              0.7777777777777778,
              "#fb9f3a"
             ],
             [
              0.8888888888888888,
              "#fdca26"
             ],
             [
              1,
              "#f0f921"
             ]
            ],
            "type": "contour"
           }
          ],
          "contourcarpet": [
           {
            "colorbar": {
             "outlinewidth": 0,
             "ticks": ""
            },
            "type": "contourcarpet"
           }
          ],
          "heatmap": [
           {
            "colorbar": {
             "outlinewidth": 0,
             "ticks": ""
            },
            "colorscale": [
             [
              0,
              "#0d0887"
             ],
             [
              0.1111111111111111,
              "#46039f"
             ],
             [
              0.2222222222222222,
              "#7201a8"
             ],
             [
              0.3333333333333333,
              "#9c179e"
             ],
             [
              0.4444444444444444,
              "#bd3786"
             ],
             [
              0.5555555555555556,
              "#d8576b"
             ],
             [
              0.6666666666666666,
              "#ed7953"
             ],
             [
              0.7777777777777778,
              "#fb9f3a"
             ],
             [
              0.8888888888888888,
              "#fdca26"
             ],
             [
              1,
              "#f0f921"
             ]
            ],
            "type": "heatmap"
           }
          ],
          "heatmapgl": [
           {
            "colorbar": {
             "outlinewidth": 0,
             "ticks": ""
            },
            "colorscale": [
             [
              0,
              "#0d0887"
             ],
             [
              0.1111111111111111,
              "#46039f"
             ],
             [
              0.2222222222222222,
              "#7201a8"
             ],
             [
              0.3333333333333333,
              "#9c179e"
             ],
             [
              0.4444444444444444,
              "#bd3786"
             ],
             [
              0.5555555555555556,
              "#d8576b"
             ],
             [
              0.6666666666666666,
              "#ed7953"
             ],
             [
              0.7777777777777778,
              "#fb9f3a"
             ],
             [
              0.8888888888888888,
              "#fdca26"
             ],
             [
              1,
              "#f0f921"
             ]
            ],
            "type": "heatmapgl"
           }
          ],
          "histogram": [
           {
            "marker": {
             "pattern": {
              "fillmode": "overlay",
              "size": 10,
              "solidity": 0.2
             }
            },
            "type": "histogram"
           }
          ],
          "histogram2d": [
           {
            "colorbar": {
             "outlinewidth": 0,
             "ticks": ""
            },
            "colorscale": [
             [
              0,
              "#0d0887"
             ],
             [
              0.1111111111111111,
              "#46039f"
             ],
             [
              0.2222222222222222,
              "#7201a8"
             ],
             [
              0.3333333333333333,
              "#9c179e"
             ],
             [
              0.4444444444444444,
              "#bd3786"
             ],
             [
              0.5555555555555556,
              "#d8576b"
             ],
             [
              0.6666666666666666,
              "#ed7953"
             ],
             [
              0.7777777777777778,
              "#fb9f3a"
             ],
             [
              0.8888888888888888,
              "#fdca26"
             ],
             [
              1,
              "#f0f921"
             ]
            ],
            "type": "histogram2d"
           }
          ],
          "histogram2dcontour": [
           {
            "colorbar": {
             "outlinewidth": 0,
             "ticks": ""
            },
            "colorscale": [
             [
              0,
              "#0d0887"
             ],
             [
              0.1111111111111111,
              "#46039f"
             ],
             [
              0.2222222222222222,
              "#7201a8"
             ],
             [
              0.3333333333333333,
              "#9c179e"
             ],
             [
              0.4444444444444444,
              "#bd3786"
             ],
             [
              0.5555555555555556,
              "#d8576b"
             ],
             [
              0.6666666666666666,
              "#ed7953"
             ],
             [
              0.7777777777777778,
              "#fb9f3a"
             ],
             [
              0.8888888888888888,
              "#fdca26"
             ],
             [
              1,
              "#f0f921"
             ]
            ],
            "type": "histogram2dcontour"
           }
          ],
          "mesh3d": [
           {
            "colorbar": {
             "outlinewidth": 0,
             "ticks": ""
            },
            "type": "mesh3d"
           }
          ],
          "parcoords": [
           {
            "line": {
             "colorbar": {
              "outlinewidth": 0,
              "ticks": ""
             }
            },
            "type": "parcoords"
           }
          ],
          "pie": [
           {
            "automargin": true,
            "type": "pie"
           }
          ],
          "scatter": [
           {
            "fillpattern": {
             "fillmode": "overlay",
             "size": 10,
             "solidity": 0.2
            },
            "type": "scatter"
           }
          ],
          "scatter3d": [
           {
            "line": {
             "colorbar": {
              "outlinewidth": 0,
              "ticks": ""
             }
            },
            "marker": {
             "colorbar": {
              "outlinewidth": 0,
              "ticks": ""
             }
            },
            "type": "scatter3d"
           }
          ],
          "scattercarpet": [
           {
            "marker": {
             "colorbar": {
              "outlinewidth": 0,
              "ticks": ""
             }
            },
            "type": "scattercarpet"
           }
          ],
          "scattergeo": [
           {
            "marker": {
             "colorbar": {
              "outlinewidth": 0,
              "ticks": ""
             }
            },
            "type": "scattergeo"
           }
          ],
          "scattergl": [
           {
            "marker": {
             "colorbar": {
              "outlinewidth": 0,
              "ticks": ""
             }
            },
            "type": "scattergl"
           }
          ],
          "scattermapbox": [
           {
            "marker": {
             "colorbar": {
              "outlinewidth": 0,
              "ticks": ""
             }
            },
            "type": "scattermapbox"
           }
          ],
          "scatterpolar": [
           {
            "marker": {
             "colorbar": {
              "outlinewidth": 0,
              "ticks": ""
             }
            },
            "type": "scatterpolar"
           }
          ],
          "scatterpolargl": [
           {
            "marker": {
             "colorbar": {
              "outlinewidth": 0,
              "ticks": ""
             }
            },
            "type": "scatterpolargl"
           }
          ],
          "scatterternary": [
           {
            "marker": {
             "colorbar": {
              "outlinewidth": 0,
              "ticks": ""
             }
            },
            "type": "scatterternary"
           }
          ],
          "surface": [
           {
            "colorbar": {
             "outlinewidth": 0,
             "ticks": ""
            },
            "colorscale": [
             [
              0,
              "#0d0887"
             ],
             [
              0.1111111111111111,
              "#46039f"
             ],
             [
              0.2222222222222222,
              "#7201a8"
             ],
             [
              0.3333333333333333,
              "#9c179e"
             ],
             [
              0.4444444444444444,
              "#bd3786"
             ],
             [
              0.5555555555555556,
              "#d8576b"
             ],
             [
              0.6666666666666666,
              "#ed7953"
             ],
             [
              0.7777777777777778,
              "#fb9f3a"
             ],
             [
              0.8888888888888888,
              "#fdca26"
             ],
             [
              1,
              "#f0f921"
             ]
            ],
            "type": "surface"
           }
          ],
          "table": [
           {
            "cells": {
             "fill": {
              "color": "#EBF0F8"
             },
             "line": {
              "color": "white"
             }
            },
            "header": {
             "fill": {
              "color": "#C8D4E3"
             },
             "line": {
              "color": "white"
             }
            },
            "type": "table"
           }
          ]
         },
         "layout": {
          "annotationdefaults": {
           "arrowcolor": "#2a3f5f",
           "arrowhead": 0,
           "arrowwidth": 1
          },
          "autotypenumbers": "strict",
          "coloraxis": {
           "colorbar": {
            "outlinewidth": 0,
            "ticks": ""
           }
          },
          "colorscale": {
           "diverging": [
            [
             0,
             "#8e0152"
            ],
            [
             0.1,
             "#c51b7d"
            ],
            [
             0.2,
             "#de77ae"
            ],
            [
             0.3,
             "#f1b6da"
            ],
            [
             0.4,
             "#fde0ef"
            ],
            [
             0.5,
             "#f7f7f7"
            ],
            [
             0.6,
             "#e6f5d0"
            ],
            [
             0.7,
             "#b8e186"
            ],
            [
             0.8,
             "#7fbc41"
            ],
            [
             0.9,
             "#4d9221"
            ],
            [
             1,
             "#276419"
            ]
           ],
           "sequential": [
            [
             0,
             "#0d0887"
            ],
            [
             0.1111111111111111,
             "#46039f"
            ],
            [
             0.2222222222222222,
             "#7201a8"
            ],
            [
             0.3333333333333333,
             "#9c179e"
            ],
            [
             0.4444444444444444,
             "#bd3786"
            ],
            [
             0.5555555555555556,
             "#d8576b"
            ],
            [
             0.6666666666666666,
             "#ed7953"
            ],
            [
             0.7777777777777778,
             "#fb9f3a"
            ],
            [
             0.8888888888888888,
             "#fdca26"
            ],
            [
             1,
             "#f0f921"
            ]
           ],
           "sequentialminus": [
            [
             0,
             "#0d0887"
            ],
            [
             0.1111111111111111,
             "#46039f"
            ],
            [
             0.2222222222222222,
             "#7201a8"
            ],
            [
             0.3333333333333333,
             "#9c179e"
            ],
            [
             0.4444444444444444,
             "#bd3786"
            ],
            [
             0.5555555555555556,
             "#d8576b"
            ],
            [
             0.6666666666666666,
             "#ed7953"
            ],
            [
             0.7777777777777778,
             "#fb9f3a"
            ],
            [
             0.8888888888888888,
             "#fdca26"
            ],
            [
             1,
             "#f0f921"
            ]
           ]
          },
          "colorway": [
           "#636efa",
           "#EF553B",
           "#00cc96",
           "#ab63fa",
           "#FFA15A",
           "#19d3f3",
           "#FF6692",
           "#B6E880",
           "#FF97FF",
           "#FECB52"
          ],
          "font": {
           "color": "#2a3f5f"
          },
          "geo": {
           "bgcolor": "white",
           "lakecolor": "white",
           "landcolor": "#E5ECF6",
           "showlakes": true,
           "showland": true,
           "subunitcolor": "white"
          },
          "hoverlabel": {
           "align": "left"
          },
          "hovermode": "closest",
          "mapbox": {
           "style": "light"
          },
          "paper_bgcolor": "white",
          "plot_bgcolor": "#E5ECF6",
          "polar": {
           "angularaxis": {
            "gridcolor": "white",
            "linecolor": "white",
            "ticks": ""
           },
           "bgcolor": "#E5ECF6",
           "radialaxis": {
            "gridcolor": "white",
            "linecolor": "white",
            "ticks": ""
           }
          },
          "scene": {
           "xaxis": {
            "backgroundcolor": "#E5ECF6",
            "gridcolor": "white",
            "gridwidth": 2,
            "linecolor": "white",
            "showbackground": true,
            "ticks": "",
            "zerolinecolor": "white"
           },
           "yaxis": {
            "backgroundcolor": "#E5ECF6",
            "gridcolor": "white",
            "gridwidth": 2,
            "linecolor": "white",
            "showbackground": true,
            "ticks": "",
            "zerolinecolor": "white"
           },
           "zaxis": {
            "backgroundcolor": "#E5ECF6",
            "gridcolor": "white",
            "gridwidth": 2,
            "linecolor": "white",
            "showbackground": true,
            "ticks": "",
            "zerolinecolor": "white"
           }
          },
          "shapedefaults": {
           "line": {
            "color": "#2a3f5f"
           }
          },
          "ternary": {
           "aaxis": {
            "gridcolor": "white",
            "linecolor": "white",
            "ticks": ""
           },
           "baxis": {
            "gridcolor": "white",
            "linecolor": "white",
            "ticks": ""
           },
           "bgcolor": "#E5ECF6",
           "caxis": {
            "gridcolor": "white",
            "linecolor": "white",
            "ticks": ""
           }
          },
          "title": {
           "x": 0.05
          },
          "xaxis": {
           "automargin": true,
           "gridcolor": "white",
           "linecolor": "white",
           "ticks": "",
           "title": {
            "standoff": 15
           },
           "zerolinecolor": "white",
           "zerolinewidth": 2
          },
          "yaxis": {
           "automargin": true,
           "gridcolor": "white",
           "linecolor": "white",
           "ticks": "",
           "title": {
            "standoff": 15
           },
           "zerolinecolor": "white",
           "zerolinewidth": 2
          }
         }
        },
        "title": {
         "text": "Inner Leading Positions vs Roll"
        },
        "xaxis": {
         "title": {
          "text": "Roll Angles (degrees)"
         }
        },
        "yaxis": {
         "tickfont": {
          "color": "red"
         },
         "title": {
          "font": {
           "color": "red"
          },
          "text": "KPI [°]"
         }
        },
        "yaxis2": {
         "anchor": "x",
         "overlaying": "y",
         "side": "right",
         "tickfont": {
          "color": "blue"
         },
         "title": {
          "font": {
           "color": "blue"
          },
          "text": "Caster angle [°]"
         }
        }
       }
      }
     },
     "metadata": {},
     "output_type": "display_data"
    }
   ],
   "source": [
    "# Plot KPI/Caster vs roll\n",
    "\n",
    "# Create the plot\n",
    "fig = go.Figure()\n",
    "\n",
    "# Add king pin incl\n",
    "fig.add_trace(\n",
    "    go.Scatter(\n",
    "        x=results[\"roll_angle\"],\n",
    "        y=results[\"kingpin_inclination_deg\"],\n",
    "        mode='lines',\n",
    "        marker=dict(color='red'),\n",
    "        name='KPI (°)',\n",
    "        yaxis='y'  # Primary y-axis\n",
    "    )\n",
    ")\n",
    "\n",
    "# Add caster angle \n",
    "fig.add_trace(\n",
    "    go.Scatter(\n",
    "        x=results[\"roll_angle\"],\n",
    "        y=results[\"camber_angle_deg\"],\n",
    "        mode='lines',\n",
    "        marker=dict(color='blue'),\n",
    "        name='Caster Angle (°)',\n",
    "        yaxis='y2'  # Secondary y-axis\n",
    "    )\n",
    ")\n",
    "\n",
    "# Update layout to add the secondary y-axis\n",
    "fig.update_layout(\n",
    "    title='Inner Leading Positions vs Roll',\n",
    "    xaxis=dict(title='Roll Angles (degrees)'),\n",
    "    yaxis=dict(\n",
    "        title='KPI [°]',\n",
    "        titlefont=dict(color='red'),\n",
    "        tickfont=dict(color='red')\n",
    "    ),\n",
    "    yaxis2=dict(\n",
    "        title='Caster angle [°]',\n",
    "        titlefont=dict(color='blue'),\n",
    "        tickfont=dict(color='blue'),\n",
    "        anchor='x',\n",
    "        overlaying='y',\n",
    "        side='right'\n",
    "    ),\n",
    "    legend=dict(x=0.5, y=-0.2, orientation='h')  # Adjust legend position if needed\n",
    ")\n",
    "\n",
    "# Show the figure\n",
    "fig.show()"
   ]
  },
  {
   "cell_type": "code",
   "execution_count": 17,
   "metadata": {},
   "outputs": [
    {
     "data": {
      "application/vnd.plotly.v1+json": {
       "config": {
        "plotlyServerURL": "https://plot.ly"
       },
       "data": [
        {
         "marker": {
          "color": "red"
         },
         "mode": "lines",
         "name": "lower Leading Z Heights",
         "type": "scatter",
         "x": [
          0,
          0,
          0,
          0,
          0,
          0,
          0,
          0,
          0,
          0,
          0,
          0,
          0,
          0,
          0,
          0,
          0,
          0,
          0,
          0,
          0,
          0,
          0,
          0,
          0,
          0,
          0,
          0,
          0,
          0,
          0,
          0,
          0,
          0,
          0,
          0,
          0,
          0,
          0,
          0,
          0,
          0,
          0,
          0,
          0,
          0,
          0,
          0,
          0,
          0,
          0,
          0,
          0,
          0,
          0,
          0,
          0,
          0,
          0,
          0,
          0,
          0,
          0,
          0,
          0,
          0,
          0,
          0,
          0,
          0,
          0,
          0,
          0,
          0,
          0,
          0,
          0,
          0,
          0,
          0,
          0,
          0,
          0,
          0,
          0,
          0,
          0,
          0,
          0,
          0,
          0,
          0,
          0,
          0,
          0,
          0,
          0,
          0,
          0,
          0
         ],
         "y": [
          6.092771657336066,
          6.078035442474752,
          6.063316813236612,
          6.048615971767488,
          6.033932815017543,
          6.01926740223254,
          6.004619914271666,
          5.989990294097992,
          5.975378755301556,
          5.960784887063298,
          5.946209448440054,
          5.93165200934632,
          5.917112604226876,
          5.902591610344536,
          5.8880890216064135,
          5.873604296277778,
          5.859138493334995,
          5.844691132864329,
          5.830262333933122,
          5.815851740989272,
          5.801460595352765,
          5.787087626491228,
          5.772733774425735,
          5.758398578138564,
          5.744082848170114,
          5.729786025114286,
          5.71530742496131,
          5.701027662001839,
          5.686765775151939,
          5.67252251827886,
          5.658296894780796,
          5.644157243468985,
          5.629971942736872,
          5.615804786728038,
          5.601655813202621,
          5.587525049954827,
          5.5734125219737916,
          5.5593182660896385,
          5.545242305331369,
          5.531184673067062,
          5.517145385895845,
          5.503124490173447,
          5.489122003896391,
          5.475137965969649,
          5.461172407775577,
          5.4472253669976665,
          5.433296838167057,
          5.4193868974600266,
          5.4054955377566705,
          5.391622827808958,
          5.377768761356369,
          5.363933398856655,
          5.3501167650362715,
          5.336318893441565,
          5.322539811083283,
          5.308779546921078,
          5.2950381357051155,
          5.281315613347586,
          5.267612017408029,
          5.253927394364069,
          5.240261750300711,
          5.226615136551496,
          5.2129875914277255,
          5.199379138520392,
          5.185789814363524,
          5.172219684027814,
          5.158668722357205,
          5.145137047348698,
          5.1316245824664275,
          5.118131525388295,
          5.104657787528177,
          5.091203443376614,
          5.077768516301433,
          5.064353120228339,
          5.050957217307287,
          5.037580872163147,
          5.02422414061729,
          5.010887082723618,
          4.997569681259423,
          4.984272000777772,
          4.970994137147479,
          4.957736117188344,
          4.944497904064683,
          4.9312796872505205,
          4.918081439970443,
          4.904903167691269,
          4.89174502029038,
          4.878606921968498,
          4.865489091567957,
          4.852391485030719,
          4.839314215264501,
          4.826257194797944,
          4.813220622836777,
          4.800204619015048,
          4.787208875784654,
          4.774234001319006,
          4.761279635322587,
          4.748345981539532,
          4.73543318369509,
          4.722541289315089
         ],
         "yaxis": "y"
        },
        {
         "marker": {
          "color": "blue"
         },
         "mode": "lines",
         "name": "Lower Leading Y Positions",
         "type": "scatter",
         "x": [
          0,
          0,
          0,
          0,
          0,
          0,
          0,
          0,
          0,
          0,
          0,
          0,
          0,
          0,
          0,
          0,
          0,
          0,
          0,
          0,
          0,
          0,
          0,
          0,
          0,
          0,
          0,
          0,
          0,
          0,
          0,
          0,
          0,
          0,
          0,
          0,
          0,
          0,
          0,
          0,
          0,
          0,
          0,
          0,
          0,
          0,
          0,
          0,
          0,
          0,
          0,
          0,
          0,
          0,
          0,
          0,
          0,
          0,
          0,
          0,
          0,
          0,
          0,
          0,
          0,
          0,
          0,
          0,
          0,
          0,
          0,
          0,
          0,
          0,
          0,
          0,
          0,
          0,
          0,
          0,
          0,
          0,
          0,
          0,
          0,
          0,
          0,
          0,
          0,
          0,
          0,
          0,
          0,
          0,
          0,
          0,
          0,
          0,
          0,
          0
         ],
         "y": [
          -4.016985413901961,
          -3.990759589017791,
          -3.964615937645116,
          -3.938554586898244,
          -3.9125756945132006,
          -3.8866794090750174,
          -3.86086587872327,
          -3.835135209121224,
          -3.809487589537958,
          -3.7839232271002294,
          -3.7584420741041136,
          -3.733044455477014,
          -3.7077304704482947,
          -3.682500252606971,
          -3.657353967622436,
          -3.6322918946432963,
          -3.607313959277593,
          -3.58242038362635,
          -3.5576113958216986,
          -3.5328871890792954,
          -3.5082477221102613,
          -3.4836934285461902,
          -3.459224333233705,
          -3.4348406845543398,
          -3.4105423290175625,
          -3.3863298694884785,
          -3.3622505966889995,
          -3.3382153113386033,
          -3.314266614735813,
          -3.2904045376251054,
          -3.2666293618507147,
          -3.242838389173433,
          -3.2192287663104073,
          -3.195706137144168,
          -3.1722706507048657,
          -3.1489224854135327,
          -3.1256618085384744,
          -3.1024887929075855,
          -3.079403616580717,
          -3.0564064469882153,
          -3.0334974630843003,
          -3.0106768462056386,
          -2.987944764140733,
          -2.9653013974523725,
          -2.942746926969239,
          -2.9202815256866783,
          -2.897905385837629,
          -2.8756186759312317,
          -2.8534215876566416,
          -2.8313142866388947,
          -2.8092969806974515,
          -2.7873698355113614,
          -2.7655330363112625,
          -2.743786787705794,
          -2.7221312462138303,
          -2.7005666211893042,
          -2.6790931010044567,
          -2.657710855677351,
          -2.6364200920452046,
          -2.6152209776709823,
          -2.594113727413084,
          -2.5730985215511453,
          -2.552175547867214,
          -2.5313450166333076,
          -2.5106070981466515,
          -2.4899619750604316,
          -2.4694099028057868,
          -2.4489509934235993,
          -2.4285855103614784,
          -2.40831359405666,
          -2.388135480601823,
          -2.3680513565871,
          -2.3480614033341536,
          -2.3281658365877473,
          -2.308364847202261,
          -2.2886586160485294,
          -2.269047372266866,
          -2.2495312989728853,
          -2.230110574924368,
          -2.210785454335341,
          -2.1915560978777413,
          -2.172422658782947,
          -2.1533854470368943,
          -2.1344445491698214,
          -2.115600241642979,
          -2.0968527197984166,
          -2.0782021645287845,
          -2.0596487781336217,
          -2.0411927548538973,
          -2.0228343181770256,
          -2.00457361528594,
          -1.9864109208333993,
          -1.9683464231570276,
          -1.9503802343755374,
          -1.9325127241396123,
          -1.9147439491724667,
          -1.8970741186545117,
          -1.879503612675251,
          -1.8620323649750132,
          -1.8446606969118862
         ],
         "yaxis": "y2"
        }
       ],
       "layout": {
        "legend": {
         "orientation": "h",
         "x": 0.5,
         "y": -0.2
        },
        "template": {
         "data": {
          "bar": [
           {
            "error_x": {
             "color": "#2a3f5f"
            },
            "error_y": {
             "color": "#2a3f5f"
            },
            "marker": {
             "line": {
              "color": "#E5ECF6",
              "width": 0.5
             },
             "pattern": {
              "fillmode": "overlay",
              "size": 10,
              "solidity": 0.2
             }
            },
            "type": "bar"
           }
          ],
          "barpolar": [
           {
            "marker": {
             "line": {
              "color": "#E5ECF6",
              "width": 0.5
             },
             "pattern": {
              "fillmode": "overlay",
              "size": 10,
              "solidity": 0.2
             }
            },
            "type": "barpolar"
           }
          ],
          "carpet": [
           {
            "aaxis": {
             "endlinecolor": "#2a3f5f",
             "gridcolor": "white",
             "linecolor": "white",
             "minorgridcolor": "white",
             "startlinecolor": "#2a3f5f"
            },
            "baxis": {
             "endlinecolor": "#2a3f5f",
             "gridcolor": "white",
             "linecolor": "white",
             "minorgridcolor": "white",
             "startlinecolor": "#2a3f5f"
            },
            "type": "carpet"
           }
          ],
          "choropleth": [
           {
            "colorbar": {
             "outlinewidth": 0,
             "ticks": ""
            },
            "type": "choropleth"
           }
          ],
          "contour": [
           {
            "colorbar": {
             "outlinewidth": 0,
             "ticks": ""
            },
            "colorscale": [
             [
              0,
              "#0d0887"
             ],
             [
              0.1111111111111111,
              "#46039f"
             ],
             [
              0.2222222222222222,
              "#7201a8"
             ],
             [
              0.3333333333333333,
              "#9c179e"
             ],
             [
              0.4444444444444444,
              "#bd3786"
             ],
             [
              0.5555555555555556,
              "#d8576b"
             ],
             [
              0.6666666666666666,
              "#ed7953"
             ],
             [
              0.7777777777777778,
              "#fb9f3a"
             ],
             [
              0.8888888888888888,
              "#fdca26"
             ],
             [
              1,
              "#f0f921"
             ]
            ],
            "type": "contour"
           }
          ],
          "contourcarpet": [
           {
            "colorbar": {
             "outlinewidth": 0,
             "ticks": ""
            },
            "type": "contourcarpet"
           }
          ],
          "heatmap": [
           {
            "colorbar": {
             "outlinewidth": 0,
             "ticks": ""
            },
            "colorscale": [
             [
              0,
              "#0d0887"
             ],
             [
              0.1111111111111111,
              "#46039f"
             ],
             [
              0.2222222222222222,
              "#7201a8"
             ],
             [
              0.3333333333333333,
              "#9c179e"
             ],
             [
              0.4444444444444444,
              "#bd3786"
             ],
             [
              0.5555555555555556,
              "#d8576b"
             ],
             [
              0.6666666666666666,
              "#ed7953"
             ],
             [
              0.7777777777777778,
              "#fb9f3a"
             ],
             [
              0.8888888888888888,
              "#fdca26"
             ],
             [
              1,
              "#f0f921"
             ]
            ],
            "type": "heatmap"
           }
          ],
          "heatmapgl": [
           {
            "colorbar": {
             "outlinewidth": 0,
             "ticks": ""
            },
            "colorscale": [
             [
              0,
              "#0d0887"
             ],
             [
              0.1111111111111111,
              "#46039f"
             ],
             [
              0.2222222222222222,
              "#7201a8"
             ],
             [
              0.3333333333333333,
              "#9c179e"
             ],
             [
              0.4444444444444444,
              "#bd3786"
             ],
             [
              0.5555555555555556,
              "#d8576b"
             ],
             [
              0.6666666666666666,
              "#ed7953"
             ],
             [
              0.7777777777777778,
              "#fb9f3a"
             ],
             [
              0.8888888888888888,
              "#fdca26"
             ],
             [
              1,
              "#f0f921"
             ]
            ],
            "type": "heatmapgl"
           }
          ],
          "histogram": [
           {
            "marker": {
             "pattern": {
              "fillmode": "overlay",
              "size": 10,
              "solidity": 0.2
             }
            },
            "type": "histogram"
           }
          ],
          "histogram2d": [
           {
            "colorbar": {
             "outlinewidth": 0,
             "ticks": ""
            },
            "colorscale": [
             [
              0,
              "#0d0887"
             ],
             [
              0.1111111111111111,
              "#46039f"
             ],
             [
              0.2222222222222222,
              "#7201a8"
             ],
             [
              0.3333333333333333,
              "#9c179e"
             ],
             [
              0.4444444444444444,
              "#bd3786"
             ],
             [
              0.5555555555555556,
              "#d8576b"
             ],
             [
              0.6666666666666666,
              "#ed7953"
             ],
             [
              0.7777777777777778,
              "#fb9f3a"
             ],
             [
              0.8888888888888888,
              "#fdca26"
             ],
             [
              1,
              "#f0f921"
             ]
            ],
            "type": "histogram2d"
           }
          ],
          "histogram2dcontour": [
           {
            "colorbar": {
             "outlinewidth": 0,
             "ticks": ""
            },
            "colorscale": [
             [
              0,
              "#0d0887"
             ],
             [
              0.1111111111111111,
              "#46039f"
             ],
             [
              0.2222222222222222,
              "#7201a8"
             ],
             [
              0.3333333333333333,
              "#9c179e"
             ],
             [
              0.4444444444444444,
              "#bd3786"
             ],
             [
              0.5555555555555556,
              "#d8576b"
             ],
             [
              0.6666666666666666,
              "#ed7953"
             ],
             [
              0.7777777777777778,
              "#fb9f3a"
             ],
             [
              0.8888888888888888,
              "#fdca26"
             ],
             [
              1,
              "#f0f921"
             ]
            ],
            "type": "histogram2dcontour"
           }
          ],
          "mesh3d": [
           {
            "colorbar": {
             "outlinewidth": 0,
             "ticks": ""
            },
            "type": "mesh3d"
           }
          ],
          "parcoords": [
           {
            "line": {
             "colorbar": {
              "outlinewidth": 0,
              "ticks": ""
             }
            },
            "type": "parcoords"
           }
          ],
          "pie": [
           {
            "automargin": true,
            "type": "pie"
           }
          ],
          "scatter": [
           {
            "fillpattern": {
             "fillmode": "overlay",
             "size": 10,
             "solidity": 0.2
            },
            "type": "scatter"
           }
          ],
          "scatter3d": [
           {
            "line": {
             "colorbar": {
              "outlinewidth": 0,
              "ticks": ""
             }
            },
            "marker": {
             "colorbar": {
              "outlinewidth": 0,
              "ticks": ""
             }
            },
            "type": "scatter3d"
           }
          ],
          "scattercarpet": [
           {
            "marker": {
             "colorbar": {
              "outlinewidth": 0,
              "ticks": ""
             }
            },
            "type": "scattercarpet"
           }
          ],
          "scattergeo": [
           {
            "marker": {
             "colorbar": {
              "outlinewidth": 0,
              "ticks": ""
             }
            },
            "type": "scattergeo"
           }
          ],
          "scattergl": [
           {
            "marker": {
             "colorbar": {
              "outlinewidth": 0,
              "ticks": ""
             }
            },
            "type": "scattergl"
           }
          ],
          "scattermapbox": [
           {
            "marker": {
             "colorbar": {
              "outlinewidth": 0,
              "ticks": ""
             }
            },
            "type": "scattermapbox"
           }
          ],
          "scatterpolar": [
           {
            "marker": {
             "colorbar": {
              "outlinewidth": 0,
              "ticks": ""
             }
            },
            "type": "scatterpolar"
           }
          ],
          "scatterpolargl": [
           {
            "marker": {
             "colorbar": {
              "outlinewidth": 0,
              "ticks": ""
             }
            },
            "type": "scatterpolargl"
           }
          ],
          "scatterternary": [
           {
            "marker": {
             "colorbar": {
              "outlinewidth": 0,
              "ticks": ""
             }
            },
            "type": "scatterternary"
           }
          ],
          "surface": [
           {
            "colorbar": {
             "outlinewidth": 0,
             "ticks": ""
            },
            "colorscale": [
             [
              0,
              "#0d0887"
             ],
             [
              0.1111111111111111,
              "#46039f"
             ],
             [
              0.2222222222222222,
              "#7201a8"
             ],
             [
              0.3333333333333333,
              "#9c179e"
             ],
             [
              0.4444444444444444,
              "#bd3786"
             ],
             [
              0.5555555555555556,
              "#d8576b"
             ],
             [
              0.6666666666666666,
              "#ed7953"
             ],
             [
              0.7777777777777778,
              "#fb9f3a"
             ],
             [
              0.8888888888888888,
              "#fdca26"
             ],
             [
              1,
              "#f0f921"
             ]
            ],
            "type": "surface"
           }
          ],
          "table": [
           {
            "cells": {
             "fill": {
              "color": "#EBF0F8"
             },
             "line": {
              "color": "white"
             }
            },
            "header": {
             "fill": {
              "color": "#C8D4E3"
             },
             "line": {
              "color": "white"
             }
            },
            "type": "table"
           }
          ]
         },
         "layout": {
          "annotationdefaults": {
           "arrowcolor": "#2a3f5f",
           "arrowhead": 0,
           "arrowwidth": 1
          },
          "autotypenumbers": "strict",
          "coloraxis": {
           "colorbar": {
            "outlinewidth": 0,
            "ticks": ""
           }
          },
          "colorscale": {
           "diverging": [
            [
             0,
             "#8e0152"
            ],
            [
             0.1,
             "#c51b7d"
            ],
            [
             0.2,
             "#de77ae"
            ],
            [
             0.3,
             "#f1b6da"
            ],
            [
             0.4,
             "#fde0ef"
            ],
            [
             0.5,
             "#f7f7f7"
            ],
            [
             0.6,
             "#e6f5d0"
            ],
            [
             0.7,
             "#b8e186"
            ],
            [
             0.8,
             "#7fbc41"
            ],
            [
             0.9,
             "#4d9221"
            ],
            [
             1,
             "#276419"
            ]
           ],
           "sequential": [
            [
             0,
             "#0d0887"
            ],
            [
             0.1111111111111111,
             "#46039f"
            ],
            [
             0.2222222222222222,
             "#7201a8"
            ],
            [
             0.3333333333333333,
             "#9c179e"
            ],
            [
             0.4444444444444444,
             "#bd3786"
            ],
            [
             0.5555555555555556,
             "#d8576b"
            ],
            [
             0.6666666666666666,
             "#ed7953"
            ],
            [
             0.7777777777777778,
             "#fb9f3a"
            ],
            [
             0.8888888888888888,
             "#fdca26"
            ],
            [
             1,
             "#f0f921"
            ]
           ],
           "sequentialminus": [
            [
             0,
             "#0d0887"
            ],
            [
             0.1111111111111111,
             "#46039f"
            ],
            [
             0.2222222222222222,
             "#7201a8"
            ],
            [
             0.3333333333333333,
             "#9c179e"
            ],
            [
             0.4444444444444444,
             "#bd3786"
            ],
            [
             0.5555555555555556,
             "#d8576b"
            ],
            [
             0.6666666666666666,
             "#ed7953"
            ],
            [
             0.7777777777777778,
             "#fb9f3a"
            ],
            [
             0.8888888888888888,
             "#fdca26"
            ],
            [
             1,
             "#f0f921"
            ]
           ]
          },
          "colorway": [
           "#636efa",
           "#EF553B",
           "#00cc96",
           "#ab63fa",
           "#FFA15A",
           "#19d3f3",
           "#FF6692",
           "#B6E880",
           "#FF97FF",
           "#FECB52"
          ],
          "font": {
           "color": "#2a3f5f"
          },
          "geo": {
           "bgcolor": "white",
           "lakecolor": "white",
           "landcolor": "#E5ECF6",
           "showlakes": true,
           "showland": true,
           "subunitcolor": "white"
          },
          "hoverlabel": {
           "align": "left"
          },
          "hovermode": "closest",
          "mapbox": {
           "style": "light"
          },
          "paper_bgcolor": "white",
          "plot_bgcolor": "#E5ECF6",
          "polar": {
           "angularaxis": {
            "gridcolor": "white",
            "linecolor": "white",
            "ticks": ""
           },
           "bgcolor": "#E5ECF6",
           "radialaxis": {
            "gridcolor": "white",
            "linecolor": "white",
            "ticks": ""
           }
          },
          "scene": {
           "xaxis": {
            "backgroundcolor": "#E5ECF6",
            "gridcolor": "white",
            "gridwidth": 2,
            "linecolor": "white",
            "showbackground": true,
            "ticks": "",
            "zerolinecolor": "white"
           },
           "yaxis": {
            "backgroundcolor": "#E5ECF6",
            "gridcolor": "white",
            "gridwidth": 2,
            "linecolor": "white",
            "showbackground": true,
            "ticks": "",
            "zerolinecolor": "white"
           },
           "zaxis": {
            "backgroundcolor": "#E5ECF6",
            "gridcolor": "white",
            "gridwidth": 2,
            "linecolor": "white",
            "showbackground": true,
            "ticks": "",
            "zerolinecolor": "white"
           }
          },
          "shapedefaults": {
           "line": {
            "color": "#2a3f5f"
           }
          },
          "ternary": {
           "aaxis": {
            "gridcolor": "white",
            "linecolor": "white",
            "ticks": ""
           },
           "baxis": {
            "gridcolor": "white",
            "linecolor": "white",
            "ticks": ""
           },
           "bgcolor": "#E5ECF6",
           "caxis": {
            "gridcolor": "white",
            "linecolor": "white",
            "ticks": ""
           }
          },
          "title": {
           "x": 0.05
          },
          "xaxis": {
           "automargin": true,
           "gridcolor": "white",
           "linecolor": "white",
           "ticks": "",
           "title": {
            "standoff": 15
           },
           "zerolinecolor": "white",
           "zerolinewidth": 2
          },
          "yaxis": {
           "automargin": true,
           "gridcolor": "white",
           "linecolor": "white",
           "ticks": "",
           "title": {
            "standoff": 15
           },
           "zerolinecolor": "white",
           "zerolinewidth": 2
          }
         }
        },
        "title": {
         "text": "Inner Leading Positions vs Roll"
        },
        "xaxis": {
         "title": {
          "text": "body jounce (m)"
         }
        },
        "yaxis": {
         "tickfont": {
          "color": "red"
         },
         "title": {
          "font": {
           "color": "red"
          },
          "text": "KPI [°]"
         }
        },
        "yaxis2": {
         "anchor": "x",
         "overlaying": "y",
         "side": "right",
         "tickfont": {
          "color": "blue"
         },
         "title": {
          "font": {
           "color": "blue"
          },
          "text": "Caster angle [°]"
         }
        }
       }
      }
     },
     "metadata": {},
     "output_type": "display_data"
    }
   ],
   "source": [
    "# Plot KPI/Caster vs jounce\n",
    "\n",
    "# Create the plot\n",
    "fig = go.Figure()\n",
    "\n",
    "# Add king pin incl\n",
    "fig.add_trace(\n",
    "    go.Scatter(\n",
    "        x=results[\"jounce\"],\n",
    "        y=results[\"kingpin_inclination_deg\"],\n",
    "        mode='lines',\n",
    "        marker=dict(color='red'),\n",
    "        name='lower Leading Z Heights',\n",
    "        yaxis='y'  # Primary y-axis\n",
    "    )\n",
    ")\n",
    "\n",
    "# Add caster angle \n",
    "fig.add_trace(\n",
    "    go.Scatter(\n",
    "        x=results[\"jounce\"],\n",
    "        y=results[\"camber_angle_deg\"],\n",
    "        mode='lines',\n",
    "        marker=dict(color='blue'),\n",
    "        name='Lower Leading Y Positions',\n",
    "        yaxis='y2'  # Secondary y-axis\n",
    "    )\n",
    ")\n",
    "\n",
    "# Update layout to add the secondary y-axis\n",
    "fig.update_layout(\n",
    "    title='Inner Leading Positions vs Roll',\n",
    "    xaxis=dict(title='body jounce (m)'),\n",
    "    yaxis=dict(\n",
    "        title='KPI [°]',\n",
    "        titlefont=dict(color='red'),\n",
    "        tickfont=dict(color='red')\n",
    "    ),\n",
    "    yaxis2=dict(\n",
    "        title='Caster angle [°]',\n",
    "        titlefont=dict(color='blue'),\n",
    "        tickfont=dict(color='blue'),\n",
    "        anchor='x',\n",
    "        overlaying='y',\n",
    "        side='right'\n",
    "    ),\n",
    "    legend=dict(x=0.5, y=-0.2, orientation='h')  # Adjust legend position if needed\n",
    ")\n",
    "\n",
    "# Show the figure\n",
    "fig.show()"
   ]
  },
  {
   "cell_type": "code",
   "execution_count": 18,
   "metadata": {},
   "outputs": [
    {
     "data": {
      "application/vnd.plotly.v1+json": {
       "config": {
        "plotlyServerURL": "https://plot.ly"
       },
       "data": [
        {
         "marker": {
          "color": "red"
         },
         "mode": "lines",
         "name": "Fx (Lower A-arm)",
         "type": "scatter",
         "x": [
          0,
          -0.0008814794201991563,
          -0.0017629588403983126,
          -0.0026444382605974688,
          -0.003525917680796625,
          -0.004407397100995782,
          -0.0052888765211949375,
          -0.006170355941394094,
          -0.00705183536159325,
          -0.007933314781792407,
          -0.008814794201991563,
          -0.009696273622190719,
          -0.010577753042389875,
          -0.011459232462589031,
          -0.012340711882788189,
          -0.013222191302987345,
          -0.0141036707231865,
          -0.014985150143385657,
          -0.015866629563584814,
          -0.01674810898378397,
          -0.017629588403983126,
          -0.01851106782418228,
          -0.019392547244381438,
          -0.020274026664580596,
          -0.02115550608477975,
          -0.022036985504978908,
          -0.022918464925178062,
          -0.02379994434537722,
          -0.024681423765576378,
          -0.025562903185775532,
          -0.02644438260597469,
          -0.027325862026173844,
          -0.028207341446373,
          -0.02908882086657216,
          -0.029970300286771313,
          -0.03085177970697047,
          -0.03173325912716963,
          -0.03261473854736878,
          -0.03349621796756794,
          -0.034377697387767095,
          -0.03525917680796625,
          -0.03614065622816541,
          -0.03702213564836456,
          -0.03790361506856372,
          -0.038785094488762877,
          -0.039666573908962034,
          -0.04054805332916119,
          -0.04142953274936034,
          -0.0423110121695595,
          -0.04319249158975866,
          -0.044073971009957816,
          -0.044955450430156974,
          -0.045836929850356124,
          -0.04671840927055528,
          -0.04759988869075444,
          -0.0484813681109536,
          -0.049362847531152755,
          -0.050244326951351906,
          -0.051125806371551064,
          -0.05200728579175022,
          -0.05288876521194938,
          -0.05377024463214854,
          -0.05465172405234769,
          -0.055533203472546845,
          -0.056414682892746,
          -0.05729616231294516,
          -0.05817764173314432,
          -0.05905912115334347,
          -0.05994060057354263,
          -0.060822079993741784,
          -0.06170355941394094,
          -0.0625850388341401,
          -0.06346651825433926,
          -0.06434799767453842,
          -0.06522947709473756,
          -0.06611095651493672,
          -0.06699243593513587,
          -0.06787391535533503,
          -0.06875539477553419,
          -0.06963687419573335,
          -0.0705183536159325,
          -0.07139983303613166,
          -0.07228131245633082,
          -0.07316279187652998,
          -0.07404427129672912,
          -0.07492575071692828,
          -0.07580723013712744,
          -0.0766887095573266,
          -0.07757018897752575,
          -0.07845166839772491,
          -0.07933314781792407,
          -0.08021462723812323,
          -0.08109610665832238,
          -0.08197758607852154,
          -0.08285906549872069,
          -0.08374054491891984,
          -0.084622024339119,
          -0.08550350375931816,
          -0.08638498317951732,
          -0.08726646259971647
         ],
         "xaxis": "x",
         "y": [
          4480.803044936176,
          4481.843122120027,
          4482.882477940109,
          4483.921459432885,
          4484.989440535124,
          4486.043733344433,
          4487.101149122153,
          4488.161720548211,
          4489.225435166187,
          4490.2924212186335,
          4491.362472228653,
          4492.43567652412,
          4493.51204974565,
          4494.591443011048,
          4495.673863004987,
          4496.759322083753,
          4497.8476651181345,
          4498.938832209248,
          4500.032858536828,
          4501.129761185814,
          4502.229213047182,
          4503.331488930613,
          4504.436420610522,
          4505.544069711123,
          4506.654222579028,
          4507.767133995575,
          4508.903445728964,
          4510.023915504185,
          4511.147263217203,
          4512.27336093354,
          4513.402526660996,
          4514.503274191971,
          4515.636255719663,
          4516.772187533755,
          4517.9110366600535,
          4519.052726686918,
          4520.197139388992,
          4521.34409796227,
          4522.493390306409,
          4523.644756586615,
          4524.819335495915,
          4525.981643859611,
          4527.146994342761,
          4528.315385177818,
          4529.486821247437,
          4530.661298582512,
          4531.838826780336,
          4533.019401173324,
          4534.20302631523,
          4535.389702821562,
          4536.579433409106,
          4537.791792506678,
          4538.96814042688,
          4540.167013881432,
          4541.368939250116,
          4542.573913433515,
          4543.781941356702,
          4544.993018567507,
          4546.207142978197,
          4547.424315227669,
          4548.644539300307,
          4549.86780734286,
          4551.094123485517,
          4552.323487783565,
          4553.555891821081,
          4554.7913422225165,
          4556.02983793113,
          4557.27136762089,
          4558.515940546151,
          4559.763540147092,
          4561.014176037587,
          4562.267844293718,
          4563.524542628148,
          4564.784251139569,
          4566.046991988284,
          4567.31274791422,
          4568.581516234237,
          4569.8532879259055,
          4571.128074386605,
          4572.405861505184,
          4573.686638090275,
          4574.970399212634,
          4576.257158220298,
          4577.546891789821,
          4578.83958975513,
          4580.13526267298,
          4581.433892637165,
          4582.735481477688,
          4584.040003017357,
          4585.347467472079,
          4586.657841880893,
          4587.971159326226,
          4589.287375570393,
          4590.606465210035,
          4591.928493539424,
          4593.253351733576,
          4594.581099715788,
          4595.911695399733,
          4597.245125046157,
          4598.58136645169
         ],
         "yaxis": "y"
        },
        {
         "marker": {
          "color": "blue"
         },
         "mode": "lines",
         "name": "Fy (Lower A-arm)",
         "type": "scatter",
         "x": [
          0,
          -0.0008814794201991563,
          -0.0017629588403983126,
          -0.0026444382605974688,
          -0.003525917680796625,
          -0.004407397100995782,
          -0.0052888765211949375,
          -0.006170355941394094,
          -0.00705183536159325,
          -0.007933314781792407,
          -0.008814794201991563,
          -0.009696273622190719,
          -0.010577753042389875,
          -0.011459232462589031,
          -0.012340711882788189,
          -0.013222191302987345,
          -0.0141036707231865,
          -0.014985150143385657,
          -0.015866629563584814,
          -0.01674810898378397,
          -0.017629588403983126,
          -0.01851106782418228,
          -0.019392547244381438,
          -0.020274026664580596,
          -0.02115550608477975,
          -0.022036985504978908,
          -0.022918464925178062,
          -0.02379994434537722,
          -0.024681423765576378,
          -0.025562903185775532,
          -0.02644438260597469,
          -0.027325862026173844,
          -0.028207341446373,
          -0.02908882086657216,
          -0.029970300286771313,
          -0.03085177970697047,
          -0.03173325912716963,
          -0.03261473854736878,
          -0.03349621796756794,
          -0.034377697387767095,
          -0.03525917680796625,
          -0.03614065622816541,
          -0.03702213564836456,
          -0.03790361506856372,
          -0.038785094488762877,
          -0.039666573908962034,
          -0.04054805332916119,
          -0.04142953274936034,
          -0.0423110121695595,
          -0.04319249158975866,
          -0.044073971009957816,
          -0.044955450430156974,
          -0.045836929850356124,
          -0.04671840927055528,
          -0.04759988869075444,
          -0.0484813681109536,
          -0.049362847531152755,
          -0.050244326951351906,
          -0.051125806371551064,
          -0.05200728579175022,
          -0.05288876521194938,
          -0.05377024463214854,
          -0.05465172405234769,
          -0.055533203472546845,
          -0.056414682892746,
          -0.05729616231294516,
          -0.05817764173314432,
          -0.05905912115334347,
          -0.05994060057354263,
          -0.060822079993741784,
          -0.06170355941394094,
          -0.0625850388341401,
          -0.06346651825433926,
          -0.06434799767453842,
          -0.06522947709473756,
          -0.06611095651493672,
          -0.06699243593513587,
          -0.06787391535533503,
          -0.06875539477553419,
          -0.06963687419573335,
          -0.0705183536159325,
          -0.07139983303613166,
          -0.07228131245633082,
          -0.07316279187652998,
          -0.07404427129672912,
          -0.07492575071692828,
          -0.07580723013712744,
          -0.0766887095573266,
          -0.07757018897752575,
          -0.07845166839772491,
          -0.07933314781792407,
          -0.08021462723812323,
          -0.08109610665832238,
          -0.08197758607852154,
          -0.08285906549872069,
          -0.08374054491891984,
          -0.084622024339119,
          -0.08550350375931816,
          -0.08638498317951732,
          -0.08726646259971647
         ],
         "xaxis": "x",
         "y": [
          6836.944086496353,
          6842.838364515877,
          6848.726166518099,
          6854.607478323183,
          6860.489264714605,
          6866.3611872150905,
          6872.227178679152,
          6878.087160144927,
          6883.941022261368,
          6889.788788696482,
          6895.630181699833,
          6901.465215640745,
          6907.293832277753,
          6913.115828459539,
          6918.931157157879,
          6924.739791539705,
          6930.541499430528,
          6936.336223863489,
          6942.123899943436,
          6947.904541661387,
          6953.677734808616,
          6959.443710158043,
          6965.202206049441,
          6970.95321835431,
          6976.6964436688895,
          6982.4319995283795,
          6988.171596022505,
          6993.892261285836,
          6999.605506741933,
          7005.310540480526,
          7011.007559559713,
          7016.666548511035,
          7022.3447336371755,
          7028.014662244618,
          7033.676056743274,
          7039.328813380369,
          7044.972816325745,
          7050.607926945825,
          7056.233995332047,
          7061.850837480597,
          7067.4537405758065,
          7073.051596187191,
          7078.639993996611,
          7084.218822907144,
          7089.7879785500745,
          7095.347348549851,
          7100.896833777869,
          7106.436317451659,
          7111.965695244436,
          7117.484854083949,
          7122.993686651731,
          7128.492264739579,
          7133.9802143529905,
          7139.45742005721,
          7144.923852921329,
          7150.379396929063,
          7155.823942337695,
          7161.257371866367,
          7166.679565973707,
          7172.090411587696,
          7177.489794106733,
          7182.877592215896,
          7188.253690838728,
          7193.617969424351,
          7198.970307052566,
          7204.310585543827,
          7209.638686292524,
          7214.954476463248,
          7220.2578471493025,
          7225.548655740039,
          7230.82679327931,
          7236.09213126396,
          7241.344549027423,
          7246.583892577115,
          7251.810070480309,
          7257.022935055617,
          7262.2223598054525,
          7267.408207567771,
          7272.580369093376,
          7277.7387057831875,
          7282.883067911772,
          7288.013332213725,
          7293.129385046777,
          7298.231064110607,
          7303.3182444086915,
          7308.39079886116,
          7313.448581758834,
          7318.491468210512,
          7323.519290253303,
          7328.531941899569,
          7333.529254244382,
          7338.511121671009,
          7343.477377676525,
          7348.427846724989,
          7353.362487057734,
          7358.281029932776,
          7363.183425709717,
          7368.0694777787985,
          7372.939038556322,
          7377.791968823563
         ],
         "yaxis": "y2"
        },
        {
         "marker": {
          "color": "green"
         },
         "mode": "lines",
         "name": "Fx (Upper A-arm)",
         "type": "scatter",
         "x": [
          0,
          -0.0008814794201991563,
          -0.0017629588403983126,
          -0.0026444382605974688,
          -0.003525917680796625,
          -0.004407397100995782,
          -0.0052888765211949375,
          -0.006170355941394094,
          -0.00705183536159325,
          -0.007933314781792407,
          -0.008814794201991563,
          -0.009696273622190719,
          -0.010577753042389875,
          -0.011459232462589031,
          -0.012340711882788189,
          -0.013222191302987345,
          -0.0141036707231865,
          -0.014985150143385657,
          -0.015866629563584814,
          -0.01674810898378397,
          -0.017629588403983126,
          -0.01851106782418228,
          -0.019392547244381438,
          -0.020274026664580596,
          -0.02115550608477975,
          -0.022036985504978908,
          -0.022918464925178062,
          -0.02379994434537722,
          -0.024681423765576378,
          -0.025562903185775532,
          -0.02644438260597469,
          -0.027325862026173844,
          -0.028207341446373,
          -0.02908882086657216,
          -0.029970300286771313,
          -0.03085177970697047,
          -0.03173325912716963,
          -0.03261473854736878,
          -0.03349621796756794,
          -0.034377697387767095,
          -0.03525917680796625,
          -0.03614065622816541,
          -0.03702213564836456,
          -0.03790361506856372,
          -0.038785094488762877,
          -0.039666573908962034,
          -0.04054805332916119,
          -0.04142953274936034,
          -0.0423110121695595,
          -0.04319249158975866,
          -0.044073971009957816,
          -0.044955450430156974,
          -0.045836929850356124,
          -0.04671840927055528,
          -0.04759988869075444,
          -0.0484813681109536,
          -0.049362847531152755,
          -0.050244326951351906,
          -0.051125806371551064,
          -0.05200728579175022,
          -0.05288876521194938,
          -0.05377024463214854,
          -0.05465172405234769,
          -0.055533203472546845,
          -0.056414682892746,
          -0.05729616231294516,
          -0.05817764173314432,
          -0.05905912115334347,
          -0.05994060057354263,
          -0.060822079993741784,
          -0.06170355941394094,
          -0.0625850388341401,
          -0.06346651825433926,
          -0.06434799767453842,
          -0.06522947709473756,
          -0.06611095651493672,
          -0.06699243593513587,
          -0.06787391535533503,
          -0.06875539477553419,
          -0.06963687419573335,
          -0.0705183536159325,
          -0.07139983303613166,
          -0.07228131245633082,
          -0.07316279187652998,
          -0.07404427129672912,
          -0.07492575071692828,
          -0.07580723013712744,
          -0.0766887095573266,
          -0.07757018897752575,
          -0.07845166839772491,
          -0.07933314781792407,
          -0.08021462723812323,
          -0.08109610665832238,
          -0.08197758607852154,
          -0.08285906549872069,
          -0.08374054491891984,
          -0.084622024339119,
          -0.08550350375931816,
          -0.08638498317951732,
          -0.08726646259971647
         ],
         "xaxis": "x2",
         "y": [
          -2883.493741719138,
          -2883.778494252563,
          -2884.06192717817,
          -2884.3441470569633,
          -2884.6405890401097,
          -2884.92894861574,
          -2885.2179705438007,
          -2885.5076846868496,
          -2885.7980599418206,
          -2886.0892748234965,
          -2886.38105691721,
          -2886.673532565746,
          -2886.9667554674934,
          -2887.2605332850044,
          -2887.5549205423126,
          -2887.8499584329475,
          -2888.145479375568,
          -2888.4414302512937,
          -2888.73790017245,
          -2889.034942567159,
          -2889.3321207027016,
          -2889.6298744395067,
          -2889.927966088634,
          -2890.2264801187075,
          -2890.5251650226487,
          -2890.824328117344,
          -2891.1254253474,
          -2891.425618584396,
          -2891.7262738889385,
          -2892.0271330342807,
          -2892.328599189427,
          -2892.591251775827,
          -2892.89099999084,
          -2893.1911677425733,
          -2893.491726480061,
          -2893.792640288456,
          -2894.0938584437977,
          -2894.3953081399754,
          -2894.6969128981455,
          -2894.9985845581423,
          -2895.311715836507,
          -2895.6165828729204,
          -2895.921870528034,
          -2896.227573032229,
          -2896.533691308613,
          -2896.8402165748626,
          -2897.14715477525,
          -2897.4544969982544,
          -2897.7622419526683,
          -2898.070387163834,
          -2898.378928794911,
          -2898.697148577206,
          -2898.997214198265,
          -2899.3069233049064,
          -2899.617019480023,
          -2899.9274940461905,
          -2900.238350332969,
          -2900.5495801195516,
          -2900.861176248464,
          -2901.1731394373805,
          -2901.485471074703,
          -2901.798157443195,
          -2902.111204809881,
          -2902.424609340459,
          -2902.7383591788234,
          -2903.0524649863764,
          -2903.3669163418303,
          -2903.681706515964,
          -2903.9968382620764,
          -2904.312296944979,
          -2904.628091819935,
          -2904.9442154397034,
          -2905.2606657133015,
          -2905.5774198185395,
          -2905.894499470001,
          -2906.2118895121694,
          -2906.529583635728,
          -2906.8475689213424,
          -2907.1658636198113,
          -2907.4844437931856,
          -2907.803300022441,
          -2908.122427519122,
          -2908.4418371432516,
          -2908.761509345718,
          -2909.081424238201,
          -2909.40159554618,
          -2909.722006323329,
          -2910.042655607134,
          -2910.3635102603375,
          -2910.6845817082726,
          -2911.0058395972146,
          -2911.3273125175747,
          -2911.6489550030815,
          -2911.9707382590736,
          -2912.2927318706775,
          -2912.6148152491514,
          -2912.9370608586087,
          -2913.2594069312017,
          -2913.5818618279854,
          -2913.9043808242354
         ],
         "yaxis": "y3"
        },
        {
         "marker": {
          "color": "orange"
         },
         "mode": "lines",
         "name": "Fy (Upper A-arm)",
         "type": "scatter",
         "x": [
          0,
          -0.0008814794201991563,
          -0.0017629588403983126,
          -0.0026444382605974688,
          -0.003525917680796625,
          -0.004407397100995782,
          -0.0052888765211949375,
          -0.006170355941394094,
          -0.00705183536159325,
          -0.007933314781792407,
          -0.008814794201991563,
          -0.009696273622190719,
          -0.010577753042389875,
          -0.011459232462589031,
          -0.012340711882788189,
          -0.013222191302987345,
          -0.0141036707231865,
          -0.014985150143385657,
          -0.015866629563584814,
          -0.01674810898378397,
          -0.017629588403983126,
          -0.01851106782418228,
          -0.019392547244381438,
          -0.020274026664580596,
          -0.02115550608477975,
          -0.022036985504978908,
          -0.022918464925178062,
          -0.02379994434537722,
          -0.024681423765576378,
          -0.025562903185775532,
          -0.02644438260597469,
          -0.027325862026173844,
          -0.028207341446373,
          -0.02908882086657216,
          -0.029970300286771313,
          -0.03085177970697047,
          -0.03173325912716963,
          -0.03261473854736878,
          -0.03349621796756794,
          -0.034377697387767095,
          -0.03525917680796625,
          -0.03614065622816541,
          -0.03702213564836456,
          -0.03790361506856372,
          -0.038785094488762877,
          -0.039666573908962034,
          -0.04054805332916119,
          -0.04142953274936034,
          -0.0423110121695595,
          -0.04319249158975866,
          -0.044073971009957816,
          -0.044955450430156974,
          -0.045836929850356124,
          -0.04671840927055528,
          -0.04759988869075444,
          -0.0484813681109536,
          -0.049362847531152755,
          -0.050244326951351906,
          -0.051125806371551064,
          -0.05200728579175022,
          -0.05288876521194938,
          -0.05377024463214854,
          -0.05465172405234769,
          -0.055533203472546845,
          -0.056414682892746,
          -0.05729616231294516,
          -0.05817764173314432,
          -0.05905912115334347,
          -0.05994060057354263,
          -0.060822079993741784,
          -0.06170355941394094,
          -0.0625850388341401,
          -0.06346651825433926,
          -0.06434799767453842,
          -0.06522947709473756,
          -0.06611095651493672,
          -0.06699243593513587,
          -0.06787391535533503,
          -0.06875539477553419,
          -0.06963687419573335,
          -0.0705183536159325,
          -0.07139983303613166,
          -0.07228131245633082,
          -0.07316279187652998,
          -0.07404427129672912,
          -0.07492575071692828,
          -0.07580723013712744,
          -0.0766887095573266,
          -0.07757018897752575,
          -0.07845166839772491,
          -0.07933314781792407,
          -0.08021462723812323,
          -0.08109610665832238,
          -0.08197758607852154,
          -0.08285906549872069,
          -0.08374054491891984,
          -0.084622024339119,
          -0.08550350375931816,
          -0.08638498317951732,
          -0.08726646259971647
         ],
         "xaxis": "x2",
         "y": [
          -3372.582490390526,
          -3377.6813794267655,
          -3382.7594785730007,
          -3387.816775583685,
          -3392.861031350929,
          -3397.8807558108165,
          -3402.8803610863124,
          -3407.859727810507,
          -3412.8187949442026,
          -3417.7574543231713,
          -3422.6755795299323,
          -3427.573088632418,
          -3432.449869185809,
          -3437.305810267312,
          -3442.140809655846,
          -3446.9547178058974,
          -3451.747444519119,
          -3456.5188445772783,
          -3461.26879608922,
          -3465.997220874746,
          -3470.7039674370244,
          -3475.388913897037,
          -3480.0519905872834,
          -3484.693076991449,
          -3489.3120048568235,
          -3493.9087680342427,
          -3498.4732022982016,
          -3503.0220173738126,
          -3507.5502413543472,
          -3512.0557643040565,
          -3516.5384788138044,
          -3520.9691589160075,
          -3525.40268470352,
          -3529.813666936173,
          -3534.201247156362,
          -3538.565285344348,
          -3542.9056301752207,
          -3547.222122132146,
          -3551.514597400802,
          -3555.7828877957263,
          -3560.0340642433703,
          -3564.2554610150046,
          -3568.452506976044,
          -3572.625072856389,
          -3576.7730318467848,
          -3580.89625291018,
          -3584.9946084207986,
          -3589.0679663651035,
          -3593.116194522463,
          -3597.139160938479,
          -3601.1367332970813,
          -3605.114164378224,
          -3609.0551251564975,
          -3612.9757007870357,
          -3616.8703365366882,
          -3620.738898766732,
          -3624.581251170488,
          -3628.397251268132,
          -3632.1867597889986,
          -3635.949636117527,
          -3639.6857386629645,
          -3643.3949273776525,
          -3647.07705790051,
          -3650.73198867103,
          -3654.359571605406,
          -3657.959662883608,
          -3661.5321229832543,
          -3665.0767927429115,
          -3668.5935298368513,
          -3672.0821884550805,
          -3675.5426167440182,
          -3678.974665154562,
          -3682.3781829245145,
          -3685.7530107450084,
          -3689.0990100160625,
          -3692.416012335162,
          -3695.7038689513975,
          -3698.962425030496,
          -3702.1915182758357,
          -3705.391009018178,
          -3708.5607165444044,
          -3711.700483170206,
          -3714.8101633750684,
          -3717.8895793753127,
          -3720.9385828680915,
          -3723.9569998511834,
          -3726.9446780751286,
          -3729.901434123056,
          -3732.8271116845963,
          -3735.7215602550787,
          -3738.5845841713435,
          -3741.416023022297,
          -3744.2157191142524,
          -3746.9834667869873,
          -3749.719133701008,
          -3752.4225346057337,
          -3755.093484808658,
          -3757.7318382589874,
          -3760.3373604837216,
          -3762.9099369283003
         ],
         "yaxis": "y4"
        },
        {
         "marker": {
          "color": "purple"
         },
         "mode": "lines",
         "name": "Fx (Tie Rod)",
         "type": "scatter",
         "x": [
          0,
          -0.0008814794201991563,
          -0.0017629588403983126,
          -0.0026444382605974688,
          -0.003525917680796625,
          -0.004407397100995782,
          -0.0052888765211949375,
          -0.006170355941394094,
          -0.00705183536159325,
          -0.007933314781792407,
          -0.008814794201991563,
          -0.009696273622190719,
          -0.010577753042389875,
          -0.011459232462589031,
          -0.012340711882788189,
          -0.013222191302987345,
          -0.0141036707231865,
          -0.014985150143385657,
          -0.015866629563584814,
          -0.01674810898378397,
          -0.017629588403983126,
          -0.01851106782418228,
          -0.019392547244381438,
          -0.020274026664580596,
          -0.02115550608477975,
          -0.022036985504978908,
          -0.022918464925178062,
          -0.02379994434537722,
          -0.024681423765576378,
          -0.025562903185775532,
          -0.02644438260597469,
          -0.027325862026173844,
          -0.028207341446373,
          -0.02908882086657216,
          -0.029970300286771313,
          -0.03085177970697047,
          -0.03173325912716963,
          -0.03261473854736878,
          -0.03349621796756794,
          -0.034377697387767095,
          -0.03525917680796625,
          -0.03614065622816541,
          -0.03702213564836456,
          -0.03790361506856372,
          -0.038785094488762877,
          -0.039666573908962034,
          -0.04054805332916119,
          -0.04142953274936034,
          -0.0423110121695595,
          -0.04319249158975866,
          -0.044073971009957816,
          -0.044955450430156974,
          -0.045836929850356124,
          -0.04671840927055528,
          -0.04759988869075444,
          -0.0484813681109536,
          -0.049362847531152755,
          -0.050244326951351906,
          -0.051125806371551064,
          -0.05200728579175022,
          -0.05288876521194938,
          -0.05377024463214854,
          -0.05465172405234769,
          -0.055533203472546845,
          -0.056414682892746,
          -0.05729616231294516,
          -0.05817764173314432,
          -0.05905912115334347,
          -0.05994060057354263,
          -0.060822079993741784,
          -0.06170355941394094,
          -0.0625850388341401,
          -0.06346651825433926,
          -0.06434799767453842,
          -0.06522947709473756,
          -0.06611095651493672,
          -0.06699243593513587,
          -0.06787391535533503,
          -0.06875539477553419,
          -0.06963687419573335,
          -0.0705183536159325,
          -0.07139983303613166,
          -0.07228131245633082,
          -0.07316279187652998,
          -0.07404427129672912,
          -0.07492575071692828,
          -0.07580723013712744,
          -0.0766887095573266,
          -0.07757018897752575,
          -0.07845166839772491,
          -0.07933314781792407,
          -0.08021462723812323,
          -0.08109610665832238,
          -0.08197758607852154,
          -0.08285906549872069,
          -0.08374054491891984,
          -0.084622024339119,
          -0.08550350375931816,
          -0.08638498317951732,
          -0.08726646259971647
         ],
         "xaxis": "x3",
         "y": [
          3402.690696782959,
          3401.935372132537,
          3401.1794492380595,
          3400.422687624073,
          3399.651148504987,
          3398.885215271302,
          3398.116821421642,
          3397.3459641386344,
          3396.5726247756356,
          3395.7968536048616,
          3395.0185846885556,
          3394.2378560416287,
          3393.454705721846,
          3392.6690902739606,
          3391.881057537324,
          3391.090636349194,
          3390.2978142574407,
          3389.502598042048,
          3388.7050416356187,
          3387.905181381336,
          3387.102907655511,
          3386.298385508889,
          3385.4915454781103,
          3384.682410407587,
          3383.8709424436197,
          3383.0571941217754,
          3382.2219796184363,
          3381.4017030802083,
          3380.5790106717436,
          3379.7537721007393,
          3378.926072528435,
          3378.0879775838607,
          3377.2547442711766,
          3376.418980208815,
          3375.580689820004,
          3374.739913601542,
          3373.8967190548055,
          3373.0512101776994,
          3372.2035225917357,
          3371.353827971532,
          3370.4923803406014,
          3369.634939013301,
          3368.7748761852736,
          3367.9121878544133,
          3367.0468700611696,
          3366.178917992351,
          3365.3083279949155,
          3364.4350958249247,
          3363.5592156374328,
          3362.680684342268,
          3361.7994953858065,
          3360.905356070531,
          3360.0290737714295,
          3359.1399094234725,
          3358.248080229916,
          3357.3535806126624,
          3356.456408976267,
          3355.556561552037,
          3354.6540332702684,
          3353.748824209709,
          3352.8409317744004,
          3351.9303501003315,
          3351.01708132435,
          3350.101121556895,
          3349.1824673577385,
          3348.2611227638617,
          3347.337078410702,
          3346.4103388950666,
          3345.4808977159196,
          3344.548756797886,
          3343.613915782345,
          3342.676371145984,
          3341.736123085153,
          3340.793168678968,
          3339.847507481717,
          3338.8991415979476,
          3337.948067401492,
          3336.9942809954373,
          3336.037789233211,
          3335.078582288005,
          3334.116661932162,
          3333.1520283064892,
          3332.184678922958,
          3331.2146175559087,
          3330.2418344830676,
          3329.2663328732037,
          3328.288113686168,
          3327.3071741294452,
          3326.3235072429784,
          3325.3371142362034,
          3324.347997716323,
          3323.3561531913506,
          3322.3615794326865,
          3321.364273049044,
          3320.3642383312467,
          3319.3614635155723,
          3318.3559611428236,
          3317.347711531472,
          3316.336736781833,
          3315.32301437255
         ],
         "yaxis": "y5"
        },
        {
         "marker": {
          "color": "brown"
         },
         "mode": "lines",
         "name": "Fy (Tie Rod)",
         "type": "scatter",
         "x": [
          0,
          -0.0008814794201991563,
          -0.0017629588403983126,
          -0.0026444382605974688,
          -0.003525917680796625,
          -0.004407397100995782,
          -0.0052888765211949375,
          -0.006170355941394094,
          -0.00705183536159325,
          -0.007933314781792407,
          -0.008814794201991563,
          -0.009696273622190719,
          -0.010577753042389875,
          -0.011459232462589031,
          -0.012340711882788189,
          -0.013222191302987345,
          -0.0141036707231865,
          -0.014985150143385657,
          -0.015866629563584814,
          -0.01674810898378397,
          -0.017629588403983126,
          -0.01851106782418228,
          -0.019392547244381438,
          -0.020274026664580596,
          -0.02115550608477975,
          -0.022036985504978908,
          -0.022918464925178062,
          -0.02379994434537722,
          -0.024681423765576378,
          -0.025562903185775532,
          -0.02644438260597469,
          -0.027325862026173844,
          -0.028207341446373,
          -0.02908882086657216,
          -0.029970300286771313,
          -0.03085177970697047,
          -0.03173325912716963,
          -0.03261473854736878,
          -0.03349621796756794,
          -0.034377697387767095,
          -0.03525917680796625,
          -0.03614065622816541,
          -0.03702213564836456,
          -0.03790361506856372,
          -0.038785094488762877,
          -0.039666573908962034,
          -0.04054805332916119,
          -0.04142953274936034,
          -0.0423110121695595,
          -0.04319249158975866,
          -0.044073971009957816,
          -0.044955450430156974,
          -0.045836929850356124,
          -0.04671840927055528,
          -0.04759988869075444,
          -0.0484813681109536,
          -0.049362847531152755,
          -0.050244326951351906,
          -0.051125806371551064,
          -0.05200728579175022,
          -0.05288876521194938,
          -0.05377024463214854,
          -0.05465172405234769,
          -0.055533203472546845,
          -0.056414682892746,
          -0.05729616231294516,
          -0.05817764173314432,
          -0.05905912115334347,
          -0.05994060057354263,
          -0.060822079993741784,
          -0.06170355941394094,
          -0.0625850388341401,
          -0.06346651825433926,
          -0.06434799767453842,
          -0.06522947709473756,
          -0.06611095651493672,
          -0.06699243593513587,
          -0.06787391535533503,
          -0.06875539477553419,
          -0.06963687419573335,
          -0.0705183536159325,
          -0.07139983303613166,
          -0.07228131245633082,
          -0.07316279187652998,
          -0.07404427129672912,
          -0.07492575071692828,
          -0.07580723013712744,
          -0.0766887095573266,
          -0.07757018897752575,
          -0.07845166839772491,
          -0.07933314781792407,
          -0.08021462723812323,
          -0.08109610665832238,
          -0.08197758607852154,
          -0.08285906549872069,
          -0.08374054491891984,
          -0.084622024339119,
          -0.08550350375931816,
          -0.08638498317951732,
          -0.08726646259971647
         ],
         "xaxis": "x3",
         "y": [
          1535.638403893849,
          1534.8430149108578,
          1534.03331205493,
          1533.2092972604669,
          1532.3717666362857,
          1531.5195685955732,
          1530.6531824074357,
          1529.772567665593,
          1528.8777726827648,
          1527.9686656264869,
          1527.045397830366,
          1526.1078729914973,
          1525.1560369081976,
          1524.189981807801,
          1523.209652497902,
          1522.214926266253,
          1521.2059450885654,
          1520.182620713806,
          1519.1448961457536,
          1518.092679213136,
          1517.0262326283294,
          1515.9452037391068,
          1514.8497845376457,
          1513.7398586370325,
          1512.6155611882064,
          1511.4767685058644,
          1510.301606275345,
          1509.129756087853,
          1507.944734612147,
          1506.745223823943,
          1505.530919254029,
          1504.3026104049827,
          1503.0579510662976,
          1501.7990046917528,
          1500.5251904128945,
          1499.2364719642583,
          1497.9328138496357,
          1496.6141951861678,
          1495.2806020688215,
          1493.9320503151253,
          1492.58032366757,
          1491.2038648279142,
          1489.812512979291,
          1488.4062499493352,
          1486.9850532968571,
          1485.5489043604543,
          1484.097774642995,
          1482.6316489135686,
          1481.1504992782216,
          1479.6543068547123,
          1478.143046645525,
          1476.6218996386579,
          1475.074910803279,
          1473.5182807299166,
          1471.9464836154316,
          1470.359501837912,
          1468.7573088324311,
          1467.1398794017562,
          1465.5071938151705,
          1463.8592245299935,
          1462.1959445561517,
          1460.517335161888,
          1458.823367061727,
          1457.1140192467842,
          1455.3892645528288,
          1453.6490773394157,
          1451.893436691011,
          1450.1223162796662,
          1448.3356826873023,
          1446.5335327149558,
          1444.715823464609,
          1442.8825338905028,
          1441.0336338969962,
          1439.1691181680058,
          1437.2889395355774,
          1435.3930772792633,
          1433.4815091460737,
          1431.5542174625893,
          1429.6111491825645,
          1427.6523032347257,
          1425.6776486325894,
          1423.6871509565622,
          1421.680778327941,
          1419.6585152646785,
          1417.62033845965,
          1415.5662009899363,
          1413.496096316083,
          1411.4099659124138,
          1409.3078214311,
          1407.1896183555064,
          1405.0553299271555,
          1402.9049013512683,
          1400.7383414380045,
          1398.5556200618678,
          1396.3566466431198,
          1394.141504672716,
          1391.9100590990874,
          1389.6623604801684,
          1387.3983219273243,
          1385.1179681046337
         ],
         "yaxis": "y6"
        }
       ],
       "layout": {
        "annotations": [
         {
          "align": "left",
          "font": {
           "size": 10
          },
          "showarrow": false,
          "standoff": 10,
          "text": "Lower A-arm",
          "x": 0,
          "xanchor": "left",
          "xref": "x",
          "y": 1,
          "yanchor": "top",
          "yref": "y"
         },
         {
          "align": "left",
          "font": {
           "size": 10
          },
          "showarrow": false,
          "standoff": 10,
          "text": "Upper A-arm",
          "x": 0,
          "xanchor": "left",
          "xref": "x2",
          "y": 1,
          "yanchor": "top",
          "yref": "y3"
         },
         {
          "align": "left",
          "font": {
           "size": 10
          },
          "showarrow": false,
          "standoff": 10,
          "text": "Tie Rod",
          "x": 0,
          "xanchor": "left",
          "xref": "x3",
          "y": 1,
          "yanchor": "top",
          "yref": "y5"
         }
        ],
        "height": 900,
        "legend": {
         "orientation": "h",
         "x": 0.5,
         "y": -0.1
        },
        "showlegend": true,
        "template": {
         "data": {
          "bar": [
           {
            "error_x": {
             "color": "#2a3f5f"
            },
            "error_y": {
             "color": "#2a3f5f"
            },
            "marker": {
             "line": {
              "color": "#E5ECF6",
              "width": 0.5
             },
             "pattern": {
              "fillmode": "overlay",
              "size": 10,
              "solidity": 0.2
             }
            },
            "type": "bar"
           }
          ],
          "barpolar": [
           {
            "marker": {
             "line": {
              "color": "#E5ECF6",
              "width": 0.5
             },
             "pattern": {
              "fillmode": "overlay",
              "size": 10,
              "solidity": 0.2
             }
            },
            "type": "barpolar"
           }
          ],
          "carpet": [
           {
            "aaxis": {
             "endlinecolor": "#2a3f5f",
             "gridcolor": "white",
             "linecolor": "white",
             "minorgridcolor": "white",
             "startlinecolor": "#2a3f5f"
            },
            "baxis": {
             "endlinecolor": "#2a3f5f",
             "gridcolor": "white",
             "linecolor": "white",
             "minorgridcolor": "white",
             "startlinecolor": "#2a3f5f"
            },
            "type": "carpet"
           }
          ],
          "choropleth": [
           {
            "colorbar": {
             "outlinewidth": 0,
             "ticks": ""
            },
            "type": "choropleth"
           }
          ],
          "contour": [
           {
            "colorbar": {
             "outlinewidth": 0,
             "ticks": ""
            },
            "colorscale": [
             [
              0,
              "#0d0887"
             ],
             [
              0.1111111111111111,
              "#46039f"
             ],
             [
              0.2222222222222222,
              "#7201a8"
             ],
             [
              0.3333333333333333,
              "#9c179e"
             ],
             [
              0.4444444444444444,
              "#bd3786"
             ],
             [
              0.5555555555555556,
              "#d8576b"
             ],
             [
              0.6666666666666666,
              "#ed7953"
             ],
             [
              0.7777777777777778,
              "#fb9f3a"
             ],
             [
              0.8888888888888888,
              "#fdca26"
             ],
             [
              1,
              "#f0f921"
             ]
            ],
            "type": "contour"
           }
          ],
          "contourcarpet": [
           {
            "colorbar": {
             "outlinewidth": 0,
             "ticks": ""
            },
            "type": "contourcarpet"
           }
          ],
          "heatmap": [
           {
            "colorbar": {
             "outlinewidth": 0,
             "ticks": ""
            },
            "colorscale": [
             [
              0,
              "#0d0887"
             ],
             [
              0.1111111111111111,
              "#46039f"
             ],
             [
              0.2222222222222222,
              "#7201a8"
             ],
             [
              0.3333333333333333,
              "#9c179e"
             ],
             [
              0.4444444444444444,
              "#bd3786"
             ],
             [
              0.5555555555555556,
              "#d8576b"
             ],
             [
              0.6666666666666666,
              "#ed7953"
             ],
             [
              0.7777777777777778,
              "#fb9f3a"
             ],
             [
              0.8888888888888888,
              "#fdca26"
             ],
             [
              1,
              "#f0f921"
             ]
            ],
            "type": "heatmap"
           }
          ],
          "heatmapgl": [
           {
            "colorbar": {
             "outlinewidth": 0,
             "ticks": ""
            },
            "colorscale": [
             [
              0,
              "#0d0887"
             ],
             [
              0.1111111111111111,
              "#46039f"
             ],
             [
              0.2222222222222222,
              "#7201a8"
             ],
             [
              0.3333333333333333,
              "#9c179e"
             ],
             [
              0.4444444444444444,
              "#bd3786"
             ],
             [
              0.5555555555555556,
              "#d8576b"
             ],
             [
              0.6666666666666666,
              "#ed7953"
             ],
             [
              0.7777777777777778,
              "#fb9f3a"
             ],
             [
              0.8888888888888888,
              "#fdca26"
             ],
             [
              1,
              "#f0f921"
             ]
            ],
            "type": "heatmapgl"
           }
          ],
          "histogram": [
           {
            "marker": {
             "pattern": {
              "fillmode": "overlay",
              "size": 10,
              "solidity": 0.2
             }
            },
            "type": "histogram"
           }
          ],
          "histogram2d": [
           {
            "colorbar": {
             "outlinewidth": 0,
             "ticks": ""
            },
            "colorscale": [
             [
              0,
              "#0d0887"
             ],
             [
              0.1111111111111111,
              "#46039f"
             ],
             [
              0.2222222222222222,
              "#7201a8"
             ],
             [
              0.3333333333333333,
              "#9c179e"
             ],
             [
              0.4444444444444444,
              "#bd3786"
             ],
             [
              0.5555555555555556,
              "#d8576b"
             ],
             [
              0.6666666666666666,
              "#ed7953"
             ],
             [
              0.7777777777777778,
              "#fb9f3a"
             ],
             [
              0.8888888888888888,
              "#fdca26"
             ],
             [
              1,
              "#f0f921"
             ]
            ],
            "type": "histogram2d"
           }
          ],
          "histogram2dcontour": [
           {
            "colorbar": {
             "outlinewidth": 0,
             "ticks": ""
            },
            "colorscale": [
             [
              0,
              "#0d0887"
             ],
             [
              0.1111111111111111,
              "#46039f"
             ],
             [
              0.2222222222222222,
              "#7201a8"
             ],
             [
              0.3333333333333333,
              "#9c179e"
             ],
             [
              0.4444444444444444,
              "#bd3786"
             ],
             [
              0.5555555555555556,
              "#d8576b"
             ],
             [
              0.6666666666666666,
              "#ed7953"
             ],
             [
              0.7777777777777778,
              "#fb9f3a"
             ],
             [
              0.8888888888888888,
              "#fdca26"
             ],
             [
              1,
              "#f0f921"
             ]
            ],
            "type": "histogram2dcontour"
           }
          ],
          "mesh3d": [
           {
            "colorbar": {
             "outlinewidth": 0,
             "ticks": ""
            },
            "type": "mesh3d"
           }
          ],
          "parcoords": [
           {
            "line": {
             "colorbar": {
              "outlinewidth": 0,
              "ticks": ""
             }
            },
            "type": "parcoords"
           }
          ],
          "pie": [
           {
            "automargin": true,
            "type": "pie"
           }
          ],
          "scatter": [
           {
            "fillpattern": {
             "fillmode": "overlay",
             "size": 10,
             "solidity": 0.2
            },
            "type": "scatter"
           }
          ],
          "scatter3d": [
           {
            "line": {
             "colorbar": {
              "outlinewidth": 0,
              "ticks": ""
             }
            },
            "marker": {
             "colorbar": {
              "outlinewidth": 0,
              "ticks": ""
             }
            },
            "type": "scatter3d"
           }
          ],
          "scattercarpet": [
           {
            "marker": {
             "colorbar": {
              "outlinewidth": 0,
              "ticks": ""
             }
            },
            "type": "scattercarpet"
           }
          ],
          "scattergeo": [
           {
            "marker": {
             "colorbar": {
              "outlinewidth": 0,
              "ticks": ""
             }
            },
            "type": "scattergeo"
           }
          ],
          "scattergl": [
           {
            "marker": {
             "colorbar": {
              "outlinewidth": 0,
              "ticks": ""
             }
            },
            "type": "scattergl"
           }
          ],
          "scattermapbox": [
           {
            "marker": {
             "colorbar": {
              "outlinewidth": 0,
              "ticks": ""
             }
            },
            "type": "scattermapbox"
           }
          ],
          "scatterpolar": [
           {
            "marker": {
             "colorbar": {
              "outlinewidth": 0,
              "ticks": ""
             }
            },
            "type": "scatterpolar"
           }
          ],
          "scatterpolargl": [
           {
            "marker": {
             "colorbar": {
              "outlinewidth": 0,
              "ticks": ""
             }
            },
            "type": "scatterpolargl"
           }
          ],
          "scatterternary": [
           {
            "marker": {
             "colorbar": {
              "outlinewidth": 0,
              "ticks": ""
             }
            },
            "type": "scatterternary"
           }
          ],
          "surface": [
           {
            "colorbar": {
             "outlinewidth": 0,
             "ticks": ""
            },
            "colorscale": [
             [
              0,
              "#0d0887"
             ],
             [
              0.1111111111111111,
              "#46039f"
             ],
             [
              0.2222222222222222,
              "#7201a8"
             ],
             [
              0.3333333333333333,
              "#9c179e"
             ],
             [
              0.4444444444444444,
              "#bd3786"
             ],
             [
              0.5555555555555556,
              "#d8576b"
             ],
             [
              0.6666666666666666,
              "#ed7953"
             ],
             [
              0.7777777777777778,
              "#fb9f3a"
             ],
             [
              0.8888888888888888,
              "#fdca26"
             ],
             [
              1,
              "#f0f921"
             ]
            ],
            "type": "surface"
           }
          ],
          "table": [
           {
            "cells": {
             "fill": {
              "color": "#EBF0F8"
             },
             "line": {
              "color": "white"
             }
            },
            "header": {
             "fill": {
              "color": "#C8D4E3"
             },
             "line": {
              "color": "white"
             }
            },
            "type": "table"
           }
          ]
         },
         "layout": {
          "annotationdefaults": {
           "arrowcolor": "#2a3f5f",
           "arrowhead": 0,
           "arrowwidth": 1
          },
          "autotypenumbers": "strict",
          "coloraxis": {
           "colorbar": {
            "outlinewidth": 0,
            "ticks": ""
           }
          },
          "colorscale": {
           "diverging": [
            [
             0,
             "#8e0152"
            ],
            [
             0.1,
             "#c51b7d"
            ],
            [
             0.2,
             "#de77ae"
            ],
            [
             0.3,
             "#f1b6da"
            ],
            [
             0.4,
             "#fde0ef"
            ],
            [
             0.5,
             "#f7f7f7"
            ],
            [
             0.6,
             "#e6f5d0"
            ],
            [
             0.7,
             "#b8e186"
            ],
            [
             0.8,
             "#7fbc41"
            ],
            [
             0.9,
             "#4d9221"
            ],
            [
             1,
             "#276419"
            ]
           ],
           "sequential": [
            [
             0,
             "#0d0887"
            ],
            [
             0.1111111111111111,
             "#46039f"
            ],
            [
             0.2222222222222222,
             "#7201a8"
            ],
            [
             0.3333333333333333,
             "#9c179e"
            ],
            [
             0.4444444444444444,
             "#bd3786"
            ],
            [
             0.5555555555555556,
             "#d8576b"
            ],
            [
             0.6666666666666666,
             "#ed7953"
            ],
            [
             0.7777777777777778,
             "#fb9f3a"
            ],
            [
             0.8888888888888888,
             "#fdca26"
            ],
            [
             1,
             "#f0f921"
            ]
           ],
           "sequentialminus": [
            [
             0,
             "#0d0887"
            ],
            [
             0.1111111111111111,
             "#46039f"
            ],
            [
             0.2222222222222222,
             "#7201a8"
            ],
            [
             0.3333333333333333,
             "#9c179e"
            ],
            [
             0.4444444444444444,
             "#bd3786"
            ],
            [
             0.5555555555555556,
             "#d8576b"
            ],
            [
             0.6666666666666666,
             "#ed7953"
            ],
            [
             0.7777777777777778,
             "#fb9f3a"
            ],
            [
             0.8888888888888888,
             "#fdca26"
            ],
            [
             1,
             "#f0f921"
            ]
           ]
          },
          "colorway": [
           "#636efa",
           "#EF553B",
           "#00cc96",
           "#ab63fa",
           "#FFA15A",
           "#19d3f3",
           "#FF6692",
           "#B6E880",
           "#FF97FF",
           "#FECB52"
          ],
          "font": {
           "color": "#2a3f5f"
          },
          "geo": {
           "bgcolor": "white",
           "lakecolor": "white",
           "landcolor": "#E5ECF6",
           "showlakes": true,
           "showland": true,
           "subunitcolor": "white"
          },
          "hoverlabel": {
           "align": "left"
          },
          "hovermode": "closest",
          "mapbox": {
           "style": "light"
          },
          "paper_bgcolor": "white",
          "plot_bgcolor": "#E5ECF6",
          "polar": {
           "angularaxis": {
            "gridcolor": "white",
            "linecolor": "white",
            "ticks": ""
           },
           "bgcolor": "#E5ECF6",
           "radialaxis": {
            "gridcolor": "white",
            "linecolor": "white",
            "ticks": ""
           }
          },
          "scene": {
           "xaxis": {
            "backgroundcolor": "#E5ECF6",
            "gridcolor": "white",
            "gridwidth": 2,
            "linecolor": "white",
            "showbackground": true,
            "ticks": "",
            "zerolinecolor": "white"
           },
           "yaxis": {
            "backgroundcolor": "#E5ECF6",
            "gridcolor": "white",
            "gridwidth": 2,
            "linecolor": "white",
            "showbackground": true,
            "ticks": "",
            "zerolinecolor": "white"
           },
           "zaxis": {
            "backgroundcolor": "#E5ECF6",
            "gridcolor": "white",
            "gridwidth": 2,
            "linecolor": "white",
            "showbackground": true,
            "ticks": "",
            "zerolinecolor": "white"
           }
          },
          "shapedefaults": {
           "line": {
            "color": "#2a3f5f"
           }
          },
          "ternary": {
           "aaxis": {
            "gridcolor": "white",
            "linecolor": "white",
            "ticks": ""
           },
           "baxis": {
            "gridcolor": "white",
            "linecolor": "white",
            "ticks": ""
           },
           "bgcolor": "#E5ECF6",
           "caxis": {
            "gridcolor": "white",
            "linecolor": "white",
            "ticks": ""
           }
          },
          "title": {
           "x": 0.05
          },
          "xaxis": {
           "automargin": true,
           "gridcolor": "white",
           "linecolor": "white",
           "ticks": "",
           "title": {
            "standoff": 15
           },
           "zerolinecolor": "white",
           "zerolinewidth": 2
          },
          "yaxis": {
           "automargin": true,
           "gridcolor": "white",
           "linecolor": "white",
           "ticks": "",
           "title": {
            "standoff": 15
           },
           "zerolinecolor": "white",
           "zerolinewidth": 2
          }
         }
        },
        "title": {
         "text": "Forces vs Roll Angles"
        },
        "xaxis": {
         "anchor": "y",
         "domain": [
          0,
          0.94
         ],
         "matches": "x3",
         "showticklabels": false
        },
        "xaxis2": {
         "anchor": "y3",
         "domain": [
          0,
          0.94
         ],
         "matches": "x3",
         "showticklabels": false
        },
        "xaxis3": {
         "anchor": "y5",
         "domain": [
          0,
          0.94
         ],
         "title": {
          "text": "Roll Angles (degrees)"
         }
        },
        "yaxis": {
         "anchor": "x",
         "domain": [
          0.76,
          1
         ],
         "tickfont": {
          "color": "red"
         },
         "title": {
          "font": {
           "color": "red"
          },
          "text": "Fx (Lower A-arm)"
         }
        },
        "yaxis2": {
         "anchor": "x",
         "overlaying": "y",
         "side": "right",
         "tickfont": {
          "color": "blue"
         },
         "title": {
          "font": {
           "color": "blue"
          },
          "text": "Fy (Lower A-arm)"
         }
        },
        "yaxis3": {
         "anchor": "x2",
         "domain": [
          0.42000000000000004,
          0.66
         ],
         "tickfont": {
          "color": "green"
         },
         "title": {
          "font": {
           "color": "green"
          },
          "text": "Fx (Upper A-arm)"
         }
        },
        "yaxis4": {
         "anchor": "x2",
         "overlaying": "y3",
         "side": "right",
         "tickfont": {
          "color": "orange"
         },
         "title": {
          "font": {
           "color": "orange"
          },
          "text": "Fy (Upper A-arm)"
         }
        },
        "yaxis5": {
         "anchor": "x3",
         "domain": [
          0,
          0.32000000000000006
         ],
         "tickfont": {
          "color": "purple"
         },
         "title": {
          "font": {
           "color": "purple"
          },
          "text": "Fx (Tie Rod)"
         }
        },
        "yaxis6": {
         "anchor": "x3",
         "overlaying": "y5",
         "side": "right",
         "tickfont": {
          "color": "brown"
         },
         "title": {
          "font": {
           "color": "brown"
          },
          "text": "Fy (Tie Rod)"
         }
        }
       }
      }
     },
     "metadata": {},
     "output_type": "display_data"
    }
   ],
   "source": [
    "# Plot Forces \n",
    "\n",
    "import plotly.graph_objects as go\n",
    "from plotly.subplots import make_subplots\n",
    "\n",
    "# Create a 3x1 subplot with dual y-axes for each subplot\n",
    "fig = make_subplots(\n",
    "    rows=3, cols=1, \n",
    "    shared_xaxes=True,  # Share the x-axis\n",
    "    subplot_titles=('', '', ''),  # Remove default subplot titles\n",
    "    vertical_spacing=0.1,  # Adjust vertical spacing between subplots\n",
    "    row_heights=[0.3, 0.3, 0.4],  # Adjust row heights to fit better\n",
    "    specs=[\n",
    "        [{'secondary_y': True}],  # Lower A-arm with dual y-axis\n",
    "        [{'secondary_y': True}],  # Upper A-arm with dual y-axis\n",
    "        [{'secondary_y': True}]   # Tie Rod with dual y-axis\n",
    "    ]\n",
    ")\n",
    "\n",
    "# Lower A-arm Fx\n",
    "fig.add_trace(\n",
    "    go.Scatter(\n",
    "        x=results[\"roll_angle\"],\n",
    "        y=results[\"Fx (Lower A-arm)\"],\n",
    "        mode='lines',\n",
    "        marker=dict(color='red'),\n",
    "        name='Fx (Lower A-arm)',\n",
    "    ), row=1, col=1, secondary_y=False\n",
    ")\n",
    "\n",
    "# Lower A-arm Fy\n",
    "fig.add_trace(\n",
    "    go.Scatter(\n",
    "        x=results[\"roll_angle\"],\n",
    "        y=results[\"Fy (Lower A-arm)\"],\n",
    "        mode='lines',\n",
    "        marker=dict(color='blue'),\n",
    "        name='Fy (Lower A-arm)',\n",
    "    ), row=1, col=1, secondary_y=True\n",
    ")\n",
    "\n",
    "# Upper A-arm Fx\n",
    "fig.add_trace(\n",
    "    go.Scatter(\n",
    "        x=results[\"roll_angle\"],\n",
    "        y=results[\"Fx (Upper A-arm)\"],\n",
    "        mode='lines',\n",
    "        marker=dict(color='green'),\n",
    "        name='Fx (Upper A-arm)',\n",
    "    ), row=2, col=1, secondary_y=False\n",
    ")\n",
    "\n",
    "# Upper A-arm Fy\n",
    "fig.add_trace(\n",
    "    go.Scatter(\n",
    "        x=results[\"roll_angle\"],\n",
    "        y=results[\"Fy (Upper A-arm)\"],\n",
    "        mode='lines',\n",
    "        marker=dict(color='orange'),\n",
    "        name='Fy (Upper A-arm)',\n",
    "    ), row=2, col=1, secondary_y=True\n",
    ")\n",
    "\n",
    "# Tie Rod Fx\n",
    "fig.add_trace(\n",
    "    go.Scatter(\n",
    "        x=results[\"roll_angle\"],\n",
    "        y=results[\"Fx (Tie Rod)\"],\n",
    "        mode='lines',\n",
    "        marker=dict(color='purple'),\n",
    "        name='Fx (Tie Rod)',\n",
    "    ), row=3, col=1, secondary_y=False\n",
    ")\n",
    "\n",
    "# Tie Rod Fy\n",
    "fig.add_trace(\n",
    "    go.Scatter(\n",
    "        x=results[\"roll_angle\"],\n",
    "        y=results[\"Fy (Tie Rod)\"],\n",
    "        mode='lines',\n",
    "        marker=dict(color='brown'),\n",
    "        name='Fy (Tie Rod)',\n",
    "    ), row=3, col=1, secondary_y=True\n",
    ")\n",
    "\n",
    "# Update layout for different y-axes\n",
    "fig.update_layout(\n",
    "    title='Forces vs Roll Angles',\n",
    "    height=900,  # Increased height for better readability\n",
    "    showlegend=True,\n",
    "    legend=dict(x=0.5, y=-0.1, orientation='h'),  # Adjust legend position\n",
    ")\n",
    "\n",
    "# Update y-axis titles\n",
    "fig.update_yaxes(\n",
    "    title_text=\"Fx (Lower A-arm)\", \n",
    "    title_font=dict(color='red'), \n",
    "    tickfont=dict(color='red'), \n",
    "    row=1, col=1, secondary_y=False\n",
    ")\n",
    "fig.update_yaxes(\n",
    "    title_text=\"Fy (Lower A-arm)\", \n",
    "    title_font=dict(color='blue'), \n",
    "    tickfont=dict(color='blue'), \n",
    "    row=1, col=1, secondary_y=True\n",
    ")\n",
    "fig.update_yaxes(\n",
    "    title_text=\"Fx (Upper A-arm)\", \n",
    "    title_font=dict(color='green'), \n",
    "    tickfont=dict(color='green'), \n",
    "    row=2, col=1, secondary_y=False\n",
    ")\n",
    "fig.update_yaxes(\n",
    "    title_text=\"Fy (Upper A-arm)\", \n",
    "    title_font=dict(color='orange'), \n",
    "    tickfont=dict(color='orange'), \n",
    "    row=2, col=1, secondary_y=True\n",
    ")\n",
    "fig.update_yaxes(\n",
    "    title_text=\"Fx (Tie Rod)\", \n",
    "    title_font=dict(color='purple'), \n",
    "    tickfont=dict(color='purple'), \n",
    "    row=3, col=1, secondary_y=False\n",
    ")\n",
    "fig.update_yaxes(\n",
    "    title_text=\"Fy (Tie Rod)\", \n",
    "    title_font=dict(color='brown'), \n",
    "    tickfont=dict(color='brown'), \n",
    "    row=3, col=1, secondary_y=True\n",
    ")\n",
    "\n",
    "# Add small titles to each subplot\n",
    "fig.add_annotation(\n",
    "    text=\"Lower A-arm\", \n",
    "    x=0, \n",
    "    y=1, \n",
    "    xref='paper', \n",
    "    yref='paper', \n",
    "    showarrow=False, \n",
    "    font=dict(size=10), \n",
    "    align='left', \n",
    "    xanchor='left', \n",
    "    yanchor='top',\n",
    "    standoff=10,\n",
    "    row=1, col=1\n",
    ")\n",
    "fig.add_annotation(\n",
    "    text=\"Upper A-arm\", \n",
    "    x=0, \n",
    "    y=1, \n",
    "    xref='paper', \n",
    "    yref='paper', \n",
    "    showarrow=False, \n",
    "    font=dict(size=10), \n",
    "    align='left', \n",
    "    xanchor='left', \n",
    "    yanchor='top',\n",
    "    standoff=10,\n",
    "    row=2, col=1\n",
    ")\n",
    "fig.add_annotation(\n",
    "    text=\"Tie Rod\", \n",
    "    x=0, \n",
    "    y=1, \n",
    "    xref='paper', \n",
    "    yref='paper', \n",
    "    showarrow=False, \n",
    "    font=dict(size=10), \n",
    "    align='left', \n",
    "    xanchor='left', \n",
    "    yanchor='top',\n",
    "    standoff=10,\n",
    "    row=3, col=1\n",
    ")\n",
    "\n",
    "# Update x-axis title\n",
    "fig.update_xaxes(title_text=\"Roll Angles (degrees)\", row=3, col=1)\n",
    "\n",
    "# Show the figure\n",
    "fig.show()"
   ]
  }
 ],
 "metadata": {
  "kernelspec": {
   "display_name": "Python 3",
   "language": "python",
   "name": "python3"
  },
  "language_info": {
   "codemirror_mode": {
    "name": "ipython",
    "version": 3
   },
   "file_extension": ".py",
   "mimetype": "text/x-python",
   "name": "python",
   "nbconvert_exporter": "python",
   "pygments_lexer": "ipython3",
   "version": "3.11.4"
  }
 },
 "nbformat": 4,
 "nbformat_minor": 2
}
