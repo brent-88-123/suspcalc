{
 "cells": [
  {
   "cell_type": "markdown",
   "metadata": {},
   "source": [
    "-------------------------------------------------------------------------------\n",
    "\n",
    "CHIBO 2024\n",
    "\n",
    "An attempt to static calculate the forces in (x,y,z) at all the suspension pickup points for various roll/jounce effects\n",
    "\n",
    "18.12.2024: Created\n",
    "\n",
    "03.01.2025: Outboard points calc working, moved functions to susprog.py and added loop \n",
    "05.01.2025: Added jounce updater for the inner points and included in susprog.py\n",
    "\n",
    "-------------------------------------------------------------------------------"
   ]
  },
  {
   "cell_type": "code",
   "execution_count": 1,
   "metadata": {},
   "outputs": [],
   "source": [
    "import numpy as np\n",
    "import pandas as pd\n",
    "from scipy.optimize import minimize\n",
    "\n",
    "import plotly.graph_objects as go\n",
    "import matplotlib.pyplot as plt\n",
    "\n",
    "import susprog                      # Python file containing the equations for the loop "
   ]
  },
  {
   "cell_type": "code",
   "execution_count": 14,
   "metadata": {},
   "outputs": [],
   "source": [
    "# Declare motions for evaluation\n",
    "\n",
    "# Define maximum roll and jounce inputs\n",
    "body_roll = -5  # Maximum roll angle in degrees\n",
    "body_jounce = 0.05  # Maximum jounce in meters (5 cm = 0.05)\n",
    "\n",
    "# Generate roll and jounce motion inputs\n",
    "roll_angles = np.linspace(0, np.radians(body_roll), 100)  # 0 to max roll angle in 100 steps\n",
    "jounce_displacements = np.linspace(0, body_jounce, 100)  # 0 to max jounce in 100 steps"
   ]
  },
  {
   "cell_type": "code",
   "execution_count": 3,
   "metadata": {},
   "outputs": [],
   "source": [
    "# Suspension pickup points\n",
    "#        x      y    z\n",
    "upper_a_arm = np.array([\n",
    "    [0.0015, 0.5065, 0.315],  # Outer point (converted from mm to m)\n",
    "    [-0.135, 0.240, 0.220],   # Inner leading point\n",
    "    [0.180, 0.255, 0.255]     # Inner trailing point\n",
    "])\n",
    "\n",
    "lower_a_arm = np.array([\n",
    "    [-0.0175, 0.519, 0.137],  # Outer point\n",
    "    [-0.180, 0.165, 0.087],   # Inner leading point\n",
    "    [0.180, 0.170, 0.087]     # Inner trailing point\n",
    "])\n",
    "\n",
    "tie_rod = np.array([\n",
    "    [0.060, 0.515, 0.160],  # Outer point\n",
    "    [0.070, 0.195, 0.100]   # Inner point\n",
    "])\n",
    "\n",
    "tire_cop = np.array([-0.005, 0.525, 0])  # Converted from mm to m\n",
    "force_vector = np.array([50, 500, -2000.0])  # Force at the CoP (N)\n"
   ]
  },
  {
   "cell_type": "code",
   "execution_count": 4,
   "metadata": {},
   "outputs": [],
   "source": [
    "# Calculate lengths for upper and lower A-arms and tie rod\n",
    "upper_lengths = [\n",
    "    np.linalg.norm(upper_a_arm[1] - upper_a_arm[0]),  # Upper outer to inner leading\n",
    "    np.linalg.norm(upper_a_arm[2] - upper_a_arm[0]),  # Upper outer to inner trailing\n",
    "    np.linalg.norm(upper_a_arm[0] - lower_a_arm[0])   # Upper outer to lower outer\n",
    "]\n",
    "\n",
    "lower_lengths = [\n",
    "    np.linalg.norm(lower_a_arm[1] - lower_a_arm[0]),  # Lower outer to inner leading\n",
    "    np.linalg.norm(lower_a_arm[2] - lower_a_arm[0]),  # Lower outer to inner trailing\n",
    "    np.linalg.norm(lower_a_arm[0] - tire_cop)         # Lower outer to tire center of pressure\n",
    "]\n",
    "\n",
    "tie_length = [\n",
    "    np.linalg.norm(tie_rod[1] - tie_rod[0]),          # Tie rod outer to inner leading\n",
    "    np.linalg.norm(upper_a_arm[0] - tie_rod[0]),      # Tie rod outer to upper outer\n",
    "    np.linalg.norm(lower_a_arm[0] - tie_rod[0])       # Tie rod outer to lower outer\n",
    "]"
   ]
  },
  {
   "cell_type": "code",
   "execution_count": 17,
   "metadata": {},
   "outputs": [],
   "source": [
    "# Roll centre calc @ static\n",
    "rc, geo_roll_centre = susprog.calculate_roll_center(upper_a_arm, lower_a_arm, tire_cop)\n",
    "\n",
    "# Print outputs\n",
    "# print(\"Roll Center [x, y, z]:\", rc)\n",
    "# print(\"\\nGeometry Data:\")\n",
    "# for key, value in geo_roll_centre.items():\n",
    "#     print(f\"{key}:\", value)"
   ]
  },
  {
   "cell_type": "code",
   "execution_count": 18,
   "metadata": {},
   "outputs": [],
   "source": [
    "# Do movement calculation\n",
    "\n",
    "# Step 1: Calculate roll centre @ Static\n",
    "rc, geo_roll_centre = susprog.calculate_roll_center(upper_a_arm, lower_a_arm, tire_cop)\n",
    "roll_axis = np.array([1, 0, 0])         # Example roll axis (x-axis)\n",
    "\n",
    "# Step 2: Initialize rotated arms as a copy of the original\n",
    "upper_modified = upper_a_arm.copy()\n",
    "lower_modified = lower_a_arm.copy()\n",
    "tierod_modified = tie_rod.copy()\n",
    "\n",
    "# Rotate the inner points\n",
    "rotated_upper_inner = susprog.rotate_points(upper_a_arm[1:], rc, roll_axis, roll_angles[-1])\n",
    "rotated_lower_inner = susprog.rotate_points(lower_a_arm[1:], rc, roll_axis, roll_angles[-1])\n",
    "rotated_tie_inner = susprog.rotate_points(tie_rod[1:], rc, roll_axis, roll_angles[-1])\n",
    "\n",
    "upper_modified[1:] = rotated_upper_inner\n",
    "lower_modified[1:] = rotated_lower_inner\n",
    "tierod_modified[1:] = rotated_tie_inner\n",
    "\n",
    "del rotated_upper_inner\n",
    "del rotated_lower_inner\n",
    "del rotated_tie_inner\n",
    "\n",
    "# Lower A-arm\n",
    "points_temp = np.vstack((lower_modified,tire_cop))\n",
    "lower_modified[0:1] = susprog.solve_outer_position(points_temp, lower_lengths)\n",
    "del points_temp\n",
    "\n",
    "# Upper A-arm\n",
    "points_temp = np.vstack((upper_modified,lower_modified[0:]))\n",
    "upper_modified[0:1] = susprog.solve_outer_position(points_temp, upper_lengths)\n",
    "del points_temp\n",
    "\n",
    "# Tie rod\n",
    "points_temp = np.vstack((tierod_modified, upper_modified[0:1], lower_modified[0:1]))\n",
    "tierod_modified[0:1] = susprog.solve_outer_position(points_temp, tie_length)\n",
    "del points_temp\n",
    "\n"
   ]
  },
  {
   "cell_type": "code",
   "execution_count": 19,
   "metadata": {},
   "outputs": [
    {
     "data": {
      "application/vnd.plotly.v1+json": {
       "config": {
        "plotlyServerURL": "https://plot.ly"
       },
       "data": [
        {
         "line": {
          "color": "blue",
          "width": 2
         },
         "marker": {
          "color": "blue",
          "size": 6
         },
         "mode": "lines+markers",
         "name": "Upper A-arm (Outer to Inner Leading)",
         "type": "scatter3d",
         "x": [
          0.0015,
          -0.135
         ],
         "y": [
          0.5065,
          0.24
         ],
         "z": [
          0.315,
          0.22
         ]
        },
        {
         "line": {
          "color": "blue",
          "width": 2
         },
         "mode": "lines+markers",
         "name": "Upper A-arm (Outer to Inner Trailing)",
         "type": "scatter3d",
         "x": [
          0.0015,
          0.18
         ],
         "y": [
          0.5065,
          0.255
         ],
         "z": [
          0.315,
          0.255
         ]
        },
        {
         "line": {
          "color": "blue",
          "dash": "dot",
          "width": 2
         },
         "mode": "lines",
         "name": "Upper A-arm (Inner leading to Inner Trailing)",
         "type": "scatter3d",
         "x": [
          -0.135,
          0.18
         ],
         "y": [
          0.24,
          0.255
         ],
         "z": [
          0.22,
          0.255
         ]
        },
        {
         "line": {
          "color": "purple",
          "width": 2
         },
         "marker": {
          "color": "purple",
          "size": 6
         },
         "mode": "lines+markers",
         "name": "Upper A-arm (Rot Outer to Inner Leading)",
         "type": "scatter3d",
         "x": [
          -0.0019312388200610044,
          -0.135
         ],
         "y": [
          0.550706894901801,
          0.27926742583660896
         ],
         "z": [
          0.3150526360543696,
          0.2286817252917922
         ]
        },
        {
         "line": {
          "color": "purple",
          "width": 2
         },
         "marker": {
          "color": "purple",
          "size": 6
         },
         "mode": "lines+markers",
         "name": "Upper A-arm (Rot Outer to Inner Trailing)",
         "type": "scatter3d",
         "x": [
          -0.0019312388200610044,
          0.18
         ],
         "y": [
          0.550706894901801,
          0.30011722835013466
         ],
         "z": [
          0.3150526360543696,
          0.26054527398221555
         ]
        },
        {
         "line": {
          "color": "purple",
          "dash": "dot",
          "width": 2
         },
         "mode": "lines",
         "name": "Upper A-arm (Rot Inner leading to Inner Trailing)",
         "type": "scatter3d",
         "x": [
          -0.135,
          0.18
         ],
         "y": [
          0.27926742583660896,
          0.30011722835013466
         ],
         "z": [
          0.2286817252917922,
          0.26054527398221555
         ]
        },
        {
         "line": {
          "color": "green",
          "width": 2
         },
         "marker": {
          "color": "green",
          "size": 6
         },
         "mode": "lines+markers",
         "name": "Lower A-arm (Outer to Inner Leading)",
         "type": "scatter3d",
         "x": [
          -0.0175,
          -0.18
         ],
         "y": [
          0.519,
          0.165
         ],
         "z": [
          0.137,
          0.087
         ]
        },
        {
         "line": {
          "color": "green",
          "width": 2
         },
         "mode": "lines+markers",
         "name": "Lower A-arm (Outer to Inner Trailing)",
         "type": "scatter3d",
         "x": [
          -0.0175,
          0.18
         ],
         "y": [
          0.519,
          0.17
         ],
         "z": [
          0.137,
          0.087
         ]
        },
        {
         "line": {
          "color": "green",
          "dash": "dot",
          "width": 2
         },
         "mode": "lines",
         "name": "lower A-arm (Inner leading to Inner Trailing)",
         "type": "scatter3d",
         "x": [
          -0.18,
          0.18
         ],
         "y": [
          0.165,
          0.17
         ],
         "z": [
          0.087,
          0.087
         ]
        },
        {
         "line": {
          "color": "cyan",
          "width": 2
         },
         "marker": {
          "color": "cyan",
          "size": 6
         },
         "mode": "lines+markers",
         "name": "lower rotated A-arm (Outer to Inner Leading)",
         "type": "scatter3d",
         "x": [
          -0.01741487596821442,
          -0.18
         ],
         "y": [
          0.5389032128906803,
          0.18231163673099163
         ],
         "z": [
          0.13645551122648722,
          0.11072590746618831
         ]
        },
        {
         "line": {
          "color": "cyan",
          "width": 2
         },
         "mode": "lines+markers",
         "name": "lower rotated A-arm (Outer to Inner Trailing)",
         "type": "scatter3d",
         "x": [
          -0.01741487596821442,
          0.18
         ],
         "y": [
          0.5389032128906803,
          0.1872356754960527
         ],
         "z": [
          0.13645551122648722,
          0.10985766657785366
         ]
        },
        {
         "line": {
          "color": "cyan",
          "dash": "dot",
          "width": 2
         },
         "mode": "lines",
         "name": "lower rotated A-arm (Inner leading to Inner Trailing)",
         "type": "scatter3d",
         "x": [
          -0.18,
          0.18
         ],
         "y": [
          0.18231163673099163,
          0.1872356754960527
         ],
         "z": [
          0.11072590746618831,
          0.10985766657785366
         ]
        },
        {
         "line": {
          "color": "red",
          "width": 2
         },
         "marker": {
          "color": "red",
          "size": 6
         },
         "mode": "lines+markers",
         "name": "Tie Rod",
         "type": "scatter3d",
         "x": [
          0.06,
          0.07
         ],
         "y": [
          0.515,
          0.195
         ],
         "z": [
          0.16,
          0.1
         ]
        },
        {
         "line": {
          "color": "orange",
          "width": 2
         },
         "marker": {
          "color": "orange",
          "size": 6
         },
         "mode": "lines+markers",
         "name": "Rotated Tie Rod",
         "type": "scatter3d",
         "x": [
          0.059007776174253394,
          0.07
         ],
         "y": [
          0.5366659991983653,
          0.214113295631028
         ],
         "z": [
          0.1613747253980879,
          0.11831896292533912
         ]
        },
        {
         "marker": {
          "color": "orange",
          "size": 8
         },
         "mode": "markers",
         "name": "Tire CoP",
         "type": "scatter3d",
         "x": [
          -0.005
         ],
         "y": [
          0.525
         ],
         "z": [
          0
         ]
        }
       ],
       "layout": {
        "scene": {
         "xaxis": {
          "title": {
           "text": "X (m)"
          }
         },
         "yaxis": {
          "title": {
           "text": "Y (m)"
          }
         },
         "zaxis": {
          "title": {
           "text": "Z (m)"
          }
         }
        },
        "template": {
         "data": {
          "bar": [
           {
            "error_x": {
             "color": "#2a3f5f"
            },
            "error_y": {
             "color": "#2a3f5f"
            },
            "marker": {
             "line": {
              "color": "#E5ECF6",
              "width": 0.5
             },
             "pattern": {
              "fillmode": "overlay",
              "size": 10,
              "solidity": 0.2
             }
            },
            "type": "bar"
           }
          ],
          "barpolar": [
           {
            "marker": {
             "line": {
              "color": "#E5ECF6",
              "width": 0.5
             },
             "pattern": {
              "fillmode": "overlay",
              "size": 10,
              "solidity": 0.2
             }
            },
            "type": "barpolar"
           }
          ],
          "carpet": [
           {
            "aaxis": {
             "endlinecolor": "#2a3f5f",
             "gridcolor": "white",
             "linecolor": "white",
             "minorgridcolor": "white",
             "startlinecolor": "#2a3f5f"
            },
            "baxis": {
             "endlinecolor": "#2a3f5f",
             "gridcolor": "white",
             "linecolor": "white",
             "minorgridcolor": "white",
             "startlinecolor": "#2a3f5f"
            },
            "type": "carpet"
           }
          ],
          "choropleth": [
           {
            "colorbar": {
             "outlinewidth": 0,
             "ticks": ""
            },
            "type": "choropleth"
           }
          ],
          "contour": [
           {
            "colorbar": {
             "outlinewidth": 0,
             "ticks": ""
            },
            "colorscale": [
             [
              0,
              "#0d0887"
             ],
             [
              0.1111111111111111,
              "#46039f"
             ],
             [
              0.2222222222222222,
              "#7201a8"
             ],
             [
              0.3333333333333333,
              "#9c179e"
             ],
             [
              0.4444444444444444,
              "#bd3786"
             ],
             [
              0.5555555555555556,
              "#d8576b"
             ],
             [
              0.6666666666666666,
              "#ed7953"
             ],
             [
              0.7777777777777778,
              "#fb9f3a"
             ],
             [
              0.8888888888888888,
              "#fdca26"
             ],
             [
              1,
              "#f0f921"
             ]
            ],
            "type": "contour"
           }
          ],
          "contourcarpet": [
           {
            "colorbar": {
             "outlinewidth": 0,
             "ticks": ""
            },
            "type": "contourcarpet"
           }
          ],
          "heatmap": [
           {
            "colorbar": {
             "outlinewidth": 0,
             "ticks": ""
            },
            "colorscale": [
             [
              0,
              "#0d0887"
             ],
             [
              0.1111111111111111,
              "#46039f"
             ],
             [
              0.2222222222222222,
              "#7201a8"
             ],
             [
              0.3333333333333333,
              "#9c179e"
             ],
             [
              0.4444444444444444,
              "#bd3786"
             ],
             [
              0.5555555555555556,
              "#d8576b"
             ],
             [
              0.6666666666666666,
              "#ed7953"
             ],
             [
              0.7777777777777778,
              "#fb9f3a"
             ],
             [
              0.8888888888888888,
              "#fdca26"
             ],
             [
              1,
              "#f0f921"
             ]
            ],
            "type": "heatmap"
           }
          ],
          "heatmapgl": [
           {
            "colorbar": {
             "outlinewidth": 0,
             "ticks": ""
            },
            "colorscale": [
             [
              0,
              "#0d0887"
             ],
             [
              0.1111111111111111,
              "#46039f"
             ],
             [
              0.2222222222222222,
              "#7201a8"
             ],
             [
              0.3333333333333333,
              "#9c179e"
             ],
             [
              0.4444444444444444,
              "#bd3786"
             ],
             [
              0.5555555555555556,
              "#d8576b"
             ],
             [
              0.6666666666666666,
              "#ed7953"
             ],
             [
              0.7777777777777778,
              "#fb9f3a"
             ],
             [
              0.8888888888888888,
              "#fdca26"
             ],
             [
              1,
              "#f0f921"
             ]
            ],
            "type": "heatmapgl"
           }
          ],
          "histogram": [
           {
            "marker": {
             "pattern": {
              "fillmode": "overlay",
              "size": 10,
              "solidity": 0.2
             }
            },
            "type": "histogram"
           }
          ],
          "histogram2d": [
           {
            "colorbar": {
             "outlinewidth": 0,
             "ticks": ""
            },
            "colorscale": [
             [
              0,
              "#0d0887"
             ],
             [
              0.1111111111111111,
              "#46039f"
             ],
             [
              0.2222222222222222,
              "#7201a8"
             ],
             [
              0.3333333333333333,
              "#9c179e"
             ],
             [
              0.4444444444444444,
              "#bd3786"
             ],
             [
              0.5555555555555556,
              "#d8576b"
             ],
             [
              0.6666666666666666,
              "#ed7953"
             ],
             [
              0.7777777777777778,
              "#fb9f3a"
             ],
             [
              0.8888888888888888,
              "#fdca26"
             ],
             [
              1,
              "#f0f921"
             ]
            ],
            "type": "histogram2d"
           }
          ],
          "histogram2dcontour": [
           {
            "colorbar": {
             "outlinewidth": 0,
             "ticks": ""
            },
            "colorscale": [
             [
              0,
              "#0d0887"
             ],
             [
              0.1111111111111111,
              "#46039f"
             ],
             [
              0.2222222222222222,
              "#7201a8"
             ],
             [
              0.3333333333333333,
              "#9c179e"
             ],
             [
              0.4444444444444444,
              "#bd3786"
             ],
             [
              0.5555555555555556,
              "#d8576b"
             ],
             [
              0.6666666666666666,
              "#ed7953"
             ],
             [
              0.7777777777777778,
              "#fb9f3a"
             ],
             [
              0.8888888888888888,
              "#fdca26"
             ],
             [
              1,
              "#f0f921"
             ]
            ],
            "type": "histogram2dcontour"
           }
          ],
          "mesh3d": [
           {
            "colorbar": {
             "outlinewidth": 0,
             "ticks": ""
            },
            "type": "mesh3d"
           }
          ],
          "parcoords": [
           {
            "line": {
             "colorbar": {
              "outlinewidth": 0,
              "ticks": ""
             }
            },
            "type": "parcoords"
           }
          ],
          "pie": [
           {
            "automargin": true,
            "type": "pie"
           }
          ],
          "scatter": [
           {
            "fillpattern": {
             "fillmode": "overlay",
             "size": 10,
             "solidity": 0.2
            },
            "type": "scatter"
           }
          ],
          "scatter3d": [
           {
            "line": {
             "colorbar": {
              "outlinewidth": 0,
              "ticks": ""
             }
            },
            "marker": {
             "colorbar": {
              "outlinewidth": 0,
              "ticks": ""
             }
            },
            "type": "scatter3d"
           }
          ],
          "scattercarpet": [
           {
            "marker": {
             "colorbar": {
              "outlinewidth": 0,
              "ticks": ""
             }
            },
            "type": "scattercarpet"
           }
          ],
          "scattergeo": [
           {
            "marker": {
             "colorbar": {
              "outlinewidth": 0,
              "ticks": ""
             }
            },
            "type": "scattergeo"
           }
          ],
          "scattergl": [
           {
            "marker": {
             "colorbar": {
              "outlinewidth": 0,
              "ticks": ""
             }
            },
            "type": "scattergl"
           }
          ],
          "scattermapbox": [
           {
            "marker": {
             "colorbar": {
              "outlinewidth": 0,
              "ticks": ""
             }
            },
            "type": "scattermapbox"
           }
          ],
          "scatterpolar": [
           {
            "marker": {
             "colorbar": {
              "outlinewidth": 0,
              "ticks": ""
             }
            },
            "type": "scatterpolar"
           }
          ],
          "scatterpolargl": [
           {
            "marker": {
             "colorbar": {
              "outlinewidth": 0,
              "ticks": ""
             }
            },
            "type": "scatterpolargl"
           }
          ],
          "scatterternary": [
           {
            "marker": {
             "colorbar": {
              "outlinewidth": 0,
              "ticks": ""
             }
            },
            "type": "scatterternary"
           }
          ],
          "surface": [
           {
            "colorbar": {
             "outlinewidth": 0,
             "ticks": ""
            },
            "colorscale": [
             [
              0,
              "#0d0887"
             ],
             [
              0.1111111111111111,
              "#46039f"
             ],
             [
              0.2222222222222222,
              "#7201a8"
             ],
             [
              0.3333333333333333,
              "#9c179e"
             ],
             [
              0.4444444444444444,
              "#bd3786"
             ],
             [
              0.5555555555555556,
              "#d8576b"
             ],
             [
              0.6666666666666666,
              "#ed7953"
             ],
             [
              0.7777777777777778,
              "#fb9f3a"
             ],
             [
              0.8888888888888888,
              "#fdca26"
             ],
             [
              1,
              "#f0f921"
             ]
            ],
            "type": "surface"
           }
          ],
          "table": [
           {
            "cells": {
             "fill": {
              "color": "#EBF0F8"
             },
             "line": {
              "color": "white"
             }
            },
            "header": {
             "fill": {
              "color": "#C8D4E3"
             },
             "line": {
              "color": "white"
             }
            },
            "type": "table"
           }
          ]
         },
         "layout": {
          "annotationdefaults": {
           "arrowcolor": "#2a3f5f",
           "arrowhead": 0,
           "arrowwidth": 1
          },
          "autotypenumbers": "strict",
          "coloraxis": {
           "colorbar": {
            "outlinewidth": 0,
            "ticks": ""
           }
          },
          "colorscale": {
           "diverging": [
            [
             0,
             "#8e0152"
            ],
            [
             0.1,
             "#c51b7d"
            ],
            [
             0.2,
             "#de77ae"
            ],
            [
             0.3,
             "#f1b6da"
            ],
            [
             0.4,
             "#fde0ef"
            ],
            [
             0.5,
             "#f7f7f7"
            ],
            [
             0.6,
             "#e6f5d0"
            ],
            [
             0.7,
             "#b8e186"
            ],
            [
             0.8,
             "#7fbc41"
            ],
            [
             0.9,
             "#4d9221"
            ],
            [
             1,
             "#276419"
            ]
           ],
           "sequential": [
            [
             0,
             "#0d0887"
            ],
            [
             0.1111111111111111,
             "#46039f"
            ],
            [
             0.2222222222222222,
             "#7201a8"
            ],
            [
             0.3333333333333333,
             "#9c179e"
            ],
            [
             0.4444444444444444,
             "#bd3786"
            ],
            [
             0.5555555555555556,
             "#d8576b"
            ],
            [
             0.6666666666666666,
             "#ed7953"
            ],
            [
             0.7777777777777778,
             "#fb9f3a"
            ],
            [
             0.8888888888888888,
             "#fdca26"
            ],
            [
             1,
             "#f0f921"
            ]
           ],
           "sequentialminus": [
            [
             0,
             "#0d0887"
            ],
            [
             0.1111111111111111,
             "#46039f"
            ],
            [
             0.2222222222222222,
             "#7201a8"
            ],
            [
             0.3333333333333333,
             "#9c179e"
            ],
            [
             0.4444444444444444,
             "#bd3786"
            ],
            [
             0.5555555555555556,
             "#d8576b"
            ],
            [
             0.6666666666666666,
             "#ed7953"
            ],
            [
             0.7777777777777778,
             "#fb9f3a"
            ],
            [
             0.8888888888888888,
             "#fdca26"
            ],
            [
             1,
             "#f0f921"
            ]
           ]
          },
          "colorway": [
           "#636efa",
           "#EF553B",
           "#00cc96",
           "#ab63fa",
           "#FFA15A",
           "#19d3f3",
           "#FF6692",
           "#B6E880",
           "#FF97FF",
           "#FECB52"
          ],
          "font": {
           "color": "#2a3f5f"
          },
          "geo": {
           "bgcolor": "white",
           "lakecolor": "white",
           "landcolor": "#E5ECF6",
           "showlakes": true,
           "showland": true,
           "subunitcolor": "white"
          },
          "hoverlabel": {
           "align": "left"
          },
          "hovermode": "closest",
          "mapbox": {
           "style": "light"
          },
          "paper_bgcolor": "white",
          "plot_bgcolor": "#E5ECF6",
          "polar": {
           "angularaxis": {
            "gridcolor": "white",
            "linecolor": "white",
            "ticks": ""
           },
           "bgcolor": "#E5ECF6",
           "radialaxis": {
            "gridcolor": "white",
            "linecolor": "white",
            "ticks": ""
           }
          },
          "scene": {
           "xaxis": {
            "backgroundcolor": "#E5ECF6",
            "gridcolor": "white",
            "gridwidth": 2,
            "linecolor": "white",
            "showbackground": true,
            "ticks": "",
            "zerolinecolor": "white"
           },
           "yaxis": {
            "backgroundcolor": "#E5ECF6",
            "gridcolor": "white",
            "gridwidth": 2,
            "linecolor": "white",
            "showbackground": true,
            "ticks": "",
            "zerolinecolor": "white"
           },
           "zaxis": {
            "backgroundcolor": "#E5ECF6",
            "gridcolor": "white",
            "gridwidth": 2,
            "linecolor": "white",
            "showbackground": true,
            "ticks": "",
            "zerolinecolor": "white"
           }
          },
          "shapedefaults": {
           "line": {
            "color": "#2a3f5f"
           }
          },
          "ternary": {
           "aaxis": {
            "gridcolor": "white",
            "linecolor": "white",
            "ticks": ""
           },
           "baxis": {
            "gridcolor": "white",
            "linecolor": "white",
            "ticks": ""
           },
           "bgcolor": "#E5ECF6",
           "caxis": {
            "gridcolor": "white",
            "linecolor": "white",
            "ticks": ""
           }
          },
          "title": {
           "x": 0.05
          },
          "xaxis": {
           "automargin": true,
           "gridcolor": "white",
           "linecolor": "white",
           "ticks": "",
           "title": {
            "standoff": 15
           },
           "zerolinecolor": "white",
           "zerolinewidth": 2
          },
          "yaxis": {
           "automargin": true,
           "gridcolor": "white",
           "linecolor": "white",
           "ticks": "",
           "title": {
            "standoff": 15
           },
           "zerolinecolor": "white",
           "zerolinewidth": 2
          }
         }
        },
        "title": {
         "text": "Interactive Suspension Geometry (Corrected Connections)"
        }
       }
      }
     },
     "metadata": {},
     "output_type": "display_data"
    }
   ],
   "source": [
    "def plot_suspension_interactive(upper, lower, upper_rot, low_rot, tie, tie_rot, cop):\n",
    "    fig = go.Figure()\n",
    "\n",
    "    # Upper A-arm\n",
    "    fig.add_trace(go.Scatter3d(\n",
    "        x=[upper[0, 0], upper[1, 0]], y=[upper[0, 1], upper[1, 1]], z=[upper[0, 2], upper[1, 2]],\n",
    "        mode='lines+markers',\n",
    "        name='Upper A-arm (Outer to Inner Leading)',\n",
    "        marker=dict(size=6, color='blue'),\n",
    "        line=dict(color='blue', width=2)\n",
    "    ))\n",
    "    fig.add_trace(go.Scatter3d(\n",
    "        x=[upper[0, 0], upper[2, 0]], y=[upper[0, 1], upper[2, 1]], z=[upper[0, 2], upper[2, 2]],\n",
    "        mode='lines+markers',\n",
    "        name='Upper A-arm (Outer to Inner Trailing)',\n",
    "        line=dict(color='blue', width=2)\n",
    "    ))\n",
    "    fig.add_trace(go.Scatter3d(\n",
    "        x=[upper[1, 0], upper[2, 0]], y=[upper[1, 1], upper[2, 1]], z=[upper[1, 2], upper[2, 2]],\n",
    "        mode='lines',\n",
    "        name='Upper A-arm (Inner leading to Inner Trailing)',\n",
    "        line=dict(color='blue', width=2, dash='dot')\n",
    "    ))\n",
    "    # Rotated Upper A-arm\n",
    "    fig.add_trace(go.Scatter3d(\n",
    "        x=[upper_rot[0, 0], upper_rot[1, 0]], y=[upper_rot[0, 1], upper_rot[1, 1]], z=[upper_rot[0, 2], upper_rot[1, 2]],\n",
    "        mode='lines+markers',\n",
    "        name='Upper A-arm (Rot Outer to Inner Leading)',\n",
    "        marker=dict(size=6, color='purple'),\n",
    "        line=dict(color='purple', width=2)\n",
    "    ))\n",
    "    fig.add_trace(go.Scatter3d(\n",
    "        x=[upper_rot[0, 0], upper_rot[2, 0]], y=[upper_rot[0, 1], upper_rot[2, 1]], z=[upper_rot[0, 2], upper_rot[2, 2]],\n",
    "        mode='lines+markers',\n",
    "        name='Upper A-arm (Rot Outer to Inner Trailing)',\n",
    "        marker=dict(size=6, color='purple'),\n",
    "        line=dict(color='purple', width=2)\n",
    "    ))\n",
    "    \n",
    "    fig.add_trace(go.Scatter3d(\n",
    "        x=[upper_rot[1, 0], upper_rot[2, 0]], y=[upper_rot[1, 1], upper_rot[2, 1]], z=[upper_rot[1, 2], upper_rot[2, 2]],\n",
    "        mode='lines',\n",
    "        name='Upper A-arm (Rot Inner leading to Inner Trailing)',\n",
    "        line=dict(color='purple', width=2, dash='dot')\n",
    "    ))\n",
    "    \n",
    "    # Lower A-arm\n",
    "    fig.add_trace(go.Scatter3d(\n",
    "        x=[lower[0, 0], lower[1, 0]], y=[lower[0, 1], lower[1, 1]], z=[lower[0, 2], lower[1, 2]],\n",
    "        mode='lines+markers',\n",
    "        name='Lower A-arm (Outer to Inner Leading)',\n",
    "        marker=dict(size=6, color='green'),\n",
    "        line=dict(color='green', width=2)\n",
    "    ))\n",
    "    fig.add_trace(go.Scatter3d(\n",
    "        x=[lower[0, 0], lower[2, 0]], y=[lower[0, 1], lower[2, 1]], z=[lower[0, 2], lower[2, 2]],\n",
    "        mode='lines+markers',\n",
    "        name='Lower A-arm (Outer to Inner Trailing)',\n",
    "        line=dict(color='green', width=2)\n",
    "    ))\n",
    "    fig.add_trace(go.Scatter3d(\n",
    "        x=[lower[1, 0], lower[2, 0]], y=[lower[1, 1], lower[2, 1]], z=[lower[1, 2], lower[2, 2]],\n",
    "        mode='lines',\n",
    "        name='lower A-arm (Inner leading to Inner Trailing)',\n",
    "        line=dict(color='green', width=2, dash='dot')\n",
    "    ))\n",
    "    \n",
    "    # Rotated Lower A-arm\n",
    "    fig.add_trace(go.Scatter3d(\n",
    "        x=[low_rot[0, 0], low_rot[1, 0]], y=[low_rot[0, 1], low_rot[1, 1]], z=[low_rot[0, 2], low_rot[1, 2]],\n",
    "        mode='lines+markers',\n",
    "        name='lower rotated A-arm (Outer to Inner Leading)',\n",
    "        marker=dict(size=6, color='cyan'),\n",
    "        line=dict(color='cyan', width=2)\n",
    "    ))\n",
    "    fig.add_trace(go.Scatter3d(\n",
    "        x=[low_rot[0, 0], low_rot[2, 0]], y=[low_rot[0, 1], low_rot[2, 1]], z=[low_rot[0, 2], low_rot[2, 2]],\n",
    "        mode='lines+markers',\n",
    "        name='lower rotated A-arm (Outer to Inner Trailing)',\n",
    "        line=dict(color='cyan', width=2)\n",
    "    ))\n",
    "    fig.add_trace(go.Scatter3d(\n",
    "        x=[low_rot[1, 0], low_rot[2, 0]], y=[low_rot[1, 1], low_rot[2, 1]], z=[low_rot[1, 2], low_rot[2, 2]],\n",
    "        mode='lines',\n",
    "        name='lower rotated A-arm (Inner leading to Inner Trailing)',\n",
    "        line=dict(color='cyan', width=2, dash='dot')\n",
    "    ))\n",
    "\n",
    "    # Tie rod\n",
    "    fig.add_trace(go.Scatter3d(\n",
    "        x=[tie[0, 0], tie[1, 0]], y=[tie[0, 1], tie[1, 1]], z=[tie[0, 2], tie[1, 2]],\n",
    "        mode='lines+markers',\n",
    "        name='Tie Rod',\n",
    "        marker=dict(size=6, color='red'),\n",
    "        line=dict(color='red', width=2)\n",
    "    ))\n",
    "\n",
    "    # Rotated Tie rod\n",
    "    fig.add_trace(go.Scatter3d(\n",
    "        x=[tie_rot[0, 0], tie_rot[1, 0]], y=[tie_rot[0, 1], tie_rot[1, 1]], z=[tie_rot[0, 2], tie_rot[1, 2]],\n",
    "        mode='lines+markers',\n",
    "        name='Rotated Tie Rod',\n",
    "        marker=dict(size=6, color='orange'),\n",
    "        line=dict(color='orange', width=2)\n",
    "    ))\n",
    "    # Tire CoP\n",
    "    fig.add_trace(go.Scatter3d(\n",
    "        x=[cop[0]], y=[cop[1]], z=[cop[2]],\n",
    "        mode='markers',\n",
    "        name='Tire CoP',\n",
    "        marker=dict(size=8, color='orange')\n",
    "    ))\n",
    "\n",
    "    # Set axis labels\n",
    "    fig.update_layout(\n",
    "        title=\"Interactive Suspension Geometry (Corrected Connections)\",\n",
    "        scene=dict(\n",
    "            xaxis_title=\"X (m)\",\n",
    "            yaxis_title=\"Y (m)\",\n",
    "            zaxis_title=\"Z (m)\"\n",
    "        )\n",
    "    )\n",
    "\n",
    "    fig.show()\n",
    "\n",
    "# Example usage\n",
    "plot_suspension_interactive(upper_a_arm, lower_a_arm, upper_modified, lower_modified, tie_rod, tierod_modified, tire_cop)\n"
   ]
  },
  {
   "cell_type": "code",
   "execution_count": 15,
   "metadata": {},
   "outputs": [],
   "source": [
    "# Initialize results matrix\n",
    "\n",
    "# Columns: [roll_angle (rad), jounce (m), suspension_positions (1x9), rc_x, rc_y, rc_z]\n",
    "results = np.zeros((len(roll_angles), 34))  # 100 rows, 33 columns\n",
    "rc, geo_roll_centre = susprog.calculate_roll_center(upper_a_arm, lower_a_arm, tire_cop)\n",
    "\n",
    "# Roll axis (example: x-axis)\n",
    "roll_axis = np.array([1, 0, 0])\n",
    "\n",
    "# Initialize rotated arms as a copy of the original\n",
    "upper_modified = upper_a_arm.copy()\n",
    "lower_modified = lower_a_arm.copy()\n",
    "tierod_modified = tie_rod.copy()\n",
    "\n",
    "# Loop through each roll and jounce input\n",
    "for i, (roll_angle, jounce_disp) in enumerate(zip(roll_angles, jounce_displacements)):\n",
    "    # Step 1: Rotate and jounce the inner points of the arms and tie rod\n",
    "    upper_modified = susprog.rotate_points(upper_a_arm, rc, roll_axis, roll_angle, jounce_disp)\n",
    "    #upper_modified = susprog.jounce_innerpoints(upper_a_arm, upper_modified, jounce_disp)\n",
    "\n",
    "    lower_modified = susprog.rotate_points(lower_a_arm, rc, roll_axis, roll_angle, jounce_disp)\n",
    "    #lower_modified = susprog.jounce_innerpoints(lower_a_arm, lower_modified, jounce_disp)\n",
    "    \n",
    "    tierod_modified = susprog.rotate_points(tie_rod, rc, roll_axis, roll_angle, jounce_disp)\n",
    "    #tierod_modified = susprog.jounce_innerpoints(tie_rod, tierod_modified, jounce_disp)\n",
    "\n",
    "    # Step 3: Update outer points of lower, upper, and tie rod\n",
    "    # Lower A-arm\n",
    "    points_temp = np.vstack((lower_modified, tire_cop))\n",
    "    lower_modified[0:1] = susprog.solve_outer_position(points_temp, lower_lengths)\n",
    "    del points_temp\n",
    "\n",
    "    # Upper A-arm\n",
    "    points_temp = np.vstack((upper_modified, lower_modified[0:]))\n",
    "    upper_modified[0:1] = susprog.solve_outer_position(points_temp, upper_lengths)\n",
    "    del points_temp\n",
    "\n",
    "    # Tie rod\n",
    "    points_temp = np.vstack((tierod_modified, upper_modified[0:1], lower_modified[0:1]))\n",
    "    tierod_modified[0:1] = susprog.solve_outer_position(points_temp, tie_length)\n",
    "    del points_temp\n",
    "\n",
    "\n",
    "    # Step 4: Calculate the new roll center\n",
    "    rc, geo_roll_centre = susprog.calculate_roll_center(upper_modified, lower_modified, tire_cop)\n",
    "    # Flatten geometry data dictionary into a list\n",
    "    geometry_values = [\n",
    "        geo_roll_centre['instant_center_2d'][0],  # Instant center x\n",
    "        geo_roll_centre['instant_center_2d'][1],  # Instant center z\n",
    "        geo_roll_centre['swing_arm_length'],      # Swing arm length\n",
    "        geo_roll_centre['upper_arm_angle'],       # Upper arm angle\n",
    "        geo_roll_centre['lower_arm_angle'],       # Lower arm angle\n",
    "        *geo_roll_centre['upper_normal'],         # Upper plane normal (3 components)\n",
    "        *geo_roll_centre['lower_normal']          # Lower plane normal (3 components)\n",
    "    ]\n",
    "\n",
    "    # Step 5: Store the results\n",
    "    results[i, 0] = roll_angle  # Roll angle (in radians)\n",
    "    results[i, 1] = jounce_disp  # Jounce displacement\n",
    "    results[i, 2:11] = lower_modified.flatten()  # Lower A-arm positions (3x3 -> 1x9)\n",
    "    results[i, 11:20] = upper_modified.flatten()  # Upper A-arm positions (3x3 -> 1x9)\n",
    "    results[i, 20:23] = rc  # Roll center (1x3)\n",
    "    results[i, 23] = geo_roll_centre['instant_center_2d'][0]  # IC x\n",
    "    results[i, 24] = geo_roll_centre['instant_center_2d'][1]  # IC z\n",
    "    results[i, 25] = geo_roll_centre['swing_arm_length']      # Swing arm length\n",
    "    results[i, 26] = geo_roll_centre['upper_arm_angle']       # Upper arm angle\n",
    "    results[i, 27] = geo_roll_centre['lower_arm_angle']       # Lower arm angle\n",
    "    results[i, 28:31] = geo_roll_centre['upper_normal']       # Upper plane normal (x, y, z)\n",
    "    results[i, 31:34] = geo_roll_centre['lower_normal']       # Lower plane normal (x, y, z)\n",
    "\n",
    "# Convert results to a DataFrame for easier visualization and saving\n",
    "column_names = [\n",
    "    \"roll_angle\", \"jounce\", \n",
    "    \"lower_outer_x\", \"lower_outer_y\", \"lower_outer_z\", \n",
    "    \"lower_inner1_x\", \"lower_inner1_y\", \"lower_inner1_z\", \n",
    "    \"lower_inner2_x\", \"lower_inner2_y\", \"lower_inner2_z\",\n",
    "    \"upper_outer_x\", \"upper_outer_y\", \"upper_outer_z\", \n",
    "    \"upper_inner1_x\", \"upper_inner1_y\", \"upper_inner1_z\", \n",
    "    \"upper_inner2_x\", \"upper_inner2_y\", \"upper_inner2_z\",\n",
    "    \"rc_x\", \"rc_y\", \"rc_z\",\n",
    "    \"ic_x\", \"ic_z\", \"sal\", \"upper_angle\", \"lower_angle\",  # Geometry data\n",
    "    \"upper_normal_x\", \"upper_normal_y\", \"upper_normal_z\",  # Upper plane normal\n",
    "    \"lower_normal_x\", \"lower_normal_y\", \"lower_normal_z\"   # Lower plane normal\n",
    "]\n",
    "results_df = pd.DataFrame(results, columns=column_names)\n",
    "\n",
    "# Save the results as a CSV file (optional)\n",
    "results_df.to_csv(\"suspension_simulation_results.csv\", index=False)\n",
    "\n",
    "# Display the first few rows\n",
    "#print(results_df.head())\n"
   ]
  },
  {
   "cell_type": "code",
   "execution_count": 16,
   "metadata": {},
   "outputs": [
    {
     "data": {
      "application/vnd.plotly.v1+json": {
       "config": {
        "plotlyServerURL": "https://plot.ly"
       },
       "data": [
        {
         "marker": {
          "color": "red"
         },
         "mode": "lines",
         "name": "Roll Centre Location, Y",
         "type": "scatter",
         "x": [
          0,
          0.000505050505050505,
          0.00101010101010101,
          0.0015151515151515152,
          0.00202020202020202,
          0.002525252525252525,
          0.0030303030303030303,
          0.0035353535353535356,
          0.00404040404040404,
          0.004545454545454545,
          0.00505050505050505,
          0.005555555555555556,
          0.006060606060606061,
          0.0065656565656565654,
          0.007070707070707071,
          0.007575757575757576,
          0.00808080808080808,
          0.008585858585858586,
          0.00909090909090909,
          0.009595959595959595,
          0.0101010101010101,
          0.010606060606060607,
          0.011111111111111112,
          0.011616161616161616,
          0.012121212121212121,
          0.012626262626262626,
          0.013131313131313131,
          0.013636363636363636,
          0.014141414141414142,
          0.014646464646464647,
          0.015151515151515152,
          0.015656565656565657,
          0.01616161616161616,
          0.016666666666666666,
          0.01717171717171717,
          0.017676767676767676,
          0.01818181818181818,
          0.018686868686868686,
          0.01919191919191919,
          0.019696969696969695,
          0.0202020202020202,
          0.02070707070707071,
          0.021212121212121213,
          0.021717171717171718,
          0.022222222222222223,
          0.022727272727272728,
          0.023232323232323233,
          0.023737373737373738,
          0.024242424242424242,
          0.024747474747474747,
          0.025252525252525252,
          0.025757575757575757,
          0.026262626262626262,
          0.026767676767676767,
          0.02727272727272727,
          0.027777777777777776,
          0.028282828282828285,
          0.02878787878787879,
          0.029292929292929294,
          0.0297979797979798,
          0.030303030303030304,
          0.03080808080808081,
          0.031313131313131314,
          0.031818181818181815,
          0.03232323232323232,
          0.03282828282828283,
          0.03333333333333333,
          0.03383838383838384,
          0.03434343434343434,
          0.03484848484848485,
          0.03535353535353535,
          0.03585858585858586,
          0.03636363636363636,
          0.03686868686868687,
          0.03737373737373737,
          0.03787878787878788,
          0.03838383838383838,
          0.03888888888888889,
          0.03939393939393939,
          0.0398989898989899,
          0.0404040404040404,
          0.04090909090909091,
          0.04141414141414142,
          0.04191919191919192,
          0.04242424242424243,
          0.04292929292929293,
          0.043434343434343436,
          0.04393939393939394,
          0.044444444444444446,
          0.04494949494949495,
          0.045454545454545456,
          0.04595959595959596,
          0.046464646464646465,
          0.04696969696969697,
          0.047474747474747475,
          0.047979797979797977,
          0.048484848484848485,
          0.04898989898989899,
          0.049494949494949494,
          0.05
         ],
         "y": [
          0.2814880001370913,
          0.28158110219154486,
          0.28023173197616946,
          0.2792920396515449,
          0.27801599081823825,
          0.2763371489101267,
          0.27538660407424276,
          0.2753990610470406,
          0.27375765636162275,
          0.2727513703033263,
          0.27245840917541897,
          0.2717780360936254,
          0.2720450476403582,
          0.2719393327733135,
          0.27198396000832903,
          0.27178756360314404,
          0.271975163989153,
          0.27183137230544774,
          0.27180353510891553,
          0.27184143081585976,
          0.2719162482823707,
          0.27209491232327887,
          0.2721415335037558,
          0.27222092389898145,
          0.2723722091690918,
          0.2726969500273362,
          0.2728770578114579,
          0.2728968518476156,
          0.27303115320293037,
          0.2732641020384662,
          0.2735366828217063,
          0.27384993533356616,
          0.27420991674477213,
          0.274772344511243,
          0.2752350165441702,
          0.27574751903123806,
          0.2763086329174813,
          0.276958687526755,
          0.2776087447968393,
          0.2783013488906043,
          0.27903747748652624,
          0.2798226824488599,
          0.280660637403385,
          0.28155417896844503,
          0.2826617982914455,
          0.28372428728686566,
          0.2848508473423142,
          0.28604449009378735,
          0.28730712148247367,
          0.28864024792263904,
          0.29004518562157666,
          0.2915231575842005,
          0.29307534034257177,
          0.29470288812022966,
          0.2964032860848453,
          0.2981816323102438,
          0.30003782692364916,
          0.30197376080659233,
          0.3039906865331703,
          0.30608985979593617,
          0.30827253892830087,
          0.310539967485112,
          0.31289338280323087,
          0.31530722638123293,
          0.3178611778863013,
          0.32048351311085177,
          0.32319770765350386,
          0.32600381476613144,
          0.3289029515988926,
          0.3318962345583948,
          0.3349847788713938,
          0.3381696995364917,
          0.34149686491987563,
          0.34494569173761036,
          0.34842010648028676,
          0.351997801698625,
          0.355677360558788,
          0.35945990069709455,
          0.3633277777573579,
          0.3673191688040467,
          0.3714406112811629,
          0.37564019867264575,
          0.3799551729062821,
          0.38437996473080194,
          0.38891569602852405,
          0.3935641872372701,
          0.39832666382737647,
          0.4032018990677543,
          0.40819296963202184,
          0.41330109816089455,
          0.418517039455338,
          0.4238592930525217,
          0.42932667451368467,
          0.43491602655338124,
          0.44062858430520485,
          0.4464593282475513,
          0.4524183026754839,
          0.45850884851430984,
          0.46472732863146715,
          0.4710750241071351
         ],
         "yaxis": "y"
        },
        {
         "marker": {
          "color": "orange"
         },
         "mode": "lines",
         "name": "Roll Centre Location, Z",
         "type": "scatter",
         "x": [
          0,
          0.000505050505050505,
          0.00101010101010101,
          0.0015151515151515152,
          0.00202020202020202,
          0.002525252525252525,
          0.0030303030303030303,
          0.0035353535353535356,
          0.00404040404040404,
          0.004545454545454545,
          0.00505050505050505,
          0.005555555555555556,
          0.006060606060606061,
          0.0065656565656565654,
          0.007070707070707071,
          0.007575757575757576,
          0.00808080808080808,
          0.008585858585858586,
          0.00909090909090909,
          0.009595959595959595,
          0.0101010101010101,
          0.010606060606060607,
          0.011111111111111112,
          0.011616161616161616,
          0.012121212121212121,
          0.012626262626262626,
          0.013131313131313131,
          0.013636363636363636,
          0.014141414141414142,
          0.014646464646464647,
          0.015151515151515152,
          0.015656565656565657,
          0.01616161616161616,
          0.016666666666666666,
          0.01717171717171717,
          0.017676767676767676,
          0.01818181818181818,
          0.018686868686868686,
          0.01919191919191919,
          0.019696969696969695,
          0.0202020202020202,
          0.02070707070707071,
          0.021212121212121213,
          0.021717171717171718,
          0.022222222222222223,
          0.022727272727272728,
          0.023232323232323233,
          0.023737373737373738,
          0.024242424242424242,
          0.024747474747474747,
          0.025252525252525252,
          0.025757575757575757,
          0.026262626262626262,
          0.026767676767676767,
          0.02727272727272727,
          0.027777777777777776,
          0.028282828282828285,
          0.02878787878787879,
          0.029292929292929294,
          0.0297979797979798,
          0.030303030303030304,
          0.03080808080808081,
          0.031313131313131314,
          0.031818181818181815,
          0.03232323232323232,
          0.03282828282828283,
          0.03333333333333333,
          0.03383838383838384,
          0.03434343434343434,
          0.03484848484848485,
          0.03535353535353535,
          0.03585858585858586,
          0.03636363636363636,
          0.03686868686868687,
          0.03737373737373737,
          0.03787878787878788,
          0.03838383838383838,
          0.03888888888888889,
          0.03939393939393939,
          0.0398989898989899,
          0.0404040404040404,
          0.04090909090909091,
          0.04141414141414142,
          0.04191919191919192,
          0.04242424242424243,
          0.04292929292929293,
          0.043434343434343436,
          0.04393939393939394,
          0.044444444444444446,
          0.04494949494949495,
          0.045454545454545456,
          0.04595959595959596,
          0.046464646464646465,
          0.04696969696969697,
          0.047474747474747475,
          0.047979797979797977,
          0.048484848484848485,
          0.04898989898989899,
          0.049494949494949494,
          0.05
         ],
         "y": [
          -0.007558613266740455,
          -0.007583209994275419,
          -0.007703200031192736,
          -0.0077962781382454605,
          -0.007908202078137583,
          -0.008010334595772495,
          -0.0080890614110527,
          -0.008125643947925365,
          -0.008198615759456018,
          -0.008270599489191621,
          -0.008328332130904448,
          -0.00842621000588073,
          -0.008541773890019533,
          -0.008657343465541922,
          -0.008754634791744431,
          -0.00889043136970491,
          -0.009040231705672364,
          -0.009189420489236433,
          -0.009349472077005982,
          -0.009520996536436455,
          -0.009703662217240838,
          -0.009908845018116619,
          -0.01010755527816043,
          -0.010316104681340699,
          -0.010531198928553476,
          -0.010735709461876075,
          -0.010963006023465782,
          -0.011264143830141515,
          -0.011508109911584796,
          -0.011791293300434713,
          -0.012089236941726922,
          -0.012398654068044968,
          -0.012717890838033208,
          -0.012965706679026301,
          -0.013291494228103717,
          -0.013628226061591642,
          -0.013975985745177777,
          -0.014339256036563386,
          -0.014709114749426044,
          -0.015090505481078154,
          -0.015483588346389965,
          -0.015888050616997162,
          -0.01630282727172294,
          -0.01672681199699788,
          -0.017183799543557532,
          -0.017639797333289575,
          -0.0181084794911488,
          -0.018589908711688086,
          -0.019084132510122087,
          -0.019591260128532184,
          -0.020111446150143486,
          -0.020644875108272842,
          -0.02119174847447791,
          -0.021752270810735608,
          -0.022346041343363154,
          -0.022938492530661714,
          -0.023545229118783872,
          -0.024166280810008933,
          -0.024801667180021525,
          -0.025451400309044026,
          -0.02611549007219205,
          -0.026793949747514922,
          -0.0274867939500254,
          -0.028189405032149395,
          -0.028886463059823786,
          -0.029620003614527324,
          -0.030368115822880792,
          -0.031130863313735713,
          -0.03190827688520015,
          -0.03270038488255356,
          -0.033507211019596195,
          -0.03432877690893443,
          -0.03515555043224383,
          -0.03596617158801285,
          -0.03683811961406036,
          -0.03772481343422429,
          -0.03862635136132697,
          -0.03954271056053571,
          -0.04044389470873222,
          -0.0413877775015381,
          -0.04235044213648642,
          -0.04332305834637262,
          -0.044311071055344264,
          -0.0453137230621663,
          -0.046330969566420244,
          -0.047392394609897526,
          -0.04844042088030642,
          -0.0495029423652098,
          -0.050579923123116544,
          -0.05167133423433734,
          -0.05271524729327526,
          -0.05383484802676142,
          -0.054968897923238114,
          -0.05611739168146368,
          -0.05728030957270969,
          -0.058397454277815175,
          -0.05959246411160901,
          -0.060801840701965926,
          -0.06202560311868899,
          -0.06326372403668268
         ],
         "yaxis": "y2"
        }
       ],
       "layout": {
        "legend": {
         "orientation": "h",
         "x": 0.5,
         "y": -0.2
        },
        "template": {
         "data": {
          "bar": [
           {
            "error_x": {
             "color": "#2a3f5f"
            },
            "error_y": {
             "color": "#2a3f5f"
            },
            "marker": {
             "line": {
              "color": "#E5ECF6",
              "width": 0.5
             },
             "pattern": {
              "fillmode": "overlay",
              "size": 10,
              "solidity": 0.2
             }
            },
            "type": "bar"
           }
          ],
          "barpolar": [
           {
            "marker": {
             "line": {
              "color": "#E5ECF6",
              "width": 0.5
             },
             "pattern": {
              "fillmode": "overlay",
              "size": 10,
              "solidity": 0.2
             }
            },
            "type": "barpolar"
           }
          ],
          "carpet": [
           {
            "aaxis": {
             "endlinecolor": "#2a3f5f",
             "gridcolor": "white",
             "linecolor": "white",
             "minorgridcolor": "white",
             "startlinecolor": "#2a3f5f"
            },
            "baxis": {
             "endlinecolor": "#2a3f5f",
             "gridcolor": "white",
             "linecolor": "white",
             "minorgridcolor": "white",
             "startlinecolor": "#2a3f5f"
            },
            "type": "carpet"
           }
          ],
          "choropleth": [
           {
            "colorbar": {
             "outlinewidth": 0,
             "ticks": ""
            },
            "type": "choropleth"
           }
          ],
          "contour": [
           {
            "colorbar": {
             "outlinewidth": 0,
             "ticks": ""
            },
            "colorscale": [
             [
              0,
              "#0d0887"
             ],
             [
              0.1111111111111111,
              "#46039f"
             ],
             [
              0.2222222222222222,
              "#7201a8"
             ],
             [
              0.3333333333333333,
              "#9c179e"
             ],
             [
              0.4444444444444444,
              "#bd3786"
             ],
             [
              0.5555555555555556,
              "#d8576b"
             ],
             [
              0.6666666666666666,
              "#ed7953"
             ],
             [
              0.7777777777777778,
              "#fb9f3a"
             ],
             [
              0.8888888888888888,
              "#fdca26"
             ],
             [
              1,
              "#f0f921"
             ]
            ],
            "type": "contour"
           }
          ],
          "contourcarpet": [
           {
            "colorbar": {
             "outlinewidth": 0,
             "ticks": ""
            },
            "type": "contourcarpet"
           }
          ],
          "heatmap": [
           {
            "colorbar": {
             "outlinewidth": 0,
             "ticks": ""
            },
            "colorscale": [
             [
              0,
              "#0d0887"
             ],
             [
              0.1111111111111111,
              "#46039f"
             ],
             [
              0.2222222222222222,
              "#7201a8"
             ],
             [
              0.3333333333333333,
              "#9c179e"
             ],
             [
              0.4444444444444444,
              "#bd3786"
             ],
             [
              0.5555555555555556,
              "#d8576b"
             ],
             [
              0.6666666666666666,
              "#ed7953"
             ],
             [
              0.7777777777777778,
              "#fb9f3a"
             ],
             [
              0.8888888888888888,
              "#fdca26"
             ],
             [
              1,
              "#f0f921"
             ]
            ],
            "type": "heatmap"
           }
          ],
          "heatmapgl": [
           {
            "colorbar": {
             "outlinewidth": 0,
             "ticks": ""
            },
            "colorscale": [
             [
              0,
              "#0d0887"
             ],
             [
              0.1111111111111111,
              "#46039f"
             ],
             [
              0.2222222222222222,
              "#7201a8"
             ],
             [
              0.3333333333333333,
              "#9c179e"
             ],
             [
              0.4444444444444444,
              "#bd3786"
             ],
             [
              0.5555555555555556,
              "#d8576b"
             ],
             [
              0.6666666666666666,
              "#ed7953"
             ],
             [
              0.7777777777777778,
              "#fb9f3a"
             ],
             [
              0.8888888888888888,
              "#fdca26"
             ],
             [
              1,
              "#f0f921"
             ]
            ],
            "type": "heatmapgl"
           }
          ],
          "histogram": [
           {
            "marker": {
             "pattern": {
              "fillmode": "overlay",
              "size": 10,
              "solidity": 0.2
             }
            },
            "type": "histogram"
           }
          ],
          "histogram2d": [
           {
            "colorbar": {
             "outlinewidth": 0,
             "ticks": ""
            },
            "colorscale": [
             [
              0,
              "#0d0887"
             ],
             [
              0.1111111111111111,
              "#46039f"
             ],
             [
              0.2222222222222222,
              "#7201a8"
             ],
             [
              0.3333333333333333,
              "#9c179e"
             ],
             [
              0.4444444444444444,
              "#bd3786"
             ],
             [
              0.5555555555555556,
              "#d8576b"
             ],
             [
              0.6666666666666666,
              "#ed7953"
             ],
             [
              0.7777777777777778,
              "#fb9f3a"
             ],
             [
              0.8888888888888888,
              "#fdca26"
             ],
             [
              1,
              "#f0f921"
             ]
            ],
            "type": "histogram2d"
           }
          ],
          "histogram2dcontour": [
           {
            "colorbar": {
             "outlinewidth": 0,
             "ticks": ""
            },
            "colorscale": [
             [
              0,
              "#0d0887"
             ],
             [
              0.1111111111111111,
              "#46039f"
             ],
             [
              0.2222222222222222,
              "#7201a8"
             ],
             [
              0.3333333333333333,
              "#9c179e"
             ],
             [
              0.4444444444444444,
              "#bd3786"
             ],
             [
              0.5555555555555556,
              "#d8576b"
             ],
             [
              0.6666666666666666,
              "#ed7953"
             ],
             [
              0.7777777777777778,
              "#fb9f3a"
             ],
             [
              0.8888888888888888,
              "#fdca26"
             ],
             [
              1,
              "#f0f921"
             ]
            ],
            "type": "histogram2dcontour"
           }
          ],
          "mesh3d": [
           {
            "colorbar": {
             "outlinewidth": 0,
             "ticks": ""
            },
            "type": "mesh3d"
           }
          ],
          "parcoords": [
           {
            "line": {
             "colorbar": {
              "outlinewidth": 0,
              "ticks": ""
             }
            },
            "type": "parcoords"
           }
          ],
          "pie": [
           {
            "automargin": true,
            "type": "pie"
           }
          ],
          "scatter": [
           {
            "fillpattern": {
             "fillmode": "overlay",
             "size": 10,
             "solidity": 0.2
            },
            "type": "scatter"
           }
          ],
          "scatter3d": [
           {
            "line": {
             "colorbar": {
              "outlinewidth": 0,
              "ticks": ""
             }
            },
            "marker": {
             "colorbar": {
              "outlinewidth": 0,
              "ticks": ""
             }
            },
            "type": "scatter3d"
           }
          ],
          "scattercarpet": [
           {
            "marker": {
             "colorbar": {
              "outlinewidth": 0,
              "ticks": ""
             }
            },
            "type": "scattercarpet"
           }
          ],
          "scattergeo": [
           {
            "marker": {
             "colorbar": {
              "outlinewidth": 0,
              "ticks": ""
             }
            },
            "type": "scattergeo"
           }
          ],
          "scattergl": [
           {
            "marker": {
             "colorbar": {
              "outlinewidth": 0,
              "ticks": ""
             }
            },
            "type": "scattergl"
           }
          ],
          "scattermapbox": [
           {
            "marker": {
             "colorbar": {
              "outlinewidth": 0,
              "ticks": ""
             }
            },
            "type": "scattermapbox"
           }
          ],
          "scatterpolar": [
           {
            "marker": {
             "colorbar": {
              "outlinewidth": 0,
              "ticks": ""
             }
            },
            "type": "scatterpolar"
           }
          ],
          "scatterpolargl": [
           {
            "marker": {
             "colorbar": {
              "outlinewidth": 0,
              "ticks": ""
             }
            },
            "type": "scatterpolargl"
           }
          ],
          "scatterternary": [
           {
            "marker": {
             "colorbar": {
              "outlinewidth": 0,
              "ticks": ""
             }
            },
            "type": "scatterternary"
           }
          ],
          "surface": [
           {
            "colorbar": {
             "outlinewidth": 0,
             "ticks": ""
            },
            "colorscale": [
             [
              0,
              "#0d0887"
             ],
             [
              0.1111111111111111,
              "#46039f"
             ],
             [
              0.2222222222222222,
              "#7201a8"
             ],
             [
              0.3333333333333333,
              "#9c179e"
             ],
             [
              0.4444444444444444,
              "#bd3786"
             ],
             [
              0.5555555555555556,
              "#d8576b"
             ],
             [
              0.6666666666666666,
              "#ed7953"
             ],
             [
              0.7777777777777778,
              "#fb9f3a"
             ],
             [
              0.8888888888888888,
              "#fdca26"
             ],
             [
              1,
              "#f0f921"
             ]
            ],
            "type": "surface"
           }
          ],
          "table": [
           {
            "cells": {
             "fill": {
              "color": "#EBF0F8"
             },
             "line": {
              "color": "white"
             }
            },
            "header": {
             "fill": {
              "color": "#C8D4E3"
             },
             "line": {
              "color": "white"
             }
            },
            "type": "table"
           }
          ]
         },
         "layout": {
          "annotationdefaults": {
           "arrowcolor": "#2a3f5f",
           "arrowhead": 0,
           "arrowwidth": 1
          },
          "autotypenumbers": "strict",
          "coloraxis": {
           "colorbar": {
            "outlinewidth": 0,
            "ticks": ""
           }
          },
          "colorscale": {
           "diverging": [
            [
             0,
             "#8e0152"
            ],
            [
             0.1,
             "#c51b7d"
            ],
            [
             0.2,
             "#de77ae"
            ],
            [
             0.3,
             "#f1b6da"
            ],
            [
             0.4,
             "#fde0ef"
            ],
            [
             0.5,
             "#f7f7f7"
            ],
            [
             0.6,
             "#e6f5d0"
            ],
            [
             0.7,
             "#b8e186"
            ],
            [
             0.8,
             "#7fbc41"
            ],
            [
             0.9,
             "#4d9221"
            ],
            [
             1,
             "#276419"
            ]
           ],
           "sequential": [
            [
             0,
             "#0d0887"
            ],
            [
             0.1111111111111111,
             "#46039f"
            ],
            [
             0.2222222222222222,
             "#7201a8"
            ],
            [
             0.3333333333333333,
             "#9c179e"
            ],
            [
             0.4444444444444444,
             "#bd3786"
            ],
            [
             0.5555555555555556,
             "#d8576b"
            ],
            [
             0.6666666666666666,
             "#ed7953"
            ],
            [
             0.7777777777777778,
             "#fb9f3a"
            ],
            [
             0.8888888888888888,
             "#fdca26"
            ],
            [
             1,
             "#f0f921"
            ]
           ],
           "sequentialminus": [
            [
             0,
             "#0d0887"
            ],
            [
             0.1111111111111111,
             "#46039f"
            ],
            [
             0.2222222222222222,
             "#7201a8"
            ],
            [
             0.3333333333333333,
             "#9c179e"
            ],
            [
             0.4444444444444444,
             "#bd3786"
            ],
            [
             0.5555555555555556,
             "#d8576b"
            ],
            [
             0.6666666666666666,
             "#ed7953"
            ],
            [
             0.7777777777777778,
             "#fb9f3a"
            ],
            [
             0.8888888888888888,
             "#fdca26"
            ],
            [
             1,
             "#f0f921"
            ]
           ]
          },
          "colorway": [
           "#636efa",
           "#EF553B",
           "#00cc96",
           "#ab63fa",
           "#FFA15A",
           "#19d3f3",
           "#FF6692",
           "#B6E880",
           "#FF97FF",
           "#FECB52"
          ],
          "font": {
           "color": "#2a3f5f"
          },
          "geo": {
           "bgcolor": "white",
           "lakecolor": "white",
           "landcolor": "#E5ECF6",
           "showlakes": true,
           "showland": true,
           "subunitcolor": "white"
          },
          "hoverlabel": {
           "align": "left"
          },
          "hovermode": "closest",
          "mapbox": {
           "style": "light"
          },
          "paper_bgcolor": "white",
          "plot_bgcolor": "#E5ECF6",
          "polar": {
           "angularaxis": {
            "gridcolor": "white",
            "linecolor": "white",
            "ticks": ""
           },
           "bgcolor": "#E5ECF6",
           "radialaxis": {
            "gridcolor": "white",
            "linecolor": "white",
            "ticks": ""
           }
          },
          "scene": {
           "xaxis": {
            "backgroundcolor": "#E5ECF6",
            "gridcolor": "white",
            "gridwidth": 2,
            "linecolor": "white",
            "showbackground": true,
            "ticks": "",
            "zerolinecolor": "white"
           },
           "yaxis": {
            "backgroundcolor": "#E5ECF6",
            "gridcolor": "white",
            "gridwidth": 2,
            "linecolor": "white",
            "showbackground": true,
            "ticks": "",
            "zerolinecolor": "white"
           },
           "zaxis": {
            "backgroundcolor": "#E5ECF6",
            "gridcolor": "white",
            "gridwidth": 2,
            "linecolor": "white",
            "showbackground": true,
            "ticks": "",
            "zerolinecolor": "white"
           }
          },
          "shapedefaults": {
           "line": {
            "color": "#2a3f5f"
           }
          },
          "ternary": {
           "aaxis": {
            "gridcolor": "white",
            "linecolor": "white",
            "ticks": ""
           },
           "baxis": {
            "gridcolor": "white",
            "linecolor": "white",
            "ticks": ""
           },
           "bgcolor": "#E5ECF6",
           "caxis": {
            "gridcolor": "white",
            "linecolor": "white",
            "ticks": ""
           }
          },
          "title": {
           "x": 0.05
          },
          "xaxis": {
           "automargin": true,
           "gridcolor": "white",
           "linecolor": "white",
           "ticks": "",
           "title": {
            "standoff": 15
           },
           "zerolinecolor": "white",
           "zerolinewidth": 2
          },
          "yaxis": {
           "automargin": true,
           "gridcolor": "white",
           "linecolor": "white",
           "ticks": "",
           "title": {
            "standoff": 15
           },
           "zerolinecolor": "white",
           "zerolinewidth": 2
          }
         }
        },
        "title": {
         "text": "Roll Centre Location"
        },
        "xaxis": {
         "title": {
          "text": "Roll Angle (radians)"
         }
        },
        "yaxis": {
         "tickfont": {
          "color": "red"
         },
         "title": {
          "font": {
           "color": "red"
          },
          "text": "RC Location, Y (m)"
         }
        },
        "yaxis2": {
         "anchor": "x",
         "overlaying": "y",
         "side": "right",
         "tickfont": {
          "color": "orange"
         },
         "title": {
          "font": {
           "color": "orange"
          },
          "text": "RC Location, Z (m)"
         }
        }
       }
      }
     },
     "metadata": {},
     "output_type": "display_data"
    }
   ],
   "source": [
    "fig = go.Figure()\n",
    "\n",
    "fig.add_trace(\n",
    "    go.Scatter(\n",
    "        x=results_df[\"jounce\"],\n",
    "        y=results_df[\"rc_y\"],\n",
    "        mode='lines',\n",
    "        marker=dict(color='red'),\n",
    "        name='Roll Centre Location, Y',\n",
    "        yaxis='y'  # Explicitly associate this trace with the primary y-axis\n",
    "    )\n",
    ")\n",
    "\n",
    "# Add the second trace for \"rc_z\" on the secondary y-axis\n",
    "fig.add_trace(\n",
    "    go.Scatter(\n",
    "        x=results_df[\"jounce\"],\n",
    "        y=results_df[\"rc_z\"],\n",
    "        mode='lines',\n",
    "        marker=dict(color='orange'),\n",
    "        name='Roll Centre Location, Z',\n",
    "        yaxis='y2'  # Explicitly associate this trace with the secondary y-axis\n",
    "    )\n",
    ")\n",
    "\n",
    "# Update layout to add a secondary y-axis\n",
    "fig.update_layout(\n",
    "    title='Roll Centre Location',\n",
    "    xaxis=dict(title='Roll Angle (radians)'),\n",
    "    yaxis=dict(\n",
    "        title='RC Location, Y (m)',\n",
    "        titlefont=dict(color='red'),\n",
    "        tickfont=dict(color='red')\n",
    "    ),\n",
    "    yaxis2=dict(\n",
    "        title='RC Location, Z (m)',\n",
    "        titlefont=dict(color='orange'),\n",
    "        tickfont=dict(color='orange'),\n",
    "        anchor='x',\n",
    "        overlaying='y',\n",
    "        side='right'  # Place the secondary y-axis on the right side\n",
    "    ),\n",
    "    legend=dict(x=0.5, y=-0.2, orientation='h')  # Adjust legend position if needed\n",
    ")\n",
    "\n",
    "# Show the figure\n",
    "fig.show()"
   ]
  }
 ],
 "metadata": {
  "kernelspec": {
   "display_name": "Python 3",
   "language": "python",
   "name": "python3"
  },
  "language_info": {
   "codemirror_mode": {
    "name": "ipython",
    "version": 3
   },
   "file_extension": ".py",
   "mimetype": "text/x-python",
   "name": "python",
   "nbconvert_exporter": "python",
   "pygments_lexer": "ipython3",
   "version": "3.11.4"
  }
 },
 "nbformat": 4,
 "nbformat_minor": 2
}
