{
 "cells": [
  {
   "cell_type": "markdown",
   "metadata": {},
   "source": [
    "-------------------------------------------------------------------------------\n",
    "\n",
    "CHIBO 2024\n",
    "\n",
    "An attempt to static calculate the forces in (x,y,z) at all the suspension pickup points for various roll/jounce effects\n",
    "\n",
    "18.12.2024: Created\n",
    "\n",
    "03.01.2025: Outboard points calc working, moved functions to susprog.py and added loop \n",
    "05.01.2025: Added jounce updater for the inner points and included in susprog.py\n",
    "\n",
    "-------------------------------------------------------------------------------"
   ]
  },
  {
   "cell_type": "code",
   "execution_count": 1,
   "metadata": {},
   "outputs": [],
   "source": [
    "import numpy as np\n",
    "import pandas as pd\n",
    "from scipy.optimize import minimize\n",
    "\n",
    "import plotly.graph_objects as go\n",
    "import matplotlib.pyplot as plt\n",
    "\n",
    "import susprog                      # Python file containing the equations for the loop "
   ]
  },
  {
   "cell_type": "code",
   "execution_count": 2,
   "metadata": {},
   "outputs": [],
   "source": [
    "# Declare motions for evaluation\n",
    "\n",
    "# Define maximum roll and jounce inputs\n",
    "body_roll = -5  # Maximum roll angle in degrees\n",
    "body_jounce = 0.00  # Maximum jounce in meters (5 cm = 0.05)\n",
    "\n",
    "# Generate roll and jounce motion inputs\n",
    "roll_angles = np.linspace(0, np.radians(body_roll), 2)  # 0 to max roll angle in 100 steps\n",
    "jounce_displacements = np.linspace(0, body_jounce, 2)  # 0 to max jounce in 100 steps"
   ]
  },
  {
   "cell_type": "code",
   "execution_count": 3,
   "metadata": {},
   "outputs": [],
   "source": [
    "# Suspension pickup points\n",
    "#        x      y    z\n",
    "upper_a_arm = np.array([\n",
    "    [0.0015, 0.5065, 0.315],  # Outer point (converted from mm to m)\n",
    "    [-0.135, 0.240, 0.220],   # Inner leading point\n",
    "    [0.180, 0.255, 0.255]     # Inner trailing point\n",
    "])\n",
    "\n",
    "lower_a_arm = np.array([\n",
    "    [-0.0175, 0.519, 0.137],  # Outer point\n",
    "    [-0.180, 0.165, 0.087],   # Inner leading point\n",
    "    [0.180, 0.170, 0.087]     # Inner trailing point\n",
    "])\n",
    "\n",
    "tie_rod = np.array([\n",
    "    [0.060, 0.515, 0.160],  # Outer point\n",
    "    [0.070, 0.195, 0.100]   # Inner point\n",
    "])\n",
    "\n",
    "tire_cop = np.array([-0.005, 0.525, 0])  # Converted from mm to m\n",
    "force_vector = np.array([50, 500, -2000.0])  # Force at the CoP (N)\n"
   ]
  },
  {
   "cell_type": "code",
   "execution_count": 4,
   "metadata": {},
   "outputs": [],
   "source": [
    "# Calculate lengths for upper and lower A-arms and tie rod\n",
    "upper_lengths = [\n",
    "    np.linalg.norm(upper_a_arm[1] - upper_a_arm[0]),  # Upper outer to inner leading\n",
    "    np.linalg.norm(upper_a_arm[2] - upper_a_arm[0]),  # Upper outer to inner trailing\n",
    "    np.linalg.norm(upper_a_arm[0] - lower_a_arm[0])   # Upper outer to lower outer\n",
    "]\n",
    "\n",
    "lower_lengths = [\n",
    "    np.linalg.norm(lower_a_arm[1] - lower_a_arm[0]),  # Lower outer to inner leading\n",
    "    np.linalg.norm(lower_a_arm[2] - lower_a_arm[0]),  # Lower outer to inner trailing\n",
    "    np.linalg.norm(lower_a_arm[0] - tire_cop)         # Lower outer to tire center of pressure\n",
    "]\n",
    "\n",
    "tie_length = [\n",
    "    np.linalg.norm(tie_rod[1] - tie_rod[0]),          # Tie rod outer to inner leading\n",
    "    np.linalg.norm(upper_a_arm[0] - tie_rod[0]),      # Tie rod outer to upper outer\n",
    "    np.linalg.norm(lower_a_arm[0] - tie_rod[0])       # Tie rod outer to lower outer\n",
    "]"
   ]
  },
  {
   "cell_type": "code",
   "execution_count": null,
   "metadata": {},
   "outputs": [],
   "source": [
    "def plot_suspension_interactive(upper, lower, upper_rot, low_rot, tie, tie_rot, cop):\n",
    "    fig = go.Figure()\n",
    "\n",
    "    # Upper A-arm\n",
    "    fig.add_trace(go.Scatter3d(\n",
    "        x=[upper[0, 0], upper[1, 0]], y=[upper[0, 1], upper[1, 1]], z=[upper[0, 2], upper[1, 2]],\n",
    "        mode='lines+markers',\n",
    "        name='Upper A-arm (Outer to Inner Leading)',\n",
    "        marker=dict(size=6, color='blue'),\n",
    "        line=dict(color='blue', width=2)\n",
    "    ))\n",
    "    fig.add_trace(go.Scatter3d(\n",
    "        x=[upper[0, 0], upper[2, 0]], y=[upper[0, 1], upper[2, 1]], z=[upper[0, 2], upper[2, 2]],\n",
    "        mode='lines+markers',\n",
    "        name='Upper A-arm (Outer to Inner Trailing)',\n",
    "        line=dict(color='blue', width=2)\n",
    "    ))\n",
    "    fig.add_trace(go.Scatter3d(\n",
    "        x=[upper[1, 0], upper[2, 0]], y=[upper[1, 1], upper[2, 1]], z=[upper[1, 2], upper[2, 2]],\n",
    "        mode='lines',\n",
    "        name='Upper A-arm (Inner leading to Inner Trailing)',\n",
    "        line=dict(color='blue', width=2, dash='dot')\n",
    "    ))\n",
    "    # Rotated Upper A-arm\n",
    "    fig.add_trace(go.Scatter3d(\n",
    "        x=[upper_rot[0, 0], upper_rot[1, 0]], y=[upper_rot[0, 1], upper_rot[1, 1]], z=[upper_rot[0, 2], upper_rot[1, 2]],\n",
    "        mode='lines+markers',\n",
    "        name='Upper A-arm (Rot Outer to Inner Leading)',\n",
    "        marker=dict(size=6, color='purple'),\n",
    "        line=dict(color='purple', width=2)\n",
    "    ))\n",
    "    fig.add_trace(go.Scatter3d(\n",
    "        x=[upper_rot[0, 0], upper_rot[2, 0]], y=[upper_rot[0, 1], upper_rot[2, 1]], z=[upper_rot[0, 2], upper_rot[2, 2]],\n",
    "        mode='lines+markers',\n",
    "        name='Upper A-arm (Rot Outer to Inner Trailing)',\n",
    "        marker=dict(size=6, color='purple'),\n",
    "        line=dict(color='purple', width=2)\n",
    "    ))\n",
    "    \n",
    "    fig.add_trace(go.Scatter3d(\n",
    "        x=[upper_rot[1, 0], upper_rot[2, 0]], y=[upper_rot[1, 1], upper_rot[2, 1]], z=[upper_rot[1, 2], upper_rot[2, 2]],\n",
    "        mode='lines',\n",
    "        name='Upper A-arm (Rot Inner leading to Inner Trailing)',\n",
    "        line=dict(color='purple', width=2, dash='dot')\n",
    "    ))\n",
    "    \n",
    "    # Lower A-arm\n",
    "    fig.add_trace(go.Scatter3d(\n",
    "        x=[lower[0, 0], lower[1, 0]], y=[lower[0, 1], lower[1, 1]], z=[lower[0, 2], lower[1, 2]],\n",
    "        mode='lines+markers',\n",
    "        name='Lower A-arm (Outer to Inner Leading)',\n",
    "        marker=dict(size=6, color='green'),\n",
    "        line=dict(color='green', width=2)\n",
    "    ))\n",
    "    fig.add_trace(go.Scatter3d(\n",
    "        x=[lower[0, 0], lower[2, 0]], y=[lower[0, 1], lower[2, 1]], z=[lower[0, 2], lower[2, 2]],\n",
    "        mode='lines+markers',\n",
    "        name='Lower A-arm (Outer to Inner Trailing)',\n",
    "        line=dict(color='green', width=2)\n",
    "    ))\n",
    "    fig.add_trace(go.Scatter3d(\n",
    "        x=[lower[1, 0], lower[2, 0]], y=[lower[1, 1], lower[2, 1]], z=[lower[1, 2], lower[2, 2]],\n",
    "        mode='lines',\n",
    "        name='lower A-arm (Inner leading to Inner Trailing)',\n",
    "        line=dict(color='green', width=2, dash='dot')\n",
    "    ))\n",
    "    \n",
    "    # Rotated Lower A-arm\n",
    "    fig.add_trace(go.Scatter3d(\n",
    "        x=[low_rot[0, 0], low_rot[1, 0]], y=[low_rot[0, 1], low_rot[1, 1]], z=[low_rot[0, 2], low_rot[1, 2]],\n",
    "        mode='lines+markers',\n",
    "        name='lower rotated A-arm (Outer to Inner Leading)',\n",
    "        marker=dict(size=6, color='cyan'),\n",
    "        line=dict(color='cyan', width=2)\n",
    "    ))\n",
    "    fig.add_trace(go.Scatter3d(\n",
    "        x=[low_rot[0, 0], low_rot[2, 0]], y=[low_rot[0, 1], low_rot[2, 1]], z=[low_rot[0, 2], low_rot[2, 2]],\n",
    "        mode='lines+markers',\n",
    "        name='lower rotated A-arm (Outer to Inner Trailing)',\n",
    "        line=dict(color='cyan', width=2)\n",
    "    ))\n",
    "    fig.add_trace(go.Scatter3d(\n",
    "        x=[low_rot[1, 0], low_rot[2, 0]], y=[low_rot[1, 1], low_rot[2, 1]], z=[low_rot[1, 2], low_rot[2, 2]],\n",
    "        mode='lines',\n",
    "        name='lower rotated A-arm (Inner leading to Inner Trailing)',\n",
    "        line=dict(color='cyan', width=2, dash='dot')\n",
    "    ))\n",
    "\n",
    "    # Tie rod\n",
    "    fig.add_trace(go.Scatter3d(\n",
    "        x=[tie[0, 0], tie[1, 0]], y=[tie[0, 1], tie[1, 1]], z=[tie[0, 2], tie[1, 2]],\n",
    "        mode='lines+markers',\n",
    "        name='Tie Rod',\n",
    "        marker=dict(size=6, color='red'),\n",
    "        line=dict(color='red', width=2)\n",
    "    ))\n",
    "\n",
    "    # Rotated Tie rod\n",
    "    fig.add_trace(go.Scatter3d(\n",
    "        x=[tie_rot[0, 0], tie_rot[1, 0]], y=[tie_rot[0, 1], tie_rot[1, 1]], z=[tie_rot[0, 2], tie_rot[1, 2]],\n",
    "        mode='lines+markers',\n",
    "        name='Rotated Tie Rod',\n",
    "        marker=dict(size=6, color='orange'),\n",
    "        line=dict(color='orange', width=2)\n",
    "    ))\n",
    "    # Tire CoP\n",
    "    fig.add_trace(go.Scatter3d(\n",
    "        x=[cop[0]], y=[cop[1]], z=[cop[2]],\n",
    "        mode='markers',\n",
    "        name='Tire CoP',\n",
    "        marker=dict(size=8, color='orange')\n",
    "    ))\n",
    "\n",
    "    # Set axis labels\n",
    "    fig.update_layout(\n",
    "        title=\"Interactive Suspension Geometry (Corrected Connections)\",\n",
    "        scene=dict(\n",
    "            xaxis_title=\"X (m)\",\n",
    "            yaxis_title=\"Y (m)\",\n",
    "            zaxis_title=\"Z (m)\"\n",
    "        )\n",
    "    )\n",
    "\n",
    "    fig.show()\n",
    "\n",
    "# Example usage\n",
    "plot_suspension_interactive(upper_a_arm, lower_a_arm, upper_modified, lower_modified, tie_rod, tierod_modified, tire_cop)\n"
   ]
  },
  {
   "cell_type": "code",
   "execution_count": 5,
   "metadata": {},
   "outputs": [],
   "source": [
    "# Run simulation\n",
    "\n",
    "# Columns: [roll_angle (rad), jounce (m), suspension_positions (1x9), rc_x, rc_y, rc_z]\n",
    "results = np.zeros((len(roll_angles), 37))  # 100 rows, 33 columns\n",
    "rc, geo_roll_centre = susprog.calculate_roll_center(upper_a_arm, lower_a_arm, tire_cop)\n",
    "\n",
    "# Set rotation point to origin\n",
    "# rc = [0,0,0]\n",
    "\n",
    "# Roll axis (example: x-axis)\n",
    "roll_axis = np.array([1, 0, 0])\n",
    "\n",
    "# Initialize rotated arms as a copy of the original\n",
    "upper_modified = upper_a_arm.copy()\n",
    "lower_modified = lower_a_arm.copy()\n",
    "tierod_modified = tie_rod.copy()\n",
    "\n",
    "# Loop through each roll and jounce input\n",
    "for i, (roll_angle, jounce_disp) in enumerate(zip(roll_angles, jounce_displacements)):\n",
    "    # Step 1: Rotate and jounce the inner points of the arms and tie rod\n",
    "    upper_modified = susprog.rotate_points(upper_a_arm, rc, roll_axis, roll_angle, jounce_disp)\n",
    "    #upper_modified = susprog.jounce_innerpoints(upper_a_arm, upper_modified, jounce_disp)\n",
    "\n",
    "    lower_modified = susprog.rotate_points(lower_a_arm, rc, roll_axis, roll_angle, jounce_disp)\n",
    "    #lower_modified = susprog.jounce_innerpoints(lower_a_arm, lower_modified, jounce_disp)\n",
    "    \n",
    "    tierod_modified = susprog.rotate_points(tie_rod, rc, roll_axis, roll_angle, jounce_disp)\n",
    "    #tierod_modified = susprog.jounce_innerpoints(tie_rod, tierod_modified, jounce_disp)\n",
    "\n",
    "    # Step 3: Update outer points of lower, upper, and tie rod\n",
    "    # Lower A-arm\n",
    "    points_temp = np.vstack((lower_modified, tire_cop))\n",
    "    lower_modified[0:1] = susprog.solve_outer_position(points_temp, lower_lengths)\n",
    "    del points_temp\n",
    "\n",
    "    # Upper A-arm\n",
    "    points_temp = np.vstack((upper_modified, lower_modified[0:]))\n",
    "    upper_modified[0:1] = susprog.solve_outer_position(points_temp, upper_lengths)\n",
    "    del points_temp\n",
    "\n",
    "    # Tie rod\n",
    "    points_temp = np.vstack((tierod_modified, upper_modified[0:1], lower_modified[0:1]))\n",
    "    tierod_modified[0:1] = susprog.solve_outer_position(points_temp, tie_length)\n",
    "    del points_temp\n",
    "\n",
    "\n",
    "    # Step 4: Calculate the new roll center\n",
    "    # rc, geo_roll_centre = susprog.calculate_roll_center(upper_modified, lower_modified, tire_cop)\n",
    "    # Flatten geometry data dictionary into a list\n",
    "    geometry_values = [\n",
    "        geo_roll_centre['instant_center_2d'][0],  # Instant center x\n",
    "        geo_roll_centre['instant_center_2d'][1],  # Instant center z\n",
    "        geo_roll_centre['swing_arm_length'],      # Swing arm length\n",
    "        geo_roll_centre['upper_arm_angle'],       # Upper arm angle\n",
    "        geo_roll_centre['lower_arm_angle'],       # Lower arm angle\n",
    "        *geo_roll_centre['upper_normal'],         # Upper plane normal (3 components)\n",
    "        *geo_roll_centre['lower_normal']          # Lower plane normal (3 components)\n",
    "    ]\n",
    "    \n",
    "    trails = susprog.trail_calc(upper_modified, lower_modified, tire_cop)\n",
    "\n",
    "    # Step 5: Store the results\n",
    "    results[i, 0] = roll_angle  # Roll angle (in radians)\n",
    "    results[i, 1] = jounce_disp  # Jounce displacement\n",
    "    results[i, 2:11] = lower_modified.flatten()  # Lower A-arm positions (3x3 -> 1x9)\n",
    "    results[i, 11:20] = upper_modified.flatten()  # Upper A-arm positions (3x3 -> 1x9)\n",
    "    results[i, 20:23] = rc  # Roll center (1x3)\n",
    "    results[i, 23] = geo_roll_centre['instant_center_2d'][0]  # IC x\n",
    "    results[i, 24] = geo_roll_centre['instant_center_2d'][1]  # IC z\n",
    "    results[i, 25] = geo_roll_centre['swing_arm_length']      # Swing arm length\n",
    "    results[i, 26] = geo_roll_centre['upper_arm_angle']       # Upper arm angle\n",
    "    results[i, 27] = geo_roll_centre['lower_arm_angle']       # Lower arm angle\n",
    "    results[i, 28:31] = geo_roll_centre['upper_normal']       # Upper plane normal (x, y, z)\n",
    "    results[i, 31:34] = geo_roll_centre['lower_normal']       # Lower plane normal (x, y, z)\n",
    "    results[i, 34:37] = trails # Steering axis==> tire cop (1x3)\n",
    "\n",
    "del i\n",
    "\n",
    "# Convert results to a DataFrame for easier visualization and saving\n",
    "column_names = [\n",
    "    \"roll_angle\", \"jounce\", \n",
    "    \"lower_outer_x\", \"lower_outer_y\", \"lower_outer_z\", \n",
    "    \"lower_inner1_x\", \"lower_inner1_y\", \"lower_inner1_z\", \n",
    "    \"lower_inner2_x\", \"lower_inner2_y\", \"lower_inner2_z\",\n",
    "    \"upper_outer_x\", \"upper_outer_y\", \"upper_outer_z\", \n",
    "    \"upper_inner1_x\", \"upper_inner1_y\", \"upper_inner1_z\", \n",
    "    \"upper_inner2_x\", \"upper_inner2_y\", \"upper_inner2_z\",\n",
    "    \"rc_x\", \"rc_y\", \"rc_z\",\n",
    "    \"ic_x\", \"ic_z\", \"sal\", \"upper_angle\", \"lower_angle\",  # Geometry data\n",
    "    \"upper_normal_x\", \"upper_normal_y\", \"upper_normal_z\",  # Upper plane normal\n",
    "    \"lower_normal_x\", \"lower_normal_y\", \"lower_normal_z\",   # Lower plane normal\n",
    "    \"Steering_trail_x\", \"Scrub_radius_y\"\n",
    "]\n",
    "results_df = pd.DataFrame(results, columns=column_names)\n",
    "\n",
    "# Save the results as a CSV file (optional)\n",
    "results_df.to_csv(\"suspension_simulation_results.csv\", index=False)\n",
    "\n",
    "# Display the first few rows\n",
    "#print(results_df.head())\n"
   ]
  },
  {
   "cell_type": "code",
   "execution_count": 6,
   "metadata": {},
   "outputs": [
    {
     "data": {
      "application/vnd.plotly.v1+json": {
       "config": {
        "plotlyServerURL": "https://plot.ly"
       },
       "data": [
        {
         "marker": {
          "color": "blue",
          "size": 5
         },
         "mode": "markers+lines",
         "name": "Lower A-arm (Initial)",
         "type": "scatter3d",
         "x": [
          -0.0175,
          -0.18,
          0.18
         ],
         "y": [
          0.519,
          0.165,
          0.17
         ],
         "z": [
          0.137,
          0.087,
          0.087
         ]
        },
        {
         "marker": {
          "color": "red",
          "size": 5
         },
         "mode": "markers+lines",
         "name": "Lower A-arm (Final)",
         "type": "scatter3d",
         "x": [
          -0.017553839050249827,
          -0.18,
          0.18
         ],
         "y": [
          0.5285205494240292,
          0.17313787061982885,
          0.17811884411028758
         ],
         "z": [
          0.13704424955929145,
          0.09924087492457652,
          0.09880509621083823
         ]
        },
        {
         "marker": {
          "color": "green",
          "size": 5
         },
         "mode": "markers+lines",
         "name": "Upper A-arm (Initial)",
         "type": "scatter3d",
         "x": [
          0.0015,
          -0.135,
          0.18
         ],
         "y": [
          0.5065,
          0.24,
          0.255
         ],
         "z": [
          0.315,
          0.22,
          0.255
         ]
        },
        {
         "marker": {
          "color": "orange",
          "size": 5
         },
         "mode": "markers+lines",
         "name": "Upper A-arm (Final)",
         "type": "scatter3d",
         "x": [
          -0.00029721549020508007,
          -0.135,
          0.18
         ],
         "y": [
          0.528435927413106,
          0.2594441867621483,
          0.2774375582296925
         ],
         "z": [
          0.31568644535169116,
          0.22519808906470432,
          0.2587575673567005
         ]
        },
        {
         "marker": {
          "color": "purple",
          "size": 8
         },
         "mode": "markers+lines",
         "name": "Roll Center",
         "type": "scatter3d",
         "x": [
          0,
          0
         ],
         "y": [
          0.30925,
          0.30925
         ],
         "z": [
          -0.00007350290772519495,
          -0.00007350290772519495
         ]
        }
       ],
       "layout": {
        "legend": {
         "x": 0.1,
         "y": 0.9
        },
        "scene": {
         "xaxis": {
          "title": {
           "text": "X-axis (m)"
          }
         },
         "yaxis": {
          "title": {
           "text": "Y-axis (m)"
          }
         },
         "zaxis": {
          "title": {
           "text": "Z-axis (m)"
          }
         }
        },
        "template": {
         "data": {
          "bar": [
           {
            "error_x": {
             "color": "#2a3f5f"
            },
            "error_y": {
             "color": "#2a3f5f"
            },
            "marker": {
             "line": {
              "color": "#E5ECF6",
              "width": 0.5
             },
             "pattern": {
              "fillmode": "overlay",
              "size": 10,
              "solidity": 0.2
             }
            },
            "type": "bar"
           }
          ],
          "barpolar": [
           {
            "marker": {
             "line": {
              "color": "#E5ECF6",
              "width": 0.5
             },
             "pattern": {
              "fillmode": "overlay",
              "size": 10,
              "solidity": 0.2
             }
            },
            "type": "barpolar"
           }
          ],
          "carpet": [
           {
            "aaxis": {
             "endlinecolor": "#2a3f5f",
             "gridcolor": "white",
             "linecolor": "white",
             "minorgridcolor": "white",
             "startlinecolor": "#2a3f5f"
            },
            "baxis": {
             "endlinecolor": "#2a3f5f",
             "gridcolor": "white",
             "linecolor": "white",
             "minorgridcolor": "white",
             "startlinecolor": "#2a3f5f"
            },
            "type": "carpet"
           }
          ],
          "choropleth": [
           {
            "colorbar": {
             "outlinewidth": 0,
             "ticks": ""
            },
            "type": "choropleth"
           }
          ],
          "contour": [
           {
            "colorbar": {
             "outlinewidth": 0,
             "ticks": ""
            },
            "colorscale": [
             [
              0,
              "#0d0887"
             ],
             [
              0.1111111111111111,
              "#46039f"
             ],
             [
              0.2222222222222222,
              "#7201a8"
             ],
             [
              0.3333333333333333,
              "#9c179e"
             ],
             [
              0.4444444444444444,
              "#bd3786"
             ],
             [
              0.5555555555555556,
              "#d8576b"
             ],
             [
              0.6666666666666666,
              "#ed7953"
             ],
             [
              0.7777777777777778,
              "#fb9f3a"
             ],
             [
              0.8888888888888888,
              "#fdca26"
             ],
             [
              1,
              "#f0f921"
             ]
            ],
            "type": "contour"
           }
          ],
          "contourcarpet": [
           {
            "colorbar": {
             "outlinewidth": 0,
             "ticks": ""
            },
            "type": "contourcarpet"
           }
          ],
          "heatmap": [
           {
            "colorbar": {
             "outlinewidth": 0,
             "ticks": ""
            },
            "colorscale": [
             [
              0,
              "#0d0887"
             ],
             [
              0.1111111111111111,
              "#46039f"
             ],
             [
              0.2222222222222222,
              "#7201a8"
             ],
             [
              0.3333333333333333,
              "#9c179e"
             ],
             [
              0.4444444444444444,
              "#bd3786"
             ],
             [
              0.5555555555555556,
              "#d8576b"
             ],
             [
              0.6666666666666666,
              "#ed7953"
             ],
             [
              0.7777777777777778,
              "#fb9f3a"
             ],
             [
              0.8888888888888888,
              "#fdca26"
             ],
             [
              1,
              "#f0f921"
             ]
            ],
            "type": "heatmap"
           }
          ],
          "heatmapgl": [
           {
            "colorbar": {
             "outlinewidth": 0,
             "ticks": ""
            },
            "colorscale": [
             [
              0,
              "#0d0887"
             ],
             [
              0.1111111111111111,
              "#46039f"
             ],
             [
              0.2222222222222222,
              "#7201a8"
             ],
             [
              0.3333333333333333,
              "#9c179e"
             ],
             [
              0.4444444444444444,
              "#bd3786"
             ],
             [
              0.5555555555555556,
              "#d8576b"
             ],
             [
              0.6666666666666666,
              "#ed7953"
             ],
             [
              0.7777777777777778,
              "#fb9f3a"
             ],
             [
              0.8888888888888888,
              "#fdca26"
             ],
             [
              1,
              "#f0f921"
             ]
            ],
            "type": "heatmapgl"
           }
          ],
          "histogram": [
           {
            "marker": {
             "pattern": {
              "fillmode": "overlay",
              "size": 10,
              "solidity": 0.2
             }
            },
            "type": "histogram"
           }
          ],
          "histogram2d": [
           {
            "colorbar": {
             "outlinewidth": 0,
             "ticks": ""
            },
            "colorscale": [
             [
              0,
              "#0d0887"
             ],
             [
              0.1111111111111111,
              "#46039f"
             ],
             [
              0.2222222222222222,
              "#7201a8"
             ],
             [
              0.3333333333333333,
              "#9c179e"
             ],
             [
              0.4444444444444444,
              "#bd3786"
             ],
             [
              0.5555555555555556,
              "#d8576b"
             ],
             [
              0.6666666666666666,
              "#ed7953"
             ],
             [
              0.7777777777777778,
              "#fb9f3a"
             ],
             [
              0.8888888888888888,
              "#fdca26"
             ],
             [
              1,
              "#f0f921"
             ]
            ],
            "type": "histogram2d"
           }
          ],
          "histogram2dcontour": [
           {
            "colorbar": {
             "outlinewidth": 0,
             "ticks": ""
            },
            "colorscale": [
             [
              0,
              "#0d0887"
             ],
             [
              0.1111111111111111,
              "#46039f"
             ],
             [
              0.2222222222222222,
              "#7201a8"
             ],
             [
              0.3333333333333333,
              "#9c179e"
             ],
             [
              0.4444444444444444,
              "#bd3786"
             ],
             [
              0.5555555555555556,
              "#d8576b"
             ],
             [
              0.6666666666666666,
              "#ed7953"
             ],
             [
              0.7777777777777778,
              "#fb9f3a"
             ],
             [
              0.8888888888888888,
              "#fdca26"
             ],
             [
              1,
              "#f0f921"
             ]
            ],
            "type": "histogram2dcontour"
           }
          ],
          "mesh3d": [
           {
            "colorbar": {
             "outlinewidth": 0,
             "ticks": ""
            },
            "type": "mesh3d"
           }
          ],
          "parcoords": [
           {
            "line": {
             "colorbar": {
              "outlinewidth": 0,
              "ticks": ""
             }
            },
            "type": "parcoords"
           }
          ],
          "pie": [
           {
            "automargin": true,
            "type": "pie"
           }
          ],
          "scatter": [
           {
            "fillpattern": {
             "fillmode": "overlay",
             "size": 10,
             "solidity": 0.2
            },
            "type": "scatter"
           }
          ],
          "scatter3d": [
           {
            "line": {
             "colorbar": {
              "outlinewidth": 0,
              "ticks": ""
             }
            },
            "marker": {
             "colorbar": {
              "outlinewidth": 0,
              "ticks": ""
             }
            },
            "type": "scatter3d"
           }
          ],
          "scattercarpet": [
           {
            "marker": {
             "colorbar": {
              "outlinewidth": 0,
              "ticks": ""
             }
            },
            "type": "scattercarpet"
           }
          ],
          "scattergeo": [
           {
            "marker": {
             "colorbar": {
              "outlinewidth": 0,
              "ticks": ""
             }
            },
            "type": "scattergeo"
           }
          ],
          "scattergl": [
           {
            "marker": {
             "colorbar": {
              "outlinewidth": 0,
              "ticks": ""
             }
            },
            "type": "scattergl"
           }
          ],
          "scattermapbox": [
           {
            "marker": {
             "colorbar": {
              "outlinewidth": 0,
              "ticks": ""
             }
            },
            "type": "scattermapbox"
           }
          ],
          "scatterpolar": [
           {
            "marker": {
             "colorbar": {
              "outlinewidth": 0,
              "ticks": ""
             }
            },
            "type": "scatterpolar"
           }
          ],
          "scatterpolargl": [
           {
            "marker": {
             "colorbar": {
              "outlinewidth": 0,
              "ticks": ""
             }
            },
            "type": "scatterpolargl"
           }
          ],
          "scatterternary": [
           {
            "marker": {
             "colorbar": {
              "outlinewidth": 0,
              "ticks": ""
             }
            },
            "type": "scatterternary"
           }
          ],
          "surface": [
           {
            "colorbar": {
             "outlinewidth": 0,
             "ticks": ""
            },
            "colorscale": [
             [
              0,
              "#0d0887"
             ],
             [
              0.1111111111111111,
              "#46039f"
             ],
             [
              0.2222222222222222,
              "#7201a8"
             ],
             [
              0.3333333333333333,
              "#9c179e"
             ],
             [
              0.4444444444444444,
              "#bd3786"
             ],
             [
              0.5555555555555556,
              "#d8576b"
             ],
             [
              0.6666666666666666,
              "#ed7953"
             ],
             [
              0.7777777777777778,
              "#fb9f3a"
             ],
             [
              0.8888888888888888,
              "#fdca26"
             ],
             [
              1,
              "#f0f921"
             ]
            ],
            "type": "surface"
           }
          ],
          "table": [
           {
            "cells": {
             "fill": {
              "color": "#EBF0F8"
             },
             "line": {
              "color": "white"
             }
            },
            "header": {
             "fill": {
              "color": "#C8D4E3"
             },
             "line": {
              "color": "white"
             }
            },
            "type": "table"
           }
          ]
         },
         "layout": {
          "annotationdefaults": {
           "arrowcolor": "#2a3f5f",
           "arrowhead": 0,
           "arrowwidth": 1
          },
          "autotypenumbers": "strict",
          "coloraxis": {
           "colorbar": {
            "outlinewidth": 0,
            "ticks": ""
           }
          },
          "colorscale": {
           "diverging": [
            [
             0,
             "#8e0152"
            ],
            [
             0.1,
             "#c51b7d"
            ],
            [
             0.2,
             "#de77ae"
            ],
            [
             0.3,
             "#f1b6da"
            ],
            [
             0.4,
             "#fde0ef"
            ],
            [
             0.5,
             "#f7f7f7"
            ],
            [
             0.6,
             "#e6f5d0"
            ],
            [
             0.7,
             "#b8e186"
            ],
            [
             0.8,
             "#7fbc41"
            ],
            [
             0.9,
             "#4d9221"
            ],
            [
             1,
             "#276419"
            ]
           ],
           "sequential": [
            [
             0,
             "#0d0887"
            ],
            [
             0.1111111111111111,
             "#46039f"
            ],
            [
             0.2222222222222222,
             "#7201a8"
            ],
            [
             0.3333333333333333,
             "#9c179e"
            ],
            [
             0.4444444444444444,
             "#bd3786"
            ],
            [
             0.5555555555555556,
             "#d8576b"
            ],
            [
             0.6666666666666666,
             "#ed7953"
            ],
            [
             0.7777777777777778,
             "#fb9f3a"
            ],
            [
             0.8888888888888888,
             "#fdca26"
            ],
            [
             1,
             "#f0f921"
            ]
           ],
           "sequentialminus": [
            [
             0,
             "#0d0887"
            ],
            [
             0.1111111111111111,
             "#46039f"
            ],
            [
             0.2222222222222222,
             "#7201a8"
            ],
            [
             0.3333333333333333,
             "#9c179e"
            ],
            [
             0.4444444444444444,
             "#bd3786"
            ],
            [
             0.5555555555555556,
             "#d8576b"
            ],
            [
             0.6666666666666666,
             "#ed7953"
            ],
            [
             0.7777777777777778,
             "#fb9f3a"
            ],
            [
             0.8888888888888888,
             "#fdca26"
            ],
            [
             1,
             "#f0f921"
            ]
           ]
          },
          "colorway": [
           "#636efa",
           "#EF553B",
           "#00cc96",
           "#ab63fa",
           "#FFA15A",
           "#19d3f3",
           "#FF6692",
           "#B6E880",
           "#FF97FF",
           "#FECB52"
          ],
          "font": {
           "color": "#2a3f5f"
          },
          "geo": {
           "bgcolor": "white",
           "lakecolor": "white",
           "landcolor": "#E5ECF6",
           "showlakes": true,
           "showland": true,
           "subunitcolor": "white"
          },
          "hoverlabel": {
           "align": "left"
          },
          "hovermode": "closest",
          "mapbox": {
           "style": "light"
          },
          "paper_bgcolor": "white",
          "plot_bgcolor": "#E5ECF6",
          "polar": {
           "angularaxis": {
            "gridcolor": "white",
            "linecolor": "white",
            "ticks": ""
           },
           "bgcolor": "#E5ECF6",
           "radialaxis": {
            "gridcolor": "white",
            "linecolor": "white",
            "ticks": ""
           }
          },
          "scene": {
           "xaxis": {
            "backgroundcolor": "#E5ECF6",
            "gridcolor": "white",
            "gridwidth": 2,
            "linecolor": "white",
            "showbackground": true,
            "ticks": "",
            "zerolinecolor": "white"
           },
           "yaxis": {
            "backgroundcolor": "#E5ECF6",
            "gridcolor": "white",
            "gridwidth": 2,
            "linecolor": "white",
            "showbackground": true,
            "ticks": "",
            "zerolinecolor": "white"
           },
           "zaxis": {
            "backgroundcolor": "#E5ECF6",
            "gridcolor": "white",
            "gridwidth": 2,
            "linecolor": "white",
            "showbackground": true,
            "ticks": "",
            "zerolinecolor": "white"
           }
          },
          "shapedefaults": {
           "line": {
            "color": "#2a3f5f"
           }
          },
          "ternary": {
           "aaxis": {
            "gridcolor": "white",
            "linecolor": "white",
            "ticks": ""
           },
           "baxis": {
            "gridcolor": "white",
            "linecolor": "white",
            "ticks": ""
           },
           "bgcolor": "#E5ECF6",
           "caxis": {
            "gridcolor": "white",
            "linecolor": "white",
            "ticks": ""
           }
          },
          "title": {
           "x": 0.05
          },
          "xaxis": {
           "automargin": true,
           "gridcolor": "white",
           "linecolor": "white",
           "ticks": "",
           "title": {
            "standoff": 15
           },
           "zerolinecolor": "white",
           "zerolinewidth": 2
          },
          "yaxis": {
           "automargin": true,
           "gridcolor": "white",
           "linecolor": "white",
           "ticks": "",
           "title": {
            "standoff": 15
           },
           "zerolinecolor": "white",
           "zerolinewidth": 2
          }
         }
        },
        "title": {
         "text": "3D Suspension Geometry (Initial vs. Final)"
        }
       }
      }
     },
     "metadata": {},
     "output_type": "display_data"
    },
    {
     "name": "stdout",
     "output_type": "stream",
     "text": [
      "Initial Lower A-arm Points:\n",
      " [[-0.0175  0.519   0.137 ]\n",
      " [-0.18    0.165   0.087 ]\n",
      " [ 0.18    0.17    0.087 ]]\n",
      "Final Lower A-arm Points:\n",
      " [[-0.01755384  0.52852055  0.13704425]\n",
      " [-0.18        0.17313787  0.09924087]\n",
      " [ 0.18        0.17811884  0.0988051 ]]\n",
      "Initial Upper A-arm Points:\n",
      " [[ 0.0015  0.5065  0.315 ]\n",
      " [-0.135   0.24    0.22  ]\n",
      " [ 0.18    0.255   0.255 ]]\n",
      "Final Upper A-arm Points:\n",
      " [[-2.97215490e-04  5.28435927e-01  3.15686445e-01]\n",
      " [-1.35000000e-01  2.59444187e-01  2.25198089e-01]\n",
      " [ 1.80000000e-01  2.77437558e-01  2.58757567e-01]]\n",
      "Initial Roll Center: [ 0.00000000e+00  3.09250000e-01 -7.35029077e-05]\n",
      "Final Roll Center: [ 0.00000000e+00  3.09250000e-01 -7.35029077e-05]\n"
     ]
    }
   ],
   "source": [
    "# Extract the initial and final suspension points from the results\n",
    "lower_initial = results[0, 2:11].reshape(3, 3)  # First row, lower A-arm (3x3)\n",
    "upper_initial = results[0, 11:20].reshape(3, 3)  # First row, upper A-arm (3x3)\n",
    "\n",
    "lower_final = results[-1, 2:11].reshape(3, 3)  # Last row, lower A-arm (3x3)\n",
    "upper_final = results[-1, 11:20].reshape(3, 3)  # Last row, upper A-arm (3x3)\n",
    "\n",
    "# Extract roll centers\n",
    "rc_initial = results[0, 20:23]  # Initial roll center\n",
    "rc_final = results[-1, 20:23]  # Final roll center\n",
    "\n",
    "# Create a 3D scatter plot\n",
    "fig = go.Figure()\n",
    "\n",
    "# Add initial lower A-arm points\n",
    "fig.add_trace(go.Scatter3d(\n",
    "    x=lower_initial[:, 0], y=lower_initial[:, 1], z=lower_initial[:, 2],\n",
    "    mode='markers+lines',\n",
    "    marker=dict(size=5, color='blue'),\n",
    "    name='Lower A-arm (Initial)'\n",
    "))\n",
    "\n",
    "# Add final lower A-arm points\n",
    "fig.add_trace(go.Scatter3d(\n",
    "    x=lower_final[:, 0], y=lower_final[:, 1], z=lower_final[:, 2],\n",
    "    mode='markers+lines',\n",
    "    marker=dict(size=5, color='red'),\n",
    "    name='Lower A-arm (Final)'\n",
    "))\n",
    "\n",
    "# Add initial upper A-arm points\n",
    "fig.add_trace(go.Scatter3d(\n",
    "    x=upper_initial[:, 0], y=upper_initial[:, 1], z=upper_initial[:, 2],\n",
    "    mode='markers+lines',\n",
    "    marker=dict(size=5, color='green'),\n",
    "    name='Upper A-arm (Initial)'\n",
    "))\n",
    "\n",
    "# Add final upper A-arm points\n",
    "fig.add_trace(go.Scatter3d(\n",
    "    x=upper_final[:, 0], y=upper_final[:, 1], z=upper_final[:, 2],\n",
    "    mode='markers+lines',\n",
    "    marker=dict(size=5, color='orange'),\n",
    "    name='Upper A-arm (Final)'\n",
    "))\n",
    "\n",
    "# Add roll center points\n",
    "fig.add_trace(go.Scatter3d(\n",
    "    x=[rc_initial[0], rc_final[0]],\n",
    "    y=[rc_initial[1], rc_final[1]],\n",
    "    z=[rc_initial[2], rc_final[2]],\n",
    "    mode='markers+lines',\n",
    "    marker=dict(size=8, color='purple'),\n",
    "    name='Roll Center'\n",
    "))\n",
    "\n",
    "# Configure the layout\n",
    "fig.update_layout(\n",
    "    scene=dict(\n",
    "        xaxis_title='X-axis (m)',\n",
    "        yaxis_title='Y-axis (m)',\n",
    "        zaxis_title='Z-axis (m)'\n",
    "    ),\n",
    "    title=\"3D Suspension Geometry (Initial vs. Final)\",\n",
    "    legend=dict(x=0.1, y=0.9)\n",
    ")\n",
    "\n",
    "# Show the figure\n",
    "fig.show()\n",
    "\n",
    "# Print the initial and final points\n",
    "print(\"Initial Lower A-arm Points:\\n\", lower_initial)\n",
    "print(\"Final Lower A-arm Points:\\n\", lower_final)\n",
    "\n",
    "print(\"Initial Upper A-arm Points:\\n\", upper_initial)\n",
    "print(\"Final Upper A-arm Points:\\n\", upper_final)\n",
    "\n",
    "print(\"Initial Roll Center:\", rc_initial)\n",
    "print(\"Final Roll Center:\", rc_final)"
   ]
  },
  {
   "cell_type": "code",
   "execution_count": 27,
   "metadata": {},
   "outputs": [
    {
     "data": {
      "application/vnd.plotly.v1+json": {
       "config": {
        "plotlyServerURL": "https://plot.ly"
       },
       "data": [
        {
         "marker": {
          "color": "red"
         },
         "mode": "lines",
         "name": "Roll Centre Location, Y",
         "type": "scatter",
         "x": [
          0,
          -0.08726646259971647
         ],
         "y": [
          0,
          0
         ],
         "yaxis": "y"
        },
        {
         "marker": {
          "color": "orange"
         },
         "mode": "lines",
         "name": "Roll Centre Location, Z",
         "type": "scatter",
         "x": [
          0,
          -0.08726646259971647
         ],
         "y": [
          0,
          0
         ],
         "yaxis": "y2"
        }
       ],
       "layout": {
        "legend": {
         "orientation": "h",
         "x": 0.5,
         "y": -0.2
        },
        "template": {
         "data": {
          "bar": [
           {
            "error_x": {
             "color": "#2a3f5f"
            },
            "error_y": {
             "color": "#2a3f5f"
            },
            "marker": {
             "line": {
              "color": "#E5ECF6",
              "width": 0.5
             },
             "pattern": {
              "fillmode": "overlay",
              "size": 10,
              "solidity": 0.2
             }
            },
            "type": "bar"
           }
          ],
          "barpolar": [
           {
            "marker": {
             "line": {
              "color": "#E5ECF6",
              "width": 0.5
             },
             "pattern": {
              "fillmode": "overlay",
              "size": 10,
              "solidity": 0.2
             }
            },
            "type": "barpolar"
           }
          ],
          "carpet": [
           {
            "aaxis": {
             "endlinecolor": "#2a3f5f",
             "gridcolor": "white",
             "linecolor": "white",
             "minorgridcolor": "white",
             "startlinecolor": "#2a3f5f"
            },
            "baxis": {
             "endlinecolor": "#2a3f5f",
             "gridcolor": "white",
             "linecolor": "white",
             "minorgridcolor": "white",
             "startlinecolor": "#2a3f5f"
            },
            "type": "carpet"
           }
          ],
          "choropleth": [
           {
            "colorbar": {
             "outlinewidth": 0,
             "ticks": ""
            },
            "type": "choropleth"
           }
          ],
          "contour": [
           {
            "colorbar": {
             "outlinewidth": 0,
             "ticks": ""
            },
            "colorscale": [
             [
              0,
              "#0d0887"
             ],
             [
              0.1111111111111111,
              "#46039f"
             ],
             [
              0.2222222222222222,
              "#7201a8"
             ],
             [
              0.3333333333333333,
              "#9c179e"
             ],
             [
              0.4444444444444444,
              "#bd3786"
             ],
             [
              0.5555555555555556,
              "#d8576b"
             ],
             [
              0.6666666666666666,
              "#ed7953"
             ],
             [
              0.7777777777777778,
              "#fb9f3a"
             ],
             [
              0.8888888888888888,
              "#fdca26"
             ],
             [
              1,
              "#f0f921"
             ]
            ],
            "type": "contour"
           }
          ],
          "contourcarpet": [
           {
            "colorbar": {
             "outlinewidth": 0,
             "ticks": ""
            },
            "type": "contourcarpet"
           }
          ],
          "heatmap": [
           {
            "colorbar": {
             "outlinewidth": 0,
             "ticks": ""
            },
            "colorscale": [
             [
              0,
              "#0d0887"
             ],
             [
              0.1111111111111111,
              "#46039f"
             ],
             [
              0.2222222222222222,
              "#7201a8"
             ],
             [
              0.3333333333333333,
              "#9c179e"
             ],
             [
              0.4444444444444444,
              "#bd3786"
             ],
             [
              0.5555555555555556,
              "#d8576b"
             ],
             [
              0.6666666666666666,
              "#ed7953"
             ],
             [
              0.7777777777777778,
              "#fb9f3a"
             ],
             [
              0.8888888888888888,
              "#fdca26"
             ],
             [
              1,
              "#f0f921"
             ]
            ],
            "type": "heatmap"
           }
          ],
          "heatmapgl": [
           {
            "colorbar": {
             "outlinewidth": 0,
             "ticks": ""
            },
            "colorscale": [
             [
              0,
              "#0d0887"
             ],
             [
              0.1111111111111111,
              "#46039f"
             ],
             [
              0.2222222222222222,
              "#7201a8"
             ],
             [
              0.3333333333333333,
              "#9c179e"
             ],
             [
              0.4444444444444444,
              "#bd3786"
             ],
             [
              0.5555555555555556,
              "#d8576b"
             ],
             [
              0.6666666666666666,
              "#ed7953"
             ],
             [
              0.7777777777777778,
              "#fb9f3a"
             ],
             [
              0.8888888888888888,
              "#fdca26"
             ],
             [
              1,
              "#f0f921"
             ]
            ],
            "type": "heatmapgl"
           }
          ],
          "histogram": [
           {
            "marker": {
             "pattern": {
              "fillmode": "overlay",
              "size": 10,
              "solidity": 0.2
             }
            },
            "type": "histogram"
           }
          ],
          "histogram2d": [
           {
            "colorbar": {
             "outlinewidth": 0,
             "ticks": ""
            },
            "colorscale": [
             [
              0,
              "#0d0887"
             ],
             [
              0.1111111111111111,
              "#46039f"
             ],
             [
              0.2222222222222222,
              "#7201a8"
             ],
             [
              0.3333333333333333,
              "#9c179e"
             ],
             [
              0.4444444444444444,
              "#bd3786"
             ],
             [
              0.5555555555555556,
              "#d8576b"
             ],
             [
              0.6666666666666666,
              "#ed7953"
             ],
             [
              0.7777777777777778,
              "#fb9f3a"
             ],
             [
              0.8888888888888888,
              "#fdca26"
             ],
             [
              1,
              "#f0f921"
             ]
            ],
            "type": "histogram2d"
           }
          ],
          "histogram2dcontour": [
           {
            "colorbar": {
             "outlinewidth": 0,
             "ticks": ""
            },
            "colorscale": [
             [
              0,
              "#0d0887"
             ],
             [
              0.1111111111111111,
              "#46039f"
             ],
             [
              0.2222222222222222,
              "#7201a8"
             ],
             [
              0.3333333333333333,
              "#9c179e"
             ],
             [
              0.4444444444444444,
              "#bd3786"
             ],
             [
              0.5555555555555556,
              "#d8576b"
             ],
             [
              0.6666666666666666,
              "#ed7953"
             ],
             [
              0.7777777777777778,
              "#fb9f3a"
             ],
             [
              0.8888888888888888,
              "#fdca26"
             ],
             [
              1,
              "#f0f921"
             ]
            ],
            "type": "histogram2dcontour"
           }
          ],
          "mesh3d": [
           {
            "colorbar": {
             "outlinewidth": 0,
             "ticks": ""
            },
            "type": "mesh3d"
           }
          ],
          "parcoords": [
           {
            "line": {
             "colorbar": {
              "outlinewidth": 0,
              "ticks": ""
             }
            },
            "type": "parcoords"
           }
          ],
          "pie": [
           {
            "automargin": true,
            "type": "pie"
           }
          ],
          "scatter": [
           {
            "fillpattern": {
             "fillmode": "overlay",
             "size": 10,
             "solidity": 0.2
            },
            "type": "scatter"
           }
          ],
          "scatter3d": [
           {
            "line": {
             "colorbar": {
              "outlinewidth": 0,
              "ticks": ""
             }
            },
            "marker": {
             "colorbar": {
              "outlinewidth": 0,
              "ticks": ""
             }
            },
            "type": "scatter3d"
           }
          ],
          "scattercarpet": [
           {
            "marker": {
             "colorbar": {
              "outlinewidth": 0,
              "ticks": ""
             }
            },
            "type": "scattercarpet"
           }
          ],
          "scattergeo": [
           {
            "marker": {
             "colorbar": {
              "outlinewidth": 0,
              "ticks": ""
             }
            },
            "type": "scattergeo"
           }
          ],
          "scattergl": [
           {
            "marker": {
             "colorbar": {
              "outlinewidth": 0,
              "ticks": ""
             }
            },
            "type": "scattergl"
           }
          ],
          "scattermapbox": [
           {
            "marker": {
             "colorbar": {
              "outlinewidth": 0,
              "ticks": ""
             }
            },
            "type": "scattermapbox"
           }
          ],
          "scatterpolar": [
           {
            "marker": {
             "colorbar": {
              "outlinewidth": 0,
              "ticks": ""
             }
            },
            "type": "scatterpolar"
           }
          ],
          "scatterpolargl": [
           {
            "marker": {
             "colorbar": {
              "outlinewidth": 0,
              "ticks": ""
             }
            },
            "type": "scatterpolargl"
           }
          ],
          "scatterternary": [
           {
            "marker": {
             "colorbar": {
              "outlinewidth": 0,
              "ticks": ""
             }
            },
            "type": "scatterternary"
           }
          ],
          "surface": [
           {
            "colorbar": {
             "outlinewidth": 0,
             "ticks": ""
            },
            "colorscale": [
             [
              0,
              "#0d0887"
             ],
             [
              0.1111111111111111,
              "#46039f"
             ],
             [
              0.2222222222222222,
              "#7201a8"
             ],
             [
              0.3333333333333333,
              "#9c179e"
             ],
             [
              0.4444444444444444,
              "#bd3786"
             ],
             [
              0.5555555555555556,
              "#d8576b"
             ],
             [
              0.6666666666666666,
              "#ed7953"
             ],
             [
              0.7777777777777778,
              "#fb9f3a"
             ],
             [
              0.8888888888888888,
              "#fdca26"
             ],
             [
              1,
              "#f0f921"
             ]
            ],
            "type": "surface"
           }
          ],
          "table": [
           {
            "cells": {
             "fill": {
              "color": "#EBF0F8"
             },
             "line": {
              "color": "white"
             }
            },
            "header": {
             "fill": {
              "color": "#C8D4E3"
             },
             "line": {
              "color": "white"
             }
            },
            "type": "table"
           }
          ]
         },
         "layout": {
          "annotationdefaults": {
           "arrowcolor": "#2a3f5f",
           "arrowhead": 0,
           "arrowwidth": 1
          },
          "autotypenumbers": "strict",
          "coloraxis": {
           "colorbar": {
            "outlinewidth": 0,
            "ticks": ""
           }
          },
          "colorscale": {
           "diverging": [
            [
             0,
             "#8e0152"
            ],
            [
             0.1,
             "#c51b7d"
            ],
            [
             0.2,
             "#de77ae"
            ],
            [
             0.3,
             "#f1b6da"
            ],
            [
             0.4,
             "#fde0ef"
            ],
            [
             0.5,
             "#f7f7f7"
            ],
            [
             0.6,
             "#e6f5d0"
            ],
            [
             0.7,
             "#b8e186"
            ],
            [
             0.8,
             "#7fbc41"
            ],
            [
             0.9,
             "#4d9221"
            ],
            [
             1,
             "#276419"
            ]
           ],
           "sequential": [
            [
             0,
             "#0d0887"
            ],
            [
             0.1111111111111111,
             "#46039f"
            ],
            [
             0.2222222222222222,
             "#7201a8"
            ],
            [
             0.3333333333333333,
             "#9c179e"
            ],
            [
             0.4444444444444444,
             "#bd3786"
            ],
            [
             0.5555555555555556,
             "#d8576b"
            ],
            [
             0.6666666666666666,
             "#ed7953"
            ],
            [
             0.7777777777777778,
             "#fb9f3a"
            ],
            [
             0.8888888888888888,
             "#fdca26"
            ],
            [
             1,
             "#f0f921"
            ]
           ],
           "sequentialminus": [
            [
             0,
             "#0d0887"
            ],
            [
             0.1111111111111111,
             "#46039f"
            ],
            [
             0.2222222222222222,
             "#7201a8"
            ],
            [
             0.3333333333333333,
             "#9c179e"
            ],
            [
             0.4444444444444444,
             "#bd3786"
            ],
            [
             0.5555555555555556,
             "#d8576b"
            ],
            [
             0.6666666666666666,
             "#ed7953"
            ],
            [
             0.7777777777777778,
             "#fb9f3a"
            ],
            [
             0.8888888888888888,
             "#fdca26"
            ],
            [
             1,
             "#f0f921"
            ]
           ]
          },
          "colorway": [
           "#636efa",
           "#EF553B",
           "#00cc96",
           "#ab63fa",
           "#FFA15A",
           "#19d3f3",
           "#FF6692",
           "#B6E880",
           "#FF97FF",
           "#FECB52"
          ],
          "font": {
           "color": "#2a3f5f"
          },
          "geo": {
           "bgcolor": "white",
           "lakecolor": "white",
           "landcolor": "#E5ECF6",
           "showlakes": true,
           "showland": true,
           "subunitcolor": "white"
          },
          "hoverlabel": {
           "align": "left"
          },
          "hovermode": "closest",
          "mapbox": {
           "style": "light"
          },
          "paper_bgcolor": "white",
          "plot_bgcolor": "#E5ECF6",
          "polar": {
           "angularaxis": {
            "gridcolor": "white",
            "linecolor": "white",
            "ticks": ""
           },
           "bgcolor": "#E5ECF6",
           "radialaxis": {
            "gridcolor": "white",
            "linecolor": "white",
            "ticks": ""
           }
          },
          "scene": {
           "xaxis": {
            "backgroundcolor": "#E5ECF6",
            "gridcolor": "white",
            "gridwidth": 2,
            "linecolor": "white",
            "showbackground": true,
            "ticks": "",
            "zerolinecolor": "white"
           },
           "yaxis": {
            "backgroundcolor": "#E5ECF6",
            "gridcolor": "white",
            "gridwidth": 2,
            "linecolor": "white",
            "showbackground": true,
            "ticks": "",
            "zerolinecolor": "white"
           },
           "zaxis": {
            "backgroundcolor": "#E5ECF6",
            "gridcolor": "white",
            "gridwidth": 2,
            "linecolor": "white",
            "showbackground": true,
            "ticks": "",
            "zerolinecolor": "white"
           }
          },
          "shapedefaults": {
           "line": {
            "color": "#2a3f5f"
           }
          },
          "ternary": {
           "aaxis": {
            "gridcolor": "white",
            "linecolor": "white",
            "ticks": ""
           },
           "baxis": {
            "gridcolor": "white",
            "linecolor": "white",
            "ticks": ""
           },
           "bgcolor": "#E5ECF6",
           "caxis": {
            "gridcolor": "white",
            "linecolor": "white",
            "ticks": ""
           }
          },
          "title": {
           "x": 0.05
          },
          "xaxis": {
           "automargin": true,
           "gridcolor": "white",
           "linecolor": "white",
           "ticks": "",
           "title": {
            "standoff": 15
           },
           "zerolinecolor": "white",
           "zerolinewidth": 2
          },
          "yaxis": {
           "automargin": true,
           "gridcolor": "white",
           "linecolor": "white",
           "ticks": "",
           "title": {
            "standoff": 15
           },
           "zerolinecolor": "white",
           "zerolinewidth": 2
          }
         }
        },
        "title": {
         "text": "Roll Centre Location"
        },
        "xaxis": {
         "title": {
          "text": "Roll Angle (radians)"
         }
        },
        "yaxis": {
         "tickfont": {
          "color": "red"
         },
         "title": {
          "font": {
           "color": "red"
          },
          "text": "RC Location, Y (m)"
         }
        },
        "yaxis2": {
         "anchor": "x",
         "overlaying": "y",
         "side": "right",
         "tickfont": {
          "color": "orange"
         },
         "title": {
          "font": {
           "color": "orange"
          },
          "text": "RC Location, Z (m)"
         }
        }
       }
      }
     },
     "metadata": {},
     "output_type": "display_data"
    }
   ],
   "source": [
    "fig = go.Figure()\n",
    "\n",
    "fig.add_trace(\n",
    "    go.Scatter(\n",
    "        x=results_df[\"roll_angle\"],\n",
    "        y=results_df[\"rc_y\"],\n",
    "        mode='lines',\n",
    "        marker=dict(color='red'),\n",
    "        name='Roll Centre Location, Y',\n",
    "        yaxis='y'  # Explicitly associate this trace with the primary y-axis\n",
    "    )\n",
    ")\n",
    "\n",
    "# Add the second trace for \"rc_z\" on the secondary y-axis\n",
    "fig.add_trace(\n",
    "    go.Scatter(\n",
    "        x=results_df[\"roll_angle\"],\n",
    "        y=results_df[\"rc_z\"],\n",
    "        mode='lines',\n",
    "        marker=dict(color='orange'),\n",
    "        name='Roll Centre Location, Z',\n",
    "        yaxis='y2'  # Explicitly associate this trace with the secondary y-axis\n",
    "    )\n",
    ")\n",
    "\n",
    "# Update layout to add a secondary y-axis\n",
    "fig.update_layout(\n",
    "    title='Roll Centre Location',\n",
    "    xaxis=dict(title='Roll Angle (radians)'),\n",
    "    yaxis=dict(\n",
    "        title='RC Location, Y (m)',\n",
    "        titlefont=dict(color='red'),\n",
    "        tickfont=dict(color='red')\n",
    "    ),\n",
    "    yaxis2=dict(\n",
    "        title='RC Location, Z (m)',\n",
    "        titlefont=dict(color='orange'),\n",
    "        tickfont=dict(color='orange'),\n",
    "        anchor='x',\n",
    "        overlaying='y',\n",
    "        side='right'  # Place the secondary y-axis on the right side\n",
    "    ),\n",
    "    legend=dict(x=0.5, y=-0.2, orientation='h')  # Adjust legend position if needed\n",
    ")\n",
    "\n",
    "# Show the figure\n",
    "fig.show()"
   ]
  },
  {
   "cell_type": "code",
   "execution_count": 14,
   "metadata": {},
   "outputs": [
    {
     "name": "stdout",
     "output_type": "stream",
     "text": [
      "[[-0.0321236   0.52862079  0.        ]]\n"
     ]
    }
   ],
   "source": [
    "def trail_calc(upper_points, lower_points, cop):\n",
    "    \n",
    "    # Import the outer joint points of the suspension system\n",
    "    \n",
    "    # Lower outer point\n",
    "    p0 = lower_points[0,:]\n",
    "    # Upper outer point\n",
    "    p1 = upper_points[0,:]\n",
    "    \n",
    "    \n",
    "    # Calculate the vector\n",
    "    v = p1 - p0\n",
    "    tz = -p0[2]/(p1[2]-p0[2])\n",
    "    x0 = p0[0] + tz*(p1[0]-p0[0])\n",
    "    y0 = p0[1] + tz*(p1[1]-p0[1])\n",
    "    z0 = 0\n",
    "    \n",
    "    trails = np.array([[x0, y0, z0]])\n",
    "    \n",
    "    return trails\n",
    "\n",
    "trails_out = trail_calc(upper_a_arm, lower_a_arm, tire_cop)\n",
    "print(trails_out)\n"
   ]
  }
 ],
 "metadata": {
  "kernelspec": {
   "display_name": "Python 3",
   "language": "python",
   "name": "python3"
  },
  "language_info": {
   "codemirror_mode": {
    "name": "ipython",
    "version": 3
   },
   "file_extension": ".py",
   "mimetype": "text/x-python",
   "name": "python",
   "nbconvert_exporter": "python",
   "pygments_lexer": "ipython3",
   "version": "3.11.4"
  }
 },
 "nbformat": 4,
 "nbformat_minor": 2
}
